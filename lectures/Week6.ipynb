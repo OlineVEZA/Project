{
 "cells": [
  {
   "cell_type": "markdown",
   "metadata": {},
   "source": [
    "# Overview\n",
    "\n",
    "We're now switching focus away from Network Science (for a little bit), beginning to think about _Natural Language Processing_ instead. In other words, today will be all about teaching your computer to \"understand\" text. This ties in nicely with our work on the Zelda BotW network, since it is built on the Zelda Wiki which contains pieces of text. We've looked at the network so far - now, let's see if we can include the text. Today is about \n",
    "\n",
    "* Installing the _natural language toolkit_ (NLTK) package and learning the basics of how it works (Chapter 1)\n",
    "* Figuring out how to make NLTK to work with other types of text (Chapter 2).\n",
    "\n",
    "> _Reading_\n",
    "> The reading for today is Natural Language Processing with Python (NLPP) Chapter 1 and 2. [It's free online](http://www.nltk.org/book/). "
   ]
  },
  {
   "cell_type": "markdown",
   "metadata": {},
   "source": [
    "# Part 1: A little lecture\n",
    "\n",
    "> **_Video Lecture_**. Today is all about ***working*** with NLTK, so not much lecturing - you can get my perspective and a little pep-talk"
   ]
  },
  {
   "cell_type": "code",
   "execution_count": 1,
   "metadata": {
    "scrolled": true
   },
   "outputs": [
    {
     "data": {
      "image/jpeg": "[encoded data removed]",
      "text/html": [
       "\n",
       "        <iframe\n",
       "            width=\"800\"\n",
       "            height=\"450\"\n",
       "            src=\"https://www.youtube.com/embed/Ph0EHmFT3n4\"\n",
       "            frameborder=\"0\"\n",
       "            allowfullscreen\n",
       "            \n",
       "        ></iframe>\n",
       "        "
      ],
      "text/plain": [
       "<IPython.lib.display.YouTubeVideo at 0x212920aa0a0>"
      ]
     },
     "execution_count": 1,
     "metadata": {},
     "output_type": "execute_result"
    }
   ],
   "source": [
    "from IPython.display import YouTubeVideo\n",
    "YouTubeVideo(\"Ph0EHmFT3n4\",width=800, height=450)"
   ]
  },
  {
   "cell_type": "markdown",
   "metadata": {},
   "source": [
    "# Part 2: Installing and the basics"
   ]
  },
  {
   "cell_type": "markdown",
   "metadata": {},
   "source": [
    "## 2.1 NLTK Install tips \n",
    "\n",
    "Check to see if `nltk` is installed on your system by typing `import nltk` in a `notebook`. If it's not already installed, install it as part of _Anaconda_ by typing \n",
    "\n",
    "     conda install nltk \n",
    "\n",
    "at the command prompt. If you don't have them, you can download the various corpora using a command-line version of the downloader that runs in Python notebooks (as mentioned in Ch. 1 Sec. 1.2 of the book): \n",
    "\n",
    "In the Jupyter notebook, run the code \n",
    "\n",
    " `import nltk`\n",
    " \n",
    " `nltk.download()`\n",
    "\n",
    "Now you can hit `d` to download, then type \"book\" to fetch the collection needed today's `nltk` session. Now that everything is up and running, let's get to the actual exercises.\n",
    "\n",
    "**Note**: If, instead of opening the pop-up, your Kernel dies (mine did 😱), you can direclty download the collection by typing `nltk.dwonload(\"book\")` instead."
   ]
  },
  {
   "cell_type": "code",
   "execution_count": 2,
   "metadata": {},
   "outputs": [
    {
     "name": "stderr",
     "output_type": "stream",
     "text": [
      "[nltk_data] Downloading collection 'book'\n",
      "[nltk_data]    | \n",
      "[nltk_data]    | Downloading package abc to\n",
      "[nltk_data]    |     C:\\Users\\EG\\AppData\\Roaming\\nltk_data...\n",
      "[nltk_data]    |   Package abc is already up-to-date!\n",
      "[nltk_data]    | Downloading package brown to\n",
      "[nltk_data]    |     C:\\Users\\EG\\AppData\\Roaming\\nltk_data...\n",
      "[nltk_data]    |   Package brown is already up-to-date!\n",
      "[nltk_data]    | Downloading package chat80 to\n",
      "[nltk_data]    |     C:\\Users\\EG\\AppData\\Roaming\\nltk_data...\n",
      "[nltk_data]    |   Package chat80 is already up-to-date!\n",
      "[nltk_data]    | Downloading package cmudict to\n",
      "[nltk_data]    |     C:\\Users\\EG\\AppData\\Roaming\\nltk_data...\n",
      "[nltk_data]    |   Package cmudict is already up-to-date!\n",
      "[nltk_data]    | Downloading package conll2000 to\n",
      "[nltk_data]    |     C:\\Users\\EG\\AppData\\Roaming\\nltk_data...\n",
      "[nltk_data]    |   Package conll2000 is already up-to-date!\n",
      "[nltk_data]    | Downloading package conll2002 to\n",
      "[nltk_data]    |     C:\\Users\\EG\\AppData\\Roaming\\nltk_data...\n",
      "[nltk_data]    |   Package conll2002 is already up-to-date!\n",
      "[nltk_data]    | Downloading package dependency_treebank to\n",
      "[nltk_data]    |     C:\\Users\\EG\\AppData\\Roaming\\nltk_data...\n",
      "[nltk_data]    |   Package dependency_treebank is already up-to-date!\n",
      "[nltk_data]    | Downloading package genesis to\n",
      "[nltk_data]    |     C:\\Users\\EG\\AppData\\Roaming\\nltk_data...\n",
      "[nltk_data]    |   Package genesis is already up-to-date!\n",
      "[nltk_data]    | Downloading package gutenberg to\n",
      "[nltk_data]    |     C:\\Users\\EG\\AppData\\Roaming\\nltk_data...\n",
      "[nltk_data]    |   Package gutenberg is already up-to-date!\n",
      "[nltk_data]    | Downloading package ieer to\n",
      "[nltk_data]    |     C:\\Users\\EG\\AppData\\Roaming\\nltk_data...\n",
      "[nltk_data]    |   Package ieer is already up-to-date!\n",
      "[nltk_data]    | Downloading package inaugural to\n",
      "[nltk_data]    |     C:\\Users\\EG\\AppData\\Roaming\\nltk_data...\n",
      "[nltk_data]    |   Package inaugural is already up-to-date!\n",
      "[nltk_data]    | Downloading package movie_reviews to\n",
      "[nltk_data]    |     C:\\Users\\EG\\AppData\\Roaming\\nltk_data...\n",
      "[nltk_data]    |   Package movie_reviews is already up-to-date!\n",
      "[nltk_data]    | Downloading package nps_chat to\n",
      "[nltk_data]    |     C:\\Users\\EG\\AppData\\Roaming\\nltk_data...\n",
      "[nltk_data]    |   Package nps_chat is already up-to-date!\n",
      "[nltk_data]    | Downloading package names to\n",
      "[nltk_data]    |     C:\\Users\\EG\\AppData\\Roaming\\nltk_data...\n",
      "[nltk_data]    |   Package names is already up-to-date!\n",
      "[nltk_data]    | Downloading package ppattach to\n",
      "[nltk_data]    |     C:\\Users\\EG\\AppData\\Roaming\\nltk_data...\n",
      "[nltk_data]    |   Package ppattach is already up-to-date!\n",
      "[nltk_data]    | Downloading package reuters to\n",
      "[nltk_data]    |     C:\\Users\\EG\\AppData\\Roaming\\nltk_data...\n",
      "[nltk_data]    |   Package reuters is already up-to-date!\n",
      "[nltk_data]    | Downloading package senseval to\n",
      "[nltk_data]    |     C:\\Users\\EG\\AppData\\Roaming\\nltk_data...\n",
      "[nltk_data]    |   Package senseval is already up-to-date!\n",
      "[nltk_data]    | Downloading package state_union to\n",
      "[nltk_data]    |     C:\\Users\\EG\\AppData\\Roaming\\nltk_data...\n",
      "[nltk_data]    |   Package state_union is already up-to-date!\n",
      "[nltk_data]    | Downloading package stopwords to\n",
      "[nltk_data]    |     C:\\Users\\EG\\AppData\\Roaming\\nltk_data...\n",
      "[nltk_data]    |   Package stopwords is already up-to-date!\n",
      "[nltk_data]    | Downloading package swadesh to\n",
      "[nltk_data]    |     C:\\Users\\EG\\AppData\\Roaming\\nltk_data...\n",
      "[nltk_data]    |   Package swadesh is already up-to-date!\n",
      "[nltk_data]    | Downloading package timit to\n",
      "[nltk_data]    |     C:\\Users\\EG\\AppData\\Roaming\\nltk_data...\n",
      "[nltk_data]    |   Package timit is already up-to-date!\n",
      "[nltk_data]    | Downloading package treebank to\n",
      "[nltk_data]    |     C:\\Users\\EG\\AppData\\Roaming\\nltk_data...\n",
      "[nltk_data]    |   Package treebank is already up-to-date!\n",
      "[nltk_data]    | Downloading package toolbox to\n",
      "[nltk_data]    |     C:\\Users\\EG\\AppData\\Roaming\\nltk_data...\n",
      "[nltk_data]    |   Package toolbox is already up-to-date!\n",
      "[nltk_data]    | Downloading package udhr to\n",
      "[nltk_data]    |     C:\\Users\\EG\\AppData\\Roaming\\nltk_data...\n",
      "[nltk_data]    |   Package udhr is already up-to-date!\n",
      "[nltk_data]    | Downloading package udhr2 to\n",
      "[nltk_data]    |     C:\\Users\\EG\\AppData\\Roaming\\nltk_data...\n",
      "[nltk_data]    |   Package udhr2 is already up-to-date!\n",
      "[nltk_data]    | Downloading package unicode_samples to\n",
      "[nltk_data]    |     C:\\Users\\EG\\AppData\\Roaming\\nltk_data...\n",
      "[nltk_data]    |   Package unicode_samples is already up-to-date!\n",
      "[nltk_data]    | Downloading package webtext to\n",
      "[nltk_data]    |     C:\\Users\\EG\\AppData\\Roaming\\nltk_data...\n",
      "[nltk_data]    |   Package webtext is already up-to-date!\n",
      "[nltk_data]    | Downloading package wordnet to\n",
      "[nltk_data]    |     C:\\Users\\EG\\AppData\\Roaming\\nltk_data...\n",
      "[nltk_data]    |   Package wordnet is already up-to-date!\n",
      "[nltk_data]    | Downloading package wordnet_ic to\n",
      "[nltk_data]    |     C:\\Users\\EG\\AppData\\Roaming\\nltk_data...\n",
      "[nltk_data]    |   Package wordnet_ic is already up-to-date!\n",
      "[nltk_data]    | Downloading package words to\n",
      "[nltk_data]    |     C:\\Users\\EG\\AppData\\Roaming\\nltk_data...\n",
      "[nltk_data]    |   Package words is already up-to-date!\n",
      "[nltk_data]    | Downloading package maxent_treebank_pos_tagger to\n",
      "[nltk_data]    |     C:\\Users\\EG\\AppData\\Roaming\\nltk_data...\n",
      "[nltk_data]    |   Package maxent_treebank_pos_tagger is already up-\n",
      "[nltk_data]    |       to-date!\n",
      "[nltk_data]    | Downloading package maxent_ne_chunker to\n",
      "[nltk_data]    |     C:\\Users\\EG\\AppData\\Roaming\\nltk_data...\n",
      "[nltk_data]    |   Package maxent_ne_chunker is already up-to-date!\n",
      "[nltk_data]    | Downloading package universal_tagset to\n",
      "[nltk_data]    |     C:\\Users\\EG\\AppData\\Roaming\\nltk_data...\n",
      "[nltk_data]    |   Package universal_tagset is already up-to-date!\n",
      "[nltk_data]    | Downloading package punkt to\n",
      "[nltk_data]    |     C:\\Users\\EG\\AppData\\Roaming\\nltk_data...\n",
      "[nltk_data]    |   Package punkt is already up-to-date!\n",
      "[nltk_data]    | Downloading package book_grammars to\n",
      "[nltk_data]    |     C:\\Users\\EG\\AppData\\Roaming\\nltk_data...\n",
      "[nltk_data]    |   Package book_grammars is already up-to-date!\n",
      "[nltk_data]    | Downloading package city_database to\n",
      "[nltk_data]    |     C:\\Users\\EG\\AppData\\Roaming\\nltk_data...\n",
      "[nltk_data]    |   Package city_database is already up-to-date!\n",
      "[nltk_data]    | Downloading package tagsets to\n",
      "[nltk_data]    |     C:\\Users\\EG\\AppData\\Roaming\\nltk_data...\n",
      "[nltk_data]    |   Package tagsets is already up-to-date!\n",
      "[nltk_data]    | Downloading package panlex_swadesh to\n",
      "[nltk_data]    |     C:\\Users\\EG\\AppData\\Roaming\\nltk_data...\n",
      "[nltk_data]    |   Package panlex_swadesh is already up-to-date!\n",
      "[nltk_data]    | Downloading package averaged_perceptron_tagger to\n",
      "[nltk_data]    |     C:\\Users\\EG\\AppData\\Roaming\\nltk_data...\n",
      "[nltk_data]    |   Package averaged_perceptron_tagger is already up-\n",
      "[nltk_data]    |       to-date!\n",
      "[nltk_data]    | \n",
      "[nltk_data]  Done downloading collection book\n"
     ]
    },
    {
     "data": {
      "text/plain": [
       "True"
      ]
     },
     "execution_count": 2,
     "metadata": {},
     "output_type": "execute_result"
    }
   ],
   "source": [
    "import nltk\n",
    "nltk.download(\"book\")"
   ]
  },
  {
   "cell_type": "markdown",
   "metadata": {},
   "source": [
    "## 2.2 Introduction to NLTK"
   ]
  },
  {
   "cell_type": "markdown",
   "metadata": {},
   "source": [
    "1. Now that you have nltk installed, work through Chapter 1, Sections 1 to 4. The book is set up as a kind of tutorial with lots of examples for you to work through. I recommend you read the text with an open Jupyter Notebook and type out the examples that you see. ***It becomes much more fun if you add a few variations and see what happens***. We tweaked some of these examples in the following exercises and they might very well be due as assignments, so those ones should definitely be in a `notebook`."
   ]
  },
  {
   "cell_type": "code",
   "execution_count": 3,
   "metadata": {},
   "outputs": [
    {
     "name": "stdout",
     "output_type": "stream",
     "text": [
      "*** Introductory Examples for the NLTK Book ***\n",
      "Loading text1, ..., text9 and sent1, ..., sent9\n",
      "Type the name of the text or sentence to view it.\n",
      "Type: 'texts()' or 'sents()' to list the materials.\n",
      "text1: Moby Dick by Herman Melville 1851\n",
      "text2: Sense and Sensibility by Jane Austen 1811\n",
      "text3: The Book of Genesis\n",
      "text4: Inaugural Address Corpus\n",
      "text5: Chat Corpus\n",
      "text6: Monty Python and the Holy Grail\n",
      "text7: Wall Street Journal\n",
      "text8: Personals Corpus\n",
      "text9: The Man Who Was Thursday by G . K . Chesterton 1908\n"
     ]
    }
   ],
   "source": [
    "from nltk.book import *"
   ]
  },
  {
   "cell_type": "code",
   "execution_count": 4,
   "metadata": {},
   "outputs": [
    {
     "data": {
      "text/plain": [
       "<Text: Moby Dick by Herman Melville 1851>"
      ]
     },
     "execution_count": 4,
     "metadata": {},
     "output_type": "execute_result"
    }
   ],
   "source": [
    "text1"
   ]
  },
  {
   "cell_type": "code",
   "execution_count": 5,
   "metadata": {},
   "outputs": [
    {
     "name": "stdout",
     "output_type": "stream",
     "text": [
      "Displaying 25 of 122 matches:\n",
      " path to shine after him ; One would think the deep to be hoary .\" -- JOB . \" N\n",
      "scales of the New Testament ? Do you think the archangel Gabriel thinks anythin\n",
      "t I recall all the circumstances , I think I can see a little into the springs \n",
      "me other person ' s bed , I began to think that after all I might be cherishing\n",
      "-- but at the same time what could I think of a harpooneer who stayed out of a \n",
      "this Christian country . I quaked to think of it . A peddler of heads too -- pe\n",
      " cutting up some caper or other -- I think it was trying to crawl up the chimne\n",
      " bed ! the small of my back ached to think of it . And it was so light too ; th\n",
      "is more in that man than you perhaps think for . The bar - room was now full of\n",
      "they came . In some things you would think them but a few hours old . Look ther\n",
      "down the throat of the tempest . But think not that this famous town has only h\n",
      "e known better than that , one would think . Didn ' t the people laugh ?\" Upon \n",
      "unconsciousness ? He did not seem to think that he at all deserved a medal from\n",
      "ed . \" Queequeg ,\" said I , \" do you think that we can make out a supper for us\n",
      "ages in the merchant service , and I think that --\" \" Merchant service be damne\n",
      "st Captain , didst thou ?-- Dost not think of murdering the officers when thou \n",
      "aling ? I want to know that before I think of shipping ye .\" \" Well , sir , I w\n",
      "and there ' s a squall coming up , I think .\" \" Well , what does thou think the\n",
      ", I think .\" \" Well , what does thou think then of seeing the world ? Do ye wis\n",
      "seen here at the north , been led to think untraditionally and independently ; \n",
      "s so intense a Quaker . \" What do ye think of him , Bildad ?\" said Peleg . \" He\n",
      "mself at a little table . I began to think it was high time to settle with myse\n",
      "e squall ' s gone off to leeward , I think . Bildad , thou used to be good at s\n",
      "d like to see him .\" \" But I don ' t think thou wilt be able to at present . I \n",
      " queer man , Captain Ahab -- so some think -- but a good one . Oh , thou ' lt l\n"
     ]
    }
   ],
   "source": [
    "text1.concordance(\"think\")"
   ]
  },
  {
   "cell_type": "code",
   "execution_count": 6,
   "metadata": {},
   "outputs": [
    {
     "name": "stdout",
     "output_type": "stream",
     "text": [
      "say see know have be take do thought hear suppose all make believe him\n",
      "that find and was what will\n"
     ]
    }
   ],
   "source": [
    "text1.similar(\"think\")"
   ]
  },
  {
   "cell_type": "code",
   "execution_count": 7,
   "metadata": {},
   "outputs": [
    {
     "name": "stdout",
     "output_type": "stream",
     "text": [
      "am_glad a_pretty a_lucky is_pretty be_glad\n"
     ]
    }
   ],
   "source": [
    "text2.common_contexts([\"monstrous\", \"very\"])"
   ]
  },
  {
   "cell_type": "code",
   "execution_count": 8,
   "metadata": {},
   "outputs": [
    {
     "data": {
      "image/png": "[encoded data removed]",
      "text/plain": [
       "<Figure size 432x288 with 1 Axes>"
      ]
     },
     "metadata": {
      "needs_background": "light"
     },
     "output_type": "display_data"
    }
   ],
   "source": [
    "text4.dispersion_plot([\"citizens\", \"democracy\", \"freedom\", \"duties\", \"America\"])"
   ]
  },
  {
   "cell_type": "code",
   "execution_count": 9,
   "metadata": {},
   "outputs": [
    {
     "name": "stderr",
     "output_type": "stream",
     "text": [
      "Building ngram index...\n"
     ]
    },
    {
     "name": "stdout",
     "output_type": "stream",
     "text": [
      "occur , and especially the truth that democratic government has innate\n",
      "capacity to govern its affairs aright through the Province ceded , by\n",
      "any timid forebodings of evil were not to overtake them while I\n",
      "possess the property of the peaks and the exercise of free and firm on\n",
      "the farm , in view that the best of my countrymen will ever find me\n",
      "ready to confer their benefits on countless generations yet to make\n",
      "its promise for all generations .\" , remains essentially unchanged .\n",
      "cost of the Rocky Mountains . abuses of an ever - expanding American\n",
      "dream\n"
     ]
    },
    {
     "data": {
      "text/plain": [
       "'occur , and especially the truth that democratic government has innate\\ncapacity to govern its affairs aright through the Province ceded , by\\nany timid forebodings of evil were not to overtake them while I\\npossess the property of the peaks and the exercise of free and firm on\\nthe farm , in view that the best of my countrymen will ever find me\\nready to confer their benefits on countless generations yet to make\\nits promise for all generations .\" , remains essentially unchanged .\\ncost of the Rocky Mountains . abuses of an ever - expanding American\\ndream'"
      ]
     },
     "execution_count": 9,
     "metadata": {},
     "output_type": "execute_result"
    }
   ],
   "source": [
    "text4.generate()"
   ]
  },
  {
   "cell_type": "code",
   "execution_count": 10,
   "metadata": {},
   "outputs": [
    {
     "data": {
      "text/plain": [
       "44764"
      ]
     },
     "execution_count": 10,
     "metadata": {},
     "output_type": "execute_result"
    }
   ],
   "source": [
    "len(text3)"
   ]
  },
  {
   "cell_type": "code",
   "execution_count": 11,
   "metadata": {},
   "outputs": [
    {
     "data": {
      "text/plain": [
       "['!',\n",
       " \"'\",\n",
       " '(',\n",
       " ')',\n",
       " ',',\n",
       " ',)',\n",
       " '.',\n",
       " '.)',\n",
       " ':',\n",
       " ';',\n",
       " ';)',\n",
       " '?',\n",
       " '?)',\n",
       " 'A',\n",
       " 'Abel',\n",
       " 'Abelmizraim',\n",
       " 'Abidah',\n",
       " 'Abide',\n",
       " 'Abimael',\n",
       " 'Abimelech',\n",
       " 'Abr',\n",
       " 'Abrah',\n",
       " 'Abraham',\n",
       " 'Abram',\n",
       " 'Accad',\n",
       " 'Achbor',\n",
       " 'Adah',\n",
       " 'Adam',\n",
       " 'Adbeel',\n",
       " 'Admah',\n",
       " 'Adullamite',\n",
       " 'After',\n",
       " 'Aholibamah',\n",
       " 'Ahuzzath',\n",
       " 'Ajah',\n",
       " 'Akan',\n",
       " 'All',\n",
       " 'Allonbachuth',\n",
       " 'Almighty',\n",
       " 'Almodad',\n",
       " 'Also',\n",
       " 'Alvah',\n",
       " 'Alvan',\n",
       " 'Am',\n",
       " 'Amal',\n",
       " 'Amalek',\n",
       " 'Amalekites',\n",
       " 'Ammon',\n",
       " 'Amorite',\n",
       " 'Amorites',\n",
       " 'Amraphel',\n",
       " 'An',\n",
       " 'Anah',\n",
       " 'Anamim',\n",
       " 'And',\n",
       " 'Aner',\n",
       " 'Angel',\n",
       " 'Appoint',\n",
       " 'Aram',\n",
       " 'Aran',\n",
       " 'Ararat',\n",
       " 'Arbah',\n",
       " 'Ard',\n",
       " 'Are',\n",
       " 'Areli',\n",
       " 'Arioch',\n",
       " 'Arise',\n",
       " 'Arkite',\n",
       " 'Arodi',\n",
       " 'Arphaxad',\n",
       " 'Art',\n",
       " 'Arvadite',\n",
       " 'As',\n",
       " 'Asenath',\n",
       " 'Ashbel',\n",
       " 'Asher',\n",
       " 'Ashkenaz',\n",
       " 'Ashteroth',\n",
       " 'Ask',\n",
       " 'Asshur',\n",
       " 'Asshurim',\n",
       " 'Assyr',\n",
       " 'Assyria',\n",
       " 'At',\n",
       " 'Atad',\n",
       " 'Avith',\n",
       " 'Baalhanan',\n",
       " 'Babel',\n",
       " 'Bashemath',\n",
       " 'Be',\n",
       " 'Because',\n",
       " 'Becher',\n",
       " 'Bedad',\n",
       " 'Beeri',\n",
       " 'Beerlahairoi',\n",
       " 'Beersheba',\n",
       " 'Behold',\n",
       " 'Bela',\n",
       " 'Belah',\n",
       " 'Benam',\n",
       " 'Benjamin',\n",
       " 'Beno',\n",
       " 'Beor',\n",
       " 'Bera',\n",
       " 'Bered',\n",
       " 'Beriah',\n",
       " 'Bethel',\n",
       " 'Bethlehem',\n",
       " 'Bethuel',\n",
       " 'Beware',\n",
       " 'Bilhah',\n",
       " 'Bilhan',\n",
       " 'Binding',\n",
       " 'Birsha',\n",
       " 'Bless',\n",
       " 'Blessed',\n",
       " 'Both',\n",
       " 'Bow',\n",
       " 'Bozrah',\n",
       " 'Bring',\n",
       " 'But',\n",
       " 'Buz',\n",
       " 'By',\n",
       " 'Cain',\n",
       " 'Cainan',\n",
       " 'Calah',\n",
       " 'Calneh',\n",
       " 'Can',\n",
       " 'Cana',\n",
       " 'Canaan',\n",
       " 'Canaanite',\n",
       " 'Canaanites',\n",
       " 'Canaanitish',\n",
       " 'Caphtorim',\n",
       " 'Carmi',\n",
       " 'Casluhim',\n",
       " 'Cast',\n",
       " 'Cause',\n",
       " 'Chaldees',\n",
       " 'Chedorlaomer',\n",
       " 'Cheran',\n",
       " 'Cherubims',\n",
       " 'Chesed',\n",
       " 'Chezib',\n",
       " 'Come',\n",
       " 'Cursed',\n",
       " 'Cush',\n",
       " 'Damascus',\n",
       " 'Dan',\n",
       " 'Day',\n",
       " 'Deborah',\n",
       " 'Dedan',\n",
       " 'Deliver',\n",
       " 'Diklah',\n",
       " 'Din',\n",
       " 'Dinah',\n",
       " 'Dinhabah',\n",
       " 'Discern',\n",
       " 'Dishan',\n",
       " 'Dishon',\n",
       " 'Do',\n",
       " 'Dodanim',\n",
       " 'Dothan',\n",
       " 'Drink',\n",
       " 'Duke',\n",
       " 'Dumah',\n",
       " 'Earth',\n",
       " 'Ebal',\n",
       " 'Eber',\n",
       " 'Edar',\n",
       " 'Eden',\n",
       " 'Edom',\n",
       " 'Edomites',\n",
       " 'Egy',\n",
       " 'Egypt',\n",
       " 'Egyptia',\n",
       " 'Egyptian',\n",
       " 'Egyptians',\n",
       " 'Ehi',\n",
       " 'Elah',\n",
       " 'Elam',\n",
       " 'Elbethel',\n",
       " 'Eldaah',\n",
       " 'EleloheIsrael',\n",
       " 'Eliezer',\n",
       " 'Eliphaz',\n",
       " 'Elishah',\n",
       " 'Ellasar',\n",
       " 'Elon',\n",
       " 'Elparan',\n",
       " 'Emins',\n",
       " 'En',\n",
       " 'Enmishpat',\n",
       " 'Eno',\n",
       " 'Enoch',\n",
       " 'Enos',\n",
       " 'Ephah',\n",
       " 'Epher',\n",
       " 'Ephra',\n",
       " 'Ephraim',\n",
       " 'Ephrath',\n",
       " 'Ephron',\n",
       " 'Er',\n",
       " 'Erech',\n",
       " 'Eri',\n",
       " 'Es',\n",
       " 'Esau',\n",
       " 'Escape',\n",
       " 'Esek',\n",
       " 'Eshban',\n",
       " 'Eshcol',\n",
       " 'Ethiopia',\n",
       " 'Euphrat',\n",
       " 'Euphrates',\n",
       " 'Eve',\n",
       " 'Even',\n",
       " 'Every',\n",
       " 'Except',\n",
       " 'Ezbon',\n",
       " 'Ezer',\n",
       " 'Fear',\n",
       " 'Feed',\n",
       " 'Fifteen',\n",
       " 'Fill',\n",
       " 'For',\n",
       " 'Forasmuch',\n",
       " 'Forgive',\n",
       " 'From',\n",
       " 'Fulfil',\n",
       " 'G',\n",
       " 'Gad',\n",
       " 'Gaham',\n",
       " 'Galeed',\n",
       " 'Gatam',\n",
       " 'Gather',\n",
       " 'Gaza',\n",
       " 'Gentiles',\n",
       " 'Gera',\n",
       " 'Gerar',\n",
       " 'Gershon',\n",
       " 'Get',\n",
       " 'Gether',\n",
       " 'Gihon',\n",
       " 'Gilead',\n",
       " 'Girgashites',\n",
       " 'Girgasite',\n",
       " 'Give',\n",
       " 'Go',\n",
       " 'God',\n",
       " 'Gomer',\n",
       " 'Gomorrah',\n",
       " 'Goshen',\n",
       " 'Guni',\n",
       " 'Hadad',\n",
       " 'Hadar',\n",
       " 'Hadoram',\n",
       " 'Hagar',\n",
       " 'Haggi',\n",
       " 'Hai',\n",
       " 'Ham',\n",
       " 'Hamathite',\n",
       " 'Hamor',\n",
       " 'Hamul',\n",
       " 'Hanoch',\n",
       " 'Happy',\n",
       " 'Haran',\n",
       " 'Hast',\n",
       " 'Haste',\n",
       " 'Have',\n",
       " 'Havilah',\n",
       " 'Hazarmaveth',\n",
       " 'Hazezontamar',\n",
       " 'Hazo',\n",
       " 'He',\n",
       " 'Hear',\n",
       " 'Heaven',\n",
       " 'Heber',\n",
       " 'Hebrew',\n",
       " 'Hebrews',\n",
       " 'Hebron',\n",
       " 'Hemam',\n",
       " 'Hemdan',\n",
       " 'Here',\n",
       " 'Hereby',\n",
       " 'Heth',\n",
       " 'Hezron',\n",
       " 'Hiddekel',\n",
       " 'Hinder',\n",
       " 'Hirah',\n",
       " 'His',\n",
       " 'Hitti',\n",
       " 'Hittite',\n",
       " 'Hittites',\n",
       " 'Hivite',\n",
       " 'Hobah',\n",
       " 'Hori',\n",
       " 'Horite',\n",
       " 'Horites',\n",
       " 'How',\n",
       " 'Hul',\n",
       " 'Huppim',\n",
       " 'Husham',\n",
       " 'Hushim',\n",
       " 'Huz',\n",
       " 'I',\n",
       " 'If',\n",
       " 'In',\n",
       " 'Irad',\n",
       " 'Iram',\n",
       " 'Is',\n",
       " 'Isa',\n",
       " 'Isaac',\n",
       " 'Iscah',\n",
       " 'Ishbak',\n",
       " 'Ishmael',\n",
       " 'Ishmeelites',\n",
       " 'Ishuah',\n",
       " 'Isra',\n",
       " 'Israel',\n",
       " 'Issachar',\n",
       " 'Isui',\n",
       " 'It',\n",
       " 'Ithran',\n",
       " 'Jaalam',\n",
       " 'Jabal',\n",
       " 'Jabbok',\n",
       " 'Jac',\n",
       " 'Jachin',\n",
       " 'Jacob',\n",
       " 'Jahleel',\n",
       " 'Jahzeel',\n",
       " 'Jamin',\n",
       " 'Japhe',\n",
       " 'Japheth',\n",
       " 'Jared',\n",
       " 'Javan',\n",
       " 'Jebusite',\n",
       " 'Jebusites',\n",
       " 'Jegarsahadutha',\n",
       " 'Jehovahjireh',\n",
       " 'Jemuel',\n",
       " 'Jerah',\n",
       " 'Jetheth',\n",
       " 'Jetur',\n",
       " 'Jeush',\n",
       " 'Jezer',\n",
       " 'Jidlaph',\n",
       " 'Jimnah',\n",
       " 'Job',\n",
       " 'Jobab',\n",
       " 'Jokshan',\n",
       " 'Joktan',\n",
       " 'Jordan',\n",
       " 'Joseph',\n",
       " 'Jubal',\n",
       " 'Judah',\n",
       " 'Judge',\n",
       " 'Judith',\n",
       " 'Kadesh',\n",
       " 'Kadmonites',\n",
       " 'Karnaim',\n",
       " 'Kedar',\n",
       " 'Kedemah',\n",
       " 'Kemuel',\n",
       " 'Kenaz',\n",
       " 'Kenites',\n",
       " 'Kenizzites',\n",
       " 'Keturah',\n",
       " 'Kiriathaim',\n",
       " 'Kirjatharba',\n",
       " 'Kittim',\n",
       " 'Know',\n",
       " 'Kohath',\n",
       " 'Kor',\n",
       " 'Korah',\n",
       " 'LO',\n",
       " 'LORD',\n",
       " 'Laban',\n",
       " 'Lahairoi',\n",
       " 'Lamech',\n",
       " 'Lasha',\n",
       " 'Lay',\n",
       " 'Leah',\n",
       " 'Lehabim',\n",
       " 'Lest',\n",
       " 'Let',\n",
       " 'Letushim',\n",
       " 'Leummim',\n",
       " 'Levi',\n",
       " 'Lie',\n",
       " 'Lift',\n",
       " 'Lo',\n",
       " 'Look',\n",
       " 'Lot',\n",
       " 'Lotan',\n",
       " 'Lud',\n",
       " 'Ludim',\n",
       " 'Luz',\n",
       " 'Maachah',\n",
       " 'Machir',\n",
       " 'Machpelah',\n",
       " 'Madai',\n",
       " 'Magdiel',\n",
       " 'Magog',\n",
       " 'Mahalaleel',\n",
       " 'Mahalath',\n",
       " 'Mahanaim',\n",
       " 'Make',\n",
       " 'Malchiel',\n",
       " 'Male',\n",
       " 'Mam',\n",
       " 'Mamre',\n",
       " 'Man',\n",
       " 'Manahath',\n",
       " 'Manass',\n",
       " 'Manasseh',\n",
       " 'Mash',\n",
       " 'Masrekah',\n",
       " 'Massa',\n",
       " 'Matred',\n",
       " 'Me',\n",
       " 'Medan',\n",
       " 'Mehetabel',\n",
       " 'Mehujael',\n",
       " 'Melchizedek',\n",
       " 'Merari',\n",
       " 'Mesha',\n",
       " 'Meshech',\n",
       " 'Mesopotamia',\n",
       " 'Methusa',\n",
       " 'Methusael',\n",
       " 'Methuselah',\n",
       " 'Mezahab',\n",
       " 'Mibsam',\n",
       " 'Mibzar',\n",
       " 'Midian',\n",
       " 'Midianites',\n",
       " 'Milcah',\n",
       " 'Mishma',\n",
       " 'Mizpah',\n",
       " 'Mizraim',\n",
       " 'Mizz',\n",
       " 'Moab',\n",
       " 'Moabites',\n",
       " 'Moreh',\n",
       " 'Moreover',\n",
       " 'Moriah',\n",
       " 'Muppim',\n",
       " 'My',\n",
       " 'Naamah',\n",
       " 'Naaman',\n",
       " 'Nahath',\n",
       " 'Nahor',\n",
       " 'Naphish',\n",
       " 'Naphtali',\n",
       " 'Naphtuhim',\n",
       " 'Nay',\n",
       " 'Nebajoth',\n",
       " 'Neither',\n",
       " 'Night',\n",
       " 'Nimrod',\n",
       " 'Nineveh',\n",
       " 'Noah',\n",
       " 'Nod',\n",
       " 'Not',\n",
       " 'Now',\n",
       " 'O',\n",
       " 'Obal',\n",
       " 'Of',\n",
       " 'Oh',\n",
       " 'Ohad',\n",
       " 'Omar',\n",
       " 'On',\n",
       " 'Onam',\n",
       " 'Onan',\n",
       " 'Only',\n",
       " 'Ophir',\n",
       " 'Our',\n",
       " 'Out',\n",
       " 'Padan',\n",
       " 'Padanaram',\n",
       " 'Paran',\n",
       " 'Pass',\n",
       " 'Pathrusim',\n",
       " 'Pau',\n",
       " 'Peace',\n",
       " 'Peleg',\n",
       " 'Peniel',\n",
       " 'Penuel',\n",
       " 'Peradventure',\n",
       " 'Perizzit',\n",
       " 'Perizzite',\n",
       " 'Perizzites',\n",
       " 'Phallu',\n",
       " 'Phara',\n",
       " 'Pharaoh',\n",
       " 'Pharez',\n",
       " 'Phichol',\n",
       " 'Philistim',\n",
       " 'Philistines',\n",
       " 'Phut',\n",
       " 'Phuvah',\n",
       " 'Pildash',\n",
       " 'Pinon',\n",
       " 'Pison',\n",
       " 'Potiphar',\n",
       " 'Potipherah',\n",
       " 'Put',\n",
       " 'Raamah',\n",
       " 'Rachel',\n",
       " 'Rameses',\n",
       " 'Rebek',\n",
       " 'Rebekah',\n",
       " 'Rehoboth',\n",
       " 'Remain',\n",
       " 'Rephaims',\n",
       " 'Resen',\n",
       " 'Return',\n",
       " 'Reu',\n",
       " 'Reub',\n",
       " 'Reuben',\n",
       " 'Reuel',\n",
       " 'Reumah',\n",
       " 'Riphath',\n",
       " 'Rosh',\n",
       " 'Sabtah',\n",
       " 'Sabtech',\n",
       " 'Said',\n",
       " 'Salah',\n",
       " 'Salem',\n",
       " 'Samlah',\n",
       " 'Sarah',\n",
       " 'Sarai',\n",
       " 'Saul',\n",
       " 'Save',\n",
       " 'Say',\n",
       " 'Se',\n",
       " 'Seba',\n",
       " 'See',\n",
       " 'Seeing',\n",
       " 'Seir',\n",
       " 'Sell',\n",
       " 'Send',\n",
       " 'Sephar',\n",
       " 'Serah',\n",
       " 'Sered',\n",
       " 'Serug',\n",
       " 'Set',\n",
       " 'Seth',\n",
       " 'Shalem',\n",
       " 'Shall',\n",
       " 'Shalt',\n",
       " 'Shammah',\n",
       " 'Shaul',\n",
       " 'Shaveh',\n",
       " 'She',\n",
       " 'Sheba',\n",
       " 'Shebah',\n",
       " 'Shechem',\n",
       " 'Shed',\n",
       " 'Shel',\n",
       " 'Shelah',\n",
       " 'Sheleph',\n",
       " 'Shem',\n",
       " 'Shemeber',\n",
       " 'Shepho',\n",
       " 'Shillem',\n",
       " 'Shiloh',\n",
       " 'Shimron',\n",
       " 'Shinab',\n",
       " 'Shinar',\n",
       " 'Shobal',\n",
       " 'Should',\n",
       " 'Shuah',\n",
       " 'Shuni',\n",
       " 'Shur',\n",
       " 'Sichem',\n",
       " 'Siddim',\n",
       " 'Sidon',\n",
       " 'Simeon',\n",
       " 'Sinite',\n",
       " 'Sitnah',\n",
       " 'Slay',\n",
       " 'So',\n",
       " 'Sod',\n",
       " 'Sodom',\n",
       " 'Sojourn',\n",
       " 'Some',\n",
       " 'Spake',\n",
       " 'Speak',\n",
       " 'Spirit',\n",
       " 'Stand',\n",
       " 'Succoth',\n",
       " 'Surely',\n",
       " 'Swear',\n",
       " 'Syrian',\n",
       " 'Take',\n",
       " 'Tamar',\n",
       " 'Tarshish',\n",
       " 'Tebah',\n",
       " 'Tell',\n",
       " 'Tema',\n",
       " 'Teman',\n",
       " 'Temani',\n",
       " 'Terah',\n",
       " 'Thahash',\n",
       " 'That',\n",
       " 'The',\n",
       " 'Then',\n",
       " 'There',\n",
       " 'Therefore',\n",
       " 'These',\n",
       " 'They',\n",
       " 'Thirty',\n",
       " 'This',\n",
       " 'Thorns',\n",
       " 'Thou',\n",
       " 'Thus',\n",
       " 'Thy',\n",
       " 'Tidal',\n",
       " 'Timna',\n",
       " 'Timnah',\n",
       " 'Timnath',\n",
       " 'Tiras',\n",
       " 'To',\n",
       " 'Togarmah',\n",
       " 'Tola',\n",
       " 'Tubal',\n",
       " 'Tubalcain',\n",
       " 'Twelve',\n",
       " 'Two',\n",
       " 'Unstable',\n",
       " 'Until',\n",
       " 'Unto',\n",
       " 'Up',\n",
       " 'Upon',\n",
       " 'Ur',\n",
       " 'Uz',\n",
       " 'Uzal',\n",
       " 'We',\n",
       " 'What',\n",
       " 'When',\n",
       " 'Whence',\n",
       " 'Where',\n",
       " 'Whereas',\n",
       " 'Wherefore',\n",
       " 'Which',\n",
       " 'While',\n",
       " 'Who',\n",
       " 'Whose',\n",
       " 'Whoso',\n",
       " 'Why',\n",
       " 'Wilt',\n",
       " 'With',\n",
       " 'Woman',\n",
       " 'Ye',\n",
       " 'Yea',\n",
       " 'Yet',\n",
       " 'Zaavan',\n",
       " 'Zaphnathpaaneah',\n",
       " 'Zar',\n",
       " 'Zarah',\n",
       " 'Zeboiim',\n",
       " 'Zeboim',\n",
       " 'Zebul',\n",
       " 'Zebulun',\n",
       " 'Zemarite',\n",
       " 'Zepho',\n",
       " 'Zerah',\n",
       " 'Zibeon',\n",
       " 'Zidon',\n",
       " 'Zillah',\n",
       " 'Zilpah',\n",
       " 'Zimran',\n",
       " 'Ziphion',\n",
       " 'Zo',\n",
       " 'Zoar',\n",
       " 'Zohar',\n",
       " 'Zuzims',\n",
       " 'a',\n",
       " 'abated',\n",
       " 'abide',\n",
       " 'able',\n",
       " 'abode',\n",
       " 'abomination',\n",
       " 'about',\n",
       " 'above',\n",
       " 'abroad',\n",
       " 'absent',\n",
       " 'abundantly',\n",
       " 'accept',\n",
       " 'accepted',\n",
       " 'according',\n",
       " 'acknowledged',\n",
       " 'activity',\n",
       " 'add',\n",
       " 'adder',\n",
       " 'afar',\n",
       " 'afflict',\n",
       " 'affliction',\n",
       " 'afraid',\n",
       " 'after',\n",
       " 'afterward',\n",
       " 'afterwards',\n",
       " 'aga',\n",
       " 'again',\n",
       " 'against',\n",
       " 'age',\n",
       " 'aileth',\n",
       " 'air',\n",
       " 'al',\n",
       " 'alive',\n",
       " 'all',\n",
       " 'almon',\n",
       " 'alo',\n",
       " 'alone',\n",
       " 'aloud',\n",
       " 'also',\n",
       " 'altar',\n",
       " 'altogether',\n",
       " 'always',\n",
       " 'am',\n",
       " 'among',\n",
       " 'amongst',\n",
       " 'an',\n",
       " 'and',\n",
       " 'angel',\n",
       " 'angels',\n",
       " 'anger',\n",
       " 'angry',\n",
       " 'anguish',\n",
       " 'anointedst',\n",
       " 'anoth',\n",
       " 'another',\n",
       " 'answer',\n",
       " 'answered',\n",
       " 'any',\n",
       " 'anything',\n",
       " 'appe',\n",
       " 'appear',\n",
       " 'appeared',\n",
       " 'appease',\n",
       " 'appoint',\n",
       " 'appointed',\n",
       " 'aprons',\n",
       " 'archer',\n",
       " 'archers',\n",
       " 'are',\n",
       " 'arise',\n",
       " 'ark',\n",
       " 'armed',\n",
       " 'arms',\n",
       " 'army',\n",
       " 'arose',\n",
       " 'arrayed',\n",
       " 'art',\n",
       " 'artificer',\n",
       " 'as',\n",
       " 'ascending',\n",
       " 'ash',\n",
       " 'ashamed',\n",
       " 'ask',\n",
       " 'asked',\n",
       " 'asketh',\n",
       " 'ass',\n",
       " 'assembly',\n",
       " 'asses',\n",
       " 'assigned',\n",
       " 'asswaged',\n",
       " 'at',\n",
       " 'attained',\n",
       " 'audience',\n",
       " 'avenged',\n",
       " 'aw',\n",
       " 'awaked',\n",
       " 'away',\n",
       " 'awoke',\n",
       " 'back',\n",
       " 'backward',\n",
       " 'bad',\n",
       " 'bade',\n",
       " 'badest',\n",
       " 'badne',\n",
       " 'bak',\n",
       " 'bake',\n",
       " 'bakemeats',\n",
       " 'baker',\n",
       " 'bakers',\n",
       " 'balm',\n",
       " 'bands',\n",
       " 'bank',\n",
       " 'bare',\n",
       " 'barr',\n",
       " 'barren',\n",
       " 'basket',\n",
       " 'baskets',\n",
       " 'battle',\n",
       " 'bdellium',\n",
       " 'be',\n",
       " 'bear',\n",
       " 'beari',\n",
       " 'bearing',\n",
       " 'beast',\n",
       " 'beasts',\n",
       " 'beautiful',\n",
       " 'became',\n",
       " 'because',\n",
       " 'become',\n",
       " 'bed',\n",
       " 'been',\n",
       " 'befall',\n",
       " 'befell',\n",
       " 'before',\n",
       " 'began',\n",
       " 'begat',\n",
       " 'beget',\n",
       " 'begettest',\n",
       " 'begin',\n",
       " 'beginning',\n",
       " 'begotten',\n",
       " 'beguiled',\n",
       " 'beheld',\n",
       " 'behind',\n",
       " 'behold',\n",
       " 'being',\n",
       " 'believed',\n",
       " 'belly',\n",
       " 'belong',\n",
       " 'beneath',\n",
       " 'bereaved',\n",
       " 'beside',\n",
       " 'besides',\n",
       " 'besought',\n",
       " 'best',\n",
       " 'betimes',\n",
       " 'better',\n",
       " 'between',\n",
       " 'betwixt',\n",
       " 'beyond',\n",
       " 'binding',\n",
       " 'bird',\n",
       " 'birds',\n",
       " 'birthday',\n",
       " 'birthright',\n",
       " 'biteth',\n",
       " 'bitter',\n",
       " 'blame',\n",
       " 'blameless',\n",
       " 'blasted',\n",
       " 'bless',\n",
       " 'blessed',\n",
       " 'blesseth',\n",
       " 'blessi',\n",
       " 'blessing',\n",
       " 'blessings',\n",
       " 'blindness',\n",
       " 'blood',\n",
       " 'blossoms',\n",
       " 'bodies',\n",
       " 'boldly',\n",
       " 'bondman',\n",
       " 'bondmen',\n",
       " 'bondwoman',\n",
       " 'bone',\n",
       " 'bones',\n",
       " 'book',\n",
       " 'booths',\n",
       " 'border',\n",
       " 'borders',\n",
       " 'born',\n",
       " 'bosom',\n",
       " 'both',\n",
       " 'bottle',\n",
       " 'bou',\n",
       " 'boug',\n",
       " 'bough',\n",
       " 'bought',\n",
       " 'bound',\n",
       " 'bow',\n",
       " 'bowed',\n",
       " 'bowels',\n",
       " 'bowing',\n",
       " 'boys',\n",
       " 'bracelets',\n",
       " 'branches',\n",
       " 'brass',\n",
       " 'bre',\n",
       " 'breach',\n",
       " 'bread',\n",
       " 'breadth',\n",
       " 'break',\n",
       " 'breaketh',\n",
       " 'breaking',\n",
       " 'breasts',\n",
       " 'breath',\n",
       " 'breathed',\n",
       " 'breed',\n",
       " 'brethren',\n",
       " 'brick',\n",
       " 'brimstone',\n",
       " 'bring',\n",
       " 'brink',\n",
       " 'broken',\n",
       " 'brook',\n",
       " 'broth',\n",
       " 'brother',\n",
       " 'brought',\n",
       " 'brown',\n",
       " 'bruise',\n",
       " 'budded',\n",
       " 'build',\n",
       " 'builded',\n",
       " 'built',\n",
       " 'bulls',\n",
       " 'bundle',\n",
       " 'bundles',\n",
       " 'burdens',\n",
       " 'buried',\n",
       " 'burn',\n",
       " 'burning',\n",
       " 'burnt',\n",
       " 'bury',\n",
       " 'buryingplace',\n",
       " 'business',\n",
       " 'but',\n",
       " 'butler',\n",
       " 'butlers',\n",
       " 'butlership',\n",
       " 'butter',\n",
       " 'buy',\n",
       " 'by',\n",
       " 'cakes',\n",
       " 'calf',\n",
       " 'call',\n",
       " 'called',\n",
       " 'came',\n",
       " 'camel',\n",
       " 'camels',\n",
       " 'camest',\n",
       " 'can',\n",
       " 'cannot',\n",
       " 'canst',\n",
       " 'captain',\n",
       " 'captive',\n",
       " 'captives',\n",
       " 'carcases',\n",
       " 'carried',\n",
       " 'carry',\n",
       " 'cast',\n",
       " 'castles',\n",
       " 'catt',\n",
       " 'cattle',\n",
       " 'caught',\n",
       " 'cause',\n",
       " 'caused',\n",
       " 'cave',\n",
       " 'cease',\n",
       " 'ceased',\n",
       " 'certain',\n",
       " 'certainly',\n",
       " 'chain',\n",
       " 'chamber',\n",
       " 'change',\n",
       " 'changed',\n",
       " 'changes',\n",
       " 'charge',\n",
       " 'charged',\n",
       " 'chariot',\n",
       " 'chariots',\n",
       " 'chesnut',\n",
       " 'chi',\n",
       " 'chief',\n",
       " 'child',\n",
       " 'childless',\n",
       " 'childr',\n",
       " 'children',\n",
       " 'chode',\n",
       " 'choice',\n",
       " 'chose',\n",
       " 'circumcis',\n",
       " 'circumcise',\n",
       " 'circumcised',\n",
       " 'citi',\n",
       " 'cities',\n",
       " 'city',\n",
       " 'clave',\n",
       " 'clean',\n",
       " 'clear',\n",
       " 'cleave',\n",
       " 'clo',\n",
       " 'closed',\n",
       " 'clothed',\n",
       " 'clothes',\n",
       " 'cloud',\n",
       " 'clusters',\n",
       " 'co',\n",
       " 'coat',\n",
       " 'coats',\n",
       " 'coffin',\n",
       " 'cold',\n",
       " ...]"
      ]
     },
     "execution_count": 11,
     "metadata": {},
     "output_type": "execute_result"
    }
   ],
   "source": [
    "sorted(set(text3))"
   ]
  },
  {
   "cell_type": "code",
   "execution_count": 12,
   "metadata": {},
   "outputs": [
    {
     "data": {
      "text/plain": [
       "2789"
      ]
     },
     "execution_count": 12,
     "metadata": {},
     "output_type": "execute_result"
    }
   ],
   "source": [
    "len(set(text3))"
   ]
  },
  {
   "cell_type": "code",
   "execution_count": 13,
   "metadata": {},
   "outputs": [
    {
     "data": {
      "text/plain": [
       "0.06617622515804722"
      ]
     },
     "execution_count": 13,
     "metadata": {},
     "output_type": "execute_result"
    }
   ],
   "source": [
    "len(set(text4)) / len(text4)"
   ]
  },
  {
   "cell_type": "code",
   "execution_count": 14,
   "metadata": {},
   "outputs": [
    {
     "data": {
      "text/plain": [
       "5"
      ]
     },
     "execution_count": 14,
     "metadata": {},
     "output_type": "execute_result"
    }
   ],
   "source": [
    "text3.count(\"smote\")"
   ]
  },
  {
   "cell_type": "code",
   "execution_count": 15,
   "metadata": {},
   "outputs": [
    {
     "data": {
      "text/plain": [
       "1.457973123627309"
      ]
     },
     "execution_count": 15,
     "metadata": {},
     "output_type": "execute_result"
    }
   ],
   "source": [
    "100 * text4.count('a') / len(text4)"
   ]
  },
  {
   "cell_type": "code",
   "execution_count": 16,
   "metadata": {},
   "outputs": [],
   "source": [
    "sent1 = ['Call', 'me', 'Ishmael', '.']"
   ]
  },
  {
   "cell_type": "code",
   "execution_count": 17,
   "metadata": {},
   "outputs": [
    {
     "data": {
      "text/plain": [
       "['Fellow',\n",
       " '-',\n",
       " 'Citizens',\n",
       " 'of',\n",
       " 'the',\n",
       " 'Senate',\n",
       " 'and',\n",
       " 'of',\n",
       " 'the',\n",
       " 'House',\n",
       " 'of',\n",
       " 'Representatives',\n",
       " ':']"
      ]
     },
     "execution_count": 17,
     "metadata": {},
     "output_type": "execute_result"
    }
   ],
   "source": [
    "sent4"
   ]
  },
  {
   "cell_type": "code",
   "execution_count": 18,
   "metadata": {
    "scrolled": true
   },
   "outputs": [
    {
     "data": {
      "text/plain": [
       "['CIRCUMNAVIGATION',\n",
       " 'Physiognomically',\n",
       " 'apprehensiveness',\n",
       " 'cannibalistically',\n",
       " 'characteristically',\n",
       " 'circumnavigating',\n",
       " 'circumnavigation',\n",
       " 'circumnavigations',\n",
       " 'comprehensiveness',\n",
       " 'hermaphroditical',\n",
       " 'indiscriminately',\n",
       " 'indispensableness',\n",
       " 'irresistibleness',\n",
       " 'physiognomically',\n",
       " 'preternaturalness',\n",
       " 'responsibilities',\n",
       " 'simultaneousness',\n",
       " 'subterraneousness',\n",
       " 'supernaturalness',\n",
       " 'superstitiousness',\n",
       " 'uncomfortableness',\n",
       " 'uncompromisedness',\n",
       " 'undiscriminating',\n",
       " 'uninterpenetratingly']"
      ]
     },
     "execution_count": 18,
     "metadata": {},
     "output_type": "execute_result"
    }
   ],
   "source": [
    "V = set(text1)\n",
    "long_words = [w for w in V if len(w) > 15]\n",
    "sorted(long_words)"
   ]
  },
  {
   "cell_type": "code",
   "execution_count": 19,
   "metadata": {},
   "outputs": [
    {
     "data": {
      "text/plain": [
       "['#14-19teens',\n",
       " '#talkcity_adults',\n",
       " '((((((((((',\n",
       " '........',\n",
       " 'Question',\n",
       " 'actually',\n",
       " 'anything',\n",
       " 'computer',\n",
       " 'cute.-ass',\n",
       " 'everyone',\n",
       " 'football',\n",
       " 'innocent',\n",
       " 'listening',\n",
       " 'remember',\n",
       " 'seriously',\n",
       " 'something',\n",
       " 'together',\n",
       " 'tomorrow',\n",
       " 'watching']"
      ]
     },
     "execution_count": 19,
     "metadata": {},
     "output_type": "execute_result"
    }
   ],
   "source": [
    "fdist5 = FreqDist(text5)\n",
    "sorted(w for w in set(text5) if len(w) > 7 and fdist5[w] > 7)"
   ]
  },
  {
   "cell_type": "markdown",
   "metadata": {},
   "source": [
    "2. Now that you have gone through Chapter 1, let's try some of the nltk functionalities on our own Text!\n",
    "\n",
    "> Setup. We want to start from a clean version of the ZeldaWiki pages of the characters. A version with as little wiki-markup as possible. We needed it earlier to get the links, gender, etc., but now we want a readable version. To do this we need to create 10 new regex patterns and parse the pages ... \n",
    ">\n",
    "> No! Don't worry! We can get a fairly nice version directly from the ZeldaWiki API. Follow the instructions below:\n",
    ">\n",
    "> * read the [csv file](https://github.com/SocialComplexityLab/socialgraphs2021/blob/main/files/ZeldaBotW_nodes_w_attributes_enriched.csv) of the characters with pandas `pd.read_csv()` and assign it to `df_characters`;\n",
    "> * use the same code you have used to query the API before (remember the baseurl is `https://zelda.fandom.com/api.php?`), but change the parameter `content` in `content=\"prop=extracts&exlimit=1&explaintext\"`;\n",
    "> * loop through the `Name` column of df_characters and for each name make a request to the API\n",
    ">     * **Note1** replace white spaces with `_` and use `urllib.parse.quote_plus(NAME_OF_CHARACTER_HERE)` to build your title;\n",
    ">     * **Note2** take care of `Cherry` (remember the title of her page is different).\n",
    "> * after using `json` to load the text, remember to get the value (the clean text we are looking for) from the right key \n",
    ">     * **Note3** the key you are looking for is now `extract` not `*`\n",
    ">\n",
    "> Use this method to retrive a nice copy of all BotW characters's text. Save each character's text in a txt file and collect them all in a new folder!\n",
    "\n",
    "> Finally, we can create our own corpus (see Ch. 2 Sec. 1.9 for more details):\n",
    ">    * create a list of file names `file_list` and order them with the same order in `df_characters`, e.g., Baddek.txt first, Bamboo.txt second etc.\n",
    ">    * use the function `PlaintextCorpusReader` from `nltk.corpus` to create the ZeldaWiki corpus.\n",
    ">    * use the function `nltk.Text()` as follows `nltk.Text(YOUR_CORPUS_HERE.words())`.\n",
    ">\n",
    "> Now you can use this nltk Text object as any other you've seen in the examples of Chapter 1!!"
   ]
  },
  {
   "cell_type": "code",
   "execution_count": 20,
   "metadata": {},
   "outputs": [],
   "source": [
    "import pandas as pd\n",
    "import requests\n",
    "from time import sleep"
   ]
  },
  {
   "cell_type": "code",
   "execution_count": 21,
   "metadata": {},
   "outputs": [],
   "source": [
    "df_characters = pd.read_csv(\"../files/ZeldaBotW_nodes_w_attributes_enriched.csv\")"
   ]
  },
  {
   "cell_type": "code",
   "execution_count": 22,
   "metadata": {},
   "outputs": [],
   "source": [
    "baseurl = \"https://zelda.fandom.com/api.php?action=query&titles={}&prop=extracts&exlimit=1&explaintext&format=json\"\n",
    "for name in df_characters.Name.str.replace(\" \", \"_\"):\n",
    "    if name == \"Cherry\":\n",
    "        response = requests.get(baseurl.format(\"Ancient_Oven\"))\n",
    "    else:\n",
    "        response = requests.get(baseurl.format(name))\n",
    "    \n",
    "    sleep(0.3)\n",
    "    key = next(iter(response.json()[\"query\"][\"pages\"].keys()))\n",
    "    pagetext = response.json()[\"query\"][\"pages\"][key][\"extract\"]\n",
    "    with open(f\"CharacterText/{name}.txt\", \"w\", encoding=\"utf-8\") as f:\n",
    "        f.write(pagetext)"
   ]
  },
  {
   "cell_type": "markdown",
   "metadata": {},
   "source": [
    "# Making your own corpus"
   ]
  },
  {
   "cell_type": "code",
   "execution_count": 26,
   "metadata": {},
   "outputs": [
    {
     "data": {
      "text/plain": [
       "array(['Baddek.txt', 'Bamboo.txt', 'Banji.txt', 'Baumar.txt', 'Bayge.txt',\n",
       "       'Beedle.txt', 'Bolson.txt', 'Brigo.txt', 'Cambo.txt', 'Chabi.txt',\n",
       "       'Chork.txt', 'Chumin.txt', 'Dabi.txt', 'Daruk.txt',\n",
       "       'Dauntless.txt', 'Dinraal.txt', 'Ena.txt', 'Endai.txt',\n",
       "       'Epona.txt', 'Farosh.txt', 'Fyson.txt', 'Goflam.txt',\n",
       "       'Greyson.txt', 'Heehl.txt', 'Hestu.txt', 'Hudson.txt', 'Hylia.txt',\n",
       "       'Kabetta.txt', 'Kanny.txt', 'Kapson.txt', 'Karson.txt', 'Kass.txt',\n",
       "       'Kenyo.txt', 'Kilton.txt', 'Leekah.txt', 'Link.txt', 'Meeshy.txt',\n",
       "       'Meghyn.txt', 'Mei.txt', 'Mils.txt', 'Mina.txt', 'Mipha.txt',\n",
       "       'Misko.txt', 'Nat.txt', 'Naydra.txt', 'Nazbi.txt', 'Pelison.txt',\n",
       "       'Pikango.txt', 'Regan.txt', 'Revali.txt', 'Rhondson.txt',\n",
       "       'Rik.txt', 'Ronn.txt', 'Savelle.txt', 'Sherfin.txt', 'Sho.txt',\n",
       "       'Sorelia.txt', 'Spoone.txt', 'Toren.txt', 'Totsuna.txt', 'Tye.txt',\n",
       "       'Urbosa.txt', 'Yammo.txt', 'Princess_Zelda.txt', 'Zyle.txt',\n",
       "       'Laroba.txt', 'Naddon.txt', 'Pitar.txt', 'Dah_Hesho.txt',\n",
       "       'Dmitri.txt', 'Gleema.txt', 'Jana.txt', 'Kah_Mael.txt',\n",
       "       'Kaifa.txt', \"Ke'nai_Shakah.txt\", 'Lonni.txt', 'Nell.txt',\n",
       "       'Rex.txt', 'Stamm.txt', 'Tenne.txt', 'Tutsuwa_Nima.txt',\n",
       "       'Ze_Kasho.txt', 'Granté.txt', 'Hagie.txt', 'Hunnie.txt',\n",
       "       'Moggs.txt', 'Monari.txt', 'Ruli.txt', 'Ritaag_Zumo.txt',\n",
       "       \"Tu_Ka'loh.txt\", 'Aya.txt', 'Cherry.txt', 'Hoz.txt', 'Jerrin.txt',\n",
       "       'Katosa_Aug.txt', 'Khini.txt', 'Nobo.txt', 'Robbie.txt',\n",
       "       'Rudi.txt', 'Zuna_Kai.txt', 'Glendo.txt', 'King_Rhoam.txt',\n",
       "       'Etsu_Korima.txt', 'Ja_Baij.txt', 'Keh_Namut.txt', 'Old_Man.txt',\n",
       "       'Oman_Au.txt', 'Owa_Daim.txt', 'Rohta_Chigah.txt',\n",
       "       'Ruvo_Korbah.txt', 'Yowaka_Ita.txt', 'Aliza.txt', 'Benny.txt',\n",
       "       'Bosh_Kala.txt', 'Botrick.txt', 'Canni.txt', 'Dah_Kaso.txt',\n",
       "       'Dai.txt', 'Gotter.txt', 'Haite.txt', \"Kaam_Ya'tak.txt\",\n",
       "       'Katah_Chuki.txt', 'Monya_Toma.txt', 'Myti.txt', 'Namika_Ozz.txt',\n",
       "       'Noya_Neha.txt', 'Parcy.txt', 'Rota_Ooh.txt', \"Saas_Ko'sah.txt\",\n",
       "       'Toffa.txt', 'Trott.txt', 'Wahgo_Katta.txt', 'Zalta_Wa.txt',\n",
       "       'Branli.txt', 'Konba.txt', \"Maag_No'rah.txt\", 'Mijah_Rokee.txt',\n",
       "       'Mogg_Latan.txt', 'Shira_Gomar.txt', 'Toh_Yahsa.txt', 'Yunobo.txt',\n",
       "       'Ashe.txt', 'Axyl.txt', 'Bladon.txt', 'Bohrin.txt', 'Boldon.txt',\n",
       "       'Breen.txt', 'Daqa_Koh.txt', 'Dayto.txt', 'Dorill.txt',\n",
       "       'Douma.txt', 'Drak.txt', 'Dugby.txt', 'Fin.txt', 'Gaile.txt',\n",
       "       'Gonguron.txt', 'Gorae_Torr.txt', 'Grapp.txt', 'Jengo.txt',\n",
       "       'Kairo.txt', 'Karsh.txt', 'Kayra_Mah.txt', 'Kima.txt', 'Kish.txt',\n",
       "       'Mayro.txt', 'Mirro_Shaz.txt', \"Mo'a_Keet.txt\", 'Molo.txt',\n",
       "       'Offrak.txt', 'Ozunda.txt', 'Qua_Raym.txt', 'Russ.txt',\n",
       "       'Sah_Dahaj.txt', 'Shamae.txt', 'Shora_Hah.txt', 'Tah_Muhl.txt',\n",
       "       'Zorona.txt', 'Aji.txt', 'Bargoh.txt', 'Bludo.txt', 'Fugo.txt',\n",
       "       'Krane.txt', 'Pyle.txt', 'Ramella.txt', 'Rogaro.txt', 'Rohan.txt',\n",
       "       \"Shae_Mo'sah.txt\", 'Slergo.txt', 'Tanko.txt', 'Tray.txt',\n",
       "       'Volcon.txt', 'Akrah.txt', 'Daag_Chokah.txt', 'Garshon.txt',\n",
       "       'Ketoh_Wawai.txt', 'Kuhn_Sidajj.txt', 'Maag_Halan.txt', 'Oaki.txt',\n",
       "       'Onya.txt', 'Sprinn.txt', 'Tasho.txt', 'Zooki.txt', 'Zumi.txt',\n",
       "       'Chio.txt', 'Damia.txt', 'Daz.txt', 'Keo_Ruug.txt', 'Kula.txt',\n",
       "       'Maca.txt', 'Natie.txt', 'Peeks.txt', 'Pepp.txt',\n",
       "       'The_Great_Deku_Tree.txt', 'Walton.txt', 'Blynne.txt', 'Jini.txt',\n",
       "       \"Ka'o_Makagh.txt\", 'Loone.txt', 'Malanya.txt', 'Padok.txt',\n",
       "       'Perosa.txt', 'Phanna.txt', 'Pumaag_Nitae.txt', 'Roscoe.txt',\n",
       "       'Shae_Katha.txt', 'Shoqa_Tatone.txt', 'Straia.txt', 'Suzuna.txt',\n",
       "       'Ya_Naga.txt', 'Barta.txt', 'Calisa.txt', 'Eighth_Heroine.txt',\n",
       "       'Gartan.txt', 'Lukan.txt', 'Seven_Heroines.txt', 'Anche.txt',\n",
       "       'Benja.txt', 'Dako_Tah.txt', 'Daqo_Chisay.txt', 'Dila_Maag.txt',\n",
       "       'Dillie.txt', 'Hawa_Koth.txt', 'Jee_Noh.txt', 'Jora.txt',\n",
       "       'Kay_Noh.txt', 'Keive_Tala.txt', 'Kema_Zoos.txt', 'Konora.txt',\n",
       "       \"Korsh_O'hu.txt\", 'Kyra.txt', 'Misae_Suma.txt', 'Patricia.txt',\n",
       "       'Pokki.txt', 'Raqa_Zunzo.txt', 'Riju.txt', 'Shabonne.txt',\n",
       "       'Strade.txt', 'Sudrey.txt', 'Takama_Shiri.txt', 'Tali.txt',\n",
       "       'Tera.txt', 'Tho_Kayu.txt', 'Ardin.txt', 'Ashai.txt',\n",
       "       'Aurie_Taamu.txt', 'Babi.txt', 'Bertri.txt', 'Bozai.txt',\n",
       "       'Buliara.txt', 'Calyban.txt', 'Cara.txt', 'Dalia.txt', 'Danda.txt',\n",
       "       'Deltan.txt', 'Dina.txt', 'Dorrah.txt', 'Essa.txt', 'Estan.txt',\n",
       "       'Fegran.txt', 'Frelly.txt', 'Frita.txt', 'Furosa.txt', 'Greta.txt',\n",
       "       'Isha.txt', 'Jules.txt', 'Kalani.txt', 'Katta.txt', 'Kohm.txt',\n",
       "       'Kotta.txt', 'Laine.txt', 'Lashley.txt', 'Leena.txt', 'Liana.txt',\n",
       "       'Lorn.txt', 'Lyndae.txt', 'Makure.txt', 'Malena.txt', 'Marta.txt',\n",
       "       'Merina.txt', 'Muava.txt', 'Nali.txt', 'Nellie.txt', 'Olu.txt',\n",
       "       'Padda.txt', 'Pasha.txt', 'Pearle.txt', 'Ploka.txt', 'Pritana.txt',\n",
       "       'Pyra.txt', 'Reeza.txt', 'Rima.txt', 'Risa.txt', 'Romah.txt',\n",
       "       'Rotana.txt', 'Saula.txt', 'Smaude.txt', 'Spera.txt', 'Sumati.txt',\n",
       "       'Tauma.txt', 'Teake.txt', 'Traysi.txt', 'Yaido.txt', 'Emri.txt',\n",
       "       'Guy.txt', 'Kachoo.txt', 'Maike.txt', 'Nobiro.txt', 'Ripp.txt',\n",
       "       'Robsten.txt', 'Shaillu.txt', 'Vilia.txt', 'Canolo.txt',\n",
       "       'Flaxel.txt', 'Ishto_Soh.txt', 'Joloo_Nah.txt', 'Keeha_Yoog.txt',\n",
       "       'Kema_Kosassa.txt', 'Kihiro_Moh.txt', 'Kuh_Takkar.txt',\n",
       "       'Maypin.txt', 'Moza.txt', 'Oliff.txt', 'Palme.txt', 'Piaffe.txt',\n",
       "       'Pirou.txt', 'Sasa_Kai.txt', 'Sesami.txt', 'Sho_Dantu.txt',\n",
       "       'Suma_Sahma.txt', 'Falmark.txt', 'Teba.txt', 'Tulin.txt',\n",
       "       'Goma_Asaagh.txt', 'Hia_Miu.txt', 'Kiah_Toza.txt', 'Maka_Rah.txt',\n",
       "       'Mozo_Shenno.txt', 'Noe_Rajee.txt', 'Qaza_Tokki.txt',\n",
       "       'Rok_Uwog.txt', 'Selmie.txt', 'Sha_Warvo.txt', 'Shada_Naw.txt',\n",
       "       'To_Quomo.txt', 'Danton.txt', 'Harlow.txt',\n",
       "       'Harry_(Breath_of_the_Wild).txt', 'Juannelle.txt',\n",
       "       'Mary_(Breath_of_the_Wild).txt', 'Monkton.txt', 'Rin_Oyaa.txt',\n",
       "       'Sha_Gehma.txt', 'Varke.txt', 'Ariane.txt', 'Bareeda_Naag.txt',\n",
       "       'Cree.txt', 'Dunba_Taag.txt', 'Galli.txt', \"Gee_Ha'rah.txt\",\n",
       "       'Geggle.txt', 'Genli.txt', 'Gesane.txt', 'Kah_Okeo.txt',\n",
       "       'Kaysa.txt', 'Kheel.txt', 'Kotts.txt', 'Lanno_Kooh.txt',\n",
       "       'Lester.txt', 'Modar.txt', 'Molli.txt', 'Notts.txt', 'Pondo.txt',\n",
       "       'Ponthos.txt', 'Rona_Kachta.txt', 'Shae_Loya.txt',\n",
       "       'Sheem_Dagoze.txt', \"Tena_Ko'sah.txt\", 'Voo_Lota.txt',\n",
       "       \"Akh_Va'quot.txt\", 'Amali.txt', 'Bedoli.txt', 'Cecili.txt',\n",
       "       'Harth.txt', 'Huck.txt', 'Jogo.txt', 'Juney.txt', 'Kaneli.txt',\n",
       "       'Laissa.txt', 'Mazli.txt', 'Misa.txt', 'Nekk.txt', 'Saki.txt',\n",
       "       'Verla.txt', 'Gruve.txt', 'Ledo.txt', 'Tona.txt', 'Tottika.txt',\n",
       "       'Tula.txt', 'Eryck.txt', 'Dagah_Keek.txt', 'Mezza_Lo.txt',\n",
       "       'Rucco_Maag.txt', 'Sidon.txt', 'Soh_Kofi.txt', 'Torfeau.txt',\n",
       "       'Bazz.txt', 'Cleff.txt', 'Dento.txt', 'Dunma.txt', 'Finley.txt',\n",
       "       'Fronk.txt', 'Gaddison.txt', 'Jiahto.txt', 'Kayden.txt',\n",
       "       'Keye.txt', 'King_Dorephan.txt', 'Kodah.txt', 'Laflat.txt',\n",
       "       'Laruta.txt', 'Marot.txt', 'Muzu.txt', \"Ne'ez_Yohma.txt\",\n",
       "       'Reagah.txt', 'Rivan.txt', 'Seggin.txt', 'Trello.txt', 'Tumbo.txt',\n",
       "       'Shai_Yota.txt', 'Ami.txt', 'Daka_Tuss.txt', 'Izra.txt',\n",
       "       'Kaya_Wan.txt', 'Lawdon.txt', 'Quince.txt', 'Satty.txt',\n",
       "       'Sheh_Rata.txt', 'Yolero.txt', \"Jitan_Sa'mi.txt\", \"Tahno_O'ah.txt\",\n",
       "       'Agus.txt', 'Celessa.txt', 'Garill.txt', 'Joute.txt', 'Letty.txt',\n",
       "       'Spinch_(Horse).txt', 'Spinch_(Hylian).txt', 'Toma.txt',\n",
       "       'Calip.txt', \"Dow_Na'eh.txt\", 'Flavi.txt', 'Garini.txt',\n",
       "       'Kah_Yah.txt', 'Kam_Urog.txt', 'Mimos.txt', 'Muwo_Jeem.txt',\n",
       "       'Perda.txt', 'Tawa_Jinn.txt', 'Teli.txt', 'Wabbin.txt',\n",
       "       'Amira.txt', 'Aster.txt', 'Azu.txt', 'Clavia.txt', 'Dantz.txt',\n",
       "       'Horned_Statue.txt', 'Ivee.txt', 'Karin.txt', 'Koyin.txt',\n",
       "       'Leop.txt', 'Manny_(Breath_of_the_Wild).txt', 'Medda.txt',\n",
       "       'Myahm_Agana.txt', 'Nack.txt', 'Narah.txt', 'Nebb.txt',\n",
       "       'Nikki.txt', 'Prima.txt', 'Pruce.txt', 'Purah.txt', 'Ralera.txt',\n",
       "       'Reede.txt', 'Rhodes.txt', 'Sayge.txt', 'Sefaro.txt', 'Seldon.txt',\n",
       "       'Senna.txt', 'Sophie.txt', 'Symin.txt', 'Tamana.txt', 'Teebo.txt',\n",
       "       'Thadd.txt', 'Tokk.txt', 'Uma.txt', 'Worten.txt', 'Armes.txt',\n",
       "       'Chessica.txt', 'Cloyne.txt', 'Kiana.txt', 'Kinov.txt', 'Mubs.txt',\n",
       "       'Numar.txt', 'Rozel.txt', 'Sebasto.txt', 'Yah_Rin.txt', 'Zuta.txt',\n",
       "       'Chaas_Qeta.txt', 'Korgu_Chideh.txt', 'Mimo.txt', 'Anly.txt',\n",
       "       'Brokka.txt', 'Bugut.txt', 'Cima.txt', 'Cotera.txt', 'Darton.txt',\n",
       "       'Domidak.txt', 'Giro.txt', 'Ha_Dahamar.txt', 'Hila_Rao.txt',\n",
       "       'Hino.txt', 'Kampo.txt', 'Magda.txt', 'Prissen.txt',\n",
       "       'Qukah_Nata.txt', 'Ree_Dahee.txt', 'Rensa.txt', 'Sagessa.txt',\n",
       "       'Shai_Utoh.txt', 'Shay.txt', 'Shee_Vaneer.txt', 'Shee_Venath.txt',\n",
       "       'Shibo.txt', 'Shoda_Sah.txt', 'Tasseren.txt', 'Toto_Sah.txt',\n",
       "       'Cado.txt', 'Claree.txt', 'Cottla.txt', 'Dorian.txt', 'Impa.txt',\n",
       "       'Koko.txt', 'Lakna_Rokee.txt', 'Lasli.txt', 'Mellie.txt',\n",
       "       'Nanna.txt', 'Olkin.txt', 'Ollie.txt', 'Paya.txt', 'Rola.txt',\n",
       "       'Steen.txt', \"Ta'loh_Naeg.txt\", 'Trissa.txt', 'Black_Bokoblin.txt',\n",
       "       'Black_Lizalfos.txt', 'Black_Moblin.txt', 'Blizzrobe.txt',\n",
       "       'Blue_Bokoblin.txt', 'Blue_Lizalfos.txt', 'Blue-Maned_Lynel.txt',\n",
       "       'Blue_Moblin.txt', 'Bokoblin.txt', 'Chuchu.txt',\n",
       "       'Cursed_Bokoblin.txt', 'Cursed_Lizalfos.txt', 'Cursed_Moblin.txt',\n",
       "       'Decayed_Guardian.txt', 'Electric_Chuchu.txt',\n",
       "       'Electric_Keese.txt', 'Electric_Lizalfos.txt',\n",
       "       'Electric_Wizzrobe.txt', 'Fire-Breath_Lizalfos.txt',\n",
       "       'Fire_Chuchu.txt', 'Fire_Keese.txt', 'Fire_Wizzrobe.txt',\n",
       "       'Forest_Octorok.txt', 'Frost_Pebblit.txt', 'Golden_Bokoblin.txt',\n",
       "       'Golden_Lizalfos.txt', 'Golden_Lynel.txt', 'Golden_Moblin.txt',\n",
       "       'Guardian_Stalker.txt', 'Guardian_Scout_I.txt',\n",
       "       'Guardian_Scout_II.txt', 'Guardian_Scout_III.txt',\n",
       "       'Guardian_Scout_IV.txt', 'Guardian_Skywatcher.txt',\n",
       "       'Guardian_Turret.txt', 'Ice_Chuchu.txt', 'Ice_Keese.txt',\n",
       "       'Ice-Breath_Lizalfos.txt', 'Ice_Wizzrobe.txt', 'Igneo_Pebblit.txt',\n",
       "       'Keese.txt', 'Lizalfos.txt', 'Lynel.txt', 'Meteo_Wizzrobe.txt',\n",
       "       'Moblin.txt', 'Rock_Octorok.txt', 'Sentry.txt',\n",
       "       'Silver_Bokoblin.txt', 'Silver_Lizalfos.txt', 'Silver_Lynel.txt',\n",
       "       'Silver_Moblin.txt', 'Sky_Octorok.txt', 'Snow_Octorok.txt',\n",
       "       'Stalizalfos.txt', 'Stalkoblin.txt', 'Stalmoblin.txt',\n",
       "       'Stone_Pebblit.txt', 'Thunder_Wizzrobe.txt',\n",
       "       'Treasure_Octorok.txt', 'Water_Octorok.txt',\n",
       "       'White-Maned_Lynel.txt', 'Yiga_Blademaster.txt',\n",
       "       'Yiga_Footsoldier.txt', 'Stone_Talus.txt',\n",
       "       'Stone_Talus_(Junior).txt', 'Stone_Talus_(Senior).txt',\n",
       "       'Stone_Talus_(Luminous).txt', 'Stone_Talus_(Rare).txt',\n",
       "       'Igneo_Talus.txt', 'Frost_Talus.txt', 'Hinox.txt',\n",
       "       'Blue_Hinox.txt', 'Black_Hinox.txt', 'Stalnox.txt', 'Molduga.txt',\n",
       "       'Igneo_Talus_Titan.txt', 'Molduking.txt', 'Windblight_Ganon.txt',\n",
       "       'Fireblight_Ganon.txt', 'Thunderblight_Ganon.txt',\n",
       "       'Waterblight_Ganon.txt', 'Master_Kohga.txt', 'Monk_Maz_Koshia.txt',\n",
       "       'Calamity_Ganon.txt', 'Dark_Beast_Ganon.txt'], dtype=object)"
      ]
     },
     "execution_count": 26,
     "metadata": {},
     "output_type": "execute_result"
    }
   ],
   "source": [
    "df_characters.Name.str.replace(\" \", \"_\").values + \".txt\""
   ]
  },
  {
   "cell_type": "code",
   "execution_count": 27,
   "metadata": {},
   "outputs": [],
   "source": [
    "from nltk.corpus import PlaintextCorpusReader\n",
    "corpus_root = 'CharacterText/'\n",
    "wordlists = PlaintextCorpusReader(corpus_root, df_characters.Name.str.replace(\" \", \"_\").values + \".txt\")\n"
   ]
  },
  {
   "cell_type": "code",
   "execution_count": 28,
   "metadata": {},
   "outputs": [
    {
     "data": {
      "text/plain": [
       "array(['Baddek.txt', 'Bamboo.txt', 'Banji.txt', 'Baumar.txt', 'Bayge.txt',\n",
       "       'Beedle.txt', 'Bolson.txt', 'Brigo.txt', 'Cambo.txt', 'Chabi.txt',\n",
       "       'Chork.txt', 'Chumin.txt', 'Dabi.txt', 'Daruk.txt',\n",
       "       'Dauntless.txt', 'Dinraal.txt', 'Ena.txt', 'Endai.txt',\n",
       "       'Epona.txt', 'Farosh.txt', 'Fyson.txt', 'Goflam.txt',\n",
       "       'Greyson.txt', 'Heehl.txt', 'Hestu.txt', 'Hudson.txt', 'Hylia.txt',\n",
       "       'Kabetta.txt', 'Kanny.txt', 'Kapson.txt', 'Karson.txt', 'Kass.txt',\n",
       "       'Kenyo.txt', 'Kilton.txt', 'Leekah.txt', 'Link.txt', 'Meeshy.txt',\n",
       "       'Meghyn.txt', 'Mei.txt', 'Mils.txt', 'Mina.txt', 'Mipha.txt',\n",
       "       'Misko.txt', 'Nat.txt', 'Naydra.txt', 'Nazbi.txt', 'Pelison.txt',\n",
       "       'Pikango.txt', 'Regan.txt', 'Revali.txt', 'Rhondson.txt',\n",
       "       'Rik.txt', 'Ronn.txt', 'Savelle.txt', 'Sherfin.txt', 'Sho.txt',\n",
       "       'Sorelia.txt', 'Spoone.txt', 'Toren.txt', 'Totsuna.txt', 'Tye.txt',\n",
       "       'Urbosa.txt', 'Yammo.txt', 'Princess_Zelda.txt', 'Zyle.txt',\n",
       "       'Laroba.txt', 'Naddon.txt', 'Pitar.txt', 'Dah_Hesho.txt',\n",
       "       'Dmitri.txt', 'Gleema.txt', 'Jana.txt', 'Kah_Mael.txt',\n",
       "       'Kaifa.txt', \"Ke'nai_Shakah.txt\", 'Lonni.txt', 'Nell.txt',\n",
       "       'Rex.txt', 'Stamm.txt', 'Tenne.txt', 'Tutsuwa_Nima.txt',\n",
       "       'Ze_Kasho.txt', 'Granté.txt', 'Hagie.txt', 'Hunnie.txt',\n",
       "       'Moggs.txt', 'Monari.txt', 'Ruli.txt', 'Ritaag_Zumo.txt',\n",
       "       \"Tu_Ka'loh.txt\", 'Aya.txt', 'Cherry.txt', 'Hoz.txt', 'Jerrin.txt',\n",
       "       'Katosa_Aug.txt', 'Khini.txt', 'Nobo.txt', 'Robbie.txt',\n",
       "       'Rudi.txt', 'Zuna_Kai.txt', 'Glendo.txt', 'King_Rhoam.txt',\n",
       "       'Etsu_Korima.txt', 'Ja_Baij.txt', 'Keh_Namut.txt', 'Old_Man.txt',\n",
       "       'Oman_Au.txt', 'Owa_Daim.txt', 'Rohta_Chigah.txt',\n",
       "       'Ruvo_Korbah.txt', 'Yowaka_Ita.txt', 'Aliza.txt', 'Benny.txt',\n",
       "       'Bosh_Kala.txt', 'Botrick.txt', 'Canni.txt', 'Dah_Kaso.txt',\n",
       "       'Dai.txt', 'Gotter.txt', 'Haite.txt', \"Kaam_Ya'tak.txt\",\n",
       "       'Katah_Chuki.txt', 'Monya_Toma.txt', 'Myti.txt', 'Namika_Ozz.txt',\n",
       "       'Noya_Neha.txt', 'Parcy.txt', 'Rota_Ooh.txt', \"Saas_Ko'sah.txt\",\n",
       "       'Toffa.txt', 'Trott.txt', 'Wahgo_Katta.txt', 'Zalta_Wa.txt',\n",
       "       'Branli.txt', 'Konba.txt', \"Maag_No'rah.txt\", 'Mijah_Rokee.txt',\n",
       "       'Mogg_Latan.txt', 'Shira_Gomar.txt', 'Toh_Yahsa.txt', 'Yunobo.txt',\n",
       "       'Ashe.txt', 'Axyl.txt', 'Bladon.txt', 'Bohrin.txt', 'Boldon.txt',\n",
       "       'Breen.txt', 'Daqa_Koh.txt', 'Dayto.txt', 'Dorill.txt',\n",
       "       'Douma.txt', 'Drak.txt', 'Dugby.txt', 'Fin.txt', 'Gaile.txt',\n",
       "       'Gonguron.txt', 'Gorae_Torr.txt', 'Grapp.txt', 'Jengo.txt',\n",
       "       'Kairo.txt', 'Karsh.txt', 'Kayra_Mah.txt', 'Kima.txt', 'Kish.txt',\n",
       "       'Mayro.txt', 'Mirro_Shaz.txt', \"Mo'a_Keet.txt\", 'Molo.txt',\n",
       "       'Offrak.txt', 'Ozunda.txt', 'Qua_Raym.txt', 'Russ.txt',\n",
       "       'Sah_Dahaj.txt', 'Shamae.txt', 'Shora_Hah.txt', 'Tah_Muhl.txt',\n",
       "       'Zorona.txt', 'Aji.txt', 'Bargoh.txt', 'Bludo.txt', 'Fugo.txt',\n",
       "       'Krane.txt', 'Pyle.txt', 'Ramella.txt', 'Rogaro.txt', 'Rohan.txt',\n",
       "       \"Shae_Mo'sah.txt\", 'Slergo.txt', 'Tanko.txt', 'Tray.txt',\n",
       "       'Volcon.txt', 'Akrah.txt', 'Daag_Chokah.txt', 'Garshon.txt',\n",
       "       'Ketoh_Wawai.txt', 'Kuhn_Sidajj.txt', 'Maag_Halan.txt', 'Oaki.txt',\n",
       "       'Onya.txt', 'Sprinn.txt', 'Tasho.txt', 'Zooki.txt', 'Zumi.txt',\n",
       "       'Chio.txt', 'Damia.txt', 'Daz.txt', 'Keo_Ruug.txt', 'Kula.txt',\n",
       "       'Maca.txt', 'Natie.txt', 'Peeks.txt', 'Pepp.txt',\n",
       "       'The_Great_Deku_Tree.txt', 'Walton.txt', 'Blynne.txt', 'Jini.txt',\n",
       "       \"Ka'o_Makagh.txt\", 'Loone.txt', 'Malanya.txt', 'Padok.txt',\n",
       "       'Perosa.txt', 'Phanna.txt', 'Pumaag_Nitae.txt', 'Roscoe.txt',\n",
       "       'Shae_Katha.txt', 'Shoqa_Tatone.txt', 'Straia.txt', 'Suzuna.txt',\n",
       "       'Ya_Naga.txt', 'Barta.txt', 'Calisa.txt', 'Eighth_Heroine.txt',\n",
       "       'Gartan.txt', 'Lukan.txt', 'Seven_Heroines.txt', 'Anche.txt',\n",
       "       'Benja.txt', 'Dako_Tah.txt', 'Daqo_Chisay.txt', 'Dila_Maag.txt',\n",
       "       'Dillie.txt', 'Hawa_Koth.txt', 'Jee_Noh.txt', 'Jora.txt',\n",
       "       'Kay_Noh.txt', 'Keive_Tala.txt', 'Kema_Zoos.txt', 'Konora.txt',\n",
       "       \"Korsh_O'hu.txt\", 'Kyra.txt', 'Misae_Suma.txt', 'Patricia.txt',\n",
       "       'Pokki.txt', 'Raqa_Zunzo.txt', 'Riju.txt', 'Shabonne.txt',\n",
       "       'Strade.txt', 'Sudrey.txt', 'Takama_Shiri.txt', 'Tali.txt',\n",
       "       'Tera.txt', 'Tho_Kayu.txt', 'Ardin.txt', 'Ashai.txt',\n",
       "       'Aurie_Taamu.txt', 'Babi.txt', 'Bertri.txt', 'Bozai.txt',\n",
       "       'Buliara.txt', 'Calyban.txt', 'Cara.txt', 'Dalia.txt', 'Danda.txt',\n",
       "       'Deltan.txt', 'Dina.txt', 'Dorrah.txt', 'Essa.txt', 'Estan.txt',\n",
       "       'Fegran.txt', 'Frelly.txt', 'Frita.txt', 'Furosa.txt', 'Greta.txt',\n",
       "       'Isha.txt', 'Jules.txt', 'Kalani.txt', 'Katta.txt', 'Kohm.txt',\n",
       "       'Kotta.txt', 'Laine.txt', 'Lashley.txt', 'Leena.txt', 'Liana.txt',\n",
       "       'Lorn.txt', 'Lyndae.txt', 'Makure.txt', 'Malena.txt', 'Marta.txt',\n",
       "       'Merina.txt', 'Muava.txt', 'Nali.txt', 'Nellie.txt', 'Olu.txt',\n",
       "       'Padda.txt', 'Pasha.txt', 'Pearle.txt', 'Ploka.txt', 'Pritana.txt',\n",
       "       'Pyra.txt', 'Reeza.txt', 'Rima.txt', 'Risa.txt', 'Romah.txt',\n",
       "       'Rotana.txt', 'Saula.txt', 'Smaude.txt', 'Spera.txt', 'Sumati.txt',\n",
       "       'Tauma.txt', 'Teake.txt', 'Traysi.txt', 'Yaido.txt', 'Emri.txt',\n",
       "       'Guy.txt', 'Kachoo.txt', 'Maike.txt', 'Nobiro.txt', 'Ripp.txt',\n",
       "       'Robsten.txt', 'Shaillu.txt', 'Vilia.txt', 'Canolo.txt',\n",
       "       'Flaxel.txt', 'Ishto_Soh.txt', 'Joloo_Nah.txt', 'Keeha_Yoog.txt',\n",
       "       'Kema_Kosassa.txt', 'Kihiro_Moh.txt', 'Kuh_Takkar.txt',\n",
       "       'Maypin.txt', 'Moza.txt', 'Oliff.txt', 'Palme.txt', 'Piaffe.txt',\n",
       "       'Pirou.txt', 'Sasa_Kai.txt', 'Sesami.txt', 'Sho_Dantu.txt',\n",
       "       'Suma_Sahma.txt', 'Falmark.txt', 'Teba.txt', 'Tulin.txt',\n",
       "       'Goma_Asaagh.txt', 'Hia_Miu.txt', 'Kiah_Toza.txt', 'Maka_Rah.txt',\n",
       "       'Mozo_Shenno.txt', 'Noe_Rajee.txt', 'Qaza_Tokki.txt',\n",
       "       'Rok_Uwog.txt', 'Selmie.txt', 'Sha_Warvo.txt', 'Shada_Naw.txt',\n",
       "       'To_Quomo.txt', 'Danton.txt', 'Harlow.txt',\n",
       "       'Harry_(Breath_of_the_Wild).txt', 'Juannelle.txt',\n",
       "       'Mary_(Breath_of_the_Wild).txt', 'Monkton.txt', 'Rin_Oyaa.txt',\n",
       "       'Sha_Gehma.txt', 'Varke.txt', 'Ariane.txt', 'Bareeda_Naag.txt',\n",
       "       'Cree.txt', 'Dunba_Taag.txt', 'Galli.txt', \"Gee_Ha'rah.txt\",\n",
       "       'Geggle.txt', 'Genli.txt', 'Gesane.txt', 'Kah_Okeo.txt',\n",
       "       'Kaysa.txt', 'Kheel.txt', 'Kotts.txt', 'Lanno_Kooh.txt',\n",
       "       'Lester.txt', 'Modar.txt', 'Molli.txt', 'Notts.txt', 'Pondo.txt',\n",
       "       'Ponthos.txt', 'Rona_Kachta.txt', 'Shae_Loya.txt',\n",
       "       'Sheem_Dagoze.txt', \"Tena_Ko'sah.txt\", 'Voo_Lota.txt',\n",
       "       \"Akh_Va'quot.txt\", 'Amali.txt', 'Bedoli.txt', 'Cecili.txt',\n",
       "       'Harth.txt', 'Huck.txt', 'Jogo.txt', 'Juney.txt', 'Kaneli.txt',\n",
       "       'Laissa.txt', 'Mazli.txt', 'Misa.txt', 'Nekk.txt', 'Saki.txt',\n",
       "       'Verla.txt', 'Gruve.txt', 'Ledo.txt', 'Tona.txt', 'Tottika.txt',\n",
       "       'Tula.txt', 'Eryck.txt', 'Dagah_Keek.txt', 'Mezza_Lo.txt',\n",
       "       'Rucco_Maag.txt', 'Sidon.txt', 'Soh_Kofi.txt', 'Torfeau.txt',\n",
       "       'Bazz.txt', 'Cleff.txt', 'Dento.txt', 'Dunma.txt', 'Finley.txt',\n",
       "       'Fronk.txt', 'Gaddison.txt', 'Jiahto.txt', 'Kayden.txt',\n",
       "       'Keye.txt', 'King_Dorephan.txt', 'Kodah.txt', 'Laflat.txt',\n",
       "       'Laruta.txt', 'Marot.txt', 'Muzu.txt', \"Ne'ez_Yohma.txt\",\n",
       "       'Reagah.txt', 'Rivan.txt', 'Seggin.txt', 'Trello.txt', 'Tumbo.txt',\n",
       "       'Shai_Yota.txt', 'Ami.txt', 'Daka_Tuss.txt', 'Izra.txt',\n",
       "       'Kaya_Wan.txt', 'Lawdon.txt', 'Quince.txt', 'Satty.txt',\n",
       "       'Sheh_Rata.txt', 'Yolero.txt', \"Jitan_Sa'mi.txt\", \"Tahno_O'ah.txt\",\n",
       "       'Agus.txt', 'Celessa.txt', 'Garill.txt', 'Joute.txt', 'Letty.txt',\n",
       "       'Spinch_(Horse).txt', 'Spinch_(Hylian).txt', 'Toma.txt',\n",
       "       'Calip.txt', \"Dow_Na'eh.txt\", 'Flavi.txt', 'Garini.txt',\n",
       "       'Kah_Yah.txt', 'Kam_Urog.txt', 'Mimos.txt', 'Muwo_Jeem.txt',\n",
       "       'Perda.txt', 'Tawa_Jinn.txt', 'Teli.txt', 'Wabbin.txt',\n",
       "       'Amira.txt', 'Aster.txt', 'Azu.txt', 'Clavia.txt', 'Dantz.txt',\n",
       "       'Horned_Statue.txt', 'Ivee.txt', 'Karin.txt', 'Koyin.txt',\n",
       "       'Leop.txt', 'Manny_(Breath_of_the_Wild).txt', 'Medda.txt',\n",
       "       'Myahm_Agana.txt', 'Nack.txt', 'Narah.txt', 'Nebb.txt',\n",
       "       'Nikki.txt', 'Prima.txt', 'Pruce.txt', 'Purah.txt', 'Ralera.txt',\n",
       "       'Reede.txt', 'Rhodes.txt', 'Sayge.txt', 'Sefaro.txt', 'Seldon.txt',\n",
       "       'Senna.txt', 'Sophie.txt', 'Symin.txt', 'Tamana.txt', 'Teebo.txt',\n",
       "       'Thadd.txt', 'Tokk.txt', 'Uma.txt', 'Worten.txt', 'Armes.txt',\n",
       "       'Chessica.txt', 'Cloyne.txt', 'Kiana.txt', 'Kinov.txt', 'Mubs.txt',\n",
       "       'Numar.txt', 'Rozel.txt', 'Sebasto.txt', 'Yah_Rin.txt', 'Zuta.txt',\n",
       "       'Chaas_Qeta.txt', 'Korgu_Chideh.txt', 'Mimo.txt', 'Anly.txt',\n",
       "       'Brokka.txt', 'Bugut.txt', 'Cima.txt', 'Cotera.txt', 'Darton.txt',\n",
       "       'Domidak.txt', 'Giro.txt', 'Ha_Dahamar.txt', 'Hila_Rao.txt',\n",
       "       'Hino.txt', 'Kampo.txt', 'Magda.txt', 'Prissen.txt',\n",
       "       'Qukah_Nata.txt', 'Ree_Dahee.txt', 'Rensa.txt', 'Sagessa.txt',\n",
       "       'Shai_Utoh.txt', 'Shay.txt', 'Shee_Vaneer.txt', 'Shee_Venath.txt',\n",
       "       'Shibo.txt', 'Shoda_Sah.txt', 'Tasseren.txt', 'Toto_Sah.txt',\n",
       "       'Cado.txt', 'Claree.txt', 'Cottla.txt', 'Dorian.txt', 'Impa.txt',\n",
       "       'Koko.txt', 'Lakna_Rokee.txt', 'Lasli.txt', 'Mellie.txt',\n",
       "       'Nanna.txt', 'Olkin.txt', 'Ollie.txt', 'Paya.txt', 'Rola.txt',\n",
       "       'Steen.txt', \"Ta'loh_Naeg.txt\", 'Trissa.txt', 'Black_Bokoblin.txt',\n",
       "       'Black_Lizalfos.txt', 'Black_Moblin.txt', 'Blizzrobe.txt',\n",
       "       'Blue_Bokoblin.txt', 'Blue_Lizalfos.txt', 'Blue-Maned_Lynel.txt',\n",
       "       'Blue_Moblin.txt', 'Bokoblin.txt', 'Chuchu.txt',\n",
       "       'Cursed_Bokoblin.txt', 'Cursed_Lizalfos.txt', 'Cursed_Moblin.txt',\n",
       "       'Decayed_Guardian.txt', 'Electric_Chuchu.txt',\n",
       "       'Electric_Keese.txt', 'Electric_Lizalfos.txt',\n",
       "       'Electric_Wizzrobe.txt', 'Fire-Breath_Lizalfos.txt',\n",
       "       'Fire_Chuchu.txt', 'Fire_Keese.txt', 'Fire_Wizzrobe.txt',\n",
       "       'Forest_Octorok.txt', 'Frost_Pebblit.txt', 'Golden_Bokoblin.txt',\n",
       "       'Golden_Lizalfos.txt', 'Golden_Lynel.txt', 'Golden_Moblin.txt',\n",
       "       'Guardian_Stalker.txt', 'Guardian_Scout_I.txt',\n",
       "       'Guardian_Scout_II.txt', 'Guardian_Scout_III.txt',\n",
       "       'Guardian_Scout_IV.txt', 'Guardian_Skywatcher.txt',\n",
       "       'Guardian_Turret.txt', 'Ice_Chuchu.txt', 'Ice_Keese.txt',\n",
       "       'Ice-Breath_Lizalfos.txt', 'Ice_Wizzrobe.txt', 'Igneo_Pebblit.txt',\n",
       "       'Keese.txt', 'Lizalfos.txt', 'Lynel.txt', 'Meteo_Wizzrobe.txt',\n",
       "       'Moblin.txt', 'Rock_Octorok.txt', 'Sentry.txt',\n",
       "       'Silver_Bokoblin.txt', 'Silver_Lizalfos.txt', 'Silver_Lynel.txt',\n",
       "       'Silver_Moblin.txt', 'Sky_Octorok.txt', 'Snow_Octorok.txt',\n",
       "       'Stalizalfos.txt', 'Stalkoblin.txt', 'Stalmoblin.txt',\n",
       "       'Stone_Pebblit.txt', 'Thunder_Wizzrobe.txt',\n",
       "       'Treasure_Octorok.txt', 'Water_Octorok.txt',\n",
       "       'White-Maned_Lynel.txt', 'Yiga_Blademaster.txt',\n",
       "       'Yiga_Footsoldier.txt', 'Stone_Talus.txt',\n",
       "       'Stone_Talus_(Junior).txt', 'Stone_Talus_(Senior).txt',\n",
       "       'Stone_Talus_(Luminous).txt', 'Stone_Talus_(Rare).txt',\n",
       "       'Igneo_Talus.txt', 'Frost_Talus.txt', 'Hinox.txt',\n",
       "       'Blue_Hinox.txt', 'Black_Hinox.txt', 'Stalnox.txt', 'Molduga.txt',\n",
       "       'Igneo_Talus_Titan.txt', 'Molduking.txt', 'Windblight_Ganon.txt',\n",
       "       'Fireblight_Ganon.txt', 'Thunderblight_Ganon.txt',\n",
       "       'Waterblight_Ganon.txt', 'Master_Kohga.txt', 'Monk_Maz_Koshia.txt',\n",
       "       'Calamity_Ganon.txt', 'Dark_Beast_Ganon.txt'], dtype=object)"
      ]
     },
     "execution_count": 28,
     "metadata": {},
     "output_type": "execute_result"
    }
   ],
   "source": [
    "wordlists.fileids()\n"
   ]
  },
  {
   "cell_type": "code",
   "execution_count": 34,
   "metadata": {},
   "outputs": [],
   "source": [
    "BOTW = nltk.Text(wordlists.words())"
   ]
  },
  {
   "cell_type": "markdown",
   "metadata": {},
   "source": [
    "### 2.3 Exercises: NLPP Chapter 1 \n",
    "(the stuff that might be due in an upcoming assignment)\n",
    "\n",
    "The following exercises are from Chapter 1 but we are going to use them to study the ZeldaWiki Text."
   ]
  },
  {
   "cell_type": "markdown",
   "metadata": {},
   "source": [
    "> *Exercise 1*: Exploratory analysis\n",
    ">\n",
    "> * Try out the `concordance` method, using the ZeldaWiki text and a word of your own choosing.\n",
    "> * Also try out the `similar` and `common_context` methods, again with any word/s you like.\n",
    "> * Create the ZeldaWiki version of a dispersion plot:\n",
    ">    1. try with the words `['attack','help']`. What do you observe? (**hint:** we ordered characters as they appear in df_characters)\n",
    ">    2. find the top 6 races of allies by counting how many characters of each race there are in `df_characters`. Save the list of races and use it to create a new dispersion plot. What do you observe? (**hint:** look at how allies were originally ordered in the [Zelda Wiki](https://zelda.fandom.com/wiki/Characters_in_Breath_of_the_Wild))\n",
    ">    3. try your own version of the dispersion plot (use any set of words you like but remember to explain what you observe).\n",
    "> * What is a bigram? How does it relate to `collocations`. Explain in your own words.\n",
    ">    1. Compute the collocations on the ZeldaWiki Text.\n",
    "> * Review the discussion of conditionals in Sec. 4. Find all words in the ZeldaWiki Text starting with the letter *b*. Show the first 5 in alphabetical order.\n",
    "> * Use `.index()` to find the index of the word *Cherry*. You'll need to insert this word as an argument between the parentheses. By a process of trial and error, find the slice for the complete sentence that contains this word.\n",
    "> * Review the discussion of looping with conditions in Sec 4. Use a combination of `for` and `if` statements to loop over the words of the ZeldaWiki Text and print the 5 longest uppercase words, one per line."
   ]
  },
  {
   "cell_type": "markdown",
   "metadata": {},
   "source": [
    "#### 2.3.1.1"
   ]
  },
  {
   "cell_type": "code",
   "execution_count": 40,
   "metadata": {},
   "outputs": [
    {
     "name": "stdout",
     "output_type": "stream",
     "text": [
      "Displaying 25 of 4316 matches:\n",
      "se - tinted glasses \". He also tells Link that he only talks about Horses . Wh\n",
      "ic . Occasionally , Baddek will give Link tips for handling Horses , saying to\n",
      "od behavior . In addition , he tells Link that he can ' t expect a horse to ri\n",
      "y need to . After this , he ' ll ask Link to name another animal that swims , \n",
      "there aren ' t any . He also informs Link that Stables fit registered Horses w\n",
      "prisingly comfortable . Baddek tells Link that there are four different Stable\n",
      "d these are simply the Stables where Link can have a worker change the gear of\n",
      "s \". During this time , he ' ll give Link a quiz on Horses . He lists four dif\n",
      "orse , and the bone Horse — and asks Link which one doesn ' t exist . He says \n",
      "ealed someday , somewhere , and that Link may already know it . Occasionally ,\n",
      "anji speaks about Ludfo ' s Bog . If Link has not yet completed the trials on \n",
      " a sign from Hylia to stay away . If Link has completed the trials , she will \n",
      " be the doing of Hylia . Banji tells Link that she is thinking of taking the h\n",
      "en asked about the south , she tells Link about the Tamio River and Satori Mou\n",
      "ies about . For the west , she tells Link that beyond the Tabantha Great Bridg\n",
      "ompted about the north , Banji tells Link of Konba , a man north of the Stable\n",
      " Stable who loves to race . She asks Link to visit him , since he must be bore\n",
      "ut . Occasionally , Baumar will give Link a Shield Surfing tip . For example ,\n",
      "eld Stable {{ Term | BotW | Bamboo | link } == References == Bayge is a charac\n",
      "ity . Bayge and the others challenge Link to join them by sitting in a ring of\n",
      "is the last Goron to collapse before Link is declared the winner . The brother\n",
      "op the pinnacle , and refuses to let Link approach as the Shrine ' s platform \n",
      "ers . However , Bayge decides to let Link through if he can clear their traini\n",
      " , the Gut Check Challenge , wherein Link must climb the pinnacle while collec\n",
      "e Challenge , Bayge happily appoints Link as an honorary Goron Blood Brother a\n"
     ]
    }
   ],
   "source": [
    "BOTW.concordance(\"Link\")"
   ]
  },
  {
   "cell_type": "markdown",
   "metadata": {},
   "source": [
    "#### 2.3.1.2"
   ]
  },
  {
   "cell_type": "code",
   "execution_count": 50,
   "metadata": {},
   "outputs": [
    {
     "name": "stdout",
     "output_type": "stream",
     "text": [
      "make ground get attack destroy horse stable way him time give have her\n",
      "climb return sell stop hero find conversation\n"
     ]
    }
   ],
   "source": [
    "BOTW.similar(\"fight\")"
   ]
  },
  {
   "cell_type": "code",
   "execution_count": 51,
   "metadata": {},
   "outputs": [
    {
     "name": "stdout",
     "output_type": "stream",
     "text": [
      "to_the to_them the_with to_these can_the\n"
     ]
    }
   ],
   "source": [
    "BOTW.common_contexts([\"fight\", \"attack\"])"
   ]
  },
  {
   "cell_type": "markdown",
   "metadata": {},
   "source": [
    "#### 2.3.1.3"
   ]
  },
  {
   "cell_type": "markdown",
   "metadata": {},
   "source": [
    "##### 2.3.1.3.1"
   ]
  },
  {
   "cell_type": "code",
   "execution_count": 54,
   "metadata": {},
   "outputs": [
    {
     "data": {
      "image/png": "[encoded data removed]",
      "text/plain": [
       "<Figure size 432x288 with 1 Axes>"
      ]
     },
     "metadata": {
      "needs_background": "light"
     },
     "output_type": "display_data"
    }
   ],
   "source": [
    "BOTW.dispersion_plot([\"attack\", \"help\"])"
   ]
  },
  {
   "cell_type": "markdown",
   "metadata": {},
   "source": [
    "##### 2.3.1.3.2"
   ]
  },
  {
   "cell_type": "code",
   "execution_count": 60,
   "metadata": {},
   "outputs": [
    {
     "data": {
      "text/plain": [
       "Race\n",
       "Ancient Orb      1\n",
       "Bokoblin         7\n",
       "Chuchu           4\n",
       "Dog              1\n",
       "Dragon           3\n",
       "Gerudo          78\n",
       "Goron           36\n",
       "Great Fairy      4\n",
       "Guardian         9\n",
       "Hinox            4\n",
       "Horse            6\n",
       "Human            1\n",
       "Hylian         215\n",
       "Keese            4\n",
       "Korok           13\n",
       "Lizalfos        10\n",
       "Lynel            5\n",
       "Moblin           7\n",
       "Molduga          2\n",
       "Octorok          6\n",
       "Rito            27\n",
       "Sand Seal        1\n",
       "Sheikah        142\n",
       "Talus           11\n",
       "Unknown         23\n",
       "Wizzrobe         6\n",
       "Zora            30\n",
       "Name: Name, dtype: int64"
      ]
     },
     "execution_count": 60,
     "metadata": {},
     "output_type": "execute_result"
    }
   ],
   "source": [
    "df_characters.groupby(\"Race\")[\"Name\"].count()"
   ]
  },
  {
   "cell_type": "markdown",
   "metadata": {},
   "source": [
    "##### 2.3.1.3.3"
   ]
  },
  {
   "cell_type": "code",
   "execution_count": 62,
   "metadata": {},
   "outputs": [
    {
     "data": {
      "image/png": "[encoded data removed]",
      "text/plain": [
       "<Figure size 432x288 with 1 Axes>"
      ]
     },
     "metadata": {
      "needs_background": "light"
     },
     "output_type": "display_data"
    }
   ],
   "source": [
    "BOTW.dispersion_plot([\"Gerudo\", \"Gordon\", \"Hylian\", \"Rito\", \"Sheikah\", \"Zora\"])"
   ]
  },
  {
   "cell_type": "markdown",
   "metadata": {},
   "source": [
    "#### 2.3.1.4"
   ]
  },
  {
   "cell_type": "markdown",
   "metadata": {},
   "source": [
    "A collection is a sequence of words that follow each other more frequently than others, to the point where they stand out. Part of a collection can not be substituted with a similar word without it losing meaning."
   ]
  },
  {
   "cell_type": "code",
   "execution_count": 64,
   "metadata": {},
   "outputs": [
    {
     "data": {
      "text/plain": [
       "[('See', 'Also'),\n",
       " ('Divine', 'Beast'),\n",
       " ('Gerudo', 'Town'),\n",
       " ('Ancient', 'Shrine'),\n",
       " ('Beast', 'Vah'),\n",
       " ('Calamity', 'Ganon'),\n",
       " ('Side', 'Quest'),\n",
       " ('Link', 'speaks'),\n",
       " ('Princess', 'Zelda'),\n",
       " ('Hyrule', 'Castle'),\n",
       " ('Sheikah', 'Slate'),\n",
       " ('Zelda', 'series'),\n",
       " ('Wind', 'Waker'),\n",
       " ('years', 'prior'),\n",
       " ('000', 'years'),\n",
       " ('someone', 'bearing'),\n",
       " ('Sheikah', 'Monk'),\n",
       " ('Old', 'Man'),\n",
       " ('may', 'refer'),\n",
       " ('role', 'fulfilled')]"
      ]
     },
     "execution_count": 64,
     "metadata": {},
     "output_type": "execute_result"
    }
   ],
   "source": [
    "BOTW.collocation_list()"
   ]
  },
  {
   "cell_type": "markdown",
   "metadata": {},
   "source": [
    "#### 2.3.1.5"
   ]
  },
  {
   "cell_type": "code",
   "execution_count": 65,
   "metadata": {},
   "outputs": [
    {
     "data": {
      "text/plain": [
       "48520"
      ]
     },
     "execution_count": 65,
     "metadata": {},
     "output_type": "execute_result"
    }
   ],
   "source": [
    "BOTW.index(\"Cherry\")"
   ]
  },
  {
   "cell_type": "code",
   "execution_count": 75,
   "metadata": {},
   "outputs": [
    {
     "data": {
      "text/plain": [
       "['The',\n",
       " 'Ancient',\n",
       " 'Oven',\n",
       " ',',\n",
       " 'also',\n",
       " 'known',\n",
       " 'as',\n",
       " 'Cherry',\n",
       " ',',\n",
       " 'is',\n",
       " 'a',\n",
       " 'character',\n",
       " 'in',\n",
       " 'Breath',\n",
       " 'of',\n",
       " 'the',\n",
       " 'Wild',\n",
       " '.']"
      ]
     },
     "execution_count": 75,
     "metadata": {},
     "output_type": "execute_result"
    }
   ],
   "source": [
    "BOTW[48513:48531]"
   ]
  },
  {
   "cell_type": "markdown",
   "metadata": {},
   "source": [
    "Method 1"
   ]
  },
  {
   "cell_type": "code",
   "execution_count": 129,
   "metadata": {},
   "outputs": [
    {
     "name": "stdout",
     "output_type": "stream",
     "text": [
      "FamiliarNameMissing\n",
      "Transformations\n",
      "Characteristics\n",
      "Characteristics\n",
      "Characteristics\n"
     ]
    }
   ],
   "source": [
    "import heapq\n",
    "wordlen = [(len(word), word) for word in BOTW if re.match(\"[A-Z][a-z]+\", word)]\n",
    "for (length, word) in heapq.nlargest(5, wordlen):\n",
    "    print(word)"
   ]
  },
  {
   "cell_type": "markdown",
   "metadata": {},
   "source": [
    "Method 2"
   ]
  },
  {
   "cell_type": "code",
   "execution_count": 152,
   "metadata": {},
   "outputs": [
    {
     "name": "stdout",
     "output_type": "stream",
     "text": [
      "Transformations\n",
      "Characteristics\n",
      "Characteristics\n",
      "Characteristics\n",
      "FamiliarNameMissing\n"
     ]
    }
   ],
   "source": [
    "# For loop version\n",
    "max5 = [0, 0, 0, 0, 0]\n",
    "max5words = [\"\", \"\", \"\", \"\", \"\"]\n",
    "for word in BOTW:\n",
    "    if re.match(\"[A-Z][a-z]+\", word):\n",
    "        current_min = min(max5)\n",
    "        if len(word) > current_min:\n",
    "            idx = max5.index(current_min)\n",
    "            max5words[idx] = word\n",
    "            max5[idx] = len(word)\n",
    "            \n",
    "for word in max5words:\n",
    "    print(word)\n",
    "            "
   ]
  },
  {
   "cell_type": "markdown",
   "metadata": {},
   "source": [
    "\n",
    "\n",
    "> *Exercise 2*: Basic stats\n",
    ">\n",
    "> * How many tokens are there in the ZeldaWiki Text? How many distinct tokens are there?\n",
    "> * Explain in your own words what aspect of language _lexical diversity_ describes. \n",
    ">     1. Compute the lexical diversity of the ZeldaWiki Text;\n",
    ">     2. Compute the lexical diversity related to allies and enemies (bosses inlcuded). Comment your results.\n",
    "> * Create frequency distributions for the ZeldaWiki Text, including the cumulative frequency plot for the 75 most common tokens. \n",
    "> * Find all the four-letter tokens in the ZeldaWiki Text. With the help of a frequency distribution (FreqDist), show these tokens in decreasing order of frequency.\n",
    "> * What does the following code do? `sum(len(w) for w in ZeldaWiki)` Can you use it to work out the average token length of the ZeldaWiki Text?\n",
    "> * Define a function:\n",
    ">     1. called `vocab_size(text)` that has a single parameter for the `text`, and which returns the vocabulary size of the text. Apply it to the ZeldaWiki Text;\n",
    ">     2. `percent(word, text)` that calculates how often a given `word` occurs in a `text`, and expresses the result as a percentage. Apply it to the ZeldaWiki Text to compute the percentage for *Link* (our beloved hero)"
   ]
  },
  {
   "cell_type": "markdown",
   "metadata": {},
   "source": [
    "# Part 3: Working with NLTK and other types of text\n",
    "\n",
    "So far, we've worked with text from the Zelda Wiki. But that's not the only source of text in the universe. In fact, it's far from it . Chapter 2 in NLPP is all about getting access to nicely curated texts that you can find built into NLTK.\n",
    "> \n",
    "> Reading: NLPP Chapter 2, Sec. 1 - 4.\n",
    ">"
   ]
  },
  {
   "cell_type": "markdown",
   "metadata": {},
   "source": [
    "> *Exercises*: NLPP Chapter 2\\. (other stuff that might be due in an assignment)\n",
    "> \n",
    "> * Solve exercise 4, 8, 11, 15, 16, 17, 18 in NLPP, section 2.8\\. As always, I recommend you write up your solutions nicely in a `notebook`.\n",
    "> * Work through exercise 2.8.23 on Zipf's law. [Zipf's law](https://en.wikipedia.org/wiki/Zipf%27s_law) connects to a property of the Barabasi-Albert networks. Which one? Take a look at [this article](http://www.hpl.hp.com/research/idl/papers/ranking/adamicglottometrics.pdf) and write a paragraph or two describing other important instances of power-laws found on the internet.\n",
    ">"
   ]
  },
  {
   "cell_type": "markdown",
   "metadata": {},
   "source": [
    "## 3.1.4 \n",
    "Read in the texts of the State of the Union addresses, using the state_union corpus reader. Count occurrences of men, women, and people in each document. What has happened to the usage of these words over time?"
   ]
  },
  {
   "cell_type": "code",
   "execution_count": 168,
   "metadata": {},
   "outputs": [],
   "source": [
    "from nltk.corpus import state_union\n",
    "SU = nltk.Text(state_union.words())"
   ]
  },
  {
   "cell_type": "code",
   "execution_count": 170,
   "metadata": {},
   "outputs": [
    {
     "name": "stdout",
     "output_type": "stream",
     "text": [
      "Men: 228\n",
      "Women: 141\n",
      "People: 1291\n"
     ]
    }
   ],
   "source": [
    "print(f\"Men: {SU.count('men')}\")\n",
    "print(f\"Women: {SU.count('women')}\")\n",
    "print(f\"People: {SU.count('people')}\")"
   ]
  },
  {
   "cell_type": "code",
   "execution_count": 172,
   "metadata": {},
   "outputs": [
    {
     "data": {
      "image/png": "[encoded data removed]",
      "text/plain": [
       "<Figure size 432x288 with 1 Axes>"
      ]
     },
     "metadata": {
      "needs_background": "light"
     },
     "output_type": "display_data"
    }
   ],
   "source": [
    "SU.dispersion_plot([\"men\", \"women\", \"people\"])"
   ]
  },
  {
   "cell_type": "markdown",
   "metadata": {},
   "source": [
    "## 3.1.8 \n",
    "Define a conditional frequency distribution over the Names corpus that allows you to see which initial letters are more frequent for males vs. females (cf. 4.4)."
   ]
  },
  {
   "cell_type": "code",
   "execution_count": 179,
   "metadata": {},
   "outputs": [],
   "source": [
    "from nltk.corpus import names\n",
    "nameText = nltk.Text(names.words())"
   ]
  },
  {
   "cell_type": "code",
   "execution_count": 188,
   "metadata": {},
   "outputs": [
    {
     "data": {
      "image/png": "[encoded data removed]",
      "text/plain": [
       "<Figure size 432x288 with 1 Axes>"
      ]
     },
     "metadata": {
      "needs_background": "light"
     },
     "output_type": "display_data"
    },
    {
     "data": {
      "text/plain": [
       "<AxesSubplot:xlabel='Samples', ylabel='Counts'>"
      ]
     },
     "execution_count": 188,
     "metadata": {},
     "output_type": "execute_result"
    }
   ],
   "source": [
    "cfd = nltk.ConditionalFreqDist(\n",
    "...           (fileid, name[0])\n",
    "...           for fileid in names.fileids()\n",
    "...           for name in names.words(fileid))\n",
    ">>> cfd.plot()"
   ]
  },
  {
   "cell_type": "markdown",
   "metadata": {},
   "source": [
    "## 3.1.11\n",
    "Read the BBC News article: UK's Vicky Pollards 'left behind' http://news.bbc.co.uk/1/hi/education/6173441.stm. The article gives the following statistic about teen language: \"the top 20 words used, including yeah, no, but and like, account for around a third of all words.\" How many word types account for a third of all word tokens, for a variety of text sources? What do you conclude about this statistic? Read more about this on LanguageLog, at http://itre.cis.upenn.edu/~myl/languagelog/archives/003993.html."
   ]
  },
  {
   "cell_type": "code",
   "execution_count": 201,
   "metadata": {},
   "outputs": [],
   "source": [
    "freq = nltk.FreqDist(SU)"
   ]
  },
  {
   "cell_type": "code",
   "execution_count": 225,
   "metadata": {},
   "outputs": [
    {
     "name": "stdout",
     "output_type": "stream",
     "text": [
      "17 word types account for a third of all word tokens in the state_union corpus\n",
      "['the', '.', ',', 'of', 'to', 'and', 'in', 'a', 'our', 'we', 'that', 'for', 'is', 'I', 'will', \"'\"]\n"
     ]
    }
   ],
   "source": [
    "third = len(SU)/3\n",
    "word_sum = 0\n",
    "i = 1\n",
    "while word_sum < third:\n",
    "    MC = nltk.FreqDist(SU).most_common(i)\n",
    "    word_sum = sum(val for (word, val) in MC)\n",
    "    i +=1\n",
    "\n",
    "print(f\"{i} word types account for a third of all word tokens in the state_union corpus\")\n",
    "print([word for (word, val) in MC])"
   ]
  },
  {
   "cell_type": "markdown",
   "metadata": {},
   "source": [
    "## 3.1.15\n",
    "Write a program to find all words that occur at least three times in the Brown Corpus."
   ]
  },
  {
   "cell_type": "code",
   "execution_count": 226,
   "metadata": {},
   "outputs": [],
   "source": [
    "from nltk.corpus import brown\n",
    "brownText = nltk.Text(brown.words())"
   ]
  },
  {
   "cell_type": "code",
   "execution_count": 242,
   "metadata": {},
   "outputs": [
    {
     "name": "stdout",
     "output_type": "stream",
     "text": [
      "['The', 'Fulton', 'County', 'Grand', 'Jury', 'said', 'Friday', 'an', 'investigation', 'of', \"Atlanta's\", 'recent', 'primary', 'election', 'produced', '``', 'no', 'evidence', \"''\", 'that', 'any', 'irregularities', 'took', 'place', '.', 'jury', 'further', 'in', 'the', 'City', 'Executive', 'Committee', ',', 'which', 'had', 'over-all', 'charge', 'deserves', 'praise', 'and', 'thanks', 'Atlanta', 'for', 'manner', 'was', 'conducted', 'term', 'been', 'charged', 'by', 'Superior', 'Court', 'Judge', 'to', 'investigate', 'reports', 'possible', 'won', 'Ivan', 'Allen', 'Jr.', 'Only', 'a', 'relative', 'handful', 'such', 'received', 'considering', 'widespread', 'interest', 'number', 'voters', 'size', 'this', 'city', 'it', 'did', 'find', 'many', \"Georgia's\", 'registration', 'laws', 'are', 'outmoded', 'or', 'inadequate', 'often', 'ambiguous', 'It', 'recommended', 'legislators', 'act', 'have', 'these', 'studied', 'revised', 'end', 'modernizing', 'improving', 'them', 'grand', 'commented', 'on', 'other', 'topics', 'among', 'purchasing', 'departments', 'well', 'operated', 'follow', 'generally', 'accepted', 'practices', 'best', 'both', 'governments', 'proposed', 'However', 'believes', 'two', 'offices', 'should', 'be', 'combined', 'achieve', 'greater', 'efficiency', 'reduce', 'cost', 'administration', 'Purchasing', 'Department', 'is', 'lacking', 'experienced', 'clerical', 'personnel', 'as', 'result', 'policies', 'urged', 'take', 'steps', 'remedy', 'problem', 'Implementation', 'automobile', 'title', 'law', 'also', 'outgoing', 'next', 'Legislature', 'provide', 'enabling', 'funds', 'effective', 'date', 'so', 'orderly', 'implementation', 'may', 'effected', 'at', 'State', 'Welfare', \"Department's\", 'handling', 'federal', 'granted', 'child', 'welfare', 'services', 'foster', 'homes', 'This', 'one', 'major', 'items', 'general', 'assistance', 'program', 'but', 'has', 'seen', 'fit', 'distribute', 'through', 'all', 'counties', 'state', 'with', 'exception', 'receives', 'none', 'money', 'jurors', 'they', 'realize', 'proportionate', 'distribution', 'might', 'our', 'less', 'populous', 'Nevertheless', 'we', 'feel', 'future', 'receive', 'some', 'portion', 'available', 'Failure', 'do', 'will', 'continue', 'burden', 'taxpayers', 'court', 'under', 'fire', 'its', 'appointment', 'guardians', 'administrators', 'awarding', 'fees', 'compensation', 'protected', 'found', 'incorporated', 'into', 'operating', 'procedures', 'recommendations', 'previous', 'Bar', 'Association', 'interim', 'citizens', 'committee', 'These', 'actions', 'serve', 'protect', 'fact', 'effect', 'from', 'undue', 'costs', 'appointed', 'elected', 'servants', 'criticisms', 'new', 'airport', 'when', 'management', 'takes', 'Jan.', '1', 'eliminate', 'political', 'influences', 'not', 'elaborate', 'added', 'there', 'periodic', 'surveillance', 'pricing', 'concessionaires', 'purpose', 'keeping', 'prices', 'reasonable', 'Ask', 'jail', 'deputies', 'On', 'matters', ':', '(', ')', 'Four', 'additional', 'employed', 'Jail', 'doctor', 'medical', 'night', 'weekend', 'duty', '2', 'work', 'officials', 'pass', 'legislation', 'permit', 'establishment', 'fair', 'equitable', 'pension', 'plan', 'employes', 'praised', 'operation', 'Police', 'Tax', 'Office', 'prison', 'farms', 'Grady', 'Hospital', 'Health', 'Mayor', 'William', 'B.', 'Hartsfield', 'filed', 'suit', 'divorce', 'his', 'wife', 'Pearl', 'Williams', 'His', 'petition', 'mental', 'cruelty', 'couple', 'married', 'Aug.', '1913', 'They', 'son', 'Berry', 'daughter', 'Mrs.', 'J.', 'M.', 'Griffin', 'Attorneys', 'mayor', 'property', 'settlement', 'agreed', 'upon', 'listed', \"mayor's\", 'occupation', 'attorney', 'age', '71', \"wife's\", '74', 'birth', 'Ala.', 'lived', 'together', 'man', 'more', 'than', 'year', 'home', 'E.', 'Pelham', 'Rd.', 'Aj', 'Henry', 'L.', 'brief', 'interlude', 'since', '1937', 'career', 'goes', 'back', 'council', '1923', 'present', 'office', 'He', 'succeeded', 'who', 'became', 'candidate', 'Sept.', '13', 'after', 'announced', 'he', 'would', 'run', 'Georgia', 'Republicans', 'getting', 'strong', 'encouragement', 'enter', '1962', \"governor's\", 'race', 'top', 'official', 'Wednesday', 'Robert', 'GOP', 'chairman', 'meeting', 'held', 'Tuesday', 'Blue', 'Ridge', 'brought', 'enthusiastic', 'responses', 'audience', 'Party', 'Chairman', 'James', 'W.', 'enthusiasm', 'picking', 'up', 'rally', '8', 'Savannah', 'newly', 'Texas', 'Sen.', 'John', 'featured', 'speaker', 'In', 'warned', 'entering', 'governor', 'force', 'petitions', 'out', 'voting', 'precincts', 'obtain', 'signatures', 'registered', 'Despite', 'warning', 'unanimous', 'vote', 'according', 'attended', 'When', 'crowd', 'asked', 'whether', 'wanted', 'wait', 'make', 'voted', '--', 'were', 'largest', 'hurdle', 'face', 'says', 'before', 'making', 'first', 'alternative', 'courses', 'must', 'taken', 'Five', 'per', 'cent', 'each', 'county', 'sign', 'requesting', 'allowed', 'names', 'candidates', 'ballot', 'hold', 'unit', 'system', 'party', 'platform', 'Sam', 'Caldwell', 'Highway', 'public', 'relations', 'director', 'resigned', 'Lt.', 'Gov.', 'Garland', \"Byrd's\", 'campaign', 'resignation', 'expected', 'time', 'Rob', 'assistant', 'three', 'years', 'gubernatorial', 'starts', 'become', 'coordinator', 'Byrd', 'wind', '1961', 'session', 'Monday', 'head', 'where', 'highway', 'bond', 'approved', 'shortly', 'Before', 'adjournment', 'afternoon', 'Senate', 'approve', 'study', 'allotted', 'rural', 'urban', 'areas', 'determine', 'what', 'adjustments', 'made', 'Vandiver', 'traditional', 'visit', 'chambers', 'toward', 'likely', 'mention', '$100', 'million', 'issue', 'earlier', 'priority', 'item', 'Construction', 'bonds', 'Meanwhile', 'learned', 'very', 'near', 'being', 'ready', 'worth', 'reconstruction', 'go', 'courts', 'friendly', 'test', 'validity', 'then', 'sales', 'begin', 'contracts', 'let', 'repair', 'most', 'heavily', 'traveled', 'highways', 'A', 'source', '$3', '$4', 'Rural', 'Roads', 'Authority', 'road', 'construction', 'revolving', 'fund', 'department', 'apparently', 'intends', 'issued', 'every', 'old', 'ones', 'paid', 'off', 'tax', 'authorities', 'opened', '1958', 'battle', 'against', 'issuance', '$50', 'roads', 'Marvin', 'told', 'Constitution', 'however', 'consulted', 'yet', 'about', 'plans', 'Rep.', 'D.', 'offer', 'resolution', 'House', \"body's\", 'action', 'itself', '$10', 'day', 'increase', 'expense', 'allowances', 'Sunday', 'research', 'done', 'can', 'repealed', 'outright', 'notice', 'given', 'reconsideration', 'sought', 'While', 'emphasizing', 'technical', 'details', 'fully', 'worked', 'seek', 'set', 'aside', 'privilege', 'similar', 'passed', 'As', 'word', 'offered', 'pointed', 'last', 'November', 'rejected', 'constitutional', 'amendment', 'allow', 'pay', 'raises', 'sessions', 'veteran', 'Jackson', 'legislator', 'ask', 'aid', 'education', 'something', 'consistently', 'opposed', 'past', 'Barber', 'Commerce', 'asking', 'endorse', 'increased', 'support', 'provided', 'expended', '13th', 'members', 'congressional', 'delegation', 'Washington', 'like', 'see', 'But', 'congressmen', 'specifically', 'him', 'tossed', 'formally', 'read', 'event', 'Congress', 'does', 'Board', 'Education', 'directed', 'give', 'teacher', 'After', 'long', 'hot', 'controversy', 'Miller', 'school', 'superintendent', 'policeman', 'put', 'coolest', 'I', 'ever', 'saw', 'Harry', 'Davis', 'agriculture', 'defeated', 'Felix', 'Bush', 'principal', 'Democratic', 'votes', \"Saturday's\", 'got', 'Ordinary', 'Carey', 'armed', 'pistol', 'stood', 'polls', 'insure', 'order', 'Tom', 'Being', 'just', 'church', \"didn't\", 'smell', 'drop', 'liquor', 'bit', 'trouble', 'leading', 'quiet', 'marked', 'anonymous', 'midnight', 'phone', 'calls', 'veiled', 'threats', 'violence', 'former', 'George', 'P.', 'shot', 'himself', 'death', 'March', '18', 'four', 'days', 'post', 'dispute', 'board', 'During', 'reportedly', 'telephone', 'too', 'subjected', 'soon', 'scheduled', 'Many', 'local', 'feared', 'carry', 'gun', 'promised', 'Sheriff', 'ordinary', 'good', 'promise', 'Everything', 'went', 'real', 'smooth', 'sheriff', 'There', \"wasn't\", 'Austin', 'approval', 'Price', 'abandoned', 'seemed', 'certain', 'Thursday', 'despite', 'adamant', 'protests', 'bankers', 'Daniel', 'personally', 'led', 'fight', 'measure', 'watered', 'down', 'considerably', 'rejection', 'hearing', 'Revenue', 'Under', 'rules', 'automatically', 'subcommittee', 'week', 'questions', 'appearing', 'witnesses', 'left', 'little', 'doubt', 'recommend', 'passage', 'termed', 'extremely', 'conservative', 'estimate', 'produce', '17', 'dollars', 'help', 'anticipated', 'deficit', '63', 'current', 'fiscal', '31', 'merely', 'means', 'enforcing', 'books', 'republic', 'permits', 'over', 'bank', 'accounts', 'stocks', 'personal', 'persons', 'missing', 'seven', 'bill', 'drafted', 'banks', 'insurance', 'firms', 'pipeline', 'companies', 'corporations', 'report', 'treasurer', 'cannot', 'enforced', 'now', 'because', 'almost', 'impossible', 'locate', 'declared', 'Dewey', 'Lawrence', 'lawyer', 'representing', 'Bankers', 'sounded', 'opposition', 'keynote', 'violate', 'their', 'contractual', 'obligations', 'undermine', 'confidence', 'customers', 'If', 'you', 'destroy', 'economy', 'You', 'circulation', 'millions', 'Charles', 'Hughes', 'Sherman', 'sponsor', 'failure', 'enact', 'amount', 'gift', 'pockets', 'contention', 'denied', 'several', 'including', 'Scott', 'Hudson', 'Jones', 'Houston', 'Howard', 'Cox', 'argued', 'probably', 'impair', 'complained', 'enough', 'introduced', 'only', 'Senators', 'unanimously', 'Parkhouse', 'Dallas', 'authorizing', 'schools', 'deaf', 'designed', 'special', 'schooling', 'students', 'scholastic', 'reduced', 'debate', 'authorize', 'Agency', 'establish', '300,000', 'population', 'require', 'children', 'between', '6', 'attend', 'permitting', 'older', 'residential', 'School', 'here', 'Operating', 'budget', 'five', 'Harris', 'El', 'Paso', 'savings', 'yearly', \"year's\", 'capital', 'absorbed', 'estimated', 'saving', 'coming', 'live', 'get', 'hear', 'horse', 'V.', 'Red', 'Joe', 'Ratcliff', 'still', 'expects', 'tell', 'folks', 'why', 'thinks', \"We're\", \"'\", 'pro', 'letters', 'con', 'betting', 'believe', 'if', 'people', 'better', 'informed', 'question', 'oppose', \"I'm\", 'willing', 'stake', 'my', 'San', 'Antonio', 'advocacy', 'ponies', 'heard', 'option', 'proposal', 'favorable', 'although', 'faces', 'hard', 'later', 'house', 'finally', 'sent', 'extending', 'authority', 'planning', 'cities', 'senate', 'quickly', 'whipped', 'meager', 'fare', 'bills', 'committees', 'passing', 'calendar', 'One', 'acts', 'districts', 'Another', 'enlarged', 'Beaumont', 'District', 'third', 'amended', 'creation', 'Lamar', 'previously', 'adopted', 'Without', 'dissent', 'senators', 'A.', 'R.', 'Schwartz', 'mentally', 'retarded', 'Gulf', 'Coast', 'district', 'Money', 'meantime', 'accept', 'gifts', 'site', 'Two', 'revision', 'Louis', 'retailers', 'group', 'miscellaneous', 'excise', 'taxes', 'eliminating', 'requirement', 'return', 'Instead', 'certificate', 'correctness', 'violation', 'penalty', 'plus', '$1,000', 'fine', 'series', 'Research', 'League', 'Paris', 'relieve', 'estate', 'brokers', 'own', 'annual', 'licensing', 'fee', 'license', 'Natural', 'gas', 'utility', 'right', 'eminent', 'domain', 'Frank', 'Owen', '3', 'acquire', 'sites', 'underground', 'storage', 'reservoirs', 'Marshall', 'Commission', 'suggested', 'fill', 'need', 'costly', 'elections', 'selected', 'composed', 'lieutenant', 'chief', 'justice', 'Supreme', 'representatives', 'decided', 'taking', 'poll', 'kind', 'Texans', 'prefer', 'An', 'adverse', '81', '65', 'kept', 'Affairs', 'April', '4', 'U.S.', 'senator', 'Roberts', 'idea', 'delay', 'kill', 'West', 'Texan', 'reported', 'gotten', 'Bill', 'Feb.', '22', 'final', 'legislative', 'two-thirds', 'majorities', 'printed', \"couldn't\", 'information', 'proposals', 'intelligent', 'choice', 'All', 'except', 'absent', 'Paradise', 'lost', 'alleged', 'water', 'needs', \"Texas'\", 'big', 'Cotten', 'insisted', 'development', 'Representatives', 'effort', 'Fort', 'Worth', 'cover', 'places', 'Wise', 'hamlet', '250', 'shouting', 'ended', '114', 'sending', 'sponsored', 'Most', '$5,000,000', 'maximum', 'loan', 'could', 'project', 'construed', 'large', 'felt', 'spent', 'providing', 'paying', 'benefit', 'pending', 'sway', 'attack', 'defenders', 'mostly', 'small-town', 'De', 'La', 'Mission', 'F.', 'Collins', 'Newton', 'Chapman', 'Springs', 'poor', \"boy's\", 'peanut', 'serving', 'reducing', 'learning', 'educational', 'methods', 'C.', 'Grover', 'teaches', 'history', '24', '12', 'semester', 'hours', 'so-called', 'teaching', 'required', 'junior', 'senior', 'high', 'normal', 'college', '30', 'teachers', 'least', 'credit', 'subject', 'remainder', 'subjects', 'person', \"master's\", 'degree', 'physics', 'chemistry', 'math', 'English', 'permitted', 'teach', 'College', '150', 'immediately', 'joined', 'Junior', 'named', 'Dr.', 'Clarence', 'Clark', 'Hays', 'Kan.', \"school's\", 'president', 'succeed', 'retire', 'close', 'holds', 'earned', 'Doctor', 'University', 'Oklahoma', 'Master', 'Science', '&', 'Okla.', 'addition', 'Rhode', 'Island', 'Massachusetts', 'Institute', 'Technology', 'captain', 'basketball', 'team', 'football', 'served', 'athletic', 'High', 'instructor', 'associate', 'professor', 'border', 'patrolman', 'Signal', 'Corps', 'Army', 'Denton', 'Independent', 're-elected', 'recommendation', 'Chester', 'O.', 'racial', 'discrimination', 'employment', 'called', 'yesterday', 'blue', 'ribbon', 'dependent', 'ADC', 'Cook', 'New', 'York', 'consulting', 'firm', '10', 'range', 'soaring', 'case', 'load', 'serious', 'causes', 'family', 'breakdown', 'dependency', 'Must', 'solve', 'monthly', '100,000', 'recipients', 'Martin', 'Co.', 'We', 'problems', 'forced', 'depend', 'subsistence', 'volume', 'cases', 'decrease', 'community', 'able', 'deal', 'effectively', 'limited', 'skills', 'color', 'underlying', 'extension', 'Other', 'living', 'relatives', 'parents', 'preserving', 'unity', 'projects', 'prevention', 'illegitimacy', 'Several', 'defendants', 'police', 'burglary', 'trial', 'statements', 'indicating', 'guilt', 'arrest', 'Parsons', 'Criminal', 'Bellows', 'defense', 'counsel', 'startled', 'observers', 'viewed', 'prelude', 'quarrel', 'six', 'attorneys', 'eight', 'policemen', 'grant', 'client', 'Alan', 'Clements', 'separate', 'request', 'while', 'prejudicial', 'aspects', 'highly', 'Some', 'strongly', 'indicated', 'knew', 'receiving', 'stolen', 'involving', 'themselves', 'others', 'leaned', 'bench', 'inquired', 'mean', 'admitting', '?', 'Yes', 'your', 'honor', 'replied', 'What', 'amounts', 'true', 'conflict', 'July', 'President', 'Kennedy', 'today', 'pushed', 'White', 'business', 'devote', 'attention', 'working', 'Berlin', 'crisis', 'address', 'deliver', 'tomorrow', 'American', 'nationwide', 'television', 'radio', 'much', 'week-end', 'summer', 'Cape', 'Cod', 'writing', 'drafts', 'portions', 'aids', 'whom', 'talked', 'Shortly', 'Chief', 'returned', 'Port', 'Mass.', 'spokesman', 'text', 'quite', 'way', 'completion', 'Asked', 'Pierre', 'Salinger', 'press', 'secretary', 'say', \"it's\", 'thru', 'advisers', 'staff', 'doing', 'involved', 'composition', 'wording', 'rather', 'minute', 'decisions', 'meet', 'latest', 'precipitated', \"Russia's\", 'demands', 'Nov.', 'dismissed', 'Acting', 'Karns', 'prosecution', 'obtained', 'unfair', 'fundamentally', 'illegal', 'matter', 'even', 'significance', 'innocence', '50', 'legal', 'rights', 'ruling', 'ruled', 'unable', 'proceedings', 'originally', '133', 'Morris', 'Wexler', 'Issue', 'admitted', 'hearings', '200', 'questioned', 'individuals', 'building', 'Mayer', 'Goldberg', 'judges', 'precinct', '23d', 'ward', 'procedure', 'constituted', 'intimidation', 'repeatedly', 'coercion', 'used', 'questioning', 'privately', 'outside', 'room', 'misuse', 'processes', 'Actually', 'abuse', 'process', 'contempt', 'vindication', 'function', 'judge', 'East', 'St.', 'sitting', 'Faced', '35', 'complementary', 'another', '24th', '21st', '28th', '29th', '18th', '4th', '9th', 'Claims', 'precedent', 'reading', 'statement', 'discharging', 'dismiss', '9', 'mammoth', 'care', 'whereby', 'social', 'security', '70', 'workers', 'raised', 'hospital', 'Americans', 'covered', 'railroad', 'retirement', 'programs', 'message', 'tied', 'aged', 'requests', 'grants', 'finance', 'dental', 'scholarships', 'build', '20', 'expand', 'health', 'Capitol', 'hill', 'Cost', '$37', 'financed', 'boosting', 'payroll', 'worker', 'employer', 'alone', 'boost', 'base', '$5,000', 'Similar', 'imposed', 'those', 'actually', 'rise', '7.5', 'starting', '1963', 'levy', 'already', 'Officials', '1.5', 'billion', 'benefits', 'Both', 'figures', 'higher', 'parts', 'entail', '750', 'Nursing', 'carries', 'systems', 'Full', 'payment', 'stays', '90', 'illness', 'patient', 'nine', 'nursing', '180', 'following', 'discharge', '300', 'formula', 'allowing', 'use', 'part', 'clinic', 'diagnostic', 'service', 'excess', '$20', 'Community', 'visiting', 'nurse', 'noted', 'states', 'needy', 'modest', 'wish', 'nevertheless', 'staggered', 'drain', 'caused', 'extended', 'stay', 'cut', 'absolutely', 'essential', 'sufficient', 'deductible', 'requirements', 'discourage', 'unnecessary', 'hospitals', 'socialized', 'medicine', 'absolute', 'freedom', 'guaranteed', 'Every', 'choose', \"Wouldn't\", 'doctors', 'Apart', \"President's\", 'ambitious', 'enlarge', \"nation's\", '92', '47', 'handle', 'student', 'needed', 'rising', 'Moreover', 'qualified', 'young', 'going', \"can't\", 'afford', 'scholarship', 'contributions', 'equal', '$1,500', 'one-fourth', 'based', '$2,000', 'government', '21', '1966', 'matching', 'totaling', '700', 'constructing', 'enlarging', 'capacity', 'existing', 'More', 'area', 'doubling', 'dollar', 'initial', 'appropriation', 'improve', 'unspecified', 'sum', 'experimental', 'field', \"children's\", 'bureau', 'national', 'institute', 'vocational', 'rehabilitation', 'how', 'For', 'facilities', 'propose', 'increasing', 'direct', 'combine', 'indispensable', 'elements', 'sound', 'knowledge', 'Reaction', 'Congressional', 'reaction', 'along', 'lines', 'Legislators', 'placing', 'criticized', 'Those', 'backed', 'hailed', 'Republican', 'Leader', 'Dirksen', 'Ill.', 'Halleck', 'persuade', 'change', 'compulsory', 'voluntary', 'enacted', 'Speaker', 'Rayburn', 'Tex.', 'mighty', 'thing', 'prediction', 'fate', 'hastily', 'pressure', 'tonight', 'confirmed', 'Weaver', 'housing', '11', 'floor', 'record', 'scattered', 'ignored', 'speed', 'Negro', 'leader', 'administrator', 'agency', 'Presidential', 'appointments', 'cabinet', 'rank', 'immediate', 'rule', 'requiring', 'hour', 'demand', 'Wayne', 'Morse', 'Ore.', 'connection', \"Eisenhower's\", 'selections', '1953', \"Kennedy's\", 'Oslo', 'positive', 'element', 'emerge', 'North', 'Atlantic', 'Treaty', 'Organization', 'Foreign', 'Ministers', 'freer', 'wider', 'discussions', 'animated', 'mutual', 'understanding', 'meetings', 'organization', 'nature', 'proceed', 'route', 'step', 'without', 'dramatic', 'changes', 'ministers', 'met', 'climate', 'genuine', 'attempt', \"another's\", 'atmosphere', 'particularly', 'noticeable', 'concerned', 'powers', 'never', 'nightmare', 'clash', 'Africa', 'difficulties', 'tragedies', 'facing', 'allies', 'intellectually', 'emotionally', 'disapprove', 'circumstances', 'troubles', 'conspicuous', 'absence', 'avoided', 'Portugal', 'few', 'weeks', 'ago', 'walk', 'NATO', 'Council', 'critics', 'Angola', 'policy', 'prove', 'harsh', 'relaxation', 'tension', 'remarkably', 'courteous', 'explanation', 'basic', 'positions', 'unchanged', 'explosion', 'bitter', 'surprises', 'UN', 'General', 'Assembly', 'ad', 'hoc', 'discussed', 'advance', 'Canada', 'somewhat', 'allied', 'cars', 'track', 'behind', 'Even', 'daily', 'manifestations', 'atomic', 'arms', 'heart', 'alliance', 'closer', 'line', 'negative', 'side', 'balance', 'sheet', 'disappointment', 'United', 'States', 'leadership', 'hoped', 'diplomat', 'described', 'tenor', 'Secretary', 'Dean', \"Rusk's\", 'speeches', 'inconclusive', 'hastened', 'add', 'always', 'clear', 'Mr.', 'analysis', 'various', 'global', 'danger', 'points', 'setbacks', 'firmly', 'fixed', 'mood', 'vagueness', 'tactical', 'appreciation', 'affair', 'fewer', 'Soviet', 'correspondents', 'impression', 'during', 'popularity', 'came', 'tentative', 'exploratory', 'frame', 'mind', 'listen', 'learn', 'scale', 'detailed', 'application', 'individual', 'spots', 'speech', 'gave', 'tremendous', 'march', 'events', 'inside', 'preoccupied', 'months', 'core', \"States'\", 'profound', 'attachment', 'cornerstone', 'foreign', 'nuclear', 'submarines', 'eventually', 'disposal', 'European', 'waters', 'solemnly', 'repeated', 'Union', 'stand', 'setback', 'affirmation', 'once', 'again', 'whole', 'surveyed', \"secretary's\", 'greatest', 'achievement', 'perhaps', 'realization', 'East-West', 'friction', 'wherever', 'around', 'globe', 'essence', 'entirely', 'different', 'societies', 'treated', 'regard', 'geographical', 'distance', 'lack', 'apparent', 'spring', 'impetus', 'main', 'directions', 'deeper', 'timely', 'consultation', 'within', 'Economic', 'Cooperation', 'Development', 'ratified', 'method', 'coordinating', 'underdeveloped', 'countries', 'strengthening', 'conventional', 'forces', 'maintenance', 'deterrent', 'threshold', 'difficult', 'come', 'Each', 'ally', 'laid', 'completely', 'fulfilled', 'moves', 'Geneva', 'conference', 'Laos', 'optimism', 'Communists', 'docile', 'table', 'military', 'ground', 'explain', 'mainly', 'interested', 'setting', 'international', 'inspection', 'prevent', 'Communist', 'attacks', 'neighboring', 'Thailand', 'South', 'Viet', 'Nam', 'count', 'neutral', 'attending', 'hopes', 'Lao', 'Cabinet', 'dominated', 'acceptable', 'possibility', 'modified', 'inclination', 'de', 'facto', 'cease-fire', 'insist', 'verification', 'control', 'commission', 'participating', 'modifications', 'compelled', 'chain', 'errors', 'Its', 'spokesmen', 'reforms', 'economic', 'critical', 'moving', 'showing', 'gain', 'free', 'world', 'arises', 'How', 'dealing', 'aggression', 'Former', 'Vice-President', 'Richard', 'Nixon', 'Detroit', 'firmer', 'tougher', 'feels', 'tendency', 'restrained', 'situation', 'hardly', 'restrain', 'raising', 'power', 'amateurish', 'monumental', 'Cuba', 'correspondent', 'constantly', 'score', 'reply', 'country', 'politics', 'wisdom', 'Senator', 'Morton', 'R', 'Kentucky', 'National', 'responsible', 'outcome', 'coalition', 'susceptible', 'domination', 'assailed', 'direction', 'Harvard', 'Boston', 'educators', 'invasion', 'exile', 'groups', 'instead', 'Castro', 'regime', 'bloc', 'diplomatic', 'resumption', 'trade', ';', 'concentrate', 'constructive', 'efforts', 'Latin', 'America', 'conditions', 'totalitarian', 'nationalism', 'feeds', 'intervention', 'specific', 'provocation', 'clearly', 'shipped', 'tolerated', 'Until', 'Cuban', 'fiasco', 'victories', 'observer', 'blended', 'respected', 'opinions', 'voiced', 'professors', 'Aid', 'revamped', 'Very', 'early', 'Kremlin', 'channels', 'disclosed', 'react', 'Eisenhower', 'period', 'remove', 'pin', 'ban', 'negotiations', 'reviewed', 'changed', 'thus', 'far', 'response', 'emphasis', 'encourage', 'reform', 'recipient', 'nations', 'looked', 'show', 'determination', 'sailing', 'naval', 'fleet', 'Southeast', 'Asian', 'useless', 'gesture', 'Again', 'freeze', 'aided', 'Pathet', 'faster', 'rate', 'And', 'territory', 'exposed', 'huge', 'build-up', 'acclaimed', 'performing', 'great', 'Asia', 'SEATO', 'steamed', 'prepared', 'contingency', 'coping', 'losses', 'want', 'risk', 'all-out', 'war', 'disagreed', 'complication', 'concluded', 'ill', 'suited', 'unlike', 'determined', 'neighbors', 'favor', 'neutralized', 'pro-Western', 'helped', 'revolt', 'Souvanna', 'Phouma', 'neutralist', 'appear', 'spark', 'fighting', 'spirit', 'Royal', 'certainly', 'energy', 'displayed', 'hilt', 'ideas', 'Prince', 'trusting', 'gradually', 'relinquish', 'factor', 'D', 'Arkansas', 'Relations', '25', 'erred', 'half', 'encouraging', 'removal', 'extraordinary', 'check', 'rapid', 'growth', 'juvenile', 'delinquency', 'deeply', 'vitality', 'nation', 'important', 'assertion', 'executive', 'establishing', 'Juvenile', 'Delinquency', 'Crime', 'supported', 'assisted', 'Citizens', 'Advisory', 'recognized', 'asks', 'cooperation', 'enactment', 'specified', 'disturbing', 'crime', 'trend', 'multiply', 'Attorney', 'Labor', 'coordinate', 'assist', 'communities', 'cope', 'Simultaneously', 'David', 'Youth', 'sense', 'urgency', 'stems', 'arrests', 'doubled', '1948', 'Among', 'Federal', 'Bureau', 'Investigation', '1959', 'Providence', 'organize', 'civil', 'setup', 'full-time', 'Raymond', 'H.', 'Hawksley', 'CD', 'anyone', 'else', 'locally', 'outline', 'earliest', \"state's\", 'part-time', 'Noting', 'handed', 'Defense', 'responsibility', 'salary', 'expressed', 'opinion', 'hire', 'basis', 'believed', 'residents', 'job', 'men', 'Fire', 'Along', 'headquarters', 'pertinent', 'centralized', 'advantage', 'having', 'eligible', 'apply', 'financial', 'equipment', 'Matching', 'procurement', 'radios', 'rescue', 'trucks', 'vehicle', 'Central', 'Station', 'assign', 'Riverside', 'section', 'Speaking', 'status', 'bet', 'hundred', 'know', 'enemy', 'Narragansett', 'Race', 'grounds', 'assembly', 'point', 'drive-in', 'theater', 'knowing', 'assemble', 'air', 'Such', 'vital', 'frequently', 'regular', 'intervals', 'fails', 'consider', 'call', 'September', 'developed', 'things', 'classes', 'drifts', 'level', 'examine', 'revisions', 'Governor', 'Notte', 'name', 'move', 'form', 'letter', 'Miss', 'Mary', 'Grant', 'deputy', 'clerk', 'Falls', 'copy', 'released', 'responding', 'urges', 'complete', 'eye', 'legislature', 'perform', 'review', 'Atty.', 'Gen.', 'Joseph', 'Nugent', 'views', 'appoint', 'expect', 'religious', 'labor', 'affected', 'wrote', 'continuous', 'confronts', 'enforcement', 'officers', 'regulating', 'advised', 'enforce', 'Should', 'activity', 'across', 'statutes', 'Bay', 'dating', 'instances', 'colonial', 'times', 'severely', 'limit', 'types', 'merchandise', 'sold', 'concern', 'especially', 'foods', 'placed', 'list', 'neighborhood', 'grocery', 'variety', 'stores', 'chance', 'compete', 'supermarkets', 'small', 'shops', 'retained', 'livelihood', 'thousands', 'declares', 'licenses', 'revenue', 'factory', 'outlets', 'operate', 'contended', 'shopping', 'Liberals', 'conservatives', 'parties', 'independent', 'Reama', 'nationally', 'known', 'labor-management', 'expert', 'Rotary', 'Club', 'luncheon', 'Sheraton-Biltmore', 'Hotel', 'type', 'enterprise', 'average', 'voter', 'pull', 'lever', 'confessing', 'member', 'Socialist', '1910', 'That', 'machinist', 'fellow', 'me', 'steered', 'utilities', 'resources', 'gaining', 'victory', 'original', 'retired', 'vice', '1955', 'us', 'gross', 'product', 'neither', 'favors', 'wage', 'increases', 'manufacturers', 'caught', 'profit', 'squeeze', 'conditioned', 'turned', 'philosophy', 'dividing', 'everything', 'really', 'engaged', 'industrial', 'counseling', 'bearing', 'Johnston', 'presented', 'town', 'obtaining', 'charter', 'Martinelli', 'Group', 'transferred', 'hand', 'suggestion', 'Sr.', 'referred', 'happens', 'explained', 'assure', '60', 'completes', 'difference', 'arose', 'Bourcier', 'solicitor', 'exact', 'handled', 'favoring', 'assured', 'correct', 'strategy', 'movement', 'undoubtedly', 'comes', 'inspiring', 'think', 'hope', 'surprised', 'running', 'posts', 'Our', 'goal', 'awareness', 'timetable', 'followed', 'started', \"town's\", 'speaking', 'model', 'municipal', 'league', 'Increasing', 'meaning', 'cited', 'false', 'affixed', 'consent', 'provision', 'included', 'Sanitary', 'sewer', 'Action', 'ordinance', 'motorists', 'plead', 'guilty', 'minor', 'traffic', 'offenses', 'station', \"Monday's\", 'Town', 'Solicitor', 'Michael', 'draft', 'At', 'authorized', 'adopt', 'Nothing', 'Sixth', 'disposition', 'Local', 'hesitated', 'heavy', 'simplest', 'offense', 'Plainfield', 'Mitchell', 'Walter', 'value', 'using', 'remark', 'carcass', 'Republicanism', 'Dumont', 'spoke', '100', 'Park', 'controversial', 'Westfield', 'Young', 'cocktail', 'Scotch', 'Plains', 'Country', 'greeted', 'chorus', '500', 'women', 'Trenton', 'forum', 'Federation', \"Women's\", 'Clubs', 'intention', 'stopped', 'beating', 'congealed', 'Now', \"he's\", 'gone', 'sell', 'tattered', 'remains', 'love', 'considered', 'mediocre', 'nothing', 'fall', 'common', 'decency', 'proud', 'dead', 'regretted', 'wrong', 'inject', 'waged', 'issues', 'respond', 'either', 'applause', 'merit', 'open', 'launched', 'continuance', 'passenger', 'proper', 'uses', 'surplus', 'Jersey', 'attractive', 'industry', 'unemployment', 'Meyner', 'share', 'blame', 'plant', 'until', 'am', 'income', 'unhappy', 'minutes', 'saved', 'centralization', 'looks', 'Administration', 'transportation', 'crises', 'saying', 'ways', 'faced', 'motor', 'vehicles', 'challenge', 'stands', 'Ike', 'Earlier', 'resent', 'reference', 'discredited', \"president's\", 'insult', 'twice', 'overwhelmingly', 'symbol', 'intentions', 'understand', 'seeking', 'position', 'life', 'demonstrate', 'judgment', 'bad', 'taste', 'vicious', 'origin', 'desire', 'try', 'condemning', 'stature', 'ahead', 'Sandman', 'May', 'opponents', 'nomination', 'addressing', 'Military', 'Newark', 'Essex', 'leaders', 'managers', 'gathering', 'indicate', 'chosen', 'nominee', 'majority', 'announcement', 'Clifford', 'Case', 'spend', 'campaigning', 'giveaway', 'desperate', 'prop', 'sagging', 'proven', 'answer', 'witnessed', 'image', 'failed', 'witnessing', 'transfer', 'glow', 'candidacy', 'fail', 'Harriet', 'Ave.', 'Women', 'Sheets', 'paper', 'represents', 'necessary', 'democracy', 'lip', 'financing', 'purchase', 'machines', 'repay', '10-year', 'exclusive', 'January', '1964', 'Although', 'mandatory', 'impinging', 'basically', 'results', 'Sheeran', 'Orange', 'Edward', 'safety', 'commissioner', 'FBI', \"organization's\", 'vacancy', 'Neil', 'Appeals', 'My', 'experience', 'shown', 'filled', 'preferably', 'Jim', 'fits', 'description', 'warden', 'Conservation', '36', 'citation', 'Commissioner', 'credits', 'supervision', 'reduction', 'forest', 'fires', '1925', 'division', 'graduation', '1921', 'Michigan', 'private', 'lumber', 'October', '1944', 'Forest', 'Section', 'techniques', 'plowing', 'established', 'tractor', 'plows', 'units', 'expanded', 'modernized', 'central', 'training', 'credited', 'co-operative', 'co-operation', 'Cross', 'debut', 'bid', 'corner', 'nearly', 'Inn', \"you'll\", \"You're\", \"you're\", \"we're\", 'glad', 'Democrats', 'resolve', 'expedient', 'feet', 'popular', 'slogans', 'win', \"we'll\", 'liberal', 'planned', 'forward', 'looking', 'honest', \"We'll\", 'talk', 'mouth', 'truth', 'elect', 'signs', 'feeble', 'shall', 'full', 'partner', 'courageous', 'attraction', 'stop', 'Southern', 'keep', 'bloodstream', 'clean', 'To', 'hoodlums', 'lives', 'representative', 'Green', 'tracts', 'land', 'onrush', '$60', 'underwrite', '$45', '$15', 'municipalities', 'conquer', 'space', 'conserve', 'pointing', '1950', 'rapidly', 'changing', 'unless', 'preserve', 'green', 'comment', 'sympathetic', \"I'll\", 'explicit', 'bring', 'dynamic', 'afraid', 'tangle', 'Fifteen', 'retiring', 'voluntarily', 'honored', 'colleagues', 'whose', 'four-year', 'terms', 'carved', 'wooden', 'elephants', 'ivory', 'tusks', 'remember', 'leaving', 'presentation', 'Thompson', 'Bank', 'stepping', 'She', '1920s', 'adoption', \"women's\", 'suffrage', 'Wagner', 'Paul', 'Screvane', 'Abraham', 'Beame', 'mates', 'same', 'Liberal', \"Mayor's\", 'opportunity', 'internal', 'resentment', 'regarded', 'bigger', 'trying', 'induce', 'Controller', 'Arthur', 'Levitt', 'Brooklyn', '7', 'contend', 'file', 'Their', 'view', 'proposing', 'ticket', 'emphasize', 'weakness', 'performance', 'rival', 'slate', 'Representative', 'Buckley', 'Bronx', 'T.', 'visits', 'usual', 'touch', 'G.', 'Sapio', 'Manhattan', 'publicly', 'believing', 'replaced', 'Last', 'visited', \"leader's\", 'discussion', 'Apparently', 'key', 'acceptance', 'choices', 'struggle', 'talks', 'assent', 'dropping', 'seems', 'assumed', 'pick', 'successor', 'declined', 'interviews', 'reporters', 'confirm', 'deny', 'Queens', 'replace', 'Abe', 'Stark', 'Irish', 'Counties', 'Hunter', 'Campus', 'published', \"yesterday's\", 'Times', 'announce', 'definite', 'June', '16', 'wave', 'corruption', 'tangible', 'feeling', 'revulsion', 'taxi', 'driver', 'visitor', 'remarks', 'politicians', \"It's\", 'See', 'scientist', 'writes', 'alienated', 'influence', 'corrupt', 'selfish', 'beyond', 'secret', 'conspiracy', 'object', 'widely', 'identified', 'locale', 'Edwin', 'novel', 'Hurrah', 'reasons', 'spotlight', 'succession', 'publicized', 'scandals', 'aroused', 'works', 'investigations', 'attracted', 'ethical', 'reader', 'newspapers', 'escape', 'petty', 'worse', 'norm', 'Day', 'episode', 'Public', 'Works', 'accused', 'beach', 'waterfront', 'sharply', 'contrasting', 'forecasts', \"Administration's\", 'Rules', 'uncertain', 'depends', 'Trimble', 'Democrat', 'siding', \"Rayburn's\", 'Leadership', 'hopeful', 'encounter', 'sometime', 'provides', 'mortgages', 'low', 'families', 'slums', 'colleges', 'dormitories', 'appears', 'temporarily', 'stalled', 'Northern', 'usually', 'Delaney', 'Thomas', \"O'Neill\", 'Three', 'quick', 'progress', 'Act', 'long-term', 'loans', 'parochial', 'science', 'languages', 'mathematics', 'About', 'Peace', 'assigned', 'agencies', 'carried', 'corps', 'submitted', 'universities', 'Twelve', 'stage', 'Gordon', 'interview', 'Six', 'Middle', 'Question', 'confusion', 'goals', 'happen', 'churchmen', 'example', 'month', 'Ghana', 'missionary', 'discovered', 'hotel', 'protested', 'owner', 'Why', 'worry', 'U.', 'S.', 'Government', 'pays', 'overseas', 'Missionary', 'explains', \"don't\", 'shrugged', 'Same', 'remarked', 'classical', 'Can', 'separation', 'Sargent', 'Shriver', 'No', 'proposes', 'Moscow', 'gay', 'Sukarno', 'Indonesia', 'Premier', 'Khrushchev', 'pulled', 'beaming', 'Look', '!', 'successful', 'banker', 'twenty', 'expanding', 'uncommitted', 'allocated', 'Western', 'estimates', 'biggest', 'beginning', '1954', '1960', '6,000', 'technicians', 'Nations', 'N.', 'Y.', 'experts', \"country's\", 'professional', 'amid', 'intensified', 'role', 'puts', 'premium', 'strength', 'jobs', 'India', 'inhabitants', 'filling', 'Secretariat', 'panel', 'completed', 'eighteen', 'due', 'Administrative', 'Questions', 'understood', 'affairs', 'officer', 'economist', 'start', 'fifteen', 'above', 'forming', 'unite', 'kingdom', 'decision', 'Boun', 'royal', 'pro-Communist', 'latter', 'joint', 'welcomed', 'nineteenth', 'agreement', 'ease', 'task', 'diplomats', 'conceded', 'overly', 'optimistic', 'Malcolm', 'Britain', 'Maurice', \"France's\", 'Minister', 'External', 'meanwhile', 'round', 'tactics', 'pace', 'slowed', 'Princess', 'two-hour', 'cordial', 'she', 'agenda', 'reached', 'principles', 'guide', 'factors', 'search', 'Pfaff', '41', 'promotion', 'manager', 'Company', 'Saturday', 'company', 'succeeds', 'Burke', '1946', 'commercial', 'artist', 'advertising', 'native', 'Orleans', 'Elementary', 'From', '1942', 'December', '1945', 'Air', 'Field', 'merchandising', 'wholesale', 'Miles', 'Thousands', 'seats', 'erected', 'Pennsylvania', 'Avenue', 'inaugural', 'parade', 'Assuming', 'weather', 'halfway', 'decent', 'hundreds', 'mass', 'thoroughfare', 'Dwight', 'leave', 'Hill', 'ceremonies', 'ride', 'historic', 'impressive', 'street', 'Columbia', 'standpoint', 'viewpoint', 'approach', 'buildings', 'Within', 'avenue', \"government's\", 'shrines', 'monuments', 'Of', 'course', '1600', 'famous', 'easy', 'begins', 'block', 'Great', 'chapters', 'recorded', 'thousand', 'watch', '5000', '1920', 'presidential', 'square', 'marching', 'soldiers', 'War', 'Between', 'returning', '1865', 'valuable', 'records', 'Also', 'located', 'Hoover', 'Street', 'car', 'tracks', 'center', 'spectators', 'occupying', 'vantage', 'bordering', 'Lafayette', 'Square', 'opposite', 'statues', 'Andrew', 'hero', 'Battle', 'Moving', 'viewing', '40', '16,000', 'branches', 'Division', 'academies', 'include', 'representations', 'respective', 'Johnson', 'Then', 'admission', 'union', 'headed', 'Navy', 'Force', 'Guard', 'reserve', 'Puerto', 'Rico', 'Virgin', 'Islands', 'Guam', 'trust', 'territories', 'Canal', 'Miss.', 'governmental', 'developments', 'Mississippi', 'observing', 'scene', 'script', 'gazing', 'largely', 'operates', 'helm', 'Ross', 'Barnett', 'surrounded', 'keeps', 'foes', 'guessing', 'friends', 'Consequently', 'Could', 'predict', 'settle', 'iron', 'rough', 'edges', 'headache', 'steady', 'stream', 'commitments', 'quest', 'decide', 'throw', 'Certainly', 'nobody', 'lawmakers', 'enjoy', 'strange', 'honeymoon', \"doesn't\", 'decade', 'odds', 'restless', 'companionship', 'withstand', 'sensitive', 'cutting', 'seat', 'With', 'eyes', 'focused', 'Delta', 'Congressman', 'Smith', 'longstanding', \"Mississippi's\", 'crossroads', 'badly', 'equally', 'divided', 'camps', 'currently', 'wreck', 'Future', 'clouded', 'ranks', 'bypass', 'patronage', 'normally', 'flow', 'solidarity', 'picture', 'US', 'remained', 'loyal', 'Reports', 'probable', 'stripped', 'flows', 'Baton', 'Rouge', 'La.', 'theme', 'peace', 'harmony', 'severe', 'stresses', 'segregation', 'troublesome', 'finances', 'transition', 'hike', 'revenues', 'dedicated', 'dedication', 'suspect', 'related', 'directly', 'shortage', 'cash', 'weary', 'Indeed', \"administration's\", 'curious', 'contributing', 'defeat', '$28', 'grant-in-aid', 'effectiveness', 'clearing', 'play', 'determining', 'muster', 'normalcy', 'hands', 'integration', 'terminate', 'toss', 'towel', 'anyway', 'frustrated', 'losing', 'token', 'sort', 'acknowledge', 'convey', 'notion', 'though', 'Underlying', 'continued', 'extra', 'unlikely', 'conclusion', 'purposes', 'perfect', 'acute', 'interesting', 'dilemma', 'Since', 'constitution', 'forbids', 'introduction', 'expenses', 'stab', 'prospect', 'spending', 'unpleasant', 'avoid', 'alternatives', 'blocked', 'trim', 'arouse', 'squeezed', 'exert', 'constant', 'confronting', 'tried', 'economize', 'Any', 'revive', 'allegations', 'followers', 'affiliations', 'depending', 'combat', 'Alexander', 'Hemphill', 'bids', 'rigged', 'contracting', \"city's\", 'loss', 'ranged', 'unnoticed', 'Steel', 'contracted', 'legitimate', 'competing', 'disclosures', 'sued', 'covering', 'contract', 'Philadelphia', 'Transportation', 'investigating', 'played', 'reviewing', 'signature', 'Harold', 'architecture', 'engineering', 'Property', 'appeared', 'fired', 'charges', 'accepting', 'contractor', 'Director', 'Donald', 'cooperate', 'sharp', 'disagreement', 'sue', 'recovery', 'Berger', 'morning', 'PTC', 'bankrupt', 'Industries', 'Inc.', '2d', 'reorganization', 'bankruptcy', 'directors', 'draw', 'Business', 'Common', 'Continental', \"Berger's\", 'intervened', 'preliminary', 'filing', 'claim', 'violated', 'violations', 'involve', 'expansion', 'joints', 'overhauling', '75', 'repaired', 'repairs', '$500', 'Sons', 'Cambridge', '$600', \"won't\", \"Can't\", 'headline', 'Douglas', 'Pratt', 'transit', 'Certain', 'Samuel', 'Goodis', 'objected', 'occupancy', 'rates', 'hotels', '48', 'percent', 'objection', \"Council's\", 'Finance', '1000', 'rooms', '$5000', 'testimony', 'wide', 'raise', 'rooming', 'houses', 'dwellings', '$5', '$2', 'renewal', '$1', 'single', 'account', '95', 'apartment', 'Leonard', 'Home', 'behalf', 'association', 'dog', 'drew', 'Virginia', 'formerly', 'dogs', 'males', 'females', 'flat', 'replies', 'owners', 'penalized', 'animal', 'Deputy', 'spends', 'annually', 'collects', '$15,000', 'bites', 'adequately', 'compensated', 'schedule', 'Eugene', 'Julian', 'Barnard', 'Montgomery', 'Horace', 'widow', 'killed', 'pleaded', 'manslaughter', 'fined', 'Warren', 'K.', \"years'\", 'probation', 'drive', 'driving', 'sentence', 'pronounced', 'accident', 'Lee', '39', 'violating', 'Planning', 'agreements', 'Redevelopment', 'Eastwick', 'Area', 'hazards', 'Corp.', 'acre', 'tract', 'bounded', 'parks', 'designated', 'Residential', \"Authority's\", 'master', 'feature', 'row', 'garden', 'apartments', 'churches', 'clusters', 'corporation', 'formed', 'Reynolds', 'Metal', 'builder', 'second', 'west', 'builders', 'developing', 'Would', 'bar', 'Reconstruction', 'Greece', 'sectors', 'barred', 'landscaped', 'esplanade', 'entire', 'length', 'eliminates', 'ran', 'pedestrian', 'bridges', 'Kansas', 'Mo.', 'UPI', 'International', 'injured', 'bomb', 'tore', 'apart', 'Stanton', 'Gladden', '42', 'figure', 'representation', 'fighters', 'teamsters', 'suffered', 'multiple', 'ankles', 'Baptist', 'Memorial', 'sets', 'blast', 'driveway', \"I'd\", 'ignition', 'flash', 'lying', 'sons', 'younger', 'boy', 'knocked', 'bed', 'wall', 'Hood', 'flies', 'hood', 'flying', 'roof', 'front', 'wheel', 'landed', 'away', 'laboratory', 'explosive', 'device', 'containing', 'TNT', \"car's\", 'target', 'threatening', 'torn', 'dissension', 'outspoken', 'critic', 'began', 'organizing', 'firemen', 'reward', 'bombing', 'guards', 'active', 'Turkey', 'Oct.', 'AP', 'Turkish', 'bowed', 'emergency', 'Gursel', 'contested', '15', 'bargaining', 'threat', 'army', 'coup', 'junta', 'overthrow', 'deadline', 'join', 'threatened', 'protocol', 'agreeing', 'demanded', 'pledges', 'satisfied', 'stated', 'solution', 'created', 'Vincent', 'Ierulli', 'temporary', '29', 'practicing', 'Portland', 'graduate', 'Northwestern', 'Law', 'father', 'structure', 'aiding', 'economically', 'World', 'Multnomah', '350', 'paths', 'identical', 'congenial', 'ours', 'adding', 'develop', 'society', 'loyalty', 'Germany', 'rebel', 'patience', 'century', 'By', 'doors', 'gives', 'peoples', 'compare', 'Individual', 'reason', 'fear', 'extraordinarily', 'helping', 'Private', 'absorb', 'exported', 'goods', 'products', 'total', 'towards', 'advice', 'coordination', 'plea', 'Ralph', 'Molvar', 'SW', 'thought', 'cooperating', 'strictly', 'Melvin', 'Barnes', 'waiting', 'sure', 'whatever', 'fruitful', 'Los', 'Angeles', 'send', 'disaster', 'Nobody', 'everybody', 'voice', 'her', 'please', 'faith', 'somebody', \"wouldn't\", 'everyone', 'rush', 'evacuation', 'lots', 'realistic', 'Jack', 'instructed', 'Salem', 'statewide', 'mothers', 'greeting', 'Mark', 'reception', 'noon', 'Empire', 'speak', 'Willamette', 'swearing', 'Circuit', 'game', 'Beaverton', 'No.', 'examined', 'specifications', 'workshop', 'advisory', 'elementary', 'Masonic', 'Temple', 'dinner', 'honoring', 'organized', 'p.m.', 'Roosevelt', '4:30', 'Whipple', 'Oregon', 'speakers', 'fund-raising', 'Edith', 'Al', 'Norman', 'Terry', 'Oak', 'Grove', 'Lodge', 'Water', 'Dec.', 'a.m.', 'Salter', 'seeks', 'five-year', 'Barbara', 'vacated', 'Hugh', 'two-year', 'Theodore', 'stronger', 'beliefs', 'grasp', 'delegates', 'Assemblies', 'God', 'strengthen', 'modern', 'trends', 'Bible', 'belief', 'dependence', 'Rev.', 'Zimmerman', 'bulwark', 'compromise', 'truths', 'editing', 'clarification', 'denomination', 'reads', 'scriptures', 'Old', 'Testament', 'verbally', 'inspired', 'revelation', 'infallible', 'authoritative', 'conduct', 'emphasizes', 'Lord', 'Jesus', 'Christ', 'sinless', 'miracles', 'cross', 'bodily', 'consecutive', 'Springfield', 'Election', 'forthcoming', 'opening', 'Brandt', 'missions', 'stressed', 'contact', 'Church', 'loses', 'upwards', '12,000', 'babies', 'born', 'immigrant', '1-1/2', '10,000', 'light', '1,000', 'Illinois', '800', 'England', 'vision', '8,000', 'accomplish', 'necessitate', 'meets', 'ability', 'capsule', 'includes', 'Encouraging', 'mature', 'pioneer', 'strategic', 'centers', 'pastors', 'volunteers', 'laymen', 'lending', 'graduates', 'apprentices', 'well-established', 'Dist.', 'Powell', 'motions', 'fraud', 'dismissal', 'striking', 'verdict', 'denying', 'trials', 'upheld', 'conspirators', 'defendant', 'Philip', 'linking', 'Proof', 'proof', 'mails', 'Miami', 'Fla.', 'Orioles', 'distinction', 'clubs', 'dropped', 'sixth', 'straight', 'exhibition', 'Athletics', '5', 'late', 'Birds', 'coasted', 'Siebern', 'hits', 'homer', 'Over', 'frames', 'Fisher', 'middle', 'Oriole', 'pennant', \"A's\", 'yielding', 'Dick', 'Hyde', 'entered', 'contest', 'existed', 'deadlock', 'Norm', 'solo', 'Tuttle', 'runs', 'eighth', 'ninth', 'fifth', 'throws', 'wild', 'Marv', 'Throneberry', 'stole', 'fanned', 'dirt', 'Heywood', 'Sullivan', 'catcher', 'singled', 'proved', 'winning', 'Rookie', 'southpaw', 'relieved', 'tally', 'baseman', 'pitch', 'Jerry', 'glove', 'performed', 'plate', 'fashion', 'blows', 'offerings', 'pitchers', 'doubles', 'Brooks', 'Robinson', 'pair', 'Breeding', 'Hartman', 'Bob', 'Ed', 'Keegan', 'mound', 'chores', 'club', 'Palm', 'Beach', 'Stadium', 'fourth', 'purchased', 'Milwaukee', 'Braves', 'appearance', 'merited', 'triumph', 'escaping', 'double', 'fence', '375', 'deep', 'Whitey', 'possibly', 'strongest', 'balls', 'Pete', 'Ward', 'failing', 'bunt', 'popped', 'grass', 'short', 'batting', 'fouling', 'pitches', 'Barker', 'bounced', 'Lumpe', 'inning', 'moved', 'Russ', 'crossed', 'Flock', 'Jackie', 'hole', 'Gentile', 'beat', 'grabbed', 'ball', 'threw', 'error', 'slammed', 'runners', 'stretch', 'blow', 'triple', 'Andy', 'rundown', 'scoring', 'blasted', 'scoreboard', 'hit', 'rapped', 'fast', 'break', 'streak', 'champion', 'Yankees', 'flavor', 'Florida', 'news', 'Ron', 'Hansen', \"Army's\", 'slugged', 'homers', 'drove', '86', 'freshman', 'squad', '49', 'players', 'shortstop', 'flew', 'Baltimore', 'signed', 'spectator', 'pounds', 'lighter', 'checked', 'reporting', 'weight', 'melt', 'breaks', 'camp', 'hence', 'inducted', 'Knox', 'physically', 'carrying', 'improved', 'fielding', 'Albany', 'surprise', 'slugging', 'sensation', 'defensive', 'hitters', 'engage', 'workout', 'prior', 'Brown', 'Hoyt', 'Wilhelm', 'specialists', 'slated', 'champions', \"tomorrow's\", 'P.M.', 'Sheldon', 'Roland', 'rookie', 'posted', 'N.Y.', 'farm', 'Walker', 'Art', \"Sunday's\", 'Houk', 'Casey', 'Stengel', 'Yankee', 'Petersburg', 'crowds', 'games', 'famed', 'assisting', 'coach', 'Steve', 'completing', 'hitch', 'accelerated', 'enlisted', 'bulky', 'contingent', 'Manager', 'Richards', 'coaches', 'streamlined', 'workable', 'Take', 'Bird', 'bat', 'celebrate', 'Just', 'pretty', 'Unfortunately', 'expired', 'pitching', 'arrived', 'nightfall', 'Dunn', 'flight', 'delayed', 'boarding', 'ramp', 'inflicted', 'damage', 'wing', 'plane', 'Clint', 'catching', \"League's\", 'Tokyo', \"we'd\", 'someplace', 'Md.', 'Small', 'Garden', 'Fresh', 'filly', 'downed', 'promising', 'colts', \"Patrick's\", 'seventh', 'stages', 'races', 'substantial', 'lead', 'tired', 'nearing', 'wire', 'save', 'Glen', 'bright', 'sun', 'brisk', 'condition', 'Prior', 'apprentice', 'suspended', 'ten', 'crowding', 'horses', 'crossing', 'gets', 'mating', 'Better', 'Self', 'allowance', '$10,000', 'claiming', 'Cleveland', 'Kerr', 'Knights', 'Columbus', 'Dave', 'Mills', 'duel', 'wiped', 'Big', 'king', 'yards', 'mark', 'thirds', 'turn', 'timed', 'twenty-first', 'indoor', 'season', 'thrill', 'slender', 'woman', 'broke', 'half-mile', 'Grace', 'Butcher', 'nearby', 'housewife', 'finished', 'snapped', 'Helen', 'Ohio', 'Francisco', 'Bobby', 'Waters', 'Ga.', 'relief', 'quarterback', 'Football', 'undergo', 'knee', 'Franklin', 'swelling', 'consult', 'physician', 'Tony', 'eleventh', 'donated', 'Chicago', 'Sox', 'halfback', 'plays', 'Moritz', 'Southwest', 'Conference', 'Time', 'clock', 'kick', 'nose', 'guard', 'hip', 'pads', 'favored', 'Cotton', 'Bowl', \"That's\", 'kicked', '14', 'tries', 'string', 'conversions', 'astray', 'slaughter', '1956', 'Stamford', 'place-kicking', 'So', 'bothered', 'muscle', 'thigh', 'kicking', 'leg', 'barely', 'playing', '110', '135', '26', 'miss', 'hampered', 'injury', 'missed', '77', 'statistical', 'net', '1957', 'ineligible', 'Place', 'timing', 'Once', \"there's\", \"I've\", 'boys', 'seem', 'helps', 'golf', 'swing', 'kicks', 'practice', 'kinda', 'Longhorns', 'scored', 'completions', '56', 'attempts', '37', 'rushing', 'brilliant', 'sophomore', '55', 'gained', 'touchdown', 'insists', \"he'll\", 'prevailed', 'SMU', 'coaching', \"week's\", 'Rice', 'happy', 'Coach', 'Meek', 'Academy', 'kids', 'stayed', \"we've\", 'Assistant', 'particular', 'gratification', 'performances', 'Happy', 'Nelson', 'Billy', 'Gannon', 'magnificent', 'interference', 'stops', 'Nick', 'loose', 'contributed', 'aerial', 'thrusts', 'screen', 'incomplete', 'spotted', 'nailed', 'yard', \"game's\", 'intercepted', '44', 'lay', 'waited', 'Except', 'Mike', 'Kelsey', 'doubtful', \"He'll\", 'blind', 'split', 'definitely', 'opener', 'Maryland', \"He's\", 'lot', 'film', 'reserves', '45', 'taper', 'Held', 'drill', 'tackle', 'undergoing', 'treatment', 'M', 'Because', 'rain', 'mud', 'End', 'Gene', 'idleness', 'ankle', 'Myers', 'shaken', 'Tech', 'Trinity', 'Bud', 'Denver', 'Buffalo', 'Hank', 'Buster', 'Ramsey', 'collectors', 'productive', 'Louisiana', 'upset', 'defending', 'luck', 'Stram', 'splendid', 'whip', 'dangerous', 'star', 'interior', 'exceptionally', 'movies', 'Davidson', 'throwing', 'passes', 'bang', 'strikes', 'tactic', 'controlling', 'giving', 'flashy', 'delivered', 'comforting', 'speedy', 'claimed', 'resulted', 'book', 'statistics', 'spree', '280', '64', 'tough', 'bulge', 'loop', 'Completing', 'leads', 'averages', '126', 'idle', 'Not', 'unofficial', 'checks', 'leagues', 'ordered', 'tests', 'Nischwitz', 'pinpoint', 'Bears', 'Indianapolis', '6-3', 'command', 'countless', 'viewers', 'Louisville', 'pack', 'walked', 'Charley', 'Hinton', '27', 'innings', 'unusual', 'characteristic', 'McAuliffe', 'cracked', 'Don', 'Rudolph', 'Jay', 'Cooke', 'Porter', 'bases', 'smash', 'rightfield', 'Phil', 'Indians', 'bunched', 'Chuck', 'tripled', 'Cliff', 'Dan', 'infield', 'roller', 'accounted', 'outfield', 'hammered', '45-degree', 'clicked', 'spectacular', 'showed', 'arm', \"season's\", 'obvious', 'lights', 'flooded', 'dark', 'organ', 'exotic', 'dancer', \"o'clock\", 'Lane', 'Mich.', \"world's\", 'ranked', 'lightweight', \"Gardner's\", 'diving', 'Minnie', 'Lemon', 'Minnesota', 'Twins', 'liner', 'fans', 'Turk', 'tagged', 'Ray', 'Moore', 'Reno', 'pop', 'fly', 'Roy', 'sacrifice', 'bottom', 'walking', 'aboard', \"Smith's\", 'solid', 'Ogden', 'Utah', 'Jensen', 'baseball', 'reflexes', 'sudden', '46', 'train', 'anybody', 'newsmen', 'trip', 'Olympic', 'Champion', 'Ann', 'awaited', 'heading', 'speculating', 'hurting', 'chances', 'Pacific', 'Railroad', 'Sports', 'Ensign', 'Ritchie', 'Standard', 'Examiner', 'compartment', 'conductor', \"You'll\", 'mad', 'magazine', 'cold', 'warmed', 'Liston', 'anything', 'keyhole', 'writer', 'quoted', 'anymore', 'Suddenly', 'grip', 'masses', 'tongues', 'Spahn', 'masterpiece', 'Giants', 'Willie', 'Mays', 'remarkable', 'feats', 'rightfully', 'pastime', 'cherished', 'achievements', 'elderly', 'hearts', 'guys', 'milestone', 'rookies', 'sighed', 'leaguer', 'waved', 'surely', 'belonging', 'all-time', 'Carl', 'Herb', 'Vernon', 'et', 'al', 'superior', 'pitcher', \"player's\", 'player', 'meaningless', '1951', 'guy', 'clubhouse', 'reaches', 'span', 'Incidentally', 'Hodges', 'trick', 'Phillies', 'Lou', 'Gehrig', 'Pat', \"Willie's\", 'revived', 'argument', 'merits', 'Mickey', 'Mantle', 'fan', 'ace', 'seasons', 'lifetime', \"Mickey's\", 'suddenly', 'park', 'forever', 'mystery', 'hitting', 'distressing', 'slump', 'TV', 'privileged', 'arrangement', 'blacked', 'blackout', 'televised', 'rulers', 'Living', 'Room', 'Athletic', 'helpless', 'network', 'abide', 'NBC', 'afternoons', 'arise', 'irritable', 'harm', 'purposely', 'dissatisfaction', 'terminated', 'Cincinnati', 'powerful', '19th', 'crushing', 'humiliating', 'barrage', 'loosely', 'finale', 'injuries', 'mounted', 'Johnny', \"Mantle's\", 'replacement', 'smashed', 'Yanks', 'applaud', 'bleachers', '400', 'trailing', 'Edwards', 'Wally', 'Post', 'slashed', 'Series', '1924', 'Eddie', 'Dyer', 'Cardinals', 'accomplished', 'feat', '23', 'Skorich', 'Eagles', 'elevated', 'three-year', '$20,000', '$25,000', 'Buck', 'Shaw', 'retain', 'Charlie', 'ends', 'Choice', 'selection', 'logical', 'Van', 'permission', 'Vikings', 'newest', 'entry', 'refused', 'reconsider', 'depended', 'advocate', 'balanced', 'Sutherland', 'Pittsburgh', 'quit', 'Catholic', '1949', 'Troy', 'ceremony', 'Richardson', 'championship', 'silver', 'shaped', 'award', 'Shea', 'awards', \"night's\", 'Chapter', 'Baseball', 'Graham', 'sports', 'columnist', 'Mazeroski', 'Pirates', 'Ben', 'Good', 'Guy', 'Award', 'Babe', 'Ruth', 'outstanding', 'Slocum', 'Mercer', 'Show', 'follows', 'writers', 'personalities', 'dance', 'song', 'prominent', 'background', 'imminent', 'Bernard', 'relentlessly', 'departure', 'Dodgers', 'California', 'barriers', 'convince', 'Branch', 'formation', 'franchise', 'majors', 'Flushing', 'stadium', 'Meadow', 'lease', 'Ford', 'Frick', 'prominently', 'Sands', 'Point', 'I.', 'Kathy', 'Patricia', 'switching', 'Georgetown', 'Later', 'owned', 'Long', 'Ted', 'Roger', 'Maris', 'outfielder', 'winner', 'Arnold', 'Palmer', 'Metropolitan', 'Golf', 'Writers', 'saluted', 'matches', 'Amateur', 'metropolitan', 'Gardner', 'amateur', \"writers'\", 'Gold', 'sponsorship', 'charity', 'tournaments', 'Professional', 'Hogan', 'Trophy', 'Stuart', 'Missouri', 'golden', 'blazing', 'twelve', 'Masters', 'Open', 'prize', 'Year', 'Illustrated', 'Belt', 'achieved', 'endeared', 'monstrous', 'human', 'brooding', 'abandonment', 'sport', 'frustrations', 'despair', 'perfection', 'commit', 'nor', 'motivated', 'athletics', 'respects', 'golfer', 'shooting', 'below', 'par', 'delivering', 'wailed', 'margin', 'narrow', 'fairway', 'majestic', 'arc', 'slice', 'sliced', 'bounds', 'hooked', 'ruefully', 'wayward', 'shots', 'strokes', 'wound', 'dozen', 'nice', 'easily', 'heartening', 'fell', 'evil', 'heyday', 'idol', '19', 'secondary', 'Chisholm', 'drank', 'lunch', 'gully', 'excavation', 'ye', \"countin'\", 'echoes', \"Palmer's\", 'honestly', 'Nor', 'knows', 'code', 'thoroughly', 'handy', 'flowed', 'floated', 'downstream', 'picked', 'potato', 'lie', 'naturally', 'alongside', 'spot', 'confessed', 'grin', 'happened', 'intensity', 'inherent', 'humor', 'strain', 'nerves', 'strings', 'Yet', 'competitors', 'bull', 'twelfth', 'tee', 'bunker', 'guarding', 'embankment', 'soft', 'rains', 'thereby', 'bringing', 'Ruling', 'lies', 'provisional', 'embedded', 'fathers', 'stroke', 'tournament', 'creature', 'supply', 'Minneapolis', 'fourteen', 'Warwick', 'hall', 'fame', 'amendments', 'teams', 'lengthening', 'thirteen', 'Nine', 'therefore', 'dates', 'heed', 'misled', 'slower', 'Bend', 'Mizell', 'Tonight', 'breaking', \"baseball's\", 'Redbirds', 'Change', 'Hemus', 'switch', 'Gibson', 'Ernie', 'collapse', 'eager', 'assignment', 'Larry', 'Harvey', 'flu', 'Cardinal', 'suffering', 'stiff', 'neck', 'Danny', 'Murtaugh', \"hadn't\", 'Nieman', 'lineup', 'lengthy', 'Stan', 'Musial', 'anniversary', 'sore', 'bats', 'quieted', 'recession', 'imposing', 'Smoky', 'Clemente', 'Hal', 'dragging', 'Perhaps', 'sit', 'Friend', 'beaten', 'Man', \"isn't\", 'jumped', 'ending', 'so-so', 'finishing', '96', \"'52\", 'Cards', 'triumphs', \"club's\", 'tumbled', 'recovering', 'runaway', 'overcame', 'worst', 'comparable', \"York's\", 'battling', 'dealt', 'lavish', 'words', 'Benington', 'Mankowski', 'Hartweger', 'Nordmann', 'conversation', 'respect', \"other's\", 'supposed', \"We'd\", \"Don't\", \"'em\", 'trio', 'shared', 'honors', 'editor', 'commended', 'clutch', 'excellent', 'Bradley', 'recalled', 'doubted', 'faults', 'admired', 'husband', 'bowl', 'thank', 'talking', 'letting', 'congratulated', 'shape', 'healed', \"Bill's\", 'inscription', 'compiled', 'Reid', 'Notre', 'Dame', 'overcome', 'anywhere', 'super', 'pitched', '5-1', 'Crystal', 'tie', 'trips', 'Len', 'busy', 'Teachers', 'Quincy', 'contented', 'cows', 'milk', \"shouldn't\", 'talents', 'harder', 'successfully', 'careers', 'frank', 'expectations', \"that's\", 'meant', 'knock', 'agree', \"they've\", 'heights', 'blond', 'sensational', '52', '130', 'Like', 'slugger', 'terror', 'ultimate', '51', 'happier', 'behaving', \"they're\", 'peaks', 'professionals', 'spelled', 'correctly', 'fifteenth', 'differently', 'rare', 'possessing', 'enabled', 'reserving', 'resented', 'push', 'thrilling', 'possessive', 'inherited', 'DiMaggio', 'Class', 'C', 'body', 'beautiful', 'preached', 'kid', 'bubble', 'gum', 'sow', 'oats', 'sights', 'Broadway', 'quietly', 'bestowed', 'intended', 'Major', 'continues', 'spread', 'thin', 'inviting', \"Angeles'\", 'Wrigley', 'glamorous', \"Ruth's\", '1927', 'Alvin', 'wonderful', 'Dark', 'Next', 'Leo', 'taught', 'rushed', 'Polo', 'Grounds', 'concerns', 'Joan', 'Monroe', 'Wendell', 'Lake', 'brother', \"bride's\", 'marriage', 'winter', 'holiday', 'occasion', 'arrive', 'Christmas', 'holidays', 'Peter', 'Westminster', 'sister', 'baby', 'mother', 'Alsop', 'bride', 'wedding', 'Met', 'bulletins', 'Sims', 'Cancer', 'Foundation', 'Opera', 'McCormick', 'exciting', 'evening', 'adds', \"board's\", 'publicity', 'Her', 'recently', 'university', 'east', 'Frederick', 'Hamm', 'Bruce', 'Arms', 'Stevens', 'niece', 'uncles', 'aunts', 'Homer', 'Here', 'Press', 'Tennis', 'buffet', 'supper', 'bus', 'tennis', 'loud', 'artistic', 'success', 'Fashion', 'ringing', 'ears', 'Geraghty', 'earn', 'acclaim', 'entertainment', \"summer's\", 'Trade', 'Armed', 'embassies', 'bushes', 'talent', 'Industry', 'cultural', 'activities', 'instance', 'dancers', 'whirling', 'dervishes', 'Damascus', 'obstacle', \"Geraghty's\", 'smoothed', 'separated', 'Egypt', 'Republic', 'visa', 'First', 'Honolulu', 'Japan', 'Hong', 'Kong', 'Pakistan', 'Rome', 'London', 'look', 'youngest', 'Molly', 'bows', 'gown', 'fitted', 'invitations', 'addressed', 'tea', 'Arts', 'folk', 'festival', 'singers', \"Chicago's\", 'sing', 'songs', 'Byron', 'Italian', 'studying', 'Florence', 'Europe', 'telling', 'engagement', 'girl', 'publishing', 'farewell', 'canceled', 'surgery', 'Clinton', 'King', 'Maureen', 'costumes', 'Towne', 'trees', 'streets', 'Lyon', 'wheeled', 'trains', 'en', 'Phoenix', 'Ariz.', 'portable', 'typewriter', 'hinted', \"ain't\", 'Pretty', 'Tommy', 'promotional', \"She's\", 'fallout', 'shelters', 'beer', 'nights', 'Everybody', 'ethics', 'morals', 'Gary', 'Lucille', 'Ball', 'scoop', 'Jane', 'Russell', 'singing', 'appearances', \"Russell's\", 'Drury', 'cry', 'pain', 'injection', 'nerve', 'studio', 'makes', 'column', 'Handsome', 'bachelor', 'favorite', \"Hollywood's\", 'glamor', 'Simon', 'Children', 'low-down', 'phones', 'Jude', 'Memphis', 'staging', 'entertain', 'underprivileged', 'mail', 'Box', 'dough', 'Garson', \"She'll\", 'Doris', 'Marty', 'tour', 'Carnegie', 'toast', 'movie', \"It'll\", 'Lover', 'Come', 'Back', 'Flower', 'Song', 'People', 'touches', 'fur', 'mink', 'Mason', 'goodness', 'sake', 'Herbert', 'slogan', 'Knight', 'Fall', 'Give', 'generously', 'buy', 'candy', 'Brain', 'charities', 'Best', 'showman', 'boss', 'holders', 'Stock', 'mentioned', 'wear', 'uniform', 'bayonet', \"Berlin's\", 'Gate', 'confident', \"They're\", \"earth's\", 'via', 'bombs', 'peasants', 'Albert', 'awarded', 'Nobel', 'African', 'struggles', 'collect', 'Tarzan', 'telephoned', 'muttered', 'Me', 'Everywhere', 'guttural', 'frightening', 'roles', 'Dolce', 'Vita', 'dynamite', 'opens', 'Loop', 'rest', 'swim', 'doings', 'Tribune', 'tells', 'misses', 'Jean', 'Angel', 'import', 'crazy', \"They'll\", 'lessons', 'cheer', 'Francis', 'suggestions', 'deposit', 'boxes', 'dies', 'closed', 'gala', 'Music', 'dancing', 'furnished', 'orchestra', 'Members', 'guests', 'suites', 'genial', 'Beginning', 'nightly', 'Bowman', 'birthday', 'Chase', 'coast', 'Santa', 'Calif.', 'Shoup', 'Colorado', 'Palace', 'black', \"Officers'\", 'stag', 'precede', 'dining', 'Parker', 'Eastern', 'Security', 'Life', 'Bldg.', 'Guests', 'staged', 'preceded', 'decorations', 'Stanley', 'Wright', 'Milton', 'Bradford', 'Campbell', 'Carruthers', 'Glass', 'Alfred', 'D.C.', 'cheery', 'smile', 'practical', 'down-to-earth', 'qualities', 'Esther', 'Marr', 'asset', 'Salvation', 'Social', 'Center', 'gray-haired', 'civilian', 'covers', 'tasks', '80', 'link', 'bridge', 'gulf', 'alcoholics', 'pressing', 'written', 'Week', 'plenty', 'schedules', 'solved', 'welcome', 'mat', 'decides', 'wants', 'sees', 'cup', 'steaming', 'coffee', 'awaiting', 'chat', 'informally', 'presents', 'Usually', 'withdrawn', 'bum', 'tickets', 'sporting', 'concerts', 'cookies', 'sugar', 'watching', 'parole', 'mid-June', 'vacation', 'forth', 'vast', 'lovely', 'bleak', 'abroad', 'suitcases', 'comic', 'magic', 'Ah', 'simple', 'reared', 'summertime', 'onslaught', 'journey', 'miles', 'Tucson', 'influx', 'testify', 'motels', 'comfort', 'stations', 'Scots', 'wagons', 'roadside', 'restaurants', 'snake', 'braced', 'boasting', 'offers', 'vacationing', 'beauty', 'accommodations', 'Maybe', 'tastes', 'peculiarities', 'Motel', 'heat', 'carpeted', 'storm', 'cellar', 'pools', 'boast', 'swimming', 'hospitable', 'poised', 'brink', 'adults', 'myself', 'tourists', 'village', 'marvel', 'luxury', 'relatively', 'motel', '$14', 'Winchester', 'Va.', 'accidentally', 'suite', 'elegant', 'gold', 'white', 'furniture', 'pink', 'satin', 'brocade', 'chairs', 'tile', 'bath', 'towels', 'proprietor', 'ants', 'Judith', 'Ellen', 'Methodist', 'Parents', 'bridegroom', 'officiated', 'Honor', 'attendants', 'Baker', 'chapel', 'Presbyterian', 'Rhodes', 'Kappa', 'Shreveport', 'Alpha', 'Fellowship', 'Freeman', 'Hand', 'music', 'wore', 'organdy', 'neckline', 'skirt', 'accented', 'lace', 'veil', 'crown', 'Baird', 'maid', 'Hartford', 'Conn.', 'Carter', 'Conrad', 'Ken', 'seated', 'Shirley', 'Meredith', 'Arlington', 'Hardy', 'Chapel', 'featuring', 'flared', 'jacket', 'pearl', 'orchids', 'Kay', 'Angelo', 'Cedric', 'Christian', 'Marie', 'Earl', \"Woman's\", 'studies', 'Night', 'Thrift', 'Shop', 'Philmont', 'reputation', 'fun', 'promises', 'tradition', 'food', 'colorful', 'hospitality', 'exactly', \"We've\", 'prospects', 'hats', 'excitement', 'Beat', 'festivities', 'jazz', 'combo', 'Lester', 'phase', \"R's\", 'oysters', 'specialties', 'chef', 'effects', 'scenic', 'flowers', 'handsome', 'typical', 'Cohen', 'display', 'Brothers', 'bundle', 'clothing', 'household', 'stock', 'shelves', 'Walnut', 'convenience', 'throughout', 'suburbs', 'deposited', 'bundles', 'dinners', 'Jewish', 'competence', 'contribution', 'totals', 'feminine', 'husbands', \"men's\", 'shop', 'hostesses', 'arrangements', 'Rose', 'secretarial', 'duties', 'aides', 'Lewis', 'Allan', 'controllers', 'Stone', 'Besides', \"David's\", 'dessert', 'Spurdle', 'Moody', 'Ethel', 'Harcourt', 'Newman', 'commentator', 'Hole', 'Wheeler', 'Boyd', 'Col.', 'Clifton', 'Troop', 'decades', 'invites', 'year-round', 'temperatures', 'Smythe', 'posters', 'invitation', 'Greater', 'arrange', 'exhibit', 'sale', 'paintings', 'sculpture', 'sponsors', 'artists', 'levels', 'Monte', 'Delaware', 'Valley', 'Nicholas', 'Marsicano', 'portrait', 'wins', 'door', 'originated', 'continuing', 'Others', 'Jerome', 'Meyer', 'chairmen', 'Jacques', 'Evelyn', 'Blumberg', 'Oscar', 'Evans', 'Book', 'Anderson', 'entertained', 'Hills', 'son-in-law', 'Janssen', 'Lynn', 'Drexel', 'Eileen', 'entertaining', 'Vienna', 'Dusseldorf', 'Anne', 'Taylor', 'Greenwich', 'Easter', \"latter's\", 'Pa.', 'Bermuda', 'Godwin', 'Vieth', 'Susan', 'Wall', 'celebrated', 'February', 'graduated', 'Louise', 'Wellesley', 'fraternity', 'Queen', 'Carnival', 'jointly', 'ballroom', 'downtown', 'Rex', 'hosts', 'debutante', 'Lady', 'hostess', 'restaurant', 'Richmond', 'Katherine', 'Vickery', 'attends', 'Margaret', 'Auditorium', 'ladies', 'Clayton', 'Eleanor', 'Eustis', 'ablaze', 'array', 'chic', 'worn', 'dances', 'queen', 'chose', 'slim', 'panels', 'Jordan', 'fringed', 'tiers', 'crimson', 'silk', 'slippers', 'maids', 'ashes', 'roses', 'slipper', 'dress', 'trimmed', 'edging', 'embroidered', 'threads', 'beads', 'cuts', 'lay-offs', 'A.M.', 'Simpson', 'drastic', 'decline', 'freight', 'loading', 'principally', 'necessitated', 'affect', 'employees', 'supervisors', 'unions', 'class', 'wages', 'struck', 'cab', 'Mount', 'Streets', 'victim', 'Wiley', '38', '900', 'robbery', 'attempted', 'bandit', 'automatic', 'store', '2100', 'Negroes', 'assaulted', '$150', 'register', 'choking', 'burned', 'seriously', 'damaged', 'one-room', 'Arundel', 'arrival', 'Annapolis', 'burns', 'Boy', 'occurred', 'mile', 'south', 'recording', 'mechanically', 'Jenkins', 'long-time', 'discrepancies', 'contained', 'memory', 'hate', 'write', 'machine', 'permanent', 'Pullen', 'Commissioners', 'bodies', 'suits', 'notes', 'boards', 'ambulance', 'Doctors', 'partially', 'parked', 'barber', 'summoned', 'deficiencies', 'snow', 'corrected', 'Councilman', 'Schaefer', 'Fifth', 'dispatched', 'storms', 'longer', 'Werner', 'north', 'improvements', 'slowly', 'Equipment', 'operations', 'manual', 'laborers', 'Work', 'resumed', 'parking', 'tires', 'chains', 'overlooked', 'merchants', 'survive', 'observations', 'clearance', 'inefficient', 'supplies', 'poorly', 'trained', 'plow', 'blades', 'layer', 'murdered', 'Chesapeake', 'Spring', 'victims', 'rifle', 'Capt.', 'Elmer', 'detectives', 'Benjamin', 'jurist', 'Younger', 'Soon', 'brick', 'bay', 'bedroom', 'kitchen', 'driven', \"mother's\", 'broadcast', 'brothers', 'natural', 'Route', 'Lloyd', 'Simpkins', 'administrative', 'Somerset', 'resident', 'Agriculture', '1947', \"university's\", 'outset', 'guiding', 'spirits', 'totaled', 'compared', 'Dodge', 'Corporation', '28', 'cumulative', 'amounted', 'corresponding', '33', 'consists', 'shelter', 'market', 'enjoyed', 'availability', 'mortgage', 'prosperity', 'consumer', 'encouraged', 'vary', 'choosing', 'hardware', 'manufacturing', 'seekers', 'maintaining', 'quality', 'components', 'increasingly', 'predicted', 'Harbor', 'View', 'Cherry', 'Ultimately', 'comprise', 'two-story', 'structures', 'Various', 'terrace', 'entrance', 'stairs', 'masonry', 'warm', 'secrets', \"Britain's\", 'submarine', 'Dreadnought', 'implication', \"navy's\", 'sub', 'spy', 'ring', 'agents', 'testified', 'built', 'designs', 'supplied', 'killer', 'hunter', 'hull', 'patterned', 'derived', 'reactor', 'Skipjack', 'British', 'Gee', 'devoted', 'friend', 'Houghton', 'divorced', 'Lonsdale', 'presumed', 'Russian', 'Canadian', 'passport', 'arrested', 'roll', 'candid', 'camera', 'anti-submarine', 'wrapping', 'Joyce', 'Krogers', 'Lola', 'suburban', 'cottage', 'transmitter', 'buried', 'dots', 'marks', 'dot', 'magnification', 'drawing', 'page', 'manuscript', 'innocent', 'bail', 'sorely', 'widowed', 'aunt', 'uncle', '76', 'magistrate', 'Bailey', 'criminal', 'Fuchs', 'naturalized', 'German', 'Russia', '1950s', 'sentenced', 'Fourteen', 'altered', 'behavior', 'promptly', 'communist', 'currency', 'asserted', 'selling', 'highest', 'undersea', 'grimly', 'adviser', 'underwater', 'warfare', 'drawings', 'ship', 'reproduced', 'undeveloped', 'Vic', 'potential', 'cleared', 'watched', 'broken', 'lawyers', 'clients', 'Almost', 'reveal', 'designing', 'nowhere', 'sharing', 'machinery', 'design', 'generation', 'advanced', \"Navy's\", 'Much', 'August', 'potent', 'Polaris', 'missile', 'atom', 'cooled', 'reactors', 'branch', 'Westinghouse', 'Electric', 'steam', 'greatly', 'complexity', 'navy', 'fastest', 'outrun', 'destroyers', 'reputedly', '70,000', 'hunter-killer', 'ships', 'gear', 'purse', 'detector', 'detecting', 'Range', 'detail', 'Designs', 'calling', 'signals', 'wavelengths', 'codes', 'hidden', 'fastened', 'lid', 'Oddly', 'indictment', 'narcotics', 'rumor', 'Perry', 'Teller', 'Sokol', 'racket', 'posed', 'addicts', 'sometimes', 'rivalries', 'aiming', 'criminals', 'grievances', 'creditable', 'mentions', 'compensations', 'nominated', 'Tree', 'medal', 'comments', 'convicted', 'peddler', 'Otis', 'Indiana', 'Av.', '$800', 'witness', 'Moses', 'Winston', 'agent', 'Jeremiah', 'Hope', 'Stewart', 'CTA', 'robbed', 'youths', 'Way', 'eyebrow', 'bag', '$40', 'Morgan', 'Wabash', 'boarded', 'bound', 'express', 'Dunbar', 'Vocational', '30th', 'supervisor', 'youth', 'ensued', 'fled', 'Blanche', 'murder', '1935', 'appealed', 'pardon', 'Stratton', 'slaying', 'lover', '1934', 'relationship', 'wealthy', 'Evanston', 'forbidden', 'chase', 'icy', 'Wilmette', 'Stickney', 'reckless', 'salesman', 'Patrolman', 'Simms', 'pursuit', 'speeding', 'Jenks', 'sped', 'spun', 'Prairie', 'Johns', 'Pohl', 'bludgeon', 'Anna', 'Hengesbach', 'visible', 'emotion', 'cell', 'vindicated', \"woman's\", '54', 'reach', 'cloud', 'neighbor', 'pleased', 'suspicion', 'removed', 'Still', \"else's\", 'misfortune', 'rebuild', 'settled', 'grandfather', 'southwest', 'barn', 'release', 'killing', 'confession', 'retracted', 'Prosecutor', 'Fred', 'Cash', 'motion', 'locked', 'overnight', 'foreman', 'Elsie', \"Pohl's\", 'valid', 'definition', 'packed', 'Sterling', 'Township', 'surviving', 'died', 'aftermath', 'Kowalski', 'Holy', 'bottled', 'adjoining', 'suburb', 'Services', 'Funeral', \"Anne's\", 'Mound', 'Mt.', 'Cemetery', 'rested', 'Elliott', '61', 'cook', 'stove', \"grandmother's\", 'upstairs', 'Eight', 'Mile', 'Road', 'candle', 'Cornell', 'fumes', 'girls', 'lacked', 'electricity', 'twin', 'escaped', 'Vicky', 'Dennis', 'Mother', 'seldom', 'arrears', 'tragedy', 'funeral', 'Sidney', 'supplying', 'meals', '$135', 'collected', '$400', 'announcing', 'subdivision', 'Students', 'canvass', 'northeast', 'mailed', 'Village', '$25', 'Principal', 'collection', 'revealed', 'surpluses', 'Funds', 'Student', 'proceeds', 'faculty', 'spontaneous', 'fondness', 'sympathy', 'Line', 'spoken', 'properly', 'alert', '10-year-old', 'patrol', 'conviction', 'youthful', 'Kimmell', 'McClellan', 'safely', 'approaching', 'narrowly', 'pursued', 'fleeing', 'Returning', 'Given', 'Traffic', 'Murphy', 'showdown', 'Help', 'Vientiane', 'Laotian', 'offensive', 'southeast', 'truce', 'Delhi', 'verify', 'thinking', 'troops', 'note', 'Ambassador', 'Winthrop', 'Heavy', 'minister', 'describing', 'appeal', '60,000', 'Vietnamese', 'confirmation', 'massive', 'assaults', 'sources', 'claims', 'exaggerated', 'Havana', 'Cubans', 'executed', 'firing', 'tribunals', 'captured', 'suspected', 'collaborators', 'McNair', 'executions', 'dawn', 'revolutionary', 'tribunal', 'Del', 'Rio', 'plot', 'Seattle', 'businessman', 'condemned', 'rebels', 'commander', 'Legion', 'Fidel', \"Castro's\", \"Anderson's\", 'seized', 'rifles', 'Report', 'roundup', 'Associated', 'swept', 'auditorium', 'converted', 'makeshift', 'jails', 'Roman', 'priests', 'concentration', 'Siberia', 'prisoners', 'Today', 'Emory', \"University's\", 'Trustees', 'taxing', 'roadblock', 'tax-exempt', 'institutions', 'segregated', 'standards', 'institution', 'grade', 'privileges', 'conforms', 'statutory', 'provisions', 'obstacles', 'desegregation', 'intend', 'exempt', 'taxation', 'criteria', 'endowments', 'colored', 'integrated', 'challenged', 'affiliated', 'newspaper', 'commitment', 'excellence', 'Teaching', 'paramount', 'generous', 'recognize', 'obligation', 'promote', 'creed', 'governing', 'documents', 'applications', 'prospective', 'irrespective', 'existence', 'derives', 'corporate', 'desiring', 'intellectual', 'moral', 'fulfillment', 'mission', 'riding', 'slid', 'pole', 'Waddell', 'NE', 'evidently', 'occupants', 'Willard', 'Leon', 'bruises', 'renewed', 'stand-ins', 'theaters', 'Appeal', 'Human', 'Rights', 'worded', 'art', 'contacted', 'COAHR', 'eve', 'operators', 'likelihood', 'sporadic', 'negotiate', 'Black', 'inability', 'indifference', 'integrate', 'pledged', 'extensive', 'presence', 'picket', 'profits', 'uptown', 'Killingsworth', '72', 'S', 'W', 'Survivors', 'sisters', '68', 'NW', 'painter', 'Emma', 'daughters', 'Nancy', 'Greenville', 'Little', 'Wallace', 'Wilmington', 'N.C.', 'rock', 'Slate', 'Crawford', 'Ronald', 'ripped', 'latch', 'scratching', 'melee', 'scratches', 'violent', 'attacked', 'subdued', 'uniforms', 'counts', 'assault', 'battery', 'resisting', 'disturbance', 'cursing', '5,000', 'desk', 'guest', 'Hall', 'disability', 'entries', 'ranging', 'transfers', 'pensions', 'wistfully', 'tribute', 'ant', 'eradication', 'pest', 'Pierce', 'Bryan', 'treat', 'acres', 'Blasingame', 'planes', 'chemical', '30,000', 'treating', '20,000', 'Macon', 'Turner', 'approximately', 'attacking', 'crops', 'wildlife', 'livestock', 'menace', 'humans', 'Expressway', '14th', 'survey', 'electric', 'computers', 'cameras', 'engineers', 'congestion', 'suggest', 'intersection', 'daylight', 'junction', 'Northeast', 'Northwest', 'fiery', 'crash', 'Patrol', 'Claude', 'path', '111', 'flames', 'auto', 'burst', 'flaming', 'unusually', 'category', 'allotment', 'commissioners', '$17,000', 'Webster', 'River', 'consultant', 'data', 'processing', 'considerable', 'electronic', 'magnetic', 'tape', 'renew', 'adapting', 'unique', 'handicapped', 'emphasized', 'employ', 'fulfill', 'handles', 'literally', 'wheels', 'directing', \"man's\", 'conversion', 'familiarity', 'Do', 'defend', 'Peck', 'moment', 'arguments', 'Patterson', 'Service', 'crippling', 'weaknesses', 'communications', 'F', 'objective', 'create', 'Huntley', 'Burnside', 'Detective', 'Murray', 'culminates', 'robberies', 'papers', 'Elaine', 'Schuyler', 'Bess', 'collision', 'Brett', '1926', 'Abbey', 'logging', '1928', 'Alice', 'Wash.', 'Lucy', 'Beatrice', 'grandchildren', 'AFL-CIO', 'collective', 'potentially', 'theatrical', 'producer', 'band', 'collapsed', 'Blvd.', 'functions', 'Fair', 'booked', 'collaborated', 'entertainers', 'Jimmy', 'profession', 'Harmony', 'lodge', 'AM', 'Scottish', 'Rite', 'Order', '99', 'Heights', 'Stein', 'Aaron', 'Cohn', 'Son', 'cemetery', 'omitted', 'Achievement', 'judged', 'competition', 'Tim', 'Larson', 'Wilson', 'Spice-Nice', 'guided', 'counseled', 'regional', 'barbecue', 'spices', 'stockholders', 'dividend', 'investment', 'teenagers', 'guidance', 'youngsters', 'businesses', 'culmination', 'adult', 'advisors', 'drawn', 'Savings', 'Bond', '$250', 'distributed', 'Nevada', 'Jefferson', 'Madison', 'Karen', 'Carlson', 'Hillsboro', '4-H', '8:30', \"day's\", 'flower', 'horsemanship', 'clown', 'shows', 'Attendance', 'skies', 'attract', 'baton', 'twirler', 'Sue', 'Results', 'Jossy', 'sheep', 'ribbons', 'exhibited', 'hog', 'Hutchins', 'Banks', 'showmanship', 'blues', 'rabbit', 'poultry', 'judging', 'eggs', 'Sherwood', 'male', 'female', 'bird', 'Strong', 'cooked', 'Millie', 'economics', 'demonstration', 'appeals', 'assessors', 'assessments', 'assessment', 'properties', 'quarterly', 'Pezza', '69', 'shoulder', 'pains', 'Giorgio', 'onto', 'slightly', 'ransacked', 'Cranston', 'furs', 'jewels', 'coins', 'Stephen', 'theft', 'Drive', 'coat', '$700', 'Persian', 'lamb', '$450', 'wallet', 'French', 'valued', 'rings', 'earrings', 'diamond', '$900', '$75', '$125', '$85', 'investigated', 'thieves', 'cabinets', 'bedrooms', 'sewing', 'dumping', 'raw', 'sewage', 'acid', 'jewelry', 'plants', 'flowing', 'tide', 'deed', 'bought', 'rental', 'garbage', 'rubbish', 'strike', \"company's\", 'collections', 'hired', 'Sydney', 'Workers', 'Smithfield', 'Beverly', 'satisfactory', 'ribs', 'chest', 'brushed', 'Vernava', 'Maple', 'tearing', 'rear', 'fender', 'impact', 'Fruit', 'audio-visual', 'acted', '3rd', 'finding', 'suitable', 'damages', '83', 'Interstate', 'valuation', 'one-story', 'represented', 'lieutenants', 'Fund', 'Persons', 'convenient', 'acknowledged', \"fund's\", 'quota', 'remembered', 'contributors', 'pennies', 'quarters', 'Parrillo', 'Fletcher', 'hunting', 'shotgun', 'discharged', 'heel', 'companion', 'Oliver', 'alterations', 'beds', 'Sorrentino', 'founder', 'Italy', 'decoration', 'celebrating', 'bestowal', 'escort', 'Newport', \"months'\", 'mercy', 'afloat', 'ashore', 'rescued', 'crew', 'drifting', 'raft', 'sinking', 'stopping', 'Scotland', 'liberty', 'rendered', \"girl's\", 'Birmingham', 'perjury', 'Freedom', 'Rider', 'burning', 'complaint', 'juror', 'Ku', 'Klux', 'Klan', 'membership', '59', 'farmer', 'Anniston', 'interfering', 'interstate', 'growing', 'Riders', 'freed', 'incident', 'expressing', 'Neither', 'excused', 'masked', 'lenient', 'alternate', 'formal', 'incidents', 'connections', 'imprisonment', 'NYU', 'Hester', 'dean', 'Sciences', 'Carroll', 'Princeton', 'associated', 'spraying', 'endangering', 'Buchheister', 'Audubon', 'Society', 'handing', 'loaded', 'Convention', 'controls', 'plague', 'wrecked', 'cane', 'crop', 'conservation', 'mistakes', 'Wyoming', 'pride', 'scientific', 'experiments', 'farmers', 'forgetting', 'birds', 'efficient', 'enemies', 'insects', 'rodents', 'rid', 'occasionally', 'grapes', 'urging', 'restrictions', 'seashore', 'preservation', 'breed', 'pollution', 'ratification', 'convention', 'halt', 'sea', 'oil', 'Reed', 'Rogers', 'Da', 'Wild', 'Marin', 'officially', 'inviolate', 'sanctuary', 'animals', 'Seventeen', 'Willy', 'Fiedler', 'climbed', 'cockpit', 'installed', 'V-1', 'attached', 'bomber', 'rolled', 'runway', 'earth', 'alive', 'pulse', 'jet', 'middle-aged', 'engineer', 'Missiles', 'Space', 'Sunnyvale', 'sat', 'pilots', 'crashed', \"Hitler's\", 'unknown', 'Allies', 'manned', 'Allied', 'shipping', 'cubic', 'mechanism', 'altitude', 'roaring', 'engine', 'streaked', 'beneath', 'pilot', 'rocket', 'faint', 'speck', 'hurtling', 'sky', 'incredible', '420', 'm.p.h.', 'beautifully', 'valve', 'adjust', 'fuel', 'strip', 'Using', 'steering', 'controlled', 'tail', 'surfaces', 'wings', 'equipped', 'bolted', 'managed', 'maneuver', 'landing', 'banked', 'airfield', 'skimmed', 'dust', 'flights', 'missiles', 'steer', 'suicide', 'dive', 'crack', 'halted', 'Lockheed', 'spare', 'slow', 'serene', 'challenging', 'Di', 'Martini', 'Schweitzer', 'world-famous', 'theologian', 'endorsed', 'Friends', 'Quaker', 'Leading', 'newer', 'weapons', 'otherwise', 'dread', 'imply', 'abolish', 'Governments', 'obligated', 'aware', 'ghastly', 'stupidity', 'jolt', 'complacency', 'operator', \"janitors'\", 'Shore', 'acquaintance', 'syndicate', 'Glimco', 'buddy', 'buddies', 'mob', 'gang', 'gambling', 'chiefs', 'Gus', 'Slim', 'Alex', 'Caesar', 'Monk', 'hoodlum', 'Arger', \"Stein's\", 'janitor', 'Maintenance', 'pier', 'probing', 'attempting', 'connect', 'gangsters', 'tracing', 'scrutiny', 'payments', 'janitors', 'workmen', 'factories', 'Leavitt', 'cousin', 'Sanitation', 'Supply', 'supervise', \"workers'\", 'closely', 'repaid', 'radiation', 'meter', 'detonation', 'radioactive', 'occur', 'Curtis', 'Huff', 'suppressed', 'warrant', 'charging', 'Loan', 'Gregorio', 'satisfaction', 'lucrative', 'lists', 'card', 'Bonn', 'Greek', 'Nazi', 'persecution', 'Probably', 'hottest', 'Foods', 'shares', 'explaining', 'Investors', 'counted', 'lucky', 'trading', 'price', 'managing', 'circulating', 'inquiries', 'Letters', 'wanting', 'reserved', 'cable', 'Switzerland', 'somehow', 'offering', 'Cable', 'translated', 'Swiss', 'underwriters', 'qualify', 'regularly', 'combination', 'boiling', 'upward', 'kinds', 'priced', 'roughly', 'earnings', 'yield', 'Second', 'chip', 'fancy', 'investors', 'lately', 'Lay', 'price-earnings', 'resistant', 'acting', 'ratios', 'merger', \"today's\", 'depression', 'remain', 'executives', 'abilities', 'competitive', 'survival', 'reaching', 'realizing', 'mergers', 'pound', 'corn', 'turns', 'buyers', 'world-wide', 'cotton', 'gin', 'maintain', 'manufacturer', 'coincidence', 'ginning', 'weighs', 'tons', 'proximity', 'safe', 'assumption', 'percentage', 'contain', '1896', \"They've\", 'occupied', 'grown', 'driers', 'cleaners', 'Gin', '1899', 'smaller', '1834', 'Headquarters', 'sells', 'domestic', 'export', '1900', 'mill', '1930', 'Presently', 'employs', '1912', 'Factory', 'Moss', 'Gordin', 'Unit', 'System', 'cleaner', 'cleaning', 'seed', 'maker', 'boil', 'extraction', 'mechanical', 'harvesting', 'drying', 'overhead', 'piping', 'belt', 'saws', 'Stacy', 'bearings', 'etc.', 'sizable', 'segment', 'slight', 'characterized', '3,000', 'comparison', 'quarter', 'pickup', 'dealers', 'prompt', 'makers', 'production', 'grab', 'larger', 'standard', 'models', 'Buick', 'Chrysler', 'Mercury', 'gains', 'Sales', 'banquet', 'winds', 'marketing', 'salesmanship', 'supplement', 'classroom', 'instruction', 'fields', 'Gerald', 'Adams', 'Janice', 'Whitney', 'Page', 'Hayes', 'Edna', 'Neal', 'Sharon', 'Ronnie', 'Potter', 'Woodrow', 'Housing', 'complex', 'sweeping', 'fringe', 'vice-president', 'gather', 'momentum', 'lift', 'peak', 'autumn', 'Sprinkel', 'Trust', 'closing', 'Investment', 'Draper', 'venture', 'communism', 'bluntly', 'appropriations', 'pan', 'improvement', 'pattern', 'abrupt', 'refuted', 'thesis', 'declaring', 'pessimism', 'questionable', 'Rather', 'abortive', 'lesson', 'probability', 'cautioned', 'excessive', 'stimulation', 'moderate', 'inflation', 'Reserve', 'tighten', 'monetary', 'phases', 'upturn', 'unsatisfactory', 'inappropriate', 'resulting', 'steel', 'dangers', 'threaten', 'justify', 'heritage', 'Clay', 'presently', 'yourself', 'sooner', 'liable', 'situations', 'hemisphere', 'continuation', 'sank', 'Dow', 'standing', 'routine', 'accompanied', 'orders', 'durable', 'Treasury', 'Dillon', 'lower', 'traded', 'comparatively', 'dull', 'Volume', 'dipped', 'envisioned', 'Peterson', 'Marketing', 'Bell', 'belong', 'creative', 'unconventional', '1970', '40%', 'expenditures', 'marketed', 'obviously', 'technology', 'tend', 'fairly', 'short-term', 'dares', 'Japanese', 'know-how', 'Exchange', 'exchange', 'securities', 'Oil', 'debentures', 'Read', 'holdings', 'surrender', 'convertible', 'Due', '1986', 'consisted', '100%', 'subordinated', 'thereafter', 'Chemical', '2-1/2', 'Diversified', 'Growth', 'Something', 'dividends', 'Answer', 'custodian', 'Fundamental', 'brain', 'programmed', 'shareholders', 'story', 'complaining', 'squared', 'finds', 'mistake', 'Doyle', 'undertake', 'selects', 'queries', 'far-reaching', 'alter', 'movements', 'satisfactorily', 'foreseeable', 'Perlman', 'merge', 'Round', 'B', 'weaken', 'Bad', 'O', 'consolidation', 'precarious', 'examiner', 'rebuffed', 'railroads', 'borrowing', 'rose', 'weekly', '$1.1', 'Consumer', 'outlook', 'one-third', 'resistance', 'buying', 'renting', 'narrowed', 'saturation', 'presumably', 'jump', \"1960's\", 'discrepancy', 'invited', 'businessmen', 'Farm', 'dealer', 'battered', 'chair', 'pickers', 'competitor', '50%', '20%', 'Though', 'experiencing', 'climbing', 'Paradoxically', 'slash', 'output', 'acreage', 'lowest', 'fertilizer', 'yields', 'Fields', 'dense', 'efficiently', 'supports', 'pushing', 'Seven', 'averaging', '10%', 'retail', '14%', 'Keeler', 'Harvester', 'lag', '5%', 'sections', 'notable', 'exceptions', 'extends', 'Farmers', 'tractors', 'implements', 'gasoline', 'appliances', 'chemicals', 'haggling', \"aren't\", 'conscious', 'Sioux', 'Iowa', \"Dealers'\", '25%', 'affects', 'shipments', 'Ltd.', 'Toronto', 'inventories', 'stepped-up', 'shortages', 'Motor', 'demanding', 'delivery', 'trailed', \"Government's\", 'feed', 'grain', 'planted', 'Nearly', 'chiefly', 'forecast', \"farmers'\", 'economists', 'incentive', 'receipts', 'marketings', 'Net', 'index', 'mid-September', 'depletion', 'pipe', 'clay', 'mined', 'figuring', 'taxable', 'deducted', 'percentages', 'materials', 'producers', 'assets', 'softened', 'returns', 'allows', 'mineral', 'signing', 'industries', 'deductions', 'furnish', 'particulars', 'Requests', 'suspects', 'donor', 'material', 'deduction', 'owed', 'disposed', 'liquidation', 'invoking', 'bars', 'incurred', 'stemmed', 'Ninth', 'challenges', 'creating', 'termination', 'taxed', 'entirety', 'taxpayer', 'pad', 'commenting', 'province', 'morality', 'transaction', 'kerosene', 'boats', 'railing', 'vessel', \"one's\", 'spouse', 'entitled', 'distributions', 'coverage', 'tax-free', 'frequent', 'pitfall', 'warn', 'declare', 'discriminatory', 'imposition', '2%', 'supreme', 'applied', 'subsidiary', 'identity', 'parent', 'computed', 'non-profit', 'realized', 'entities', 'edged', 'adjusted', 'chart', 'seasonal', 'adjustment', 'inclined', 'surge', 'Adjusted', 'steep', 'Greer', 'sophisticated', 'Neiman-Marcus', 'personification', 'creator', 'fashions', 'designer', 'shoes', 'France', 'toes', 'lowered', 'heels', 'revolutionized', 'shoe', 'ebony', 'plaques', 'Marcus', 'Treatment', 'loves', 'clothes', 'carefully', 'prefers', 'Occasionally', 'deserts', 'piece', 'simply', 'commuting', 'ranch', 'Mexico', 'Therefore', 'wardrobe', 'mobile', \"moment's\", 'shake', 'creations', 'designers', 'pictures', 'likes', 'classic', 'silhouette', 'charm', 'struggling', 'actress', 'drama', 'simplicity', 'appreciate', 'lively', 'glowing', 'greens', 'descent', 'Down', 'Ireland', \"father's\", 'Isles', 'postgraduate', 'Golden', 'Noel', 'Coward', 'Theater', 'Madame', 'Forsythe', '1943', 'portrayal', 'Auntie', 'Captain', 'princess', 'tribe', 'colonel', 'adept', 'fishing', 'Oriental', 'archaeology', 'serves', 'Symphony', 'Orchestra', 'trustees', 'Museum', 'Fine', 'Associations', 'supporters', 'Boys', 'patrons', 'vivid', 'opera', 'colony', 'flourishes', 'gravy', 'Are', 'Stay', 'apt', 'wrangler', 'buys', 'Tell', 'dishes', 'snacks', 'tables', 'charming', 'spice', 'Mostly', 'meat', 'potatoes', 'fat', 'hides', 'stomachs', 'physical', 'plates', 'hamburger', 'steak', 'maybe', 'pizza', 'Truman', 'Morocco', 'shiny', 'characters', 'Tibetan', 'monks', 'robes', 'cafeteria', 'Chicken', 'Cadillac', 'Use', 'chicken', 'breast', 'Salt', 'pepper', 'melted', 'butter', 'flour', 'baking', 'Bake', 'lightly', 'brown', 'Add', 'cream', 'seasoned', 'onion', 'juice', 'breasts', 'one-half', 'fresh', 'canned', 'Serve', 'ham', 'sprinkle', 'Leave', 'Danish', 'sculptured', 'facets', 'warmth', 'dignity', 'utter', 'indication', 'contemporary', 'Heritage', 'correlated', 'Studio', 'woods', 'assembled', 'Called', 'lasting', 'truly', 'avoids', 'monotony', 'pieces', 'varieties', 'Philippine', 'ceramic', 'tiles', 'marble', 'texture', 'tiled', 'floors', 'walls', 'windows', 'outdoors', 'Composite', 'decorating', 'variation', 'decorative', 'softening', 'arches', 'tops', 'acacia', 'snack', 'tucked', 'arched', 'functional', 'chests', 'heavier', 'poster', 'mirror', 'fabrics', 'tones', 'shades', 'finish', 'resist', 'soil', 'wrinkles', 'Design', 'rooted', 'forms', 'wearing', 'label', 'pedestal', 'walnut', 'combines', 'nostalgic', 'ladder', 'orange', 'reflecting', 'substance', 'maturity', 'wood', 'tall', 'gleam', 'copper', 'accessories', 'carpet', 'wool', 'pile', 'Saledo', 'dignitaries', 'Days', 'pool', 'western', 'attire', 'yellow', 'silhouettes', 'Mmes', 'McKee', 'travel', 'comprised', 'couples', 'motto', 'Go', 'Somewhere', 'chartered', 'Las', 'Vegas', 'buses', 'Wells', 'railway', 'vicinity', 'cookie', 'chocolate', 'Reese', 'Hilton', 'finals', 'Clara', 'Hawaiian', 'rich', 'yeast', 'bread', 'coconut', 'glaze', 'baked', 'dreamed', 'recipe', 'liked', 'Chandler', 'Building', 'heads', 'arts', 'architect', 'slides', 'Foliage', 'foliage', 'matched', 'reservations', 'Messrs.', 'Drs.', 'Robbins', 'Ludwig', 'Watson', 'Swim', 'originating', 'Midwest', 'passengers', 'practiced', '1917', 'Medical', 'Giving', 'violin', 'tiny', 'Hungarian', 'concert', 'linen', 'needles', 'yarn', 'Budapest', 'continents', 'tapestry', \"There's\", '90%', 'rainy', 'grammar', 'Getting', 'Generally', 'Gloriana', 'entails', 'Did', 'grow', 'hardship', 'pilgrimage', 'streetcar', 'Sometimes', \"weren't\", 'ocean', 'dismal', 'herself', \"they'd\", 'rides', 'logic', 'impeccable', 'fool', 'capable', 'legs', 'walks', 'Advance', 'notices', 'Register', 'Published', 'edition', 'updated', 'compact', 'ever-changing', 'numbers', 'addresses', 'marriages', 'Stars', 'denote', 'Cooper', 'Coopers', 'Tudor', 'Carla', 'Gregg', 'Elizabeth', 'Browning', 'Flowers', 'Pasadena', 'Judy', 'Changes', 'Arden', 'Connecticut', 'residing', 'exchanged', 'residence', 'Oxford', 'Henri', 'Anthony', 'Newcomers', 'Panama', \"Here's\", \"child's\", 'execute', 'puppets', 'lamp', 'puppet', 'flexible', 'lamps', 'delight', 'accent', 'wired', 'Measure', 'height', 'socket', 'inches', 'Make', 'metal', 'tube', 'inverted', 'L', 'foot', 'hang', 'Pulling', 'manipulate', 'suspend', 'fixture', 'tying', 'desired', 'resting', 'accord', 'drum', 'shade', 'adequate', 'sufficiently', 'illustrated', 'reminiscent', 'circus', 'edge', 'appealing', \"Today's\", \"America's\", 'decorators', 'shrewd', 'Colonial', 'era', 'appreciated', 'antiques', 'lurked', 'utilitarian', 'nondescript', 'supposedly', 'relegated', 'parlor', 'decorator', 'craftsmen', 'innate', 'Solid', 'Eighteenth', 'Century', 'versatile', 'Kings', 'Plus', 'outfit', 'specializing', 'comedy', 'distinctly', 'displaying', 'flanked', 'drums', 'guitar', 'batch', 'instruments', 'imagination', 'props', 'nonsense', 'pure', 'rated', 'nightclubs', 'chalk', \"let's\", 'noise', 'stick', 'elsewhere', 'Lounge', 'Phillips', 'refer', 'Sir', 'Judson', 'brings', 'Tahoe', 'pulling', 'pursuing', 'rhythm', 'smoother', 'substantially', 'format', 'piano', 'bass', 'trumpet', 'personality', 'rapport', 'accompanying', 'frantic', 'appraisal', 'Cafe', 'ownership', 'retains', 'decor', 'crystal', 'undergone', 'specialize', 'steaks', 'chops', 'prime', 'beef', \"Tom's\", 'dish', 'stuffed', 'features', 'pianist', 'preclude', 'Restaurant', 'Lauderdale', 'redhead', \"Governor's\", 'Mackey', 'reunion', \"hasn't\", 'wash', 'Mexican', 'Which', 'understandable', \"you've\", 'sampled', 'peppery', 'Papa', 'Escape', \"John's\", 'Newfoundland', 'distinguished', 'island', 'Smallwood', 'productions', 'Le', 'Theatre', 'Du', 'Ballet', 'ballets', 'Francesca', 'symphony', 'foundation', 'Coral', 'Gables', 'Jorge', 'Hollywood', 'Library', 'Workshop', 'author', 'lecturer', 'library', 'Anyone', 'discuss', 'relationships', 'librarian', 'workshops', 'Plant', 'assemblies', 'acquaint', 'Is', 'doorstep', 'Kern', 'Crusade', 'Communism', 'convinced', 'ideological', 'figured', 'careful', 'Christianity', 'four-hour', 'lecture', 'Operation', 'Abolition', 'marking', 'Family', 'vows', 'strive', 'fundamentals', 'uphold', 'Pamela', 'grace', 'bedtime', 'prayers', 'stories', '7:30', 'Lutheran', 'worship', 'pray', 'participate', 'Henderson', 'preach', 'Marriage', 'ordained', 'picnic', 'preaching', 'headmaster', 'Episcopal', 'becomes', 'musical', 'conducting', 'engagements', 'Anniversary', 'assignments', 'Radio', 'Cologne', 'Concert', 'Cecilia', 'box', 'Guest', 'performers', 'Isaac', 'Abel', 'Bishop', 'Leningrad', 'Kirov', 'finest', 'ballet', 'Beauty', 'incomparably', 'pleasure', 'mine', 'Imperial', 'vulgar', 'reactionary', 'aspect', 'persistent', 'indicates', 'capitalist', 'choreography', 'undistinguished', 'shapeless', 'assemblage', 'totally', 'utterly', 'enchantment', 'numerous', 'exclusively', 'winners', 'contests', 'skip', 'discover', 'crowning', 'virtue', 'friendliness', 'frankness', 'peculiar', 'impoverished', 'piety', 'Goldwater', 'sparkle', 'refinement', 'incomparable', 'Hit', 'delightful', 'lady', 'Yuri', 'wonderfully', 'virile', 'poetic', 'noble', 'character', 'Inna', 'Lilac', 'cast', 'spacious', 'sumptuous', 'dreams', 'peasant', 'muted', 'style', 'harmonies', 'scenery', 'soloists', 'solos', 'traveling', 'Mail', 'auspices', 'Chamber', 'Players', 'Chestnut', 'fixing', 'toys', 'sponsoring', 'toy', 'discarded', 'off-duty', 'Toys', '16th', 'warehouse', 'listing', 'sex', 'ages', 'instrument', 'charmed', 'rehearsal', 'Luis', 'lend', 'stuff', 'ought', 'immorality', 'billed', 'towering', 'monument', 'sins', 'ancient', 'three-hour', 'Romans', 'harmless', 'Gray', 'imagine', 'bored', 'senseless', 'brutality', 'sadism', 'actors', 'unfamiliar', 'villa', 'silent', 'films', 'boasted', 'tease', 'slip', 'drunk', 'knees', 'pillow', 'feathers', 'frigid', 'silly', 'Put', 'spell', 'begun', 'pall', 'swinging', 'summed', 'neatly', 'enthralling', 'glories', 'Monthly', 'moderates', 'literature', 'poets', 'USSR', 'Channel', 'Person', 'Festival', 'exploring', 'titled', \"Francisco's\", 'venerable', 'tip', 'language', 'briskly', 'austere', 'cap', 'leather', 'expensive', 'Where', 'fluid', 'Gas', 'fins', 'gulped', 'gallons', 'wiping', 'headlights', 'chrome', 'OK', 'Check', 'sir', 'polished', 'windshield', 'loving', 'stuck', 'nozzle', 'tank', 'gloomily', 'smallest', 'Get', 'mileage', 'unhappily', 'die', 'yesteryear', 'fore', 'aft', 'darling', 'doormen', 'Dollar', 'tipped', 'caps', 'politely', 'doorman', 'calm', 'blood', 'Duncan', 'Phyfe', 'snubbed', 'Presidents', 'furnishings', 'acquired', 'sofas', 'descendants', 'Andover', 'uncommon', 'acquisition', 'consisting', 'AID', 'undertaken', 'Jacqueline', 'secure', 'miniature', 'museum', 'Americana', 'unveiled', 'attributed', '1792', 'mantel', 'demolished', 'fireplace', 'painted', 'match', 'paneling', 'associates', 'Regional', \"people's\", 'lawn', 'Brevard', 'musicians', 'greet', 'crippled', 'Concerts', 'delighted', 'welcoming', 'approached', 'bandstand', 'Star', 'Hail', 'Marine', 'Band', 'grateful', 'mounting', 'shaking', 'Pfohl', 'white-clad', 'dozens', 'stretching', 'horizon', 'chamber', 'Vermont', 'paused', 'tent', 'blonde', 'Handicapped', 'nuns', 'Sharpe', 'tag', 'red', 'lemonade', 'teenage', 'gathered', 'listening', 'liaison', 'Baldrige', 'correspondence', 'Carolina', 'Gallery', \"Gallery's\", 'simultaneous', 'tours', '85', 'remaining', 'visitors', 'sad', 'noticed', 'Madonna', 'Monet', 'painting', 'impressionist', 'benches', 'downstairs', 'lobby', 'Confederacy', 'gallery', 'aide', 'sculptures', 'Renaissance', 'preferred', 'impressed', 'rotunda', 'fountain', 'seemingly', 'remote', 'perched', 'Masons', 'Pike', '1859', '1891', 'historian', 'poet', 'journalist', 'soldier', 'musician', 'laying', 'wreath', 'Ancient', '2:30', 'tomb', \"Nation's\", 'Alexandria', 'monotonous', 'discouraged', 'ignoring', 'disgusted', 'miserable', 'listened', 'poured', 'discussing', 'nearest', 'separately', 'solving', 'evenings', 'outsiders', 'measured', 'Skyline', 'materialize', 'leisurely', 'colors', 'haze', 'crucial', 'attitude', 'exchanges', 'confrontation', 'inevitable', 'desirable', 'realities', 'decisive', 'define', 'implement', 'Nikita', 'deterioration', 'heightened', 'announcements', 'catastrophe', 'stakes', 'encounters', 'Churchill', 'diplomacy', 'summit', 'inroads', 'informal', 'Camp', 'misunderstanding', 'denunciation', 'tended', 'propaganda', 'concessions', 'negotiation', 'aims', 'Thus', 'intimated', 'inauguration', 'confronted', 'delicate', 'shifting', 'smiles', 'toughness', 'debates', 'compel', 'awakening', 'shift', 'weakened', 'illusion', 'formulating', 'Above', 'hat', \"Khrushchev's\", 'eventual', 'Ideally', 'concrete', 'adversary', 'probe', 'satisfy', 'inflexible', 'tensions', 'caution', 'willingness', 'reflected', 'dated', 'broad', 'briefly', 'Developments', 'intense', 'inner', 'councils', 'advisability', 'precisely', 'three-man', 'directorate', 'veto', 'pressures', 'Russians', 'secretly', 'testing', 'troubled', 'fatal', 'disarmament', 'China', 'urgent', 'principle', 'organs', 'Control', 'insistence', 'Initially', 'dampened', 'lest', 'episodes', 'dangerously', 'erroneous', \"West's\", 'penetration', 'Beyond', 'warnings', 'impunity', 'strengthened', 'Vietnam', 'cocky', 'aggressive', 'grave', 'turning', 'midst', 'deliberations', 'Embassy', 'negotiating', 'vigorous', 'well-informed', '44-year-old', 'demonstrated', 'reactions', 'disapproval', 'expectation', 'salutary', 'rely', 'instincts', 'adversaries', 'plain', 'pause', 'equation', 'dragged', 'reluctantly', 'initiative', 'conversations', 'notions', 'disunity', 'Finally', 'feelings', 'belongs', 'interpret', 'panic', 'exploit', 'scope', 'mechanisms', 'adaptation', 'shell', 'evolutionary', 'scheme', 'cancel', 'biology', 'aptly', 'illustrate', 'accomplishment', 'brethren', 'cease', 'wonder', 'miracle', 'centuries', 'minorities', 'ourselves', 'prone', 'zeal', 'generosity', 'retrospect', 'indeed', 'unified', 'Official', 'allocation', 'diocesan', 'Catholics', 'responded', 'owe', 'sacrifices', 'esprit', 'protective', 'detachment', 'achieves', 'orientation', 'identification', 'founded', 'supernatural', 'nourished', 'devotion', 'satisfying', 'dimension', 'uniquely', 'sparks', 'Had', 'goaded', 'subsidized', 'parish', 'staffed', 'produces', 'wasteful', 'duplication', 'clustered', 'isolated', 'represent', 'riot', 'collegiate', 'temper', 'tone', 'resembled', 'resembles', 'qualifications', 'specialized', 'brand', 'participation', 'e.g.', 'employee', 'outsider', 'hiring', 'democratic', 'secular', 'academic', 'scholar', 'citizenship', 'emerges', 'loath', 'delegate', 'mortal', 'varying', 'temperament', 'interests', 'capabilities', 'select', 'owns', 'phrase', 'attainment', 'pictured', 'paradox', 'framed', 'Outside', 'partners', 'grips', 'recruiting', 'caliber', 'Word', 'spreads', 'tightly', 'knit', 'conferences', 'stereotype', 'boycott', 'declines', 'gamble', 'Civil', 'guarantee', 'tenure', 'significant', 'coveted', 'depreciation', 'exaggerate', 'salaries', 'substitute', 'cause', 'earning', 'intangible', 'Religious', 'derive', 'underestimate', 'reservoir', 'idealism', 'stimulus', 'communication', 'actual', 'in-group', 'envision', 'definitive', 'titles', 'technique', 'conclusions', 'destroying', 'familiar', 'useful', 'artificial', 'structured', 'difficulty', 'campus', 'i.e.', 'eating', 'Nebraska', 'anti-monopoly', 'argue', 'restricted', 'restriction', 'Or', 'equality', 'forbid', 'begging', 'sleeping', 'generated', 'fallen', 'jurisdictional', 'squabbles', 'plagued', 'shocked', 'allegedly', 'trivial', 'disputes', 'sums', 'equivalent', 'provoked', 'indignation', 'footing', 'undertakes', 'Aircraft', 'attributable', 'overtime', 'defective', 'regulation', 'abuses', 'electrical', 'evoked', 'anti-trust', 'justified', 'rationale', 'inform', 'undefined', 'foolish', 'Let', 'engaging', 'rig', 'allocate', 'marginal', 'manufacture', 'varied', 'Naturally', 'enterprises', 'giants', 'muscles', 'survivors', 'Uncle', 'accuse', 'monopoly', 'protection', 'implicit', 'decree', 'fellows', 'tool', 'theory', 'govern', 'facts', 'flood', 'usefulness', 'Folklore', 'Capitalism', 'unconsciously', 'organizations', 'ideology', 'uncontrolled', 'dictatorship', 'penalties', 'invoked', 'Pp.', 'empires', 'fantastic', 'fundamental', 'evaluating', 'occasional', 'irrational', 'nominal', 'untrammeled', 'sentences', 'unprecedented', 'impersonal', 'devised', 'rational', 'Quite', 'advocating', '1933', 'Industrial', 'Taft-Hartley', 'organizers', 'gigantic', 'tortured', 'reasoning', 'ambition', 'exercise', 'squarely', 'commodities', 'bags', 'wheat', 'agricultural', 'subsidy', 'reacting', 'antagonism', 'imposes', 'commodity', 'nineteenth-century', '1776', 'Adam', 'Parliament', 'combining', 'customs', 'outlawed', 'monopolies', 'denounced', 'employers', 'combinations', 'convert', 'pious', 'vs.', 'Justice', 'mechanics', 'regulated', 'manufactured', 'article', 'exist', 'mechanic', 'Daily', 'necessity', 'enacting', 'measures', 'aimed', 'injunctions', 'extend', 'assuring', 'deemed', 'exemption', 'steamship', 'guise', 'giant', 'consumers', '1914', 'stating', 'interpretation', '1922', 'Mine', 'Coal', 'alleging', 'interfered', 'commerce', 'interrupt', 'indirect', 'Herter', 'Gore', 'understatement', 'erupted', 'fronts', 'Congo', 'chaos', 'stirred', 'tanks', 'artillery', 'Dictator', 'blunt', 'embassy', 'staffs', 'eleven', '120', 'self-respect', 'endure', 'Through', 'President-elect', 'Rusk', 'huddle', 'reacted', 'invaded', 'readiness', 'Cutting', 'aircraft', 'carriers', 'Lexington', 'Bennington', 'Sea', 'swarm', 'marines', 'southward', 'signal', 'exaggeration', 'cautious', 'sorts', 'Political', 'chaotic', 'mountainous', 'Indian', 'Chinese', 'Foster', 'Dulles', 'specimen', 'appeasement', 'becoming', 'seize', 'northern', 'intrigue', 'drops', 'transports', \"Year's\", 'cool', 'Considering', \"war's\", 'terribly', 'ominous', 'confront', 'Inauguration', 'turmoil', 'gates', 'Study', 'fought', 'unspoken', 'counting', 'noses', 'liberals', 'namely', 'Colmer', 'choppy', 'gait', 'swung', 'initially', 'suspicious', 'constituents', 'segregationist', 'embarrassing', 'pretext', 'lukewarm', 'electors', 'unheard', 'forgive', 'rebellion', 'campaigned', 'reprisal', 'Said', 'whites', 'huddling', 'tense', 'Southerner', 'flatly', 'Mister', 'thereupon', 'oust', 'inferior', 'News', 'leaked', \"Missouri's\", 'Cannon', 'purple', 'shouted', \"Speaker's\", 'dreadful', 'excluding', 'Sitting', 'pork', 'barrel', 'raged', 'lose', 'numbered', 'smelling', 'Committees', 'maverick', 'arenas', 'applying', 'loomed', 'specter', 'Southerners', 'truncated', 'deliberately', 'face-saving', 'version', 'liberal-conservative', 'contrast', 'guerrilla', 'restrict', 'wide-ranging', 'Hubert', 'Humphrey', \"Massachusetts'\", 'phalanx', 'traditionally', 'filibuster', \"Mexico's\", \"Senate's\", 'notorious', 'Rule', 'ante', 'mere', 'Privately', 'modification', 'binding', 'rounded', 'choke', 'perennial', 'Vice', 'virtually', 'presiding', 'painful', 'chore', 'declaration', 'tight', 'presidency', 'staunchest', 'Player', 'lap', 'disbelief', 'licked', 'bite', 'midway', 'holes', 'Augusta', 'teeth', '34', 'washed', \"Player's\", '15th', 'putt', 'scrambled', 'mishap', 'tears', 'sand', 'wedge', 'slope', 'tower', 'Afterwards', 'Coe', 'hasty', 'agonizing', 'graciously', 'recover', 'composure', 'visibly', 'putting', 'beside', \"Roberts'\", 'stared', 'amazement', 'rounds', 'comfortable', 'closest', 'lean', 'overtake', 'disappointing', '73', 'intact', 'deliberate', 'Half', 'erratic', 'meteorological', 'Unlike', 'spontaneously', 'sight', 'prestige', 'Pensacola', 'winnings', 'somewhere', 'paired', 'threesome', 'chapter', 'whichever', 'awed', 'Thereafter', 'rivalry', 'instantly', 'moist', 'golfers', 'boldly', 'consequences', 'Rosburg', 'enormous', 'unquestionably', 'essentially', 'shaky', 'accurate', 'gray', 'ugly', 'focus', 'destined', 'conspicuously', 'birdie', 'pars', 'birdied', 'bogey', 'Starting', '2nd', 'roar', 'landscape', 'answered', 'moments', 'unmistakably', 'grimace', 'proceeded', 'sink', 'rolling', 'boldness', 'gifted', 'axiomatic', 'dominate', 'vehemence', 'contemptuous', 'earnest', 'aggressiveness', 'stepped', '6th', '8th', 'downhill', 'measuring', 'pine', 'separating', 'Having', '160', 'settling', 'hoping', \"you'd\", 'forget', 'chipped', 'switched', 'northwest', 'subsequent', 'drives', '450', 'sublime', 'muscular', 'awe', 'Gregory', 'Pearson', 'Angels', 'borders', 'ridiculous', 'borrowed', 'major-league', 'successive', 'grumble', 'shrinking', 'zone', 'Experts', 'Whatever', 'peril', 'endurance', 'doubly', 'jeopardy', 'athlete', 'Herman', 'thwarted', 'ultimately', 'amazing', 'seventeen', 'Always', '58', '1932', '1938', 'spurred', '108', '43', \"Maris's\", 'paces', 'mathematically', 'flourish', '154', 'ideal', 'easier', 'understandably', 'concede', 'primarily', 'quote', 'enjoys', 'seeing', 'Cerv', 'Airport', 'couch', 'divide', 'cooking', 'breakfast', 'sandwich', 'strikingly', 'backgrounds', 'stars', 'minors', 'recalls', 'wished', 'extent', 'alike', 'hair', 'weigh', 'incredibly', 'backs', 'overdeveloped', 'shoulders', 'purchases', 'Light', 'classified', 'opus', \"Miller's\", 'Tropic', 'literary', 'broadened', 'minds', 'passages', 'aloud', 'reporter', 'surprising', 'trait', 'ballplayer', 'pleasant', 'photographers', 'cooperative', 'locker', 'volunteered', 'anecdote', 'occasions', 'dumb', 'angry', 'Dutch', 'Send', 'Reading', 'Farrell', 'Play', 'gentlemen', 'heroes', 'sportswriter', 'kidding', 'aching', 'crushed', 'vowed', 'ties', 'zinc', 'cents', 'mining', 'left-handed', 'possess', 'dug', 'fierce', 'swings', 'nineteen', 'seconds', 'dash', 'swift', 'daring', 'weapon', 'inevitably', 'weaker', 'startling', '1919', 'conspired', 'grew', 'disinterested', 'Into', 'winged', 'Sinatra', 'brother-in-law', 'entourage', 'sweater', 'Frankie', 'Eve', \"capital's\", 'Fitzgerald', 'Australia', 'cats', 'doubtless', 'Inaugural', 'Loper', \"ladies'\", 'ensembles', 'stitch', 'Pentagon', 'accumulation', 'vines', 'weeds', 'lifted', 'hitched', 'rein', 'belonged', 'someone', '1940', 'socks', 'window', 'Elder', 'Adlai', 'Stevenson', 'U.N.', \"Island's\", 'Greene', 'hearty', '93', 'oldest', 'undergraduate', 'Fabian', 'Lacking', 'classmates', 'lad', 'sportsman', 'tapped', 'rallies', 'Zealand', 'smothered', 'exhaust', 'slob', 'gaudy', 'racing', 'ruddy', 'lazy', 'frustrating', 'Has', 'virtues', 'interviewed', 'Chaplin', '1952', 'confided', 'grandiose', 'experiment', 'impressions', 'glimpsed', 'sly', \"Europe's\", 'enigma', 'vaguely', 'wealth', 'eccentricity', 'ardor', 'collecting', 'headlines', 'first-class', 'fabled', 'legend', 'fortune', 'dying', 'boom', 'bargain', 'continent', 'Modern', 'barge', 'lavishly', 'drivers', 'Picasso', 'hung', 'trusted', 'housed', 'Ernst', 'arranged', 'prizes', 'scarcely', 'glanced', 'treasures', 'revenge', 'bare', 'applicant', 'classrooms', 'admit', 'kindergarten', 'Alabama', 'Hamilton', 'Holmes', 'Charlayne', 'skins', 'journalism', 'tentatively', 'investigators', 'lasted', 'ritual', 'prostitution', 'beatnik', 'evasive', 'lied', 'desegregated', 'plaintiffs', 'Chancellor', 'Kimpton', 'hunt', 'gripped', 'Midway', 'Out', 'statesmen', 'Conant', 'pondered', 'successors', 'lure', 'scholars', 'happily', 'Beadle', '57', 'Prize', 'discovering', 'heredity', 'Cover', 'reign', 'wildly', 'enrollment', 'recruit', 'excite', 'researchers', 'unexpected', 'Journal', '$300', 'philosopher', 'consequently', 'finger', 'Belgians', '1885', 'grabbing', 'wilderness', 'quarreling', 'tribes', 'historical', 'boundaries', 'geography', 'ethnic', 'groupings', 'explorers', 'gunmen', '13.5', 'culture', 'innumerable', 'dialects', 'religions', 'ancestor', 'ranges', 'patients', 'Belgian', 'administered', '1908', 'touched', 'conscience', 'commencing', 'colonialism', 'independence', 'Congolese', 'imagines', 'infant', 'tin', 'uranium', 'palm', 'Brussels', 'beneficiaries', 'Inside', 'describes', 'Generale', 'Mutual', 'Insurance', 'producing', 'ruthless', 'exploited', 'compassion', 'instituted', 'ration', 'obliged', 'eat', 'hungry', '25,000', 'puzzle', 'la', 'le', 'indefinite', 'fearing', 'elite', 'unrest', 'manifestly', 'unprepared', 'oversimplification', 'prepare', 'colonies', 'sang', 'detested', 'mess', 'motivations', 'Kasavubu', 'splitting', 'Moise', 'Tshombe', 'Third', 'notably', 'Patrice', 'Lumumba', 'hurry', 'fragmentation', 'provincial', 'provinces', 'Leopoldville', 'Katanga', 'unfortunately', 'universal', 'assume', 'respectable', 'Twenty-four', 'commenced', 'savage', 'mutiny', 'looting', 'engulfed', 'succeeding', 'blamed', 'withdrawal', 'Hammarskjold', 'preferable', 'nonwhite', 'Tunisia', 'Sweden', 'reluctant', 'withdraw', 'obstructed', 'complicated', \"U.N.'s\", 'initiating', 'wars', 'secede', 'dispatching', 'openly', 'three-month', 'flung', 'redoubled', 'departed', 'withdrawing', 'uniformed', 'variously', 'mercenaries', 'interfere', 'kidnaped', 'appropriate', 'occurrence', 'resort', \"Lumumba's\", 'reliance', 'Bizerte', 'quo', 'Mediterranean', 'Tunisian', 'irreconcilable', 'picks', 'Inter-American', 'Main', 'Alliance', 'Progress', \"China's\", 'dapper', 'diminutive', 'Chen', 'Chiang', 'Outer', 'woo', 'abstention', 'conferred', 'Guatemala', 'Boeing', '707', 'Airlines', 'Flight', 'teen-age', 'aisle', 'bent', 'stomach', 'sick', 'Salvador', 'Desert', 'Rickards', 'pirates', 'guns', 'elder', 'Sacramento', 'recruits', 'awoke', 'nap', 'nut', 'volunteer', 'hostages', 'Augustine', 'Gilman', 'Immigration', 'Border', \"sheriff's\", 'surged', 'submachine', 'ordinarily', 'consumed', 'airplane', 'steal', 'shadows', 'Mountains', 'pry', 'baggage', 'luggage', 'subsequently', 'Bearden', 'Coolidge', 'high-school', 'Tension', 'Beardens', 'slug', 'Officer', 'Simmons', 'ultimatum', 'take-off', 'raced', 'slugs', 'flattened', 'silenced', 'inboard', 'engines', 'Crosby', 'eased', 'unarmed', 'distracted', 'pocket', 'nodded', '$100,000', 'transporting', 'Taking', 'precedence', 'unanimity', '0', 'peacetime', 'requested', 'labeled', 'B-52', 'long-range', 'bombers', 'Strategic', 'Command', 'Debate', 'all-important', 'Food', 'stew', '1851', 'ceased', 'Maine', 'Idaho', 'menu', 'drab', 'bean', 'soup', 'citizenry', 'ventured', 'toll-road', 'turnpikes', 'Higher', 'toll', 'speculative', 'Things', 'streams', 'speculations', 'investments', 'tending', 'slipped', 'rises', 'risen', 'unmarried', 'happening', 'lags', 'turnpike', 'Turnpike', 'slumped', \"road's\", 'preceding', 'Costs', '121', 'successes', 'Success', \"engineers'\", 'rosy', 'extensions', 'access', 'illustration', 'Further', 'deficiency', 'opportunities', 'planners', 'Already', 'margins', 'attracting', 'Luther', 'Fiat', 'Olivetti', 'calculating', 'Follow', 'Plan', 'enables', 'fraction', 'skilled', 'infrequent', 'exports', 'layout', 'vigor', 'textiles', 'imports', 'textile', 'Important', 'noting', 'industrialized', 'low-wage', 'curbing', 'limiting', 'Pact', 'None', 'capture', 'loudly', 'protest', 'Spanish', 'Portuguese', 'pour', 'quotas', 'stabilization', 'clue', 'Note', 'modernization', 'shrinkage', 'feasible', 'Special', 'forcing', 'shrink', \"What's\", 'handwriting', 'coal', 'miners', 'cheap', 'mouths', 'Wales', 'Welsh', 'markets', 'ton', 'cheaper', 'rail', 'mines', 'mechanization', 'seams', 'twisting', 'fiction', 'apologetically', 'sorry', 'Behind', 'variations', 'ever-present', 'libraries', 'readers', 'lovers', 'nonfiction', 'clientele', 'diversified', 'budgets', 'hopelessly', 'startlingly', 'exceed', 'richest', 'plight', 'proportionately', 'limitations', 'bounty', 'contrasts', 'density', 'cross-section', 'extreme', 'upper', 'populated', 'Nassau', 'ample', 'thriving', 'wary', 'cherish', 'joining', 'radical', 'autonomy', 'preserved', 'maintains', 'advantages', 'librarians', 'foresee', 'distant', 'requires', 'volumes', 'nucleus', 'develops', 'thirty', 'fifty', 'capita', 'inclusive', 'recognizes', 'broaden', 'everyday', 'Hempstead', '1965', 'Basic', 'tools', 'backbone', 'specialization', 'founding', 'periodicals', 'connected', 'truck', 'canvas', 'psychology', 'religion', 'biography', 'centered', 'repository', 'wholly', 'comprehensive', 'saves', 'bulk', 'discounts', 'bookkeeping', 'billing', 'Books', 'resource', 'Schools', 'documentary', 'catalogue', 'classics', 'understands', 'responsibilities', 'conducts', 'Sample', 'copies', 'evaluate', 'Story', 'prepares', 'displays', 'publishes', 'Substance', 'newsletter', 'governed', 'geographically', 'bear', 'borne', 'multiplying', 'newcomers', 'teen-agers', 'citizen', 'advances', 'educated', 'discriminating', 'slave', 'spiritual', 'restraint', 'falls', 'grows', 'translate', 'inadequacy', 'vigorously', 'pupils', 'render', 'vitally', 'richer', 'fuller', 'conjunction', 'abandoning', 'budgeting', 'insured', 'shuffle', 'await', 'drag', 'limits', 'repeal', 'fireworks', 'Fortunately', 'spared', 'resolutions', 'empire', 'congratulate', 'answers', 'proudly', \"Jefferson's\", 'dictum', 'Keep', 'governors', 'wolves', 'penetrating', 'peeled', '$30,000', 'undertaking', 'abundant', 'strengthens', 'replacing', 'retaliation', 'removes', 'hers', 'besides', 'stance', 'guess', 'extremity', 'Soviets', 'aggressions', 'bluff', 'builds', 'DeKalb', 'beam', 'minimum', 'sanitation', 'demonstrating', 'observed', 'Africans', 'Power', \"Company's\", 'Either', 'sounds', 'nurses', 'deserve', 'intensive', 'helpful', 'Trujillo', 'repulsive', 'dictator', 'Dominican', 'deserved', 'Ciudad', 'Caribbean', 'assassination', 'scores', 'deaths', 'Maria', 'schemes', 'Venezuela', 'demise', 'uncovered', 'professedly', 'tends', 'oppressive', 'silence', 'criticism', 'vanity', 'displeasure', 'maintained', 'amply', 'chanted', 'friendship', 'altogether', 'tarnished', 'repression', 'tyranny', 'confines', 'censure', 'illustrating', 'precious', 'stability', 'vacuum', 'creates', 'twist', 'breathe', 'Start', 'Parkway', 'constitute', 'sample', 'Capital', 'presenting', 'NCTA', 'frankly', 'launching', 'parkway', 'inference', 'barricades', 'acquiesce', 'wartime', 'comprising', 'zones', 'respectively', 'blockade', 'sector', 'gratuitous', 'Adenauer', 'provocative', 'isolating', 'recognizing', 'exists', 'stray', 'recovered', 'glass', 'Remembering', 'misgivings', 'salami', 'dispatch', 'stiffening', 'indignities', 'buffalo', 'grazing', 'dome', 'prairie', 'conquest', 'cinema', 'endless', 'seas', 'symbolized', 'westward', 'valleys', 'roam', 'zoo', 'specimens', 'folds', 'Grasslands', 'unbroken', 'settlers', 'customary', 'prohibition', 'Communications', 'commercials', 'Past', 'barring', 'ads', 'Simply', 'suffer', 'glamour', 'surrounding', 'bourbon', 'whisky', 'viewer', 'sipping', \"party's\", 'faction', 'lax', 'awkward', 'links', 'ills', 'shortcomings', 'mercilessly', 'regulars', 'bosses', 'softly', 'sticks', 'Australian', 'dealings', 'issuing', 'bluffs', 'purely', 'tempted', '2,000', 'shore', 'terrain', 'savored', 'enjoyment', 'aim', 'ironic', 'concept', 'unreasonable', 'militant', 'minority', 'seal', 'awaits', 'overwhelming', 'Twice', 'backing', 'sturdy', 'habitat', 'flourished', 'forceful', 'classify', 'Deal', 'Frontier', 'persuasion', 'politician', 'theirs', 'flamboyant', 'audiences', 'growl', 'nod', 'dramas', 'chin', 'gripping', 'chatter', 'sensibly', 'persuading', 'educating', 'patiently', 'generations', 'coincided', 'loved', 'Sound', 'Calvin', 'revolution', 'fighter', 'recall', 'hopeless', 'partisan', 'presidents', 'campaigns', 'banner', 'jungle', 'murderers', 'river', 'excuse', 'mistaken', 'Italians', 'savages', 'Does', 'contrary', 'piled', 'Mass', 'troop', 'pillage', 'adventures', 'sanction', 'occurrences', 'anarchy', 'incapable', 'commanding', 'bury', 'wake', 'ruin', 'Right', 'invade', 'weak', 'reasonably', 'mandate', 'inconsistent', 'realism', 'courage', 'magnitude', 'urge', 'Otherwise', 'blindly', 'editorial', 'telegraphers', 'secured', 'misplaced', 'Additional', 'attrition', 'necessarily', 'applicable', 'humidity', 'peaceful', 'abiding', 'covenant', 'moon', 'backward', 'surrendering', 'dimensions', 'triggered', 'experimentally', 'propel', 'seminar', 'drink', 'coexistence', 'bayed', 'humble', 'domes', 'spreading', 'Algerian', 'craft', 'unwelcome', 'admirer', 'Ten', 'Shadow', 'gunman', 'Less', 'conventions', 'contents', 'millennium', 'stealing', 'incompetence', 'protecting', 'half-hearted', 'symptomatic', 'holding', 'Pass', 'rations', 'minded', 'customer', 'suspension', 'maze', 'regulatory', 'shock', 'Dag', \"Hammarskjold's\", 'tragic', 'hangs', 'precariously', 'momentous', 'desperately', 'bloody', 'earnestly', 'bullets', 'Whether', 'overt', \"Nations'\", 'uncompromising', 'courageously', 'defended', 'resolved', 'conflicts', 'solutions', 'outbreaks', 'mankind', 'Monument', \"Miami's\", 'hardest', 'Too', 'bickering', 'consensus', 'long-awaited', 'Graves', 'Metro', '$500,000', 'Interama', 'pinched', 'ventures', 'yielded', 'worthwhile', 'compilation', 'documented', 'shortest', 'paragraphs', 'complaints', 'progressed', 'assess', 'spectrum', 'Problems', 'arisen', 'unification', 'emerging', 'Inevitably', 'aging', 'chancellor', 'parliament', 'Free', 'Erhart', 'fashioned', 'astonishing', 'soul', 'Germans', 'captive', 'approaches', 'firmness', 'flexibility', 'Regardless', 'reaffirmed', 'draws', 'endearing', 'amusing', 'joiner', 'spectacle', 'sprouting', 'root', 'anti-Communist', 'commendable', 'According', 'Mosk', 'assail', 'blanket', 'accusations', 'politically', 'rewrite', 'crude', 'affinity', 'preference', 'would-be', 'extremists', 'capitalize', 'confusions', 'patriotic', 'apprehensions', 'Falling', \"Einstein's\", 'tropical', 'offshore', 'islands', 'unlimited', 'Key', 'underneath', 'devise', 'hectic', 'sands', \"California's\", 'dismaying', 'hide', 'objections', 'commissions', 'preamble', 'collectively', 'intent', 'sovereignty', 'guarantees', 'plug', 'continuously', 'submit', 'speedily', 'restoration', 'responsive', 'unilateral', 'lined', 'Juan', 'OAS', 'breach', 'automation', 'disastrous', 'conjecture', \"farmer's\", 'growers', 'rows', 'pouring', 'predictable', 'clearer', 'layers', 'wedded', 'innovation', 'fearful', 'assistants', 'restore', 'subordinates', 'competent', 'forecasting', 'hazardous', 'specialist', 'cake', 'predicting', 'basing', 'stride', 'keel', 'hurricane', 'posture', 'convictions', 'Bottom', 'sighted', \"Washington's\", 'Recently', 'reluctance', 'pioneered', 'sliding', 'interrupted', 'Well', 'shoreline', 'presses', 'spaces', 'Against', 'unimportant', 'Interior', 'Udall', 'warns', 'preserves', 'Chatham', 'recreation', 'formidable', 'snowy', 'cattle', 'nest', 'dunes', 'sentiment', 'applicants', 'Anybody', 'expecting', 'arduous', 'diet', 'Joint', 'confirms', 'reinforces', 'findings', 'Survey', 'countryside', 'sits', 'stagnant', 'region', 'reflects', \"region's\", 'confined', 'stimulating', 'Ellis', 'impartial', 'outlined', 'depressed', 'accommodate', 'vacant', 'jurisdiction', 'unstable', 'shy', 'Side', 'zoning', 'civic', 'sides', 'acceleration', 'confess', 'Tammany', 'Granted', 'tiger', 'shame', 'elephant', 'stripes', 'Faget', 'Batista', 'preposterous', 'refugees', 'outdated', 'screening', 'Colonel', 'haven', \"Batista's\", 'disturb', 'rests', 'Swing', 'searching', 'immigration', 'salvage', 'repeat', 'aloof', 'strife', 'postcard', 'ridicule', 'Nowhere', 'lent', 'Fellowships', 'blithely', 'compounded', 'accountability', \"Truman's\", 'vein', 'Presidency', '1936', 'Cunard', 'influenced', 'Economy', 'fares', 'Competition', 'consideration', '75,000', 'dominance', 'Maxwell', 'bolster', 'Far', 'mobilization', 'guerrillas', 'Mekong', 'rice', 'destroyed', 'stored', 'harvest', 'floods', 'recede', 'monsoon', 'instructional', 'divisions', 'Lyndon', \"Johnson's\", 'Dalton', 'controversies', 'axes', 'gravest', 'fears', 'slippery', 'operational', 'integrity', 'Charter', 'instructions', 'external', 'servant', 'importance', 'geographic', 'U.S.S.R.', 'arguing', \"General's\", 'confused', 'irrelevant', 'beings', 'subservient', 'man-made', 'inaction', 'Estimate', 'vest', 'partnership', 'diminished', 'leases', 'concurrence', 'watchdog', 'investigative', 'spite', 'retaining', 'housekeeping', 'sewers', 'document', 'safeguard', 'borough', 'heretofore', 'pocketbook', 'beneficial', 'selecting', 'blankets', 'Hemisphere', 'Horn', 'reflection', 'publishers', 'editors', 'downfall', 'freedoms', 'ten-year', 'contribute', 'Meeting', 'Twenty-second', 'admiration', 'rage', 'bold', 'Utopia', '1980', 'clues', 'evident', 'contradiction', 'humanity', 'speculation', 'groundwork', 'assurance', \"Conant's\", 'reformer', 'shattered', 'concerning', 'permissive', 'psychological', 'recommending', 'labels', 'villains', 'regardless', 'implications', 'conscientious', 'gratitude', 'straightforward', 'junk', 'fascinating', 'stamps', 'accordance', 'loads', 'postal', 'Letter', 'Occasional', 'trembling', 'cannery', 'calf', 'seeds', 'bud', 'blossom', 'vegetables', 'broth', 'cans', 'rivers', 'shines', 'warmly', 'grey', 'canning', '$3,000', 'rationing', '1941', 'dairy', 'echoed', 'beans', 'tomatoes', 'forgiveness', 'poise', 'grudge', 'pastor', 'altar', 'forgiven', 'Kingdom', 'harbor', 'envy', 'jealousy', 'Forgive', \"God's\", 'trespasses', 'heavenly', 'Father', 'Matthew', 'prayer', 'disciples', 'debts', 'implies', 'sin', 'Till', 'saith', 'unto', 'seventy', 'prayed', 'Luke', \"she's\", 'sobering', 'meaningful', 'shrill', 'girlish', 'commotion', 'Garcia', 'subsided', 'sprawled', 'drinking', \"Aren't\", 'beg', 'frighten', 'honesty', 'certainty', 'breathless', 'obscured', 'bore', 'Oh', 'wonders', 'stranded', 'desert', 'honey', 'silently', 'periods', 'heaven', 'endlessly', 'enchanting', 'Be', 'cartoons', 'cynics', 'rector', 'clergy', 'pulpit', 'lonely', 'Who', 'Imagine', 'parishioners', 'blessed', 'unworthy', 'self', 'oh', 'believers', 'earthly', 'infinite', 'readily', 'congregations', 'conform', 'conceptions', 'bruise', 'satisfactions', 'attendance', 'bucks', 'stress', 'bears', 'heir', 'saints', 'sinners', 'suffers', 'Podger', 'sadness', 'Pod', 'bursting', 'porch', 'auction', 'old-fashioned', 'woven', 'cloth', 'hammock', 'hanging', 'breeze', 'rippling', 'caressing', 'rhythmic', 'drift', 'voices', 'sweep', 'pleasantly', 'feather', 'Walking', 'lake', 'harshly', 'shaft', 'drifted', 'broad-brimmed', 'Hardly', 'floating', 'sunshine', 'turtle', 'self-contained', 'relic', 'hazard', 'signaling', 'consummated', 'breath-taking', 'withdrew', 'phenomenon', 'darkness', 'midday', 'smiled', 'bidders', 'wrap', \"o'\", 'thanked', 'gravely', 'cocoon', 'cat', 'rubbed', 'hopped', 'chilly', 'purring', 'tree', 'hum', 'Pam', 'Dad', 'lighted', 'emerged', 'Never', 'Desegregation', 'peacefully', 'examples', 'Rock', 'resorting', 'Nashville', 'progressive', 'incidentally', 'grades', 'tolerant', 'realizes', 'rebuff', 'resume', 'impatience', 'eloquent', 'counters', 'establishments', 'all-white', 'neighborhoods', 'ashamed', 'sprung', 'individually', 'objects', 'freeways', 'cruising', 'freeway', 'incipient', 'jam', 'lane', 'smoothly', 'pokes', 'adjacent', 'invading', 'ambivalent', 'lanes', 'alternately', 'accelerate', 'natives', 'unhesitatingly', 'enlightened', 'soggy', 'manhood', 'pedal', 'Failing', 'fist', 'courtesy', 'injustice', 'unequivocally', 'encountered', 'out-of-town', 'thinker', 'versa', 'hell', \"Richard's\", 'grabs', 'angle', \"You'd\", 'Obviously', 'conceivable', 'exceptional', 'duplicate', '98', 'hunch', 'notch', 'Triandos', 'indications', 'thumb', 'jammed', 'bounce', 'furiously', 'cage', 'autistic', 'fault', 'well-defined', 'treats', 'defect', 'deviation', 'adapt', 'disturbed', 'experiences', 'layman', 'disinterest', \"son's\", 'fingers', 'psychiatrist', 'pushes', 'Physical', 'uncomfortable', 'accustomed', 'rituals', 'ingenuity', 'uncover', 'Dear', 'diagnosis', 'nursery', 'reality', 'parenthood', 'wagon', 'coloring', 'nervous', 'relaxed', 'outgrow', 'traits', 'enjoying', 'immature', 'staying', 'paint', 'Seen', 'circles', 'embroidery', 'Possibly', 'incoming', 'rug', 'versions', 'bronze', 'winding', 'floral', 'suggests', 'patterns', 'extensively', 'upholstery', 'depicted', 'salad', 'pineapple', 'naturalistic', 'fabulous', 'fabric', 'typically', 'revered', 'limitation', 'conception', 'do-it-yourself', 'assembling', 'backyards', 'darned', 'nominally', 'Plans', 'enlist', 'lesser', 'CDC', 'unorthodox', 'Carvey', 'stalwart', 'thence', 'component', 'consequence', 'hierarchy', 'participates', 'henceforth', 'organizational', 'weakest', 'predicts', 'tremendously', 'Hence', 'favorites', 'heated', 'rampant', 'subordinate', 'plainly', 'considers', \"Brown's\", 'foe', 'strategists', 'Significantly', 'audible', 'illustrates', 'Communese', 'tongue', 'deluge', 'compulsive', 'fascinated', 'Freud', 'shapes', 'sizes', 'invariably', 'motives', 'crimes', 'surprisingly', 'excerpts', 'Iron', 'consistency', 'Gazette', 'interpreted', 'treaty', 'looming', 'capitalism', 'Evidently', 'hysteria', 'artificially', 'TASS', 'datelined', 'enlargement', 'munitions', 'crush', 'postpone', 'non-military', 'exercises', 'futile', 'predecessors', 'invented', 'armaments', 'injecting', 'revival', 'prolonged', 'listeners', 'fanning', 'proverbial', 'unwilling', 'Whenever', 'succumbed', 'currents', 'sensible', 'dear', 'rockets', 'cure', 'consistent', 'Warsaw', 'terrible', '1821', 'publication', 'Evening', 'distinctive', 'columns', 'poetry', 'essays', 'weeklies', 'fortunes', '1897', 'Cyrus', 'unsigned', 'subscribers', 'Remember', 'Nile', 'Will', 'tooth', 'Sure', 'Fanny', 'remembering', 'Girls', 'bevy', 'Amsterdam', 'Ring', 'anxious', 'dazzling', 'Billie', 'pasted', 'ceiling', \"brother's\", 'Forbes', 'glitter', 'glasses', 'Sing', 'prisoner', 'busily', 'convicts', 'confinement', 'shorter', 'rubber', 'locks', 'inmates', 'Specific', 'broadening', 'occupant', 'lock', 'doorknob', \"prisoners'\", 'paved', 'catering', 'loyalties', 'IBM', 'funny', 'Aristotle', 'contemplating', 'bust', 'Wagon', 'Train', 'Car', 'fills', 'nostalgia', 'recalling', 'woodwork', 'craftsmanship', 'carpets', 'Beebe', 'plumbing', 'cow', 'Frelinghuysen', 'Korean', 'Korea', 'grandson', 'instrumental', '1883', 'congressman', 'trace', 'messages', 'congratulations', 'youngster', 'hello', 'academy', 'managerial', 'cohesion', 'Kind', 'Dwyer', 'autograph', 'simultaneously', 'translation', 'Scriptures', '1611', 'Version', 'translations', 'Biblical', 'attested', 'manuscripts', '1901', '32', 'Yale', 'Divinity', 'depth', 'repetition', 'readings', 'clarity', 'archaic', 'phrases', 'verses', 'baptism', 'baptized', 'thee', 'thou', 'answering', 'righteousness', 'heavens', 'Spirit', 'descending', 'dove', 'lighting', 'teachings', 'dissuade', 'alight', 'spelling', 'uttered', 'blessing', 'Blessed', 'blest', 'Heaven', 'novice', 'Revelation', 'angel', 'bishop', 'attain', 'comprehension', 'copied', 'Hebrew', 'writings', 'usable', 'rapidity', 'Congregational', 'Churches', 'Prof.', 'invest', 'airy', 'styles', 'unlined', 'textures', 'gamut', 'tapered', 'elongated', 'toe', 'Wine', 'tailored', 'barest', 'pumps', 'pastel', 'blend', 'oval', 'throats', 'overlook', 'straws', 'crisp', 'basket', 'casual', 'cork', 'sandals', 'foam', 'padded', 'cushioning', 'lemon', 'brighter', 'dip', 'tan', 'straw', 'weave', 'collar', 'bow', 'throat', 'toothbrush', 'razor', 'bathroom', 'brush', 'surface', 'Laboratories', 'plugged', 'buttons', 'brushes', 'cleaned', 'shaving', 'vertical', 'dentists', 'bristles', 'gums', 'scratch', 'brushing', 'experimented', 'gadget', 'crowned', 'chronic', 'disease', 'disorders', 'cerebral', 'paste', 'apparatus', 'experimentation', 'Turn', 'tumor', 'Reply', 'symptom', 'bones', 'baths', 'pores', 'sweat', 'glands', 'shower', 'numb', 'possibilities', 'manifestation', 'Brace', 'sciatica', 'brace', 'thyroid', 'cholesterol', 'gland', 'gap', 'discs', 'sung', 'Edison', 'guessed', 'Sophocles', 'stereo', 'eclectic', 'slightest', 'esoteric', 'adapted', 'sheer', 'Decca', 'modestly', 'Volumes', 'wise', 'Sandburg', 'statesman', 'Nehru', 'sculptor', 'playwright', 'interviewing', 'narrower', 'Dover', 'Publications', 'Listen', 'presentations', 'inexpensive', 'recordings', 'Thanks', 'Records', \"Lincoln's\", 'memorable', 'Lincoln', \"Sandburg's\", 'releases', 'Laboratory', 'Newest', 'Wheelock', 'impart', 'RCA', 'Victor', 'guides', 'upsets', 'Arizona', 'depressing', 'feverish', 'fifties', 'inferiority', 'complexes', 'brains', 'frauds', 'ego', 'financially', 'wondering', 'breathed', 'freely', 'magician', 'seller', 'marksmanship', \"bull's-eye\", '2-year-old', 'verbal', 'senses', 'explanations', 'unmoved', 'clings', 'motivates', 'angrily', 'sweet', 'considerate', 'helper', 'misbehavior', 'desires', 'reassurance', 'temptations', 'substitutes', 'magazines', 'refrigerator', 'snatches', 'louder', 'Remove', 'melancholy', 'scenes', 'opponent', 'homecoming', 'thrown', 'lions', 'uncertainties', 'lion', 'ruined', 'precaution', 'cruel', 'perpetually', 'ebullient', 'continually', 'strolled', 'ache', 'perfume', 'lilting', 'laughter', 'aroma', 'leaves', 'wine', 'woodsmoke', 'undergraduates', 'fleeting', 'glances', 'tethered', 'goat', 'dream', 'blur', 'strolling', 'wry', 'wit', 'embrace', 'exhausted', 'hairs', 'eyeglasses', 'fading', 'wears', 'Enough', 'akin', 'churning', 'straining', 'pants', 'wet', 'woolen', 'sleeves', 'remembers', 'panting', 'breath', 'breakthrough', 'agony', 'wisely', 'analyzed', 'populations', 'Poland', 'Polish', 'seeming', 'distressed', 'towns', 'misery', 'distortion', 'erect', 'barrier', 'Errors', 'Bridges', 'repeating', 'anticipate', 'distress', 'devoid', 'carts', 'makings', 'sack', 'tobacco', 'underscored', 'articulate', 'unemployed', 'transact', 'circuit', 'Forum', 'oriented', 'Operations', 'causing', 'aggravated', 'bravado', 'Politics', 'accelerating', 'Say', 'thief', 'adage', 'oaths', 'glance', 'debating', 'visions', 'Prime', 'admire', 'canoe', 'praying', 'Your', 'grossly', 'oversimplified', 'classification', 'petitioner', 'locations', 'medium', 'granting', 'compatible', 'Hampshire', 'solely', \"community's\", 'se', 'absorbing', 'alarm', 'utilizing', 'additions', 'foresight', 'compounds', 'editorials', 'inception', 'utilizes', 'transmission', 'Kent', 'facility', 'suggesting', 'relation', 'ignore', 'waste', 'developer', 'concepts', 'destiny', 'eternal', 'Gabrielle', 'Whom', 'Irving', 'Beth', 'Miranda', 'Knife', 'Christians', 'Jews', 'divine', 'brotherhood', 'Pleasant', 'Bulletin', 'snowstorm', 'desperation', 'Words', 'immensely', 'commend', 'veterans', 'non-service-connected', 'Veterans', 'service-connected', 'disabled', 'manifest', 'VA', 'ensuing', 'drastically', 'curtail', 'coldly', 'impractical', 'wishes', 'Secondly', 'observe', 'hospitalization', 'grinding', 'A.M.A.', 'abolition', 'fosters', 'initiate', 'lousy', 'frustration', 'exasperation', 'sympathetically', 'Barry', 'morale', 'McNamara', 'costing', 'Top', 'scientists', 'suffocating', 'persist', 'sheltered', 'diameter', 'civilization', 'Short', 'shorts', 'Upon', 'uppermost', 'dressed', 'Masaryk', 'Jan', 'misleading', 'destruction', 'Voice', 'riders', 'subsidize', \"husband's\", 'Sundays', 'packaging', 'freezing', 'cutters', 'packaged', 'wives', 'greedy', 'regret', 'Bertha', 'incorrect', 'clarified', 'instruct', 'flag', 'polling', 'proprietors', 'premises', 'advise', 'criticize', 'promoting', 'Please', 'articles', 'Engineering', 'unskilled', 'laborer', 'regarding', 'DuPont', 'inaccurate', 'unwarranted', 'Motors', '1.1', 'Means', 'judgments', 'considerations', 'proportion', 'omitting', 'distorted', 'concur', 'heartily', 'futility', 'bless', 'disagree', 'agrees', 'drinks', 'Toward', 'socialism', 'regulations', 'regions', 'well-being', 'affiliation', 'intelligence', 'stranger', 'inquire', 'outer', 'Declaration', 'Independence', 'entity', 'God-given', 'self-determination', 'applies', 'yoke', 'denounce', 'refuse', 'burdens', 'consist', 'freeholders', 'certify', 'certified', 'assessed', 'appropriated', 'impose', 'slum', 'trades', 'terrific', 'comedian', 'Changing', 'actively', 'hasten', 'booths', 'refreshing', 'Deep', 'fossilized', 'cypress', 'swamp', 'Twenty', 'constructed', 'stumps', 'sediments', 'pollen', 'grains', 'spores', 'Lower', 'flowering', 'Mayflower', '17th', 'Working', 'sincere', \"Let's\", 'mistrust', 'disapproved', 'empty', 'boat', 'desolation', 'post-attack', 'awful', \"someone's\", 'hardy', 'afforded', 'leash', 'roaming', 'snatch', 'prohibiting', 'cafes', 'terraces', 'sidewalk', 'cafe', 'sacred', 'contemplate', 'fountains', 'gardens', 'outdoor', 'relax', 'converse', 'leisure', 'Thirties', 'resurgence', 'militarism', 'murderous', 'Recent', 'well-known', 'destructive', 'deadly', 'ducks', 'folly', 'recognition', 'lands', 'devastated', 'united', 'disarmed', 'advantageous', 'lessen', 'likewise', 'Austria', 'neutrality', 'immunity', 'terrorized', 'refusing', 'prescribed', 'expulsion', 'Article', 'apportioned', 'Member', 'equals', 'exceeds', 'Emergency', 'buffer', 'Israel', 'expelled', 'Connally', 'consciousness', 'undone', 'reservation', 'prevents', 'solidly', 'perilous', 'affirmative', 'expose', 'enable', 'utilize', 'subway', 'departing', 'Woodside', 'strained', 'servicing', 'donate', 'arithmetic', 'crafts', 'brass', 'heater', 'Woodward', 'alley', 'patrolling', 'ordinances', 'versus', 'hymns', 'inspiration', 'Prayer', 'Minutes', 'arranging', 'wholesome', 'Thank', 'apathy', 'polite', 'gentility', 'Hart', 'brave', 'Inquirer', 'Inspector', 'horrible', 'automobiles', 'ghost', 'Schuylkill', 'Hough', 'dropouts', 'wrongs', 'suppose', 'referring', 'harmful', 'arsenal', 'inflict', 'tremble', 'Everyone', 'Especially', 'verse', 'everlasting', 'sixteen', 'Hiroshima', 'proves', 'rocks', 'remind', 'exploding', 'expression', 'dictates', 'intimidated', 'coffin', 'withheld', 'greatness', 'destination', 'tunnels', 'focal', 'widen', 'minimize', 'curves', 'drainage', 'install', 'directional', 'capability', 'statue', 'dictators', 'reminded', 'lash', 'dislikes', 'annoyance', 'sentiments', 'hatred', 'scared', 'canon', 'feeding', 'stamp', 'gangs', 'delinquents', 'creatures', 'motive', 'inflicting', 'torture', 'occurs', 'melody', 'joy', 'hymn', 'softness', 'calisthenics', 'anatomy', 'addicted', 'ideals', 'Nation', 'push-up', 'scandal', 'fairness', 'premise', 'sweetheart', 'corrupting', 'unscrupulous', 'augmented', 'corruptible', 'targets', 'moreover', 'predictions', 'escalation', 'exploded', 'megatons', '50-megaton', 'threatens', 'embark', 'hydrogen', 'accurately', 'contestants', 'proving', 'Morrison', 'Sun', 'discontinuity', 'Professor', 'urbanized', 'vulnerable', 'risky', 'Rockefeller', 'Strauss', 'Atomic', 'Energy', 'exacerbation', 'faithful', 'thrust', 'intercontinental', 'inspire', 'anger', 'sphere', 'animosity', 'compulsively', 'footsteps', 'strives', 'emulate', 'chagrin', 'satellites', 'orbit', 'perfectly', 'imitate', 'vocal', 'unfavorable', 'sixty-five', 'Manchester', 'Guardian', 'departures', 'Whole', 'partly', 'arrivals', 'distinct', 'gallant', 'Observer', 'boundary', 'blocks', 'avail', 'Lippmann', 'sober', 'p.', 'graveyard', \"Stalin's\", 'Lenin', 'mild', 'Dead', 'Men', 'Revolution', 'Restoration', 'Cromwell', 'hanged', 'Stalin', 'crowded', 'deplores', 'Karl', 'Marx', 'instability', 'Suppose', 'rake', 'misdeeds', 'predecessor', 'U', 'Thant', 'Burma', 'influential', 'gentleman', 'qualification', 'Buddhist', 'sanctity', 'dogma', 'dormant', 'neutralism', 'precedents', 'plunged', 'hills', 'sole', 'connotations', 'vague', 'Chevrolet', 'Telephone', 'invaders', 'mobilized', 'fetching', 'dump', 'pistols', 'mount', 'frenzy', 'committed', 'doctrine', 'imagined', 'naive', 'traitors', 'gods', 'resemble', 'Moloch', 'accompaniment', 'cult', 'exceeding', 'butchery', '40,000', 'accorded', 'slaughtered', 'holocaust', 'civilized', 'usage', 'Swift', 'media', 'vengeance', 'twenty-five', 'thousandth', 'corpse', 'execution', 'census', 'midsummer', 'ambassadors', 'Land', 'trap', 'reminder', 'Hanging', 'proceeding', 'cardinal', 'stasis', 'True', 'adherents', 'credo', 'happiest', 'Nonetheless', 'stubborn', 'Baptists', 'embodied', 'ornament', 'persuaded', 'curse', 'ardent', 'Somehow', 'induced', 'sanity', 'recourse', 'custom', 'whenever', 'annum', 'clouds', 'blasts', 'radioactivity', 'dose', 'virus', 'discomfort', 'poisoning', 'pose', 'cynical', 'irresponsible', 'dismay', 'foreboding', 'sermon', 'detonated', 'devices', 'Glenn', 'balloons', 'imperative', 'biological', 'genetic', 'depths', 'intake', 'substances', 'particles', 'bets', 'conclude', 'indeterminate', 'Pauling', 'Magazine', 'germ', 'defects', 'fusion', 'childhood', '200,000', 'diseases', 'concentrating', 'insufficient', 'generalizations', 'researcher', 'inhibited', 'downgraded', 'exposure', 'doses', 'herein', 'bind', 'resuming', 'atmospheric', 'fission', 'mid', 'prevailing', 'haul', 'sidewalks', 'indignant', 'computation', 'inescapable', 'Cold', 'historically', 'viable', 'unpopular', 'contaminated', 'demonstrates', 'wishful', 'sane', 'contamination', 'Leaving', 'leap', 'militarily', 'unwittingly', 'superiority', 'quantity', 'Unless', 'justifiable', 'radically', 'refusal', 'Pope', 'yearning', 'Protestant', 'Christendom', 'perspective', 'purification', 'ecumenical', 'Catholicism', 'Equally', 'Unity', 'designation', 'theologians', \"Church's\", 'Vatican', 'Archbishop', 'Canterbury', 'Orthodox', 'discouragement', 'temptation', 'abandon', 'irresistible', 'efficacy', 'Divine', 'apologetic', 'unbalanced', 'sympathize', 'Furthermore', 'reassuring', 'extravagant', 'projections', 'expenditure', 'similarly', 'neglected', 'persists', 'apologies', 'tightening', 'Ethics', 'dialogue', 'Protestants', 'Moral', 'non-Catholic', 'plentiful', 'thorough', 'participants', 'Moslem', 'Islamic', 'unmistakable', 'functioning', 'generality', 'philosophical', 'differences', 'undeniable', 'insights', 'spirited', 'tiniest', 'pervasive', 'perceive', 'Formosa', 'hypocrisy', 'thoughts', 'dreamy', 'pointedly', 'practically', 'subjectively', 're-enter', 'Mainland', 'interpreter', 'itinerary', 'coolly', 'everywhere', 'redundant', 'Taiwan', 'relevant', 'sixty', 'liberation', 'liberate', 'manpower', 'contemplated', 'Training', 'passion', 'overtly', 'Mao', 'sympathies', 'cultivated', 'starvation', 'discontent', 'generals', 'fed', 'cousins', 'nephews', 'purity', 'galvanizing', 'instant', 'defy', 'commune', 'ensure', 'poverty', 'residue', 'undertook', 'engendered', 'Tibet', 'hostile', 'bleeding', 'snap', 'foremost', 'inhuman', 'arrives', 'gladly', 'invite', 'odd', 'scars', 'crystallization', 'flux', 'frontiers', 'concealed', 'gestures', 'rags', 'fog', 'tap', 'emergencies', 'bone', 'jelly', 'spine', 'shockingly', 'counter', 'reappears', 'cycles', 'cartoon', 'linked', 'Left', \"Moscow's\", 'rape', 'insane', 'removing', 'equilibrium', 'apartheid', 'introduce', 'anti-French', 'kills', 'paralysis', 'constitutes', 'puzzles', 'intelligible', 'scan', 'premieres', 'adaptations', 'owes', 'Death', 'awkwardly', 'shallow', 'Hero', 'Tennessee', 'Adjustment', 'clever', 'Clearly', 'imported', 'Honey', 'musicals', \"White's\", 'novels', 'Mi', 'Unsinkable', 'technically', 'dreary', 'Die', 'Widow', 'Shakespeare', 'Moliere', 'masters', 'dry', 'prevalence', 'tested', 'stunning', 'Casbah', 'commonplace', 'Eighth', 'Grecian', 'Egyptian', 'Gardens', 'belly', 'burgeoning', 'curiously', 'familial', 'saloons', 'Ionic', 'graces', 'maniac', 'sailor', 'absorption', 'orchestras', 'guitars', 'alien', 'Sesame', 'dresses', 'shifts', 'superbly', 'ancestry', 'continuum', 'cosmic', 'sideways', 'motionless', 'breathing', 'sends', 'ripples', 'speeds', 'ecstatic', 'greetings', 'provokes', 'slipping', 'tips', '$200', 'proffered', 'bolt', 'melting', 'pot', 'Bristol', 'Sol', 'Hurok', 'abdomen', 'veils', 'origins', 'surname', 'picnics', 'gypsy', 'adolescent', 'lithe', 'Brazilian', 'Arabic', 'sweaters', 'sailors', 'tormented', 'painters', '20th', 'unawareness', 'Austrian', 'Schiele', \"Schiele's\", 'Speed', 'angular', 'painfully', 'stretched', 'grotesquely', 'murky', 'landscapes', 'swallowed', 'gloom', 'fascination', 'devil', 'emotional', 'Cried', 'Gradually', 'evolved', 'somber', 'inhibitions', 'disgusting', 'cigarette', 'butts', 'rebelliously', 'discipline', 'obsession', 'unabashed', 'sexuality', 'unrelieved', 'obsessed', 'lust', 'portraits', 'ugliness', 'stringy', 'contorted', 'strangely', 'pathetic', 'naked', 'muffled', 'Twentieth', 'Draft', 'Program', 'solemn', 'anti-party', 'theoretical', 'journals', 'Marxist', 'interminable', 'formulas', 'proletariat', \"People's\", 'rotation', 'bureaucracy', 'obscure', 'Was', 'uniformly', 'progressively', 'profitable', 'plots', 'uncertainty', 'sickness', 'doubts', 'harping', 'Molotov', 'Marshal', 'rents', 'doctrinal', 'quarrels', 'liquidated', 'rejects', 'denial', 'averting', 'coincide', 'variant', 'deteriorated', 'shifted', 'Albania', 'liar', 'bully', 'restored', 'Enver', 'malaise', 'symptoms', 'decay', 'genuinely', 'suspicions', 'indicative', 'blowing', 'preventive', 'Koreans', 'southern', 'misty', 'Minutemen', 'maneuvers', 'foggy', 'damp', 'tale', 'supremacy', 'DePugh', 'camouflage', 'garb', 'unloaded', 'sheriffs', 'Lauchli', 'operative', 'mm.', 'mortar', 'dummy', 'shells', 'tortuous', 'jeep', 'trails', 'ridge', 'outpost', 'atop', 'smoke', 'grenades', 'skirmish', 'encampment', 'participated', 'catch', 'criterion', 'dearth', 'second-rate', 'rub', 'chooses', 'tariff', 'proposition', 'selective', 'reciprocal', 'Europeans', 'Market', 'ramifications', 'convincing', 'O.E.C.D.', 'Eric', 'Join', 'age-old', 'values', 'grouping', 'cleverly', 'Consider', 'wounds', 'incorporation', 'Von', 'monstrosity', 'Amendments', 'conservatism', 'many-sided', 'pages', 'telepathy', 'honorably', 'Active', 'Duty', 'induction', 'Philosophy', 'twenty-two', 'enviable', 'disrupted', 'compelling', 'idly', 'corners', 'taverns', 'broadcasts', 'willy-nilly', 'Hessians', 'foreigners', 'Flying', \"what's\", 'eighteenth-century', 'substituting', 'envelope', 'faded', 'impending', 'flown', 'supporting', 'Facing', 'analogy', 'virtuous', 'accretion', 'defeating', 'Confrontation', 'SR', 'Mar.', 'bothers', 'intimately', 'sufferer', 'preacher', 'Personally', 'communicate', 'fundamentalist', 'dogmatism', 'Interpretation', 'invaluable', 'doctored', 'sophistication', 'Wisconsin', 'powerless', 'McCarthy', 'communicating', 'experimenting', 'print', 'possession', 'publish', 'transcript', 'differential', 'networks', 'Up', 'grudgingly', 'half-hour', 'tapes', 'edited', 'glibly', 'summarized', 'fifteen-minute', 'summary', 'comparing', 'paragraph', 'abused', \"Young's\", 'Need', 'estimation', 'rounding', \"Lloyd's\", 'Neck', 'curriculum', 'rust', 'practitioners', 'Alas', 'flattered', 'Snow', 'autobiographical', 'submits', 'publisher', 'analyze', 'Godkin', 'lectures', \"Snow's\", 'excerpt', \"book's\", 'milder', 'marred', 'Lindemann', \"Charles'\", 'incoherent', 'absurdity', 'historians', 'Nonsense', 'radar', 'unfortunate', 'casts', 'Nathan', 'Milstein', 'recitals', 'Brahms', 'Concerto', 'slashing', 'cadenza', 'pale', 'violinist', 'incandescent', 'noblest', 'soloist', 'superb', 'Hendl', 'glittering', 'spitting', 'lets', 'sprawl', 'mysterious', 'marvelous', 'romantic', 'Overture', 'orchestral', 'tunes', 'rhythms', 'lacks', 'Bayreuth', 'Hans', 'soprano', 'Venus', 'booking', 'cradle', 'howl', 'weep', 'repertory', 'Dietrich', 'notified', 'juicy', 'budge', 'Civic', 'Lena', 'minus', 'Everett', 'operatic', 'cushion', 'Lucia', 'Giovanni', 'H', 'Bates', 'farce', 'Hark', 'lurking', 'shenanigans', 'rugged', 'Anyway', 'devastating', 'imperial', 'Larkin', 'affluence', 'stirs', 'longing', 'rustic', 'castle', 'manor', 'bearded', 'courtiers', 'shoot', 'horror', 'wasteland', 'impress', 'Eliot', 'herds', 'deer', 'embodies', 'splendor', 'planks', 'kitchens', 'spaciousness', 'cooks', 'Jerebohms', 'immense', 'glorious', 'Rolls-Royce', 'vegetable', 'patch', 'flyer', 'saddled', 'havoc', 'tangled', 'callers', 'brigadier', \"Kipling's\", 'tales', 'deck', 'quart', 'sustenance', 'relish', 'Quixote', 'illustrious', 'Sancho', 'Panza', 'Spain', 'rendering', 'satire', 'exposition', 'Cherkasov', 'actor', 'heroic', 'performs', 'nobility', 'poignant', 'self-appointed', 'armor', 'museums', 'joke', 'gaunt', 'gracious', 'soberly', 'sincerely', 'bony', 'affection', 'tempo', 'shining', 'brightly', 'complexities', 'abetted', 'appropriately', 'excellently', 'dubbed', 'richness', 'roughness', 'subtleties', 'helpfully', 'conveyed', 'artistry', 'grotesque', 'broader', 'concludes', 'finely', 'magnificently', 'photographed', 'uneasy', 'trimmings', 'hypothesis', 'Jazz', 'Projects', 'Pont', 'pleasing', 'Dixieland', 'interaction', 'ensemble', 'Armstrong', 'buff', 'Garry', 'host', 'poles', 'reinforced', 'teens', \"1920's\", 'interruption', 'auxiliary', 'samples', 'clip', 'wink', 'blotted', 'glimpse', 'Similarly', 'photographs', 'newcomer', 'showcase', 'cheers', 'curtain', 'Mad', 'Scene', 'composer', 'disconcerting', 'waxed', 'musicianship', 'trill', 'topped', 'brilliantly', 'ecstasy', 'unfolding', 'immersed', 'mastery', 'disciplined', 'fullness', 'dramatically', 'Tucker', 'bel', 'canto', 'serviceable', 'Bellini', 'Phase', 'Review', 'bands', 'Complete', 'sundry', 'disc', \"London's\", 'jackets', 'mix', 'farther', 'placement', 'nearer', 'mixed', 'percussive', 'volley', 'Twenties', 'memories', 'tingling', 'frequencies', 'resultant', 'potentialities', 'manage', 'authentic', 'Strange', 'authenticity', 'cadre', 'sketches', 'interiors', 'architectural', 'complied', 'alas', 'unrealistic', 'meticulously', 'adherence', 'involves', 'intrigues', 'twists', 'traced', 'Gospels', 'Information', 'saga', 'ignorant', \"D'Albert\", 'vying', 'Sonata', 'clattered', 'noisily', \"artists'\", 'large-scale', 'directness', 'Piano', 'refers', 'nickname', 'sentimental', 'idiom', 'conjugal', 'felicity', 'smack', 'virtuoso', 'sleeve', 'lyric', 'Xydis', 'Philharmonic', 'Lewisohn', \"pianist's\", 'recital', 'keyboard', 'commands', 'composers', 'Op.', 'Prokofieff', 'Seventh', 'Variations', 'nicely', 'E', 'lapse', 'deepest', 'poorest', 'Defeat', 'Victory', 'Viscount', 'weighted', 'retreat', 'bitterly', 'battles', 'jungles', 'priorities', 'Parts', 'Burmese', 'anecdotes', 'tireless', 'narrative', 'unending', 'myriad', 'enlightening', 'accordingly', 'scanty', 'logistics', 'transport', 'barges', 'commanders', 'marched', 'till', 'careless', 'humanitarian', 'bunch', 'Choir', 'twenty-six', 'Baroque', 'madrigals', 'unsettled', 'waver', 'Lines', 'accompaniments', 'Dixon', 'cowboy', 'costume', 'ingratiating', 'high-spirited', 'communicative', 'admirable', 'continuity', 'choreographed', 'professionally', 'intimate', 'exuberant', 'identifiable', 'closes', 'Matunuck', 'settings', 'witty', 'daisies', 'stamped', 'cartoonist', 'specialty', 'fledgling', 'dizzy', 'Playhouse', 'Epitaph', 'Creighton', 'cliches', 'eroded', 'irritations', 'souls', 'enters', 'unsuccessful', 'overcomes', 'awfully', 'forgotten', 'blaze', 'impassioned', 'proficient', 'Laura', 'intensely', 'vibrant', 'shriek', 'explode', 'belligerent', 'projection', 'Musical', \"Where's\", 'lyrics', 'Loesser', 'Christopher', 'Amy', 'Shelley', 'Berman', 'Love', 'rousing', 'sifted', 'chords', 'whispering', 'outdo', 'Aunt', 'voluminous', 'Girl', 'sparkling', 'cheerful', 'suitably', 'positively', 'Fiorello', 'Pulitzer', 'evoke', 'lance', 'principals', 'resemblance', 'LaGuardia', 'amazed', 'Rudy', 'chieftain', 'sincerity', 'hurrying', 'Charlotte', 'Jen', 'verve', 'cop', 'promoted', 'novelties', 'splendidly', 'routines', 'choreographic', 'touring', 'wondered', 'distraction', 'upright', 'virtual', 'commonly', 'profess', 'whipping', 'impromptu', 'plunge', 'Dolores', 'Paula', 'biting', 'springtime', 'Silence', 'detective', 'sensibility', 'gallantry', 'Hardwick', 'admirably', 'genius', 'subtly', 'intricate', 'castles', 'trenchant', 'forthright', 'grown-up', 'penned', 'philosophic', 'adorable', 'speaks', 'passionate', 'well-meaning', 'simpler', 'colleague', 'Royce', 'differed', 'Different', 'yours', 'importantly', 'Santayana', 'reject', 'Platonism', 'Writing', 'fronting', 'universe', 'diverse', 'jocular', 'seriousness', 'hint', 'prophet', 'recriminations', 'singly', 'displace', 'Thurber', 'numbering', 'schoolboy', 'scratched', 'cave', 'Yorker', 'comprises', 'thread', 'cunningly', 'inserted', 'unifying', 'sadly', 'arbitrary', 'alphabetical', 'associations', 'slumber', 'vistas', 'scholarly', 'Drifts', 'Dream', 'metaphor', 'Herald', 'exaggerating', 'radio-TV', 'veritable', 'waking', 'Wings', 'noteworthy', 'keenly', 'Virginian', 'superimposed', 'mildly', 'utterance', 'quotation', 'banged', 'sash', 'leaped', 'sleep', 'indebted', 'artistically', 'conceived', 'unaffected', 'concluding', 'Low', 'exposing', 'acquainted', 'robe', 'thirties', 'Nazis', 'lightning', 'corrosion', 'Hitler', 'crusade', 'self-confident', 'outrage', 'rarely', 'wrath', 'Eden', 'relented', 'foibles', 'puny', 'vices', 'moderately', 'tart', 'fox', 'slicker', 'allegory', 'rat', 'Doc', 'eagle', 'posing', 'populace', 'rats', 'aggrieved', 'territorial', 'themes', 'dialect', 'Joel', \"Kennan's\", 'characterization', 'reliable', 'possesses', 'topical', 'Kennan', 'revolutions', 'pessimistic', 'circumstance', 'persisted', 'Yalta', 'Dexter', 'architects', 'continental', 'possessed', 'inexperience', 'childish', 'unconditional', 'settlements', 'treason', 'dashed', 'achieving', 'objectives', \"enemy's\", 'disadvantages', 'complications', 'Recognizing', 'negotiated', 'shocking', 'eliminated', 'eastern', 'vain', 'bitterness', 'ignorance', 'purges', 'Baltic', \"Roosevelt's\", 'persuasive', 'F.D.R.', 'sketch', 'glancing', 'seizure', 'warped', 'justly', 'precise', \"author's\", 'criminality', 'pity', 'subjugation', 'oppression', 'forehead', 'sulky', 'silences', 'stare', 'prejudices', 'cynicism', 'endowed', 'cards', 'resolute', 'fever', 'jagged', 'baffling', 'authorship', 'ambassador', 'Yugoslavia', 'portray', 'prescribe', 'first-rate', 'narrator', 'lightened', 'flashes', 'Donnybrook', 'Enright', 'fists', 'courting', 'impeded', 'marries', 'scraps', 'talented', 'limbs', 'torso', 'incidental', 'ear', 'matrimony', 'sings', 'exhibits', 'dross', 'shelf', 'ballads', 'linger', 'touching', 'whirl', 'permanently', 'Joshua', 'partial', 'digging', \"afternoon's\", 'forego', 'pleasures', 'stint', 'collaboration', 'Beethoven', 'lucid', 'sounding', 'ponderous', 'evenly', 'symphonic', 'poem', 'lush', 'chromatic', 'cloying', 'resisted', 'melodic', 'whine', 'hysterical', 'accuracy', 'Skolovsky', 'concerto', 'technician', 'boot', 'colorless', 'attributes', 'tonal', 'salute', 'methodical', 'decaying', 'sloppy', 'wicked', 'deeds', 'villain', 'smoothness', 'oily', 'consummate', 'Part', 'pit', 'album', 'madrigal', 'impulses', 'sixteenth', 'baroque', 'sonatas', 'Elizabethan', 'traditions', 'traces', 'Early', 'revivals', 'troupe', 'countrymen', 'equivalents', 'picturesque', 'sensual', 'expressions', 'superficial', 'infectious', 'elegance', 'characteristics', 'abstract', 'Couperin', 'keen', 'BAM', 'occupies', 'occupy', 'disks', 'workmanship', 'concertos', 'Francaise', 'elaborately', 'contemporaries', 'disk', 'LD', 'rococo', 'brevity', 'refined', 'shakes', 'fashionable', 'instrumentalists', \"Rameau's\", 'inexplicable', 'Des', 'contains', 'Bach', 'Giuseppe', 'twentieth-century', 'light-weight', 'tiresome', 'variable', 'Fuller', 'baritone', 'operetta', 'fragile', 'eighteenth', 'chuckle', 'rationalist', 'cleverness', 'bawdy', 'tread', 'extremes', 'Arlene', 'inexperienced', 'tutor', 'Poor', 'ditties', 'satiric', 'orchestration', 'thinner', 'observation', 'plump', 'cares', 'attentive', 'applauded', 'chord', 'compositions', 'Smiling', 'Born', 'Alone', 'Together', 'Going', 'Got', 'Away', 'evidences', 'underway', 'flapped', 'fortunately', 'combed', 'photographer', 'dared', 'throne', 'lenses', 'overheard', 'sheets', 'microphones', 'Rain', 'Beautiful', 'Weather', 'striving', 'haunches', 'cried', 'rewarded', 'Baby', 'crying', 'throng', 'deprived', 'symbolic', 'thunder', \"Mulligan's\", 'Count', 'infected', 'delicacy', 'sax', 'ballad', 'subtle', 'Blakey', 'generate', 'glimpses', 'Sarah', 'Vaughan', 'timid', 'Putting', 'wasted', 'evolution', 'Julie', 'sticking', 'Shearing', 'relaxing', 'sunny', 'Blues', 'Ferguson', 'roots', 'slaves', 'Indies', 'primitive', 'lullaby', 'drumming', 'slapping', 'sensations', 'Pony', 'singer', \"Schubert's\", 'Sonatas', '53', 'expansiveness', 'projected', 'shanty', 'cabin', 'meanings', 'agreeable', 'premiere', 'Nikolais', 'beckons', 'arresting', 'instructive', 'catalogues', 'realm', 'transposed', 'organic', 'consciously', 'mindful', 'esthetics', 'accents', 'contours', 'deals', 'satirical', 'mores', 'Nagrin', 'Dance', 'Figure', 'imaginative', 'diversions', 'idiosyncrasies', 'laugh', 'diverting', 'bother', 'menacing', 'Marion', 'Cliburn', 'cycle', 'slack', 'subscription', 'Westchester', 'triumphant', 'Emperor', 'Nocturne', 'Fourth', 'lyrical', 'Igor', 'casually', 'Nineteen', 'static', 'Strike', '1929', 'retrieved', 'Rodgers', 'melodies', 'obscurity', 'disappeared', 'delightfully', 'Spruce', 'impudent', 'Gaieties', 'Dorothy', 'raucous', 'attractions', 'Married', 'incisive', 'delivers', 'Altogether', 'Turning', 'Really', 'inventive', 'elicited', 'earnestness', 'parody', 'expressive', 'Milk', 'melodious', 'Rall', 'idioms', 'content', '1643', \"Coward's\", 'persuasively', 'belts', 'pictorial', 'peers', 'hinges', 'romance', 'hurt', 'marital', 'crouching', 'cathedral', 'Bright', 'Gavin', 'haunting', 'chronicle', 'otter', 'Highlands', 'mystic', 'conveys', 'Camusfearna', 'isle', 'geese', 'recounts', 'furnishing', 'Mijbil', 'travelled', 'species', 'marshes', 'compliment', 'catalogued', 'frightened', 'Iraq', 'curled', 'basin', 'affectionate', 'Mij', 'habits', 'nip', 'lobes', 'drawers', 'marbles', 'invent', 'curiosity', 'explored', 'inch', 'burn', 'ledge', 'cliff', 'discovery', 'charted', 'loneliness', 'sharpening', 'interdependence', 'implicitly', 'revolved', 'behaved', 'mixture', 'irritation', 'manages', 'traveller', 'recorder', 'widened', 'Comedie', 'contradict', 'repeats', 'reminds', 'insensitive', 'dare', 'attracts', 'experimenters', \"Moliere's\", 'grief', 'Phedre', 'Wives', 'thrusting', \"play's\", 'excessively', 'stately', 'ludicrous', 'Jouvet', 'Ledoux', 'dissimilar', 'Arnolphe', 'Accordingly', 'Tartuffe', 'Seigner', 'deluded', 'benefactor', 'observes', 'coarse', 'sensuality', 'reflect', 'laughs', 'transformation', 'good-natured', 'stupid', 'embodiment', 'meanness', 'rebut', 'Gentleman', 'Scapin', 'healthy', 'energetic', 'agility', 'toughs', 'Django', 'conclusively', 'asleep', \"haven't\", 'Hot', 'Minor', 'Artillery', \"You've\", 'Gone', 'Kid', 'Ory', 'anchor', 'horn', 'blown', 'Rag', 'Bourbon', 'Toot', \"Didn't\", 'Eh', 'Call', 'old-time', 'Elman', 'truthfully', 'Strings', 'hesitation', 'tune', 'out-of-doors', 'up-to-date', 'Alfredo', 'heroine', 'Apollo', 'superfluous', 'neurotic', 'sterile', 'jealous', 'argues', 'labeling', 'lurid', 'unsympathetic', 'forty-five', 'Taras', 'Ukrainian', 'danced', 'thirty-five', 'lusty', 'gregarious', 'tricks', 'madmen', 'searches', 'twenty-eight', 'fitting', 'loveliness', 'Olga', 'exquisite', 'accomplishments', 'lone', 'Nutcracker', 'esthetic', 'pas', 'stirring', 'deux', 'yearned', 'quantities', 'day-to-day', 'Making', 'astonishingly', 'novelist', 'zest', 'sensitivity', 'prose', 'engrossing', 'switches', 'chronological', 'zealous', 'cites', \"horse's\", 'distrust', 'skillful', 'top-level', 'indecision', 'stretches', 'trusts', 'solitary', 'eagerness', 'identify', 'mastered', 'dignified', 'neglect', 'cultivate', 'profoundly', 'portrayed', 'Throughout', 'fatigue', \"Who's\", 'platforms', 'Pons', 'celebrities', 'rewards', 'gorgeous', 'keys', 'stylist', 'breathtaking', 'beloved', 'marches', 'inexorably', 'vanished', 'intelligently', 'strides', 'listener', 'broadcasting', 'advertised', 'Negro-appeal', 'advertisers', 'salesmen', '600', 'programing', 'Sponsor', 'attitudes', 'upgrade', 'spur', 'southeastern', \"station's\", 'half-dozen', 'Broadcasting', '360', 'jockey', 'gospel', 'quotes', 'hollering', 'sociological', 'ambitions', 'assimilation', 'Sloan', \"artist's\", \"Sloan's\", 'chronology', 'Few', 'prints', 'illustrations', 'manners', 'pigments', 'superseded', 'palette', 'solidity', 'hatching', 'supplements', 'roofs', 'canvases', 'bracing', 'flapping', 'Gloucester', '1915', 'Traveling', 'ash', 'foraging', 'sojourn', 'interpretations', 'Riefling', '23rd', 'penetrated', 'fussy', 'presumptuous', 'logically', 'abundance', 'inwardly', 'kindly', 'insight', 'disarming', 'Herr', 'unobtrusive', \"Bonn's\", 'flair', 'shuddering', 'preoccupation', 'compensatory', 'plasticity', 'categories', 'tray', 'tortoise', 'mysteries', 'astronomy', 'extrapolated', 'phenomena', 'theories', 'moderator', 'Bondi', \"King's\", 'Bonnor', 'Lyttleton', 'functioned', 'relativistic', 'relativity', 'calculated', 'galaxies', 'receding', 'thinly', 'reverse', 'contraction', 'billions', 'whistling', 'contends', 'electrons', 'electron', 'proton', 'charge-excess', 'atoms', 'gravitation', 'charts', 'jargon', 'hopefully', 'satellite', 'optical', 'ultra-violet', 'rays', 'telescope', 'gases', 'solace', 'peer', 'rationally', 'defensible', 'cosmos', 'Roots', 'trappings', 'Beatie', 'proclaims', 'emancipation', 'happenings', 'earthy', 'intellectuals', 'clods', 'antagonistic', 'illuminating', 'dwell', 'twilight', 'palace', 'heap', 'messy', 'washing', 'redundancy', 'sustained', 'Ado', 'theatre', 'Wollman', 'bravely', 'mingled', \"Shakespeare's\", 'enclosure', 'lawns', 'barbed', 'Benedick', 'responds', 'jokes', 'motif', 'umbrellas', 'depart', 'grieving', 'fortified', 'huddled', 'raining', 'foreseen', 'wept', 'weeping', 'downpour', 'Parks', 'preparing', 'devoting', 'balcony', 'Elisabeth', 'Schwarzkopf', 'precision', 'creeping', 'purest', 'coy', 'melodramatic', 'gasp', 'sigh', 'highlights', 'frills', 'enthusiasts', 'situated', 'volatile', 'leaps', 'gentle', 'armchair', 'traveler', 'illusions', 'Skies', 'Studies', 'Sansom', 'addiction', 'inherit', 'Sitwell', 'worthy', 'pastry', 'thick', 'extract', 'refinements', 'gracefully', 'references', 'connoisseur', 'reproduce', 'smells', 'ignores', 'visual', 'savory', 'astonishment', 'Beneath', 'transmit', 'hotter', 'Englishman', 'summers', 'delights', 'seacoast', 'Nice', 'coin', 'neat', 'petals', 'Byzantine', 'self-consciousness', 'expresses', 'mansions', 'Andrea', 'Palladio', 'environs', 'shed', 'mansion', 'traceable', 'stone', 'stucco', 'rocking', 'friezes', 'mint', 'framing', 'velvet', 'lips', 'trifle', 'WBAI', 'outlet', 'void', 'Yesterday', 'Violence', 'Corporations', 'avant-garde', 'explore', \"society's\", 'aspiration', 'relentless', 'wilt', 'fulfilling', \"mankind's\", 'conceivably', 'Stravinsky', 'enterprising', 'introducing', 'salient', 'Swedish', 'appetite', 'analytical', \"everybody's\", 'Suite', 'steadily', 'planting', 'celebration', 'hopping', 'Roll', 'fortunate', 'keyed', 'vermilion', 'flame', 'Frost', 'Below', 'Nature', 'Late', 'Maritime', 'quieter', '125', 'Rockies', 'groves', 'glinting', 'maples', 'softer', 'forests', 'brightest', 'routes', 'Saratoga', 'varies', 'staccato', 'Gap', \"Virginia's\", 'Chien', 'Straits', 'Mountain', 'Upper', 'Peninsula', 'patches', 'Color', 'week-long', 'Corn', '1892', 'Dakota', 'Centennial', 'expedition', '1876', 'schoolhouse', 'nozzles', 'jets', 'indoors', '3-1/2', 'gem', \"poet's\", 'instinct', 'skill', 'fictional', 'hurts', 'eagerly', 'Head', 'Monsieur', 'possessions', 'weighty', 'autobiography', 'commentary', 'upper-middle-class', 'Crane', 'Rachel', 'humorous', 'depict', 'mule', 'Benson', 'Maid', 'Mist', 'Staten', 'parades', 'pageants', 'horrors', 'devotees', 'cart', 'tender', 'pitiful', 'Maestro', 'dissolving', 'tasting', 'pills', 'cure-all', 'overweight', 'loveliest', 'capes', 'steadier', 'cooler', 'fish', 'turbulence', 'logs', '1.8', 'trailers', 'weekends', 'shores', 'boating', 'marinas', 'Dana', 'outboard', 'buzz', 'playground', 'salty', 'shingles', 'Corinthian', 'Yacht', 'launches', '70%', 'poking', 'eastward', 'Off', 'rigs', 'plush', 'lakes', 'dam', 'Erich', \"Remarque's\", 'Marquis', 'Portago', 'Clerfayt', 'race-driver', 'whereas', 'aimless', 'purposeful', 'grounded', 'tuberculosis', 'strict', 'Lillian', 'Remarque', 'discourse', 'demure', 'love-making', 'limb', 'existent', 'insignificant', 'microcosm', 'liberties', 'passive', 'Freudian', 'cliche', 'race-drivers', 'differ', 'transported', 'mystical', 'beast', 'formulae', 'cone', 'terminology', 'mystics', 'faulty', 'inward', 'fumbling', 'stumbling', 'relied', 'tear', 'Gaulle', 'tenacity', 'restoring', 'Whoever', 'treacherous', 'morally', 'surround', 'Napoleon', 'preventing', 'frontier', 'studded', 'originate', 'loudest', 'carping', 'averaged', 'consumption', 'lbs.', 'gluttons', 'hen', 'degrees', 'one-tenth', 'dispose', 'one-fifth', 'calories', 'banish', 'spoilage', 'concentrates', 'capsules', 'vitamins', 'dried', 'powdered', 'Keys', 'inventor', 'K', 'directs', 'spans', '500,000', 'indescribable', 'digestive', 'physiological', 'eaten', 'fats', \"Keys's\", \"mothers'\", 'milligrams', 'worries', 'cancer', 'diabetes', 'artery', 'ice', 'saturated', 'arteries', 'coronary', 'malnutrition', 'scarce', 'sustain', 'protein', 'reddish', 'bloated', 'prey', 'parasites', 'lingering', 'well-fed', 'Principles', 'Internal', 'Medicine', 'caloric', 'obesity', 'Puritan', 'flagrant', 'Says', 'immoral', 'Jolliffe', 'appestat', 'hypothalamus', 'temperature', 'alcohol', 'drinker', 'pituitary', 'compulsion', 'fostered', 'insecurity', 'nagging', 'punishment', 'boredom', 'subconscious', 'downright', 'crutches', 'Metrecal', 'minerals', 'distaste', 'accidents', 'chemically', 'crystalline', 'Scientists', 'bile', 'cells', 'ingredient', 'liver', 'fatty', 'molecules', 'soluble', 'insoluble', 'arterial', 'intima', 'proteins', 'narrows', 'calcium', 'deposits', 'slowing', 'Eventually', 'clot', 'seals', 'fatally', 'materially', 'Netherlands', \"Sweden's\", 'oxidation', 'stumbled', 'molecule', 'hydrogens', 'exerts', 'context', 'transitional', 'user', 'correspond', 'angels', 'experiential', 'gradual', 'emptied', 'superstition', 'extraneous', 'dispelled', 'undesirable', 'rightly', 'excesses', 'vividly', 'inquiring', 'framework', 'witch', 'Aside', 'quaint', 'witches', 'characterize', 'Reverend', 'demon', 'unfolds', 'ominously', 'saint', 'sinner', 'epidemic', 'virulence', 'unavoidably', 'trail', 'disintegration', 'evokes', 'designate', 'Lucifer', 'filthy', 'irony', 'prevented', 'blindness', 'mid-twentieth', 'elemental', 'underworld', 'beard', 'horns', 'absolutes', 'sciences', 'grasped', 'Devil', 'potency', 'accounting', 'wickedness', 'integral', 'universally', 'Think', 'Surely', 'apprehension', 'theological', 'mythological', 'theology', 'absurd', 'demythologization', \"Bultmann's\", 'mythology', 'kerygma', 'mode', 'symbols', 'existential', 'Bultmann', 'myth', 'adhered', 'admittedly', 'secularized', 'estranged', 'communicated', 'technological', 'profundity', 'evidenced', 'unavoidable', 'infatuation', 'latent', 'cultured', 'flock', 'Corinthians', 'smug', 'assuming', 'implied', 'Greeks', 'accomplishing', 'Scripture', 'providence', 'depriving', 'restatement', 'yes', 'follower', 'self-destruction', 'unpaid', 'unambiguous', 'maturation', 'richly', 'despise', 'aligned', 'Barth', 'self-consciously', 'Whitehead', 'apostolic', 'modernity', 'enduring', 'formulations', 'formulate', 'liberalism', 'Whereas', 'Continent', 'Buri', 'exclude', 'P', 'indifferent', 'excluded', 'mutually', 'analogous', 'tenable', 'accepts', 'biblical', 'Anglican', 'communion', 'fruit', '1864', 'popularly', 'enthusiastically', '1861', 'Universe', 'arriving', 'present-day', 'Englishmen', 'implying', 'utmost', 'longest', 'Fawkes', 'bonfire', '800,000', '1850', 'churchgoing', 'mornings', 'medieval', 'cathedrals', 'priest', 'congregation', 'falling', 'rolls', 'tenth', 'Fate', '260', 'warehouses', 'lapsed', 'decreasing', 'clergyman', 'Protestantism', 'someday', 'mapping', 'nationalistic', 'thy', 'fold', 'vicar', 'Faith', 'Fathers', 'endured', \"Mary's\", 'Shall', 'Forty', 'laity', 'embarrassment', 'ecclesiastical', 'respectful', 'depicting', 'clergymen', 'superficially', 'converts', 'immigrants', 'periodical', 'symbolize', 'uniqueness', 'circle', 'universality', 'formulated', 'Irenaeus', 'Savior', 'identifies', 'spiral', 'primeval', 'Origen', 'interprets', 'portrays', 'virgin', 'rained', 'willed', 'eternity', 'Historical', 'similitude', 'imperfect', 'oyster', 'immortality', 'immortal', 'mortality', 'grandeur', 'lord', 'dominion', 'Creator', 'arrogance', 'justification', 'random', \"devil's\", 'disobedience', 'obedience', 'obey', 'salvation', 'potentiality', 'parallelism', 'woe', 'downward', 'Wherefore', 'forfeit', 'disobeyed', 'parallel', 'preparation', 'ate', \"Man's\", 'conformed', 'envied', 'assert', 'dissolution', 'flesh', 'symbolizes', 'describe', 'temporal', 'sting', 'divinely', 'Unitarian', 'Gannett', 'honorable', '1845', 'insisting', 'persecuted', 'diffusing', 'poison', 'suppress', 'propriety', 'Orthodoxy', 'inquiry', 'proclaiming', 'insults', 'betray', 'conclusive', 'assurances', 'blot', 'indelible', 'posterity', 'whereupon', 'warming', 'excommunicated', 'liberality', 'abject', 'penance', 'naming', 'offspring', 'histories', 'Emerson', 'shoving', 'lick', 'veneration', 'afterwards', 'accusing', 'bits', 'brittle', 'foundations', 'Garrison', 'bravery', 'mobs', 'slavery', 'respecting', 'passions', 'abolitionists', 'clear-cut', 'proclaimed', 'phrased', 'exquisitely', 'canons', 'Channing', 'orthodox', 'individuality', 'rod', 'hurried', 'disguised', 'descended', 'genteel', 'prophesied', 'prophecy', 'institutionalized', 'defined', 'reminding', 'merchant', 'holy', 'Almighty', 'emotions', 'tides', 'astonished', 'compressed', 'snarled', 'Talk', 'bishops', 'bosom', 'pope', 'malaria', 'deceived', 'suffused', 'shut', 'endeavor', 'strenuous', '1848', 'literal', 'factual', 'anew', 'transformed', 'A.D.', 'alarmed', 'comprehend', 'audacity', 'Norton', 'shadow', 'geology', 'reverent', 'doubting', 'shivering', 'Gospel', 'assuredly', 'admiring', 'Test', 'textbook', \"Christ's\", 'begotten', 'Saviour', 'spiritually', 'appetites', 'affections', 'likeness', 'fruits', 'avenues', 'glory', 'reveals', 'precepts', 'dismissing', 'Him', 'discern', 'vested', \"Lord's\", 'bedside', 'beheld', 'radiant', 'ministry', 'ministering', 'Looking', 'Thou', 'joys', 'sweetly', 'defenses', 'bliss', 'hunger', 'drowning', \"they'll\", 'gnawing', 'Himself', 'Psalm', 'Fear', 'ailments', 'warts', 'worried', '30%', '12%', 'imaginary', 'aspirin', 'tranquilizers', 'amusement', 'Watch', 'advertise', 'dubious', 'mania', 'diversion', 'mounts', \"Isn't\", 'Munich', 'odor', 'promotes', 'psalmist', 'perpetual', 'predicament', 'curtains', 'systematically', 'warlike', 'wailing', 'pleading', 'belongings', 'Practically', 'vent', 'pounding', 'profanity', 'Notice', 'threefold', 'gate', 'conquered', 'famine', 'nakedness', 'sword', 'sinned', 'debt', 'stronghold', 'refuge', 'mountains', 'behold', 'hath', 'and/or', 'Classical', 'Lo', 'Shu', 'ruler', 'dynasty', 'B.C.', 'despotism', 'divergent', 'divination', 'survived', 'symbolism', 'Han', 'sprang', 'numerical', 'diagrams', 'Confucian', 'proscription', 'anyhow', 'cults', 'fullest', 'mathematical', 'hints', 'diagram', 'arbitrarily', 'functionally', 'symbolically', 'activated', 'opposing', 'pairs', 'equating', 'Yang', 'Yin', 'leveled', 'harmonious', 'axis', 'Centrality', 'tendencies', 'reverence', 'stimulated', 'dynastic', 'Directions', 'mirrors', 'emperor', 'Sacred', 'Colors', 'Notes', 'ascribed', 'Elements', 'postulate', 'Near', 'initiated', 'exerted', 'workings', 'interrelation', 'philosophers', 'conversely', 'Tao', 'Universal', 'Moon', 'Provinces', 'equated', 'mountain', 'Yellow', 'upside', 'maps', 'evangelism', 'Evangelism', 'fellowship', 'List', 'Membership', 'Preparation', 'pastoral', 'postponed', 'enclosed', 'History', 'Following', 'topic', 'packet', 'Reception', 'pp.', 'Supper', 'denominational', 'enrich', 'Have', 'hesitate', 'examinations', 'memorized', 'preparatory', 'painless', 'denominations', 'introductory', 'face-to-face', 'climax', 'Lead', 'bulletin', 'participant', 'unconcerned', 'inactive', 'appalling', 'alerted', 'cultivation', 'justifiably', 'Welcome', 'recreational', 'Opportunities', 'confuse', 'uniformity', 'paradigm', 'splinter', 'map', 'partition', 'grim', 'hostility', 'forcibly', 'differentiation', 'exclusion', 'amorphous', 'defines', 'dispense', 'intrinsically', 'instrumentally', 'creatively', 'relating', 'finite', 'thwart', 'interfaith', 'affecting', 'juncture', 'occasioned', 'pathological', 'proportions', 'authoritarian', 'separates', 'compensate', 'whatsoever', 'nurture', 'Afro-Asian', 'prominence', 'twentieth', 'aflame', 'repudiation', 'indigenous', 'justifications', 'mainland', 'Ceylon', 'Buddhism', 'rejoicing', 'missionaries', 'Hindu', 'tolerance', 'epitomized', 'Jerusalem', 'Cairo', 'interval', 'cultures', 'Ironically', 'pre-war', 'reconsidered', 'thereof', 'expressly', 'Muslim', 'Islam', 'intentionally', 'penniless', 'delineation', 'Movement', 'watches', 'prevalent', 'dominant', 'finality', 'mentioning', 'calculation', 'balancing', 'indirectly', 'repelled', 'probabilities', 'risks', 'imputed', 'analyzing', 'worlds', 'prohibited', 'Presumably', 'weighed', 'objectively', 'problematic', 'outweighed', 'contingencies', 'pacifism', 'deriving', \"anyone's\", 'distinctions', 'Toynbee', 'accidental', 'indefinitely', 'comparative', 'realistically', 'anguish', 'prevail', 'deduced', 'distinguishing', 'annihilation', 'precautions', 'Compared', 'incur', 'evils', 'anticipations', 'Eighty-Four', 'frightful', 'affirm', 'pax-ordo', 'clothed', 'Heavenly', 'repel', 'uselessly', 'regaining', 'attaining', 'proviso', 'planet', 'unrelated', 'thoughtful', 'immanent', 'aspirations', 'self-evident', 'assumptions', 'Real', 'Estate', 'Boards', 'realtor', 'conceive', 'Wesleyan', 'realtors', 'psychologists', 'clarify', 'ambivalence', 'oneself', 'restrictive', 'Code', 'nationality', 'detrimental', 'stricken', 'avoidance', 'attach', 'responsiveness', 'socially', 'insistent', 'respectability', 'Realtors', 'alumni', 'communal', 'exercised', 'involvement', 'fragmented', 'minimized', 'prejudiced', 'clauses', 'well-kept', 'privacy', 'Data', 'Often', 'declining', 'Discussion', 'securing', 'agitation', 'equity', 'wanton', 'v.', 'repudiated', 'compliance', 'presumes', 'embraces', 'infinitely', 'professions', \"client's\", 'pressed', 'professed', 'bearer', 'shaping', 'Religion', 'metallic', 'Af', 'rent', 'octillion', 'peas', 'attic', 'blizzard', 'snowing', 'snows', 'oceans', 'planets', 'farthest', '250,000', 'swallow', 'pill', 'swell', 'balloon', 'magnified', 'forty', 'luminous', 'oxygen', 'orbits', 'sponge', 'Someone', 'spheres', 'discouraging', 'obeyed', 'predetermined', 'atheists', 'physicist', 'waves', 'orbiting', 'pond', 'counterpoint', 'Nantucket', 'daytime', 'modify', 'allegiance', 'unobtainable', 'approximation', 'generalize', 'conformity', 'lessened', 'subscribed', 'drunkenness', 'gossip', 'sexual', 'lowering', 'dependable', 'labour', 'Theological', 'Seminary', '1893', 'pilgrim', 'stern', 'flaw', 'patriot', 'alabaster', 'strains', 'Walt', 'Melville', 'Hawthorne', 'Reform', 'arising', 'initiation', 'Quakers', 'warranted', 'benevolence', 'paralleled', 'kindred', 'anti-slavery', 'disclose', 'ephemeral', '1815', 'comply', 'Hopkins', '1789', 'incessant', 'dogmatic', 'fearless', 'devout', 'cowardly', 'compromising', 'emphatically', 'impulse', 'Finney', 'Weld', 'enrolled', 'insufficiently', 'freedmen', 'transmuted', 'awesome', 'worldly', 'ancestors', 'eminence', 'interdependent', 'Proper', 'observance', 'generating', 'supremely', 'insuring', 'manifested', 'swaying', 'outrages', 'rigid', 'offend', 'provoke', 'disasters', 'temple', 'obeying', 'comprehending', 'empirical', 'burial', 'magical', 'Taoism', 'manipulation', 'Mahayana', 'package', 'Zen', 'pantheon', 'wielded', 'monastic', 'Confucianism', 'ethos', 'synonymous', 'Taoist', 'metaphysic', 'metaphysical', 'doctrines', 'stillness', 'antipathy', 'outward', 'perceived', 'perception', 'texts', 'self-reliant', 'Eternal', 'handicap', \"mind's\", 'ordering', 'haste', 'drug', 'theoretically', 'strove', 'magically', 'distilled', 'contemplation', 'attained', 'seclusion', 'supernaturalism', 'credulity', 'Hwang', 'Pah', 'inhabited', 'monk', 'emitted', 'torrent', 'beckoned', 'Shan', 'exclaimed', 'Buddha', 'unexpectedly', 'pragmatic', 'self-confidence', 'reconcile', 'demons', 'therewith', '1898', 'indulgence', 'excited', 'disseminated', 'amongst', 'god', 'Ephesians', 'Satan', 'blinded', 'reborn', 'Amen', 'amen', 'habit', 'believer', 'righteous', 'Nicodemus', 'yourselves', 'dwelling', 'miraculous', 'instantaneous', 'hears', 'zealously', 'repent', 'cursed', 'spit', 'mock', \"soul's\", 'curses', 'Guideposts', 'sorrow', 'astounding', 'channel', 'bend', 'blade', 'whisper', 'materialism', 'post-war', 'Thornburg', 'Peale', 'mailing', 'leaflets', 'ingredients', 'philanthropic', 'LeSourd', 'dim', 'Hundreds', 'Forces', 'Rector', 'Alaska', 'Around', 'Jew', 'contributes', 'Catherine', 'distances', 'braces', 'shield', 'Serious', 'brightness', 'hated', 'waving', 'smiling', 'Marina', 'coupling', 'proclamation', 'invalid', 'landlord', 'Courts', 'gleaming', 'thump', 'whir', 'ready-made', 'crucifix', 'bodybuilder', 'barbell', 'Hey', 'gonna', \"guy's\", 'gotta', 'unkind', 'Courcy', 'weights', 'Montreal', 'Weider', 'Undoubtedly', 'pupil', \"10''\", 'Muscle', 'Builder', 'Seeing', 'exercising', 'skiing', 'skinny', 'dissatisfied', 'Push-Pull', 'Super-Set', 'Bench', 'pecs', 'frontal', 'Set', 'Super-Sets', 'elbows', 'width', 'affords', 'flare', 'symmetry', 'workouts', 'chisel', 'discovers', 'Leg', 'Lunge', 'lengths', 'thighs', 'unforgettable', 'Definition', 'lifters', 'Squatting', 'writhing', 'skin', 'improves', 'concentrated', 'Stands', 'Clean', 'straightening', 'wobble', 'enormously', 'pansies', 'Pansies', 'velvety', 'glaring', 'gardener', 'beauties', 'puzzled', 'blooming', 'pansy', 'compost', 'adequacy', 'coldest', 'ventilation', 'dig', 'spray', 'protects', 'sprinkling', 'porous', 'mulch', 'sawdust', 'hay', 'bloom', 'phosphate', 'meal', 'encourages', 'spade', 'decayed', 'manure', 'diluted', 'dissolved', 'frost', 'moisture', 'heaving', 'thaw', 'bloomed', 'zero', '4-inch', 'Try', 'blossoms', 'Pick', 'tug', 'assures', 'shear', 'stub', 'leaf', 'behave', 'reputable', 'cared', 'buds', 'Treat', 'solicitude', 'tomato', 'healthful', 'avocado', 'avocados', 'tasted', 'pear', 'pulp', 'ripe', 'Bartlett', 'bland', 'anticipation', 'refrigerated', 'packing', 'lapses', 'cooling', 'delays', 'ripening', 'egg', 'versatility', 'nutritional', 'nutrients', 'acids', 'appreciable', 'vitamin', 'Calcium', 'significantly', 'refrigeration', '1/2', 'dietary', 'pulsating', 'vibration', 'clutches', 'Nuclear', 'ballistic', 'stealth', 'merciless', 'terrifying', 'attacker', 'defenseless', \"victim's\", 'ideally', 'vulnerability', 'committing', 'location', 'vessels', 'detect', 'compute', 'ICBM', 'mobility', 'perfected', 'exceedingly', 'imprecisely', 'spacecraft', 'B-70', 'employing', 'hardened', 'Minuteman', 'Atlas', 'Titan', 'airborne', 'duration', 'airfields', 'doomed', 'one-shot', 'runways', 'thrust-to-weight', 'ratio', 'Large', 'obsolete', 'propulsion', 'supersonic', 'weighing', 'SAC', 'dispersion', 'reconnaissance', 'SAMOS', 'favorably', 'priceless', 'infrared', 'photography', 'Trout', 'dual', 'renditions', 'china', \"Angel's\", 'Arte', 'editions', 'Schnabel', 'performer', 'Curzon', 'Adrian', 'sheds', 'differs', \"Schnabel's\", \"student's\", 'structural', 'impetuous', 'Quartet', \"Curzon's\", 'cite', 'delicious', 'shading', 'expertise', 'compliments', 'scrawny', 'locating', \"everyone's\", 'purported', 'indistinguishable', 'fidelity', 'multiplied', 'innovations', 'environments', 'alteration', 'quantitatively', 'imitation', 'easiest', 'reproduces', 'Steinberg', 'minimal', 'frequency', 'aesthetic', 'noises', 'resonance', 'faithfully', 'pacing', 'Ma', 'non', 'Spirito', 'Giselle', 'vanish', 'brute', 'brilliance', 'tolerable', 'KC', 'Dog', 'Finals', 'Juniors', 'Ch.', 'ceases', 'Dogs', 'sensing', 'Aids', 'Barcus', 'Showmanship', 'Kennel', 'Handler', 'sportsmen', 'Betty', 'Ham', 'Classes', 'Judging', 'intermediates', 'licensed', 'Danes', 'kitten', 'pets', 'Comes', 'wipe', 'examination', 'fishermen', 'Boats', 'concentrations', 'coasts', 'upsurge', 'markedly', 'wells', 'watering', 'Engineers', 'thirty-two', 'Providing', 'ninety', 'sailboats', 'smartly', \"year-'round\", 'tedious', 'trailer', 'Arriving', 'hauled', 'horizons', 'Boat', 'camping', 'sail', 'plywood', 'plastic', 'toilets', 'galleys', 'bunks', 'Designers', 'purchasers', 'boatman', 'encompass', 'motors', 'horsepower', 'wherein', 'owning', 'launch', 'Terms', 'rating', 'unduly', 'terrified', 'infancy', 'burdened', 'aloft', \"water's\", 'carefree', 'marine', \"industry's\", 'coordinated', 'reorganized', 'Engine', 'Manufacturers', 'sparked', 'marina', 'coined', 'commercially', 'dock', 'cater', 'nomenclature', '4,000', 'interlocking', 'tappets', 'tappet', 'lengthwise', 'Close', 'locking', 'angles', 'notches', 'sloping', 'slide', 'pulls', 'levers', 'snag', 'Figs.', 'connecting', 'rails', 'prototype', 'Fig.', 'photos', \"1/8''\", \"1/4''\", \"1/2''\", 'widths', 'right-hand', \"12''\", \"1''\", 'sq.', 'spacing', 'left-hand', 'Cap', 'drilled', 'spacers', 'horizontally', 'Position', 'intermediate', 'screws', 'Drill', '2-56', 'drilling', 'contacts', 'reassemble', 'roundhead', 'nuts', 'twisted', 'insert', 'screw', 'Number', 'slots', 'Cut', 'flush', 'slot', 'underside', 'Scribe', 'lifting', 'progresses', 'accessible', 'dia.', 'rotating', 'File', 'V-shaped', 'triangular', 'mated', 'files', \"'round\", 'rodding', 'rodder', 'remotely', 'equations', 'multiplication', 'subtraction', 'Numbers', 'subtracted', 'fractions', 'decimal', 'simplified', 'constants', 'blanks', 'displacement', 'boring', 'Factors', 'cylinders', 'piston', 'computing', 'cylinder', 'cross-sectional', 'centimeters', 'cc.', 'compression', 'combustion', 'liquid', 'valves', 'gasket', 'liquids', 'subtracting', 'thickness', 'calculate', 'pistons', 'irregularly', 'irregularity', 'axle', 'tire', 'simplify', 'substituted', 'radius', 'inflated', 'measurement', '168', 'rpm', 'stable', 'Debonnie', 'Dale', 'Hanover', 'Prompt', 'Laguerre', 'Tar', 'Monel', '2:34', 'conformation', 'colt', '2-year-olds', 'brood', 'mare', \"Star's\", 'Fury', 'Hoot', 'Caper', '2:35', 'trot', 'thrived', 'Thor', 'harness', 'hopples', 'worms', 'paced', 'curbs', 'playful', 'Freight', '2:33', 'Adios', 'masculine', 'pacers', 'Frisco', '2:36', 'fine-looking', 'Direct', 'Hickory', 'Ash', 'trotted', '2:37', 'Faber', 'Rodney', 'Brief', 'Martha', 'Custom', 'Worthy', 'Jet', 'Precious', 'Rich', 'three-quarters', 'baffled', 'rocked', 'skipped', '2:30.3-:36', 'straightened', 'Cathy', 'rainfall', 'Demon', 'Coffee', 'p', 'Duke', '2:01.1', 'Abbe', 'Hi', 'Stormy', 'shooter', 'rack', 'handgun', 'Deerstalker', 'timber', 'velocity', 'Ruger', 'Magnum', 'cartridge', 'antelope', 'carbine', 'wart', 'over/under', 'defunct', 'Model', 'barrels', 'revolver', 'bullet', 'jacketed', 'buck', 'compares', 'scales', 'trigger', 'muzzle', 'Remington', 'edible', 'flurry', 'intriguing', 'rim-fires', 'chuck', \"'61\", 'calibers', 'brands', 'bolt-action', 'Magnums', 'recoil', 'Previously', 'cartridges', 'well-made', 'Kodiak', 'autoloader', 'tubular', 'Targo', 'single-shot', 'brakes', 'shortened', 'pump', 'saddle', 'scabbard', 'lever-action', 'cocked', 'tang', 'gauge', \"kid's\", 'hunters', 'Colt', '12-gauge', 'optional', 'coupled', '1905', 'creaking', 'tallyho', 'Cruz', 'orchards', 'lantern', 'complain', 'Boulder', 'Creek', 'tiring', 'contrived', 'rode', 'hamper', 'smoked', 'sandwiches', 'pickled', 'bulbs', 'resin', 'westerly', 'fragrance', \"Vernon's\", 'polish', 'patent', 'medicines', 'chewing', 'hissing', 'porter', \"Manning's\", 'Fish', 'draped', 'salt', 'roast', 'fond', 'standby', \"1890's\", \"Antoine's\", 'splash', 'herbs', 'inspect', 'shave', 'roulette', 'groomed', 'jaw', 'kedgeree', 'cupful', 'boiled', 'minced', 'sauce', 'pinch', 'tablespoonful', 'fried', 'Heat', 'omelet', 'Ernest', 'Arbogast', 'celery', 'nutmeg', 'Sherry', 'swarmed', 'amused', 'primacy', 'maroon', 'boots', 'glistened', 'Promptly', 'reins', 'button', 'curve', 'peninsula', 'tilt', 'lounged', 'cigar', 'clump', 'fork', 'ripple', 'valley', 'ink', 'denouncing', 'stables', \"Wright's\", 'strewn', 'haunt', 'pigs', 'cured', 'esteemed', 'roasted', 'saucepan', 'mustard', 'mashed', 'garlic', 'lime', 'tablespoons', 'Worcestershire', 'catsup', 'walnuts', 'pint', 'simmer', 'nuisance', 'fences', 'pies', 'vineyards', 'apples', 'apple', 'oven', 'pie', 'ledger', 'gently', 'syrup', 'unbelievable', 'Hawaii', 'U.S.A.', 'photographic', 'birthplace', 'villages', 'metropolis', 'two-day', 'Naval', 'Forge', 'beaches', 'port', 'Champlain', 'Ethan', 'Winooski', 'locales', 'Pictures', 'Photos', 'sunlight', 'expanse', 'spectacles', 'tourist', 'memorial', 'Vicksburg', 'photograph', 'surroundings', 'wrought', 'Quarter', 'adventure', 'lit', 'Chattanooga', 'Charlottesville', 'Monticello', 'photo', 'wooded', 'uneven', 'filtering', 'predominantly', 'ante-bellum', 'tripod', 'Singing', 'midwestern', 'stroll', 'overgrown', 'landmarks', 'boyish', 'mischief', 'Wyatt', 'cowboys', 'carriages', 'autos', 'forts', 'sunset', 'world-renowned', 'Holland', 'Fishing', 'Derby', 'Yosemite', 'Zion', 'Canyon', 'formations', 'loom', 'landmark', 'Istanbul', 'disappearing', 'graceful', 'spires', 'panorama', 'Bosphorus', 'Constantinople', 'Constantine', 'Turks', 'Ottoman', 'Marmara', 'Easy', 'Directly', 'T', 'Bridge', 'empties', 'Across', 'Sophia', 'minarets', 'Mosque', 'Passing', 'bazaar', 'temples', 'Justinian', 'stubby', 'Michelangelo', 'plastered', 'sultans', 'Hippodrome', 'chariot', \"Kaiser's\", 'Fountain', 'octagonal', '1895', 'Sultan', 'Ahmet', 'obelisk', 'Column', 'serpents', 'courtyard', 'rectangular', 'arcade', 'pillars', 'lettering', 'towers', 'prisons', 'veered', 'chimneys', 'utensils', 'illuminated', 'cups', 'diamonds', 'swords', 'emeralds', 'squares', 'coals', 'grease', 'foil', 'sauces', 'detergent', 'rinse', 'heating', 'shorten', 'aluminum', 'meats', 'grill', 'thermometer', 'diagonally', 'hibachi', 'flares', 'bowls', 'Made', 'unbreakable', 'barbecues', 'coolers', 'hamburgers', 'frozen', 'mopping', 'chilled', 'dressing', 'buns', '75%', 'knives', 'Simple', 'franks', 'sausages', 'spiced', 'feast', 'frankfurter', 'gloves', 'Discovery', 'sized', 'Years', 'skinless', 'charcoal', 'Score', 'cheese', 'Contrary', 'styled', 'fix', \"neighbor's\", 'popping', 'chili', 'tablespoon', 'teaspoons', 'Combine', 'Makes', 'goodbye', 'frankfurters', 'chopped', '1/4', 'vinegar', 'chunks', 'spear', 'carne', 'Coney', 'sauerkraut', 'chop', 'onions', 'teaspoon', 'drained', 'rectangle', 'Frankfurter', 'Spread', 'strips', 'Brush', 'pottery', 'Instructions', 'molds', 'Materials', 'stains', 'bubbles', 'cracking', 'wax', 'Pressing', 'mold', 'cavity', 'knife', 'Trim', 'antique', 'cupped', 'tapping', 'plaster', 'bending', 'warping', 'grooves', 'craters', 'coats', 'Creek-Turn', 'yellow-green', 'blue-green', '05', 'Bisque', 'stain', \"manufacturer's\", 'transparent', 'spaced', 'pencil', 'personalized', 'lids', 'jar', 'Measurements', 'circumference', 'circular', 'overlap', 'overlapped', 'coil', 'toner', 'turquoise', 'rim', 'beveled', 'reinforce', 'creamer', 'overlapping', 'Form', 'seam', 'container', 'spoon', 'shakers', 'candles', 'holder', 'cardboard', 'glazed', 'bottle', 'strand', 'armhole', 'stitches', 'marker', 'needle', 'sew', 'backstitch', 'curved', 'slanted', 'Run', 'sock', 'Hold', 'Hotei', 'amuse', 'galley', 'toilet', 'cruiser', 'bin', 'Needless', 'Fiberglas', 'hauling', 'one-inch', 'mahogany', 'battens', 'Stronghold', 'nails', 'resorcinol', 'glue', 'transom', 'Draw', 'glued', 'keelson', 'chines', 'half-inch', 'butted', 'planking', 'jig', 'three-inch-wide', 'screwed', 'stem', 'rip', 'butt', 'clamps', 'planer', 'clamped', 'batten', 'pigment', 'mixing', 'Plastic', 'Linden', 'installing', 'fasten', 'flaring', 'flooring', 'exterior', 'floorboards', 'bunk', 'drains', 'padding', 'Type', 'cement', 'Available', 'cottages', 'modular', 'measurements', 'timbers', 'ingenious', 'specify', 'inspector', 'intermittent', 'springs', 'rocky', 'expandable', 'Bear', 'fixtures', 'mesh', 'coated', 'particle', 'obtainable', 'weatherproof', 'compound', 'thicknesses', 'ripping', 'milling', 'multitude', 'attachments', 'spindle', 'threaded', 'quill', 'movable', 'tilted', 'radial', 'horizontal', 'securely', 'oiled', 'sealed', 'dusting', 'rag', 'clockwise', 'adjusting', 'Feed', 'interchangeable', 'drills', 'spurs', 'sever', 'fibers', 'cutter', 'reversing', 'scrap', 'dimensional', 'wander', 'clamping', 'sequence', 'erection', 'Newbury', 'Newburyport', 'Salisbury', '1791', 'petitioned', 'Merrimack', 'Jonathan', 'Esquire', 'Deer', 'Commonwealth', 'Body', 'politic', 'Liberty', 'Timothy', 'patented', 'arch', 'supervised', 'Coombs', 'Haven', 'breadth', 'thirty-four', 'invention', 'Portsmouth', '1810', '1793', '113', 'piers', 'eccentric', 'oration', 'cheek', '1882', 'navigation', 'Fayette', 'hereby', 'relates', 'Approved', 'oxen', 'drowned', 'rebuilt', 'roadway', '1868', 'Philippi', 'Infantry', 'swarming', 'retreating', 'armies', 'buggy', 'publications', 'Harpers', 'Ferry', 'Chenoweth', 'Parkersburg', 'Grafton', 'carving', 'beams', 'raid', '1863', 'piling', 'reasoned', 'Confederate', 'centennial', 'rigorous', 'diluting', 'cling', 'viewpoints', 'dreaming', 'shimmering', 'tubes', 'annoying', 'colder', 'dictated', 'restful', 'pavement', 'pertaining', 'gatherings', 'fantasies', 'sharks', 'trunks', 'etiquette', 'ratings', 'collusion', 'telephoning', 'splashing', 'protesting', 'brutal', 'undressing', 'dripping', 'bathing', 'Preserving', 'localities', 'fenced', 'chlorine', 'rots', 'paints', 'divers', 'enjoined', 'bottles', \"pool's\", 'pH', 'filter', 'pins', 'scrubbing', 'grate', 'debris', 'pumping', 'insect', 'pipes', 'latitude', 'conditioning', 'FHA', 'inclusion', 'ducts', 'installation', 'upkeep', 'concurs', 'offset', 'thermal', 'filtered', 'Heart', 'redecorating', 'fatigued', 'awake', 'refreshed', 'screens', 'conditioner', 'economical', 'filters', 'furnace', 'blower', 'conditioners', 'basement', 'closet', 'garage', 'insulation', 'circulated', 'thermostat', 'Separate', 'extracted', 'negligible', 'Families', 'BTU', 'safest', 'comfortably', 'penetrate', 'blinds', 'draperies', 'insulated', 'condensation', 'drier', 'Keeping', 'pretending', 'orienting', 'Geological', 'ownerships', 'etcetera', 'investigator', 'desolate', 'potentials', 'vastly', 'frontage', 'overall', 'overlooks', 'shrubs', 'watershed', 'unrestricted', 'Animals', 'migratory', 'coastal', 'stones', 'caves', 'encroachment', 'Topography', 'elevation', 'slopes', 'Determine', 'topography', 'irrigation', 'checking', 'Serge', 'personifies', 'Republics', 'social-economic', 'post-World', \"Prokofieff's\", 'twenties', 'ascending', 'Koussevitzky', 'skeptical', 'foyer', 'high-pitched', 'Oranges', 'symphonies', 'aristocracy', 'laissez-faire', 'salons', 'mistress', 'gaiety', 'new-found', 'Fascism', 'outraged', 'cringing', 'submission', 'beset', 'treaties', 'disciplines', 'Socialism', 'epoch', 'fluent', 'environment', 'compose', 'tenderness', 'profile', 'instrumentation', 'novelty', 'forged', 'disparate', 'compass', 'swayed', 'transform', 'homogeneity', 'recapture', 'proclamations', 'shabby', 'eighty', 'unfolded', 'swiftly', 'circumspect', 'wove', 'folklore', 'moods', 'rigors', 'kinship', 'distillation', 'extracting', 'expeditions', 'imparted', 'engraved', 'Batavia', 'Max', 'independently', 'watercolor', 'recognizable', 'washes', 'watercolors', 'composing', 'spontaneity', 'linear', 'freehand', 'thoughtfully', 'Trial', 'easel', 'umbrella', 'cleansing', 'tissue', 'mop', 'soften', 'bristle', 'shaved', 'umber', 'burnt', \"Payne's\", 'connotation', 'synthesis', 'inventory', 'silhouetted', 'half-closed', 'niche', 'Gilbert', 'medals', 'Medal', 'Watercolor', 'Purchase', 'Associate', '1931', 'Artists', 'gymnasts', 'athletes', 'gymnastics', 'tumbling', 'persistence', 'gymnastic', 'newborn', 'infants', 'fitness', 'anxiety', 'clumsy', 'bulging', 'abdominal', 'climb', 'Arm', 'Horse', 'palms', 'Arch', 'Improvement', 'lessening', 'beginnings', 'electronics', 'betterment', 'staggering', 'Electronics', 'x-ray', 'ultrasonic', 'laboratories', 'microscopy', 'bacteria', 'microorganisms', 'stained', 'microscopic', 'replaces', 'ultraviolet', 'microscope', 'mercury', 'amplified', 'wavelength', 'rotated', 'illumination', 'advancing', 'perfecting', 'Ventilation', 'respiratory', 'affectionately', \"patient's\", 'carbon', 'nitrogen', 'lung', 'mouthpiece', 'hitherto', 'heartbeat', 'aorta', 'dimensioning', 'undisturbed', 'outlines', 'pen', 'meters', 'sonar', 'generator', 'evaluation', 'transducer', 'ventricle', 'computer', 'receivers', 'cm.', 'Battery', 'resonant', 'antenna', 'detected', 'receiver', 'transmitted', 'calibrated', 'gratifying', 'detection', 'exploration', 'submerged', 'scanning', 'Based', 'diagnose', 'indicator', 'anatomical', 'specially', 'lens', 'diameters', 'millimeter', 'tub', 'veins', \"Oersted's\", 'boyhood', 'Denmark', 'apothecary', 'educate', 'surveyor', 'borrow', 'stimulate', 'Copenhagen', 'lodging', 'supplemented', 'revel', 'banished', 'lecturing', '1797', 'essay', 'Poetry', 'divisive', 'Oersted', 'voltaic', 'Bavaria', 'Ritter', '1801', 'stormed', \"host's\", 'fertile', 'disorganized', 'francs', 'discoveries', 'fantasy', '1803', 'celestial', 'ecliptic', 'corresponded', '1819', '1820', 'reckon', '1817', 'Manthey', 'Lion', 'Pharmacy', 'salts', 'pursue', 'faculties', '1812', 'esteem', 'chemists', 'magnetism', 'similarity', 'analogies', 'magnet', 'fuse', 'vapor', 'trough', 'electrostatic', 'Electrical', 'polarity', 'additives', 'sanctioned', 'Drug', 'drugs', 'veterinary', 'assumes', 'hydrochloride', 'Increases', 'bacterial', 'diarrhea', 'incidence', 'bloat', 'abscesses', 'grams', 'scours', '0.1', 'severity', '0.5', 'onset', 'disappear', 'Sheep', \"Drug's\", 'Aureomycin', 'reduces', 'infections', 'pneumonia', 'rot', 'milligram', 'calves', 'infection', 'abortion', 'Dynafac', '0.2', 'gram', 'premix', '0.3', '0.4', 'consuming', 'minimizing', 'lambs', '1.0', 'diethylstilbestrol', 'creep', 'Caution', 'Cows', 'enzymes', 'enzyme', 'preparations', 'fermentation', 'extracts', 'utilization', 'Greatest', 'foamy', 'reproduction', 'worm', 'phenothiazine', 'Continuous', 'pasture', 'acetonemia', 'ketosis', 'calving', 'sodium', 'self-unloading', 'conveyor', 'elevator', 'construct', 'sixties', 'yrs.', 'efficiencies', 'price-consciousness', 'intensification', 'Frequently', 'distributors', 'distributor', 'Increased', 'Average', 'assertions', 'enhance', 'headaches', 'economies', 'scrutinizing', 'accentuated', 'evaluated', 'beats', 'tuned', 'Technical', 'quantitative', 'qualitative', 'outdistanced', 'beverage', 'wrapped', 'defining', 'politeness', 'certification', 'adhere', 'necessities', 'Dictionary', 'furnishes', 'institutional', 'determines', 'examining', 'supervising', 'carpentry', 'exhibitions', 'extant', 'synthetic', 'inhibition', 'dissection', 'frowned', 'educator', 'scrutinized', 'denies', 'refuses', 'initials', 'tolerate', 'shortsighted', 'molding', 'rushes', 'suffice', 'irresponsibility', 'correlation', 'accreditation', 'productivity', 'printing', 'restricting', 'entitles', 'uninterrupted', 'policing', 'vending', 'relying', 'Recreation', 'commensurate', 'taxis', 'vacations', 'shutdown', 'shutdowns', 'assigning', 'rigidly', 'distinguish', 'treatments', 'overboard', 'checkbook', 'periodically', 'alerting', 'on-the-job', 'beware', 'bereavement', \"worker's\", 'deceased', 'alleviate', 'containers', 'absences', 'adopting', 'inconvenience', 'Thanksgiving', 'widest', 'firearms', 'ammunition', 'ever-expanding', 'Present', 'sown', '1,500', 'consultants', \"SAAMI's\", 'Rifle', 'Outdoor', 'carryover', 'Personnel', 'Teen', 'Jennings', 'benefited', 'tents', 'camper', 'bedding', 'campers', 'guesses', 'Forests', 'rods', 'migration', 'Automobile', '$7', 'comforts', 'wandering', 'disillusionment', 'willingly', 'rebelled', \"public's\", 'remedies', 'gage', 'fights', 'advancement', 'turbine', 'Products', 'Consulting', 'Engineer', 'Senior', 'classifications', 'quotations', 'equivalence', 'non-supervisory', 'Approximately', 'secretaries', 'high-level', 'Staff', 'patents', 'badge', 'research-staff', 'evaluations', 'Sixty', 'Oakwood', 'metered', 'Tri-State', 'tenants', 'lays', 'supplier', 'township', 'welded', 'shocks', 'gallon', 'coolant', 'leaks', 'hose', 'bugs', 'radiator', 'fluids', 'breakdowns', 'clause', 'discount', 'reductions', 'liability', 'plastics', 'entrenched', 'neon', 'tubing', 'Evidence', 'Sign', 'Plastics', 'built-in', 'fabrication', 'lb.', 'molded', 'low-cost', 'tailor-made', 'styrene', 'acrylic', 'dominates', 'extruded', \"Pont's\", 'Dept.', 'chipping', 'acetate', 'butyrate', 'laminate', 'three-dimensional', 'vinyl', 'polyester', 'trans-illuminated', 'cellulose', 'polyethylene', 'tooling', 'expectancy', 'incorporates', 'translucent', 'shielded', 'obstruct', 'adhesive', 'opaque', 'sec.', 'ft.', 'characterizes', 'changeable', 'openings', 'cemented', 'corrugated', 'installations', 'formulation', 'sprayed', 'no.', 'quicker', 'bathtub', 'doorway', 'studs', 'stud', 'drywall', 'unload', 'Table', 'Lumber', 'carrier', 'mechanized', 'unitized', 'asphalt', 'mills', 'strapping', 'lb', 'unloading', '6%', 'packages', 'high-priced', 'manhours', 'stacked', 'bricklaying', 'Structural', 'bricklayers', 'bricks', 'scaffold', '156', 'carpenter', '$.03', 'smart', 'anachronism', 'gratefully', 'palaces', 'capitals', 'champagne', 'Rue', 'untouched', 'Ages', 'clinging', 'lofty', 'squat', 'pick-up', 'Documents', 'kilometer', 'twenty-one', 'wiser', 'travelling', 'sedans', 'supplementary', 'Romeo', 'indulge', 'luxuries', 'seating', 'infinitesimal', 'nickel', 'limousine', 'chauffeur', 'kilometers', 'skimming', 'lured', 'cute', 'peanuts', 'linguist', 'Primary', 'programming', 'perverse', 'Eskimo', 'knotted', 'anthropology', 'linguistics', 'attuned', 'Language', 'charting', 'norms', 'socio-economic', 'linguists', 'systematic', 'psychiatric', 'therapy', \"1950's\", 'three-part', 'laughing', 'nodding', 'cetera', 'impaired', 'revealing', 'psychiatry', 'relate', 'therapeutic', 'psychiatrists', 'cues', 'discernible', 'psychotherapy', 'therapist', 'typed', 'transcribed', 'flags', 'rehearsed', 'ambiguity', 'giveaways', 'stressing', 'congruent', 'Immediately', 'linguistic', 'Interestingly', 'scientifically', 'indicators', 'pronouns', 'actuality', 'psyche', 'stammered', 'freighter', 'sailed', 'Bari', 'Adriatic', 'Porto', 'anchored', 'mole', 'laden', 'ammo', 'hideous', 'Axis', 'poisonous', 'inhumane', 'depot', 'vile', 'cargo', 'Beckstrom', 'nestled', 'decks', 'convoy', 'reappeared', 'raids', 'Naples', 'scouting', 'Vesole', 'Bascom', 'radar-controlled', 'paradise', 'stunned', 'shook', \"he'd\", 'Seaman', 'Lieutenant', 'gazed', \"officer's\", 'Damned', 'Vecchio', 'shiver', 'Musmanno', 'renovated', 'schooner', 'olive', 'fluttering', 'snatched', 'savagely', 'flashlight', 'laughed', 'bellowed', 'Stop', 'chattered', 'roared', 'crashing', 'airports', 'invisible', 'shine', 'beacon', 'Merchant', 'imbedded', 'clambered', 'wounded', 'cries', 'merriment', 'gaze', 'staring', 'open-mouthed', 'confesses', 'weird', 'deja', 'vue', 'scorn', 'psychical', 'irregular', 'slab', 'clasping', 'whispered', 'overwhelmed', 'wakeful', 'Dreams', 'psychic', 'imagery', 'subconsciously', 'concurrent', 'sensory', 'unexplained', 'retinal', 'images', 'perceptive', 'momentary', 'perpetuate', 'counterpart', 'progressions', 'bizarre', 'Hilprecht', 'escorted', 'treasure', 'gradient', 'forgetfulness', 'peculiarly', 'Depew', 'one-time', 'nominate', 'psychologist', 'orator', 'nutrition', 'caring', 'lends', 'farming', 'sandy', 'erosion', 'fertilizers', 'Folly', 'Faulkner', 'herd', 'wastes', 'pails', 'stooped', 'soils', 'enrichment', 'carrots', 'cabbage', 'whole-wheat', 'Colman', 'fragrant', 'eyeing', 'cereal', 'cereals', 'liberally', 'Lots', 'fertility', 'Finding', 'loaves', 'residues', 'spilling', 'underfoot', 'maple', 'hikes', 'complexion', 'swirling', 'struggled', 'northward', 'Northfield', 'bundled', 'peered', 'grinned', 'gravel', 'labored', 'cloudburst', 'Burlington', 'Concord', 'easing', 'Montpelier', 'aviator', 'Burns', 'Jenny', 'sod', 'hillside', 'Barre', 'crumpled', 'Aviation', 'terminals', 'Fogg', 'Englander', 'wiry', 'inaugurated', 'legendary', 'backers', 'Waco', 'begged', 'safer', 'downwind', 'Reuben', 'Wolfe', 'Postmaster', 'Somers', 'telegram', 'airplanes', \"Fogg's\", 'one-man', 'crawled', 'sheepskin', 'visibility', 'Marston', \"He'd\", 'disregarding', 'clocks', 'bark', 'reckoning', 'threading', 'overcast', 'mist', 'messenger', 'deduce', 'meadows', 'Instrument', 'thawed', 'flip', 'barracks', 'powdery', 'hazy', 'penny', 'dictionary', 'Conferences', 'serenity', 'unhappiness', 'Find', 'amaze', 'knack', 'doll', 'hem', 'rugs', \"How's\", 'mosaic', 'ceramics', 'cakes', 'carve', 'gadgets', 'scrub', 'forte', 'Ever', 'slips', 'hobbies', 'dolls', 'hobby', 'clippings', 'Travel', 'creativity', 'coop', 'burrow', 'projecting', 'forestall', 'maturing', 'Huxley', 'Victorian', 'nowadays', 'intercourse', 'unhurried', 'consummation', 'virginity', 'hymen', 'needless', 'membrane', 'vagina', 'manuals', 'childbirth', 'dilatation', 'reflex', 'vaginal', 'intrusion', 'learns', 'erotic', 'caresses', 'relaxes', 'Extensive', 'physicians', 'anterior', 'posterior', 'virility', 'psychologically', 'facilitate', 'premature', 'momentarily', 'accumulated', 'orgasm', 'nude', 'Kenneth', 'matron', 'censorship', 'lewd', 'bump', 'reversed', 'counselors', 'asserting', 'submissive', 'Steichen', 'Calderone', 'Planned', 'Parenthood', 'unhealthy', 'sexually', 'cheated', 'maleness', 'counselor', 'ironing', 'PTA', 'overtures', 'well-educated', 'submitting', 'monopolize', 'Schillinger', 'hover', 'anxiously', 'bacon', 'Grandma', 'marketplace', 'postwar', 'arousal', 'paradoxically', 'knuckle', 'coaxed', 'Diana', 'Harrington', 'D.A.', 'prostitute', 'Diane', 'hid', 'Jelke', 'searched', 'Pulley', 'Bey', 'procurer', 'Farouk', 'phony', 'audition', 'gushed', \"somebody's\", 'scream', \"blonde's\", 'gamblers', 'X', 'Nero', 'Excelsior', 'halls', 'screaming', \"Diane's\", 'screamed', 'luxurious', 'beguiling', 'impatient', 'pimp', 'Egyptians', 'overthrown', 'overcrowded', 'decorated', 'littered', 'autopsy', 'knowingly', 'Claire', 'Shaefer', 'squeezing', 'kidney', 'disorder', 'ozone', 'Continuing', 'shrieked', '97', 'ailment', 'tumors', 'cysts', \"Lee's\", 'quack', 'Practices', 'quackery', 'quacks', 'metals', 'wires', 'flashing', 'vocabulary', 'fake', 'masseur', 'Reich', 'distributing', '2000', 'Authorities', 'Gross', 'Multiply', 'BBB', 'loot', 'Typically', 'strychnine', 'relies', 'insulin', 'chloride', 'Hull', 'twirling', 'prescription', 'compresses', 'Stephens', 'prosecuted', 'cures', 'scrape', 'classmate', \"boys'\", 'Bugs', 'protruded', 'orthodontist', 'dentist', 'jaws', 'orthodontic', 'Brodie', 'orthodontics', \"dentist's\", 'malocclusion', 'protruding', 'Front', 'predisposition', 'deformity', 'sucking', 'suck', 'thumbs', 'narrowing', 'jumble', 'embarrassed', 'malformed', 'alignment', 'Susie', 'appliance', 'dissolve', 'ill-conceived', 'disrupt', 'retention', '$750', 'orthodontists', 'births', 'scoffed', 'straighten', 'utilized', 'prematurely', 'sitter', 'foregoing', 'mediums', 'extra-sensory', 'ESP', 'mourning', 'entranced', 'proxy', 'experimenter', 'unconscious', 'clarifying', 'communicator', 'elastic', \"individual's\", 'J', 'Conversely', 'twins', 'Methods', 'empirically', 'Z', 'intuitive', 'tabulated', 'intrinsic', 'slant', 'odors', 'irons', 'visually', 'confining', 'chickens', 'locality', 'Hard', 'profitably', 'Production', 'hail', 'Returns', 'invested', 'Part-time', 'uneconomical', 'rented', 'pig', 'deciding', \"family's\", 'Location', 'adolescents', 'starved', 'strangled', 'SS', 'dulled', 'corpses', 'legally', 'admissible', 'corpus', 'Counsel', 'recollections', 'catharsis', 'exhausting', 'Eichmann', 'recollection', 'anti-Semitism', 'fiend', 'stubbornly', 'anti-Semitic', 'overcoming', 'anti-Semites', 'murderer', \"Eichmann's\", 'exemplified', 'betrayal', 'Czechoslovakia', 'Hungary', 'infamous', 'Heydrich', 'phraseology', 'Final', 'Solution', 'complement', 'secrecy', 'dislike', 'arousing', 'dishonest', 'abyss', 'unspeakable', 'convict', 'fates', 'awakened', 'poisoned', \"Wasn't\", 'epic', 'unavailable', 'memoirs', 'birth-control', 'surgeon', 'dramatize', 'rancor', 'sullen', 'faiths', 'Commonweal', 'sensibilities', 'blurred', 'Non-Catholics', 'sanctions', 'Author', 'contraceptives', 'regards', 'procreation', 'spouses', 'subjective', 'ascertain', 'propagation', 'supplant', 'frustrate', 'clenched', 'Prohibition', 'sinful', 'racketeers', 'contraception', 'unnatural', 'Lambeth', 'condemnation', 'self-control', 'affirmed', 'Repeated', 'fiat', 'ill-starred', 'Conscience', '1610', 'Thames', 'voyage', 'Arctic', 'mate', 'commanded', \"captain's\", 'fragmentary', 'journal', 'Historians', 'tantalizing', \"Hudson's\", 'Muscovy', 'Pole', '1609', 'Dartmouth', 'recruited', 'unexplored', 'Furious', 'Overfall', '1602', 'strait', 'Ahead', 'Juet', 'Staffe', \"ship's\", 'perversely', 'explorer', 'misconception', 'forties', 'Iceland', 'Greenland', 'inlet', 'passageway', \"Juet's\", 'Java', 'avoiding', 'cape', 'patched', 'intuition', 'Hands', 'swore', 'muskets', 'cabins', 'bloodshed', 'boatswain', 'sworn', 'calmed', 'axe', 'Selkirk', 'Traverse', 'headwaters', 'aborigines', 'Territory', 'Anglo-Saxon', 'Forks', 'twenty-three', 'Kingston', '1818', 'grasshoppers', 'Pembina', 'huts', 'stockade', 'Daer', \"Selkirk's\", 'warmer', 'traders', 'Bailly', 'Dickson', 'Superintendent', 'fort', 'ox', 'prophetically', \"Peter's\", 'bushels', 'barley', 'flat-bottomed', 'prompted', 'infantry', 'renamed', 'Snelling', 'Hercules', 'trader', 'disappointed', 'duly', 'powder', 'nets', 'mice', 'plains', 'Lucian', '1840', 'patron', 'refrain', '1844', '1835', 'smuggled', 'thicker', 'comrades', 'figurative', 'rider', 'dilapidated', 'slowness', 'litter', 'annoyed', 'jist', 'sergeant', 'twister', 'wildcat', 'modes', 'Georgian', 'Yank', 'plantation', 'diarrhoea', 'stationed', 'Rebs', 'escapes', 'dodge', 'blots', 'homely', 'admonitions', 'laundering', 'usages', 'stereotyped', 'boon', 'companions', 'exploits', 'comrade', 'Sis', 'drunkard', 'Pa', 'illiterate', 'ass', 'guts', 'Sergeant', 'A.B.', 'M.A.', 'regiment', 'Cavalry', 'drunken', \"Sherman's\", 'whiskey', 'diary', 'Volunteers', 'legends', 'rationalize', 'justifying', 'cohesive', 'curricula', 'outlived', 'heterogeneous', 'incarnation', 'rebelling', 'confederacy', 'patriotism', 'propagandistic', 'homogeneous', 'oral', 'myths', 'Related', 'literate', 'definitions', 'bogus', 'occupational', 'culturally', 'lore', 'housewives', 'propagandists', 'analysts', 'footnote', 'collector', 'acutely', 'uncritical', 'shudder', 'propagandist', \"analyst's\", 'analyst', 'hillbilly', 'poems', 'bias', 'Torrio', \"O'Banion\", 'Cicero', 'bleakly', 'trouser', 'lethal', 'dispassionately', 'murders', 'disliked', 'tenderly', 'wreaths', 'trample', 'lurch', 'administering', 'interwoven', 'rackets', 'Capone', 'Hell', 'Sicilian', 'choir', 'thieving', 'waiter', 'rowdy', 'methodically', 'looted', 'waiters', 'trespassed', \"O'Banion's\", '1909', 'Ryan', 'Telegraph', 'gag', 'grapevine', 'parable', \"O'Connor\", 'jerked', 'platinum', 'liking', 'offended', 'unimpressed', 'insolence', 'idiotic', 'buckle', 'cops', 'boosted', 'booze', 'proliferation', 'concession', 'stead', 'tsunami', 'earthquake', 'pounded', 'catastrophic', \"Plato's\", 'geologists', 'damaging', '1707', 'Osaka', 'forlorn', 'dwarf', 'crest', 'travels', 'reckoned', 'gravity', 'detectable', 'amplitude', 'fateful', 'swells', 'Hilo', 'scurried', 'Institution', 'rattling', 'glowed', 'organism', 'swollen', 'Commander', 'disregarded', 'oscillation', 'forwarded', 'earthquakes', 'epicenter', 'calculations', 'hurled', 'unsolved', '1906', 'jerky', 'Garryowen', 'cavalry', 'trooper', 'Cheyennes', 'Apaches', 'Villa', '7th', 'Regiment', 'Fighting', 'saloon', 'Mel', 'ridden', 'swivel', 'Depot', 'CO', 'erudite', 'Custer', 'troopers', 'Goulding', 'Leyte', 'platoon', 'rifleman', 'bucking', 'Regular', 'berth', 'cannon', 'pinned', 'hurling', 'grenade', 'attackers', 'G', 'counterattack', 'Okay', 'profusely', 'Glory', 'battlefield', 'Assumption', 'diminishes', 'Bantus', 'denials', 'policy-makers', 'graphic', 'oppressed', 'abreast', 'reputed', 'backwoods', 'isolation', 'mask', 'violently', 'plunging', 'misunderstood', 'pretended', 'decisively', 'rattle', 'Sounds', 'thumping', 'slamming', 'shutters', 'newspaperman', 'toad', 'blackened', 'siege', 'ambush', 'Educational', 'Scientific', 'Cultural', 'Jeep', 'meandering', 'Shy', 'Frenchman', 'stiffened', 'spinning', 'Illustrations', \"life's\", 'barefoot', 'lethargy', 'bouncing', 'bush', 'traversed', 'Keo', 'Cool', 'coatings', 'Economics', 'self-help', 'shovels', 'elders', 'strode', 'dusty', 'Philippines', 'pet', 'rite', 'divinities', 'happiness', 'wrists', 'antiseptic', 'salve', 'weakening', 'strivings', 'synagogue', 'beards', 'ancestral', \"parents'\", 'clinical', 'marry', 'wryly', 'peripheral', 'pursuits', 'academically', 'gentile', 'counterparts', 'sexes', 'irritably', 'lower-middle', 'constituting', 'vigilance', 'generates', 'prodded', 'appreciably', 'graduating', 'puffed', 'advertisements', 'announces', 'Fran', 'Horowitz', 'Ivy', 'lard', 'coolness', 'bathed', 'watery', 'healing', 'salted', 'ointment', 'rusty', 'sprinkled', 'turpentine', 'scar', 'Tobacco', 'scalp', 'herb', '1872', 'poker', 'knot', 'sores', 'Blood', 'rubbing', 'blister', 'twenty-four', 'saliva', 'proverb', 'poultice', 'itching', 'soda', 'scraping', 'bathe', 'soap', 'bee', 'corrosive', 'swelled', 'ounce', 'glycerine', 'afflicted', 'Winter', 'itch', 'steeped', 'soaked', 'defied', 'sticky', 'soak', 'bandage', 'scraped', 'soaking', 'wetting', 'brandy', 'rope', 'waist', 'inscrutable', 'unlock', 'shipper', 'wines', 'Grands', 'Crus', 'extenuating', 'guardian', 'inexhaustible', 'bargains', 'practicable', 'spoil', 'Fat', 'reclining', 'allowable', 'chilling', 'acquiring', 'bucket', 'aeration', 'sweetness', 'unattractive', 'claret', 'Burgundy', 'Chateau', 'sediment', 'corkscrew', 'afterward', 'wicker', 'dregs', 'Giffen', 'Rest', 'humane', \"Palfrey's\", 'calmly', 'perpetrated', 'Gorham', 'planter', 'furious', 'Palfrey', \"William's\", 'Emancipation', 'unnamed', \"Sam's\", 'rejecting', 'freeing', 'incensed', 'assented', 'apprehensively', 'Child', 'apologized', 'unborn', 'bondage', 'bribed', 'Scholar', 'appointees', 'Renoir', 'moderns', 'anti-intellectual', 'inveterate', 'Comptroller', 'Age', 'prodigy', 'Walton', 'critically', \"Gavin's\", 'sparring', 'Ideas', 'debated', 'ironically', 'shrine', 'H.M.S.', 'Victoria', 'gilt', 'coating', 'tenant', 'rightful', 'allegorical', 'Dolley', 'sofa', \"Dartmouth's\", 'Dickey', 'disdain', 'cropped', 'ski', 'kissed', 'scooped', 'travelers', 'voyageurs', 'kisses', 'freshmen', 'Outing', 'lounging', '140', 'McKinley', 'chopping', 'ax', 'Hanoverian', 'casting', 'proctor', 'factions', 'judicial', 'charters', 'pausing', 'log', 'hut', 'commencement', 'punch', 'Penn', '1907', 'Thayer', 'Amos', '1888', 'corral', 'conveniently', 'curbside', 'stepmother', 'Borden', 'Lizzie', 'inquest', 'quarreled', \"Morse's\", 'alibi', '11:20', 'Bridget', 'vomiting', 'unlocked', 'hatchet', 'sinister', 'Fleet', 'Hiram', 'Kirby', 'Upton', 'profited', 'observant', 'Flint', 'Winslow', 'recitation', 'retrograde', 'botany', 'persistently', \"Stanley's\", 'chess', 'Spelman', 'Observatory', 'eclipses', 'Census', '1887', 'Packard', 'Giles', 'geometry', 'horseback', '1890', 'bequests', 'rhetoric', 'Founders', 'hardships', 'Sister', 'Smith-Hughes', 'drafting', 'occupations', 'marketable', 'motivation', 'relevance', 'disappears', 'vocation', 'typing', 'consolidated', 'confidentially', 'plumber', 'soybean', 'soybeans', 'processed', 'Orient', 'flakes', 'Cereal', 'oils', 'sorghum', 'byproducts', 'oilseeds', \"1930's\", 'arable', 'Seeds', 'flax', 'sesame', 'constituent', 'cosmetics', 'soaps', 'explosives', 'kernel', 'detergents', 'starch', 'psyllium', 'locust', '2.6', 'lumps', 'fibrous', 'stony', 'kernels', 'ornaments', 'rosaries', 'beverages', 'Brazil', 'fermented', 'Beer', 'alcoholic', \"herdin'\", 'Cattle', 'strays', 'hosses', 'drought', 'stampede', 'ranchers', 'potted', 'choked', \"durin'\", 'cowhand', 'denoted', \"givin'\", 'stir', \"throwin'\", \"grazin'\", \"goin'\", 'Injun', 'lieu', \"it'd\", 'resorted', 'dazed', \"'im\", 'hoss', 'discontinued', 'stripe', 'rustler', 'uncounted', \"sayin'\", 'cattlemen', 'synonym', 'hustler', 'rustle', 'circled', 'yell', 'Reef', 'Kearton', 'Ulyate', 'Loveless', 'reined', 'focussed', 'faintly', 'cracks', 'terrier', 'motley', 'leaning', 'blew', 'fetch', 'gallop', 'thickly', 'peering', 'lioness', 'crouched', 'whirled', 'stamping', 'graves', 'ducked', 'paw', 'lashed', 'hind', 'yelled', \"she'll\", 'crackers', 'Lighting', \"Ain't\", 'clung', 'noose', 'aperture', 'ropes', 'gentler', 'strung', 'bruised', 'thorn', 'maneuvered', 'gelding', 'spin', 'whining', 'tensely', 'pony', 'sidewise', \"she'd\", 'scant', 'Wait', 'proclaim', 'deficient', 'Rover', 'prevails', 'worshiping', 'antithesis', 'organically', 'perspectives', 'illustrative', 'Dickens', 'forgot', 'Likewise', 'eminently', 'edifice', 'rancher', 'inn', 'erecting', 'preferences', 'fielder', 'fuzzy', 'derision', 'kidneys', 'triumphantly', 'payday', 'grocers', 'taunt', 'delinquent', 'risked', 'Shires', 'knuckles', 'ingested', 'illicit', 'insanity', 'prosper', 'entertainments', 'shone', 'epileptic', \"World's\", 'sonofabitch', 'trolley', 'pretend', 'unaccompanied', 'premarital', \"Erikson's\", 'schema', 'diffusion', 'conceptual', 'configurations', 'unwed', 'postulated', 'Erikson', 'socialization', 'adolescence', 'developmental', \"adolescent's\", 'adulthood', 'Experience', 'polar', 'identities', 'deterministic', 'self-certainty', 'ostensible', 'elementary-school', 'groping', 'self-discipline', \"female's\", 'homemaker', 'deprive', 'Sex', 'polarization', 'superimpose', 'nuances', 'transcends', 'disprove', 'explicitly', 'pregnant', 'diffuse', 'attributing', 'Selden', 'litigation', 'infringement', 'inventors', 'deposition', 'antiquated', 'bouts', 'retort', 'singular', 'centering', 'likened', 'conceal', 'procedural', 'embraced', '1911', 'automotive', 'indiscriminate', 'depositions', 'thereto', 'A.L.A.M.', 'cross-licensing', 'disregard', 'conflicting', 'interchange', 'royalty', 'withholding', 'adjunct', 'retard', 'planetary', 'inventions', 'ordeal', 'blocking', 'Hanch', '1904', 'first-hand', 'debacle', 'summation', 'Piazza', 'Malta', 'Maltese', 'Via', 'renaissance', 'piazza', 'Navona', 'Steps', 'civilizations', 'Augustus', 'modeled', 'Doric', 'Columns', 'Della', 'Dei', 'Mattei', 'Stand', 'skillfully', 'Opposite', 'Palazzo', 'frescoes', 'palazzo', 'facade', 'staircase', 'colonnade', 'Julius', 'shaded', 'Baullari', 'turbulent', 'Corso', \"Sant'\", 'seventeenth', 'Rivers', 'denoting', 'Danube', 'Plate', 'Agnese', 'Raphael', 'Walk', 'stupendous', 'Standing', 'Neptune', 'Harlem', 'prostitutes', 'blank', 'thoughtless', 'accumulating', 'threes', 'uneasily', 'occurring', 'merest', 'uneasiness', 'callous', 'trapped', 'ghetto', 'turf', 'Northerners', 'horrifying', 'Northerner', 'Historically', 'torment', 'hideously', 'self-esteem', 'inexorable', 'diminishing', 'postscript', 'elicit', 'self-examination', \"Negro's\", 'Wherever', 'kiss', 'Melies', 'registers', 'cinematic', 'Robbery', '1903', 'Griffith', 'Birth', 'robbers', 'telegraph', 'posse', 'grandmother', 'pail', 'chasing', 'sequences', 'instinctively', 'condensed', 'actresses', 'phonograph', 'congregational', 'middle-class', 'lower-class', 'poorer', 'exodus', 'cluster', 'deceptive', 'stratum', 'replenish', 'collapsing', 'secondarily', 'folksy', 'recruitment', 'co-optation', 'outreach', 'assimilated', 'antennae', 'transmutation', 'nonetheless', 'exclusiveness', 'motifs', 'polarized', 'perpetuating', 'rebuilding', 'characteristically', 'informing', 'captivity', 'engages', 'habitants', 'pelts', 'livres', 'Mobile', 'Choctaws', 'Bienville', 'Carolinians', 'deerskins', 'Chickasaws', 'cheaply', \"D'Artaguette\", 'Cumberland', 'incited', 'termini', 'Perier', 'unfriendly', 'incite', 'ineffective', 'harassed', 'displeased', 'reap', \"Uncle's\", 'discretion', 'tuition', 'tantamount', \"State's\", 'Rooney', 'confidential', 'whispers', 'threadbare', 'oath', 'Inquisition', 'detached', 'senatorial', 'berated', 'barren', 'countenance', 'stale', 'tails', 'ministries', 'espionage', 'Menshikov', 'handclasp', 'Karamazov', 'glowered', 'vogue', 'gaily', 'wits', 'Newspaper', 'unsuitable', 'Rumor', 'drawer', 'sheik', 'murmured', 'Israeli', 'Kyoto', 'Masu', 'Nara', 'Washizu', 'Nishima', 'eldest', 'reflections', 'unafraid', 'suppositions', 'unjust', 'gal', 'non-violent', 'non-violence', 'demoralize', 'sounder', 'intolerable', 'repressed', 'complicity', 'exploitation', 'Title', 'Bourbons', 'puzzling', 'to-day', \"states'\", 'scornful', 'outbursts', 'friendships', 'wrecking', 'bastards', 'prejudice', 'reconstructed', 'unreconstructed', \"Court's\", 'Tory', 'meddling', 'therein', 'Celtic', \"South's\", 'inferences', 'therefrom', 'socialistic', 'claimants', 'nation-state', 'sovereign', 'arena', 'furthered', 'internally', 'societal', 'socialist', 'observable', 'standardized', 'watersheds', 'truism', 'Thirty', 'Employment', 'nation-wide', 'viability', 'feudal', 'breakup', 'coincides', 'homeland', 'nationalist', 'civilizational', 'monarch', 'sovereigns', 'nebulous', 'abstractions', 'windowless', 'farfetched', 'tick', 'elapsed', 'consoles', 'pushers', 'restraining', 'unthinkable', 'frail', 'thinkers', 'flashed', 'Base', 'Chiefs', 'circuits', 'ape', 'continual', 'Wisman', 'crammed', \"Wisman's\", 'screeching', 'obnoxious', 'guarded', 'fragments', 'fragment', 'squall', 'thickened', 'wolf', 'dangling', 'swooped', 'sucked', 'aborigine', 'ridges', 'outback', 'self-conscious', 'boulder', 'fugitive', 'memorize', 'bivouac', 'paws', 'patted', 'starving', 'eyelids', 'crawling', 'blink', 'crawl', 'squatting', 'wandered', 'squatted', 'stink', 'powerfully', 'blinked', 'eh', 'swear', 'sweating', \"who's\", 'Idje', 'fella', 'potters', 'glistening', 'Isfahan', 'Persia', 'Persians', 'dirty', 'promenade', 'Khaju', 'Fridays', 'pavilion', 'carelessly', 'orchard', 'lugged', 'mountainside', 'sniffed', 'vintage', 'boughs', 'caravan', 'upstream', 'alcoves', 'vaults', 'tunnel', 'echo', 'sunrise', 'descend', 'fortress', 'filmed', 'dice', 'paradoxical', 'Marlowe', 'riverbank', 'attribute', 'inducing', 'tulip', 'Know', 'hereafter', 'und', 'wanderings', 'recurred', 'cheerfully', 'lounge', 'twinkle', 'relinquished', 'Prague', 'Frankfurt', \"Puccini's\", \"Mahler's\", 'upheaval', 'Kulturbund', 'Palestine', 'Mystery', \"Marx's\", 'Mahler', 'Bruckner', \"Bruckner's\", 'introduces', 'strangers', 'Founding', 'destinies', 'footstep', 'documentation', 'composite', 'merging', 'militia', 'pamphlets', 'Confederation', \"Hamilton's\", 'amazingly', \"Congress'\", '1783', 'moderation', 'refugee', 'Schaack', 'upholding', 'Whigs', '1832', 'testament', 'urbanization', 'agrarian', 'oddly', '15%', 'unreal', 'unwanted', 'crept', 'hindered', 'blissful', 'deference', 'vanishing', 'individualized', 'Keith', 'disappearance', 'aristocratic', 'languid', 'Sartoris', 'Snopes', 'glimmer', 'choreographer', 'environmental', 'masks', 'hoops', 'parasol', 'clad', 'choreographers', 'syntax', 'Breath', 'contradictions', 'energies', 'attendant', 'ambiguities', 'perceptual', 'serial', 'establishes', 'intensities', 'tossing', 'Ching', 'analytic', 'spatial', 'Pollock', 'impelled', 'Garth', 'Mars', 'evolve', 'uninhibited', 'purposive', 'Cunningham', 'chanced', 'freshness', 'excitedly', 'pirouette', 'designating', 'variables', 'approximate', 'segments', 'arbitrate', 'rearrange', 'transitions', 'Calhoun', 'Nineteenth', 'pretence', 'hostilities', 'Constitutions', 'forerunner', 'Proclamation', 'delegated', 'organisms', 'molecular', 'Copernicus', 'cooperatives', 'communes', 'dispel', 'reconstruct', 'amenable', 'unaware', 'solar', 'Ptolemaic', 'meteor', 'Solar', 'suggestive', 'drunks', 'induces', 'domains', 'predictive', 'X-rays', 'insofar', 'Godot', 'Beckett', 'Waiting', \"Beckett's\", 'permeated', 'sharpened', 'Jesuit', 'hates', 'humility', 'genesis', 'corresponds', 'inflections', 'tweed', 'baggy', 'shirt', 'Madeleine', 'buzzing', 'withstood', 'jeopardize', 'Tape', 'manifold', 'gestured', 'Boulevard', 'flattery', 'tidings', 'damned', 'knelt', 'kneel', 'ethic', 'marijuana', 'Lipton', 'mystique', 'beatniks', 'tame', 'pungent', 'taboo', 'leering', 'knights', 'Dylan', 'dialectic', 'metaphors', 'reconciled', 'psychoanalysis', 'unfettered', 'liberated', 'prophets', 'nothingness', 'curb', 'barbarians', 'implacable', 'categorical', 'metaphysics', 'alienation', 'betrayed', 'mentality', 'undisciplined', 'negation', 'borderline', 'disordered', 'homosexuals', 'despairing', 'null', 'concerted', 'sordid', 'Venice', 'radicalism', 'enhanced', 'drugged', 'Y', 'betrays', 'lilacs', 'steeples', 'quietness', 'grape-arbor', 'garments', 'half-way', 'queer', 'shadowed', 'scent', 'cautiously', 'bees', 'ragged', 'verbenas', 'tubs', 'pots', 'blighted', 'vine', 'slit', 'claws', 'pebbles', 'prettier', 'enchanted', 'spire', 'sag', \"horses'\", 'drone', 'barns', 'thud', 'centrally', \"Mann's\", 'voluptuous', 'indolent', 'cunning', 'Lautner', 'epithets', 'wretched', 'Jacoby', 'humiliation', 'modulation', 'perceives', 'emblematic', 'quivering', 'mindless', 'resonances', 'revert', 'Leverkuhn', 'sufferings', 'disguise', 'catastrophes', 'cyclist', 'churchyard', 'highroad', 'Praisegod', 'Piepsam', 'sinfulness', 'doom', 'howls', 'bitten', 'blue-eyed', 'raving', 'self-destructive', '1902', 'imitations', 'individualistic', 'humanism', 'rationalism', 'causal', 'mimesis', 'mimetic', 'Plato', 'intellect', 'Poetics', 'imitated', 'Mimesis', 'overtones', 'abstraction', 'conjoined', 'interrelations', 'incitement', 'immediacy', 'registering', 'rudimentary', 'constellations', 'defender', 'interrelated', 'epistemology', 'scepticism', 'derivation', 'inseparable', \"Thompson's\", 'Hound', 'merry', 'bell', \"Doesn't\", 'enroll', 'loathsome', 'redemption', 'Englanders', 'purified', 'idealist', 'amidst', 'Pay', 'ransom', 'brim', 'mocked', 'isolate', 'schoolmaster', 'rewarding', 'Heidenstam', '1916', 'prosperous', 'scanned', 'selves', \"Heidenstam's\", 'Pilgrimage', \"Byron's\", 'Thoughts', 'Loneliness', 'Parthenon', 'grouped', 'revelations', 'individualism', 'acquiescence', 'provincialism', 'twined', 'Somewhat', 'idyllic', 'exalted', 'fervor', 'authors', 'glorified', 'coherent', 'pitiable', 'fortitude', 'Ride', 'thirty-six', 'Slowly', 'procession', 'warriors', 'longed', \"king's\", 'convent', 'punished', 'individualist', 'entrepreneur', 'Poe', 'Sherlock', 'advent', \"detective's\", 'informs', 'deductive', \"Watson's\", 'verified', 'Moriarty', 'egotism', 'grappling', 'stormy', 'self-imposed', 'condemns', 'despised', 'Dashiell', 'Spade', 'accusation', 'defiance', 'monitoring', 'exclamation', 'measurable', 'endeavors', 'customarily', 'completeness', 'N', 'overload', 'connective', 'configuration', 'f', 'e', 'n', 'noisy', 'dispersed', 'channeled', 'interlaced', 're-examine', 'fervent', 'optimum', 'X-ray', 'diffraction', 'contrasted', \"Gabriel's\", 'evangelical', 'specifies', 'Gabriel', 'Saint', 'Amendment', 'Fink', 'Rousseau', \"Rousseau's\", 'indecent', 'rendezvous', 'Purpose', 'invoke', 'utopian', 'correction', 'directives', 'set-up', 'pretense', 'swallowing', 'cumbersome', \"corporation's\", 'Examples', 'proprietorship', 'stimuli', 'Proprietorships', 'accruing', 'accumulate', 'internationally', \"Wilson's\", 'scare', 'radicals', 'Activities', 'Shylock', 'hiding', 'Il', 'unwise', 'hurl', 'aberrant', 'powders', 'falsity', 'tell-tale', 'worthless', 'martyr', 'inheritance', 'humbly', 'competently', 'climactic', 'transpired', 'testifies', 'bout', 'Thinking', 'capacities', 'elaborated', 'ontological', 'disruptive', 'disruption', 'helplessly', 'tenuous', 'Civilization', 'necessitates', 'emergence', 'explicable', 'reversible', 'activation', 'hopelessness', 'Reactionary', 'psychoanalytic', 'Oedipus', 'neurosis', 'incest', 'storyteller', 'comparisons', 'madly', 'delirium', 'uncanny', 'oedipal', 'undercurrent', 'incestuous', 'plausible', \"novelist's\", 'bloodless', 'Sinner', 'Grigorss', 'Sibylla', 'fisherman', 'tablet', 'knight', 'overrun', 'suitors', 'sternly', 'rigorously', 'Mondrian', 'Helion', 'Arp', 'Figures', 'abstracts', 'Abstract', 'sensed', 'utopia', 'constructions', 'wasting', 'darkening', 'smelled', 'frieze', '1939', 'sketching', 'apparition', 'Stalag', 'Stettin', 'plotted', 'sabotage', 'simulated', 'sentry', 'Duclos', 'cloak', 'Flemish', 'Abstraction', 'Rosenberg', 'doorways', 'cigarettes', \"Faulkner's\", 'traditionalist', 'Compson', 'Jason', 'pedigree', 'notwithstanding', 'Gothic', 'novelists', 'originality', 'Pendleton', 'apex', 'undiminished', 'habitual', 'narratives', 'Thorpe', 'idealized', 'stack', 'flowered', \"Lyford's\", 'Introduction', 'Agreeable', 'Autocracies', 'Lyford', 'reflective', 'irritated', 'badness', 'sourly', 'insecure', 'conversational', 'speculate', 'sketched', 'Ptolemy', 'observational', 'diurnal', 'nocturnal', \"sun's\", 'contour', 'spherical', 'Earth', 'terrestrial', 'discrete', 'Circular', 'Perfect', 'natures', 'muddy', 'ethereal', 'distinguishes', 'Copernican', \"Copernicus'\", 'Almagest', \"Ptolemy's\", 'epicycles', 'velocities', 'resultants', 'eighty-three', 'cellular', \"Newton's\", 'lunar', 'approximated', 'Revolutionibus', 'astronomical', 'monster', 'Sara', 'Sullam', 'Henrietta', 'strands', 'condemn', 'childlike', 'biographical', \"Harper's\", 'Mamma', 'disciple', 'Szold', 'Adler', 'Jastrow', 'nephew', 'rabbi', 'mustache', 'jolly', 'Rabbi', 'Szolds', \"Joe's\", 'unwillingness', 'Jo', 'Marches', 'Sadie', 'mischievous', 'prettiest', 'descriptions', 'Olgivanna', 'Miriam', 'Cloud', 'parting', 'punish', 'Taliesin', 'warrants', 'heaped', 'Constable', 'Weston', 'Cupply', 'pane', 'generalized', 'panes', 'fused', \"doctor's\", 'mattered', 'weakly', 'taut', 'yachts', 'awaken', 'hormone', 'nightingale', 'mute', 'antics', 'fastidious', 'marrying', 'maternal', 'Instinctively', 'regained', 'innocently', 'writ', 'sine', 'tact', 'scandalized', 'indulged', 'envelopes', 'shyly', 'Segovia', 'precocious', 'pawnshop', 'eyed', 'celebrity', \"Carl's\", 'sparse', 'Poet', 'banquets', 'Lilian', 'Luxemburg', 'Magdalene', 'kneeling', 'legitimized', 'self-defense', 'urgently', 'self-indulgence', 'consonant', 'transactions', 'co-operate', 'instrumentalities', 'broadly', 'mistakenly', 'astrophysics', 'scout', 'Bang-Jensen', 'Adolf', 'Berle', 'advising', \"Bang-Jensen's\", 'Secretaries', 'Stavropoulos', 'courteously', 'hairy', 'bristled', 'glared', 'speechless', 'omissions', 'Shann', 'Manley', 'loathed', 'Caravan', 'Heard', 'twinge', 'Adoniram', 'Calcutta', 'loaf', 'exclaiming', 'Congregationalists', 'thrilled', 'Bengal', 'trousers', 'Running', 'chimney', 'tawny', 'chattering', 'banana', 'foreigner', 'exultation', 'Whig', 'Tories', 'Steele', 'Molesworth', 'Privy', 'Commons', 'Convocation', 'blasphemous', 'Observations', 'Publick', \"Steele's\", 'Succession', 'Crisis', 'pretentious', 'Marlborough', 'complains', 'altering', 'asserts', 'Defoe', 'pamphlet', 'Paper', 'whoever', 'showered', 'Dunkirk', 'counteract', 'Courtier', 'reviews', 'parliamentary', 'Arlen', 'inconsequential', 'aptitude', 'absent-mindedly', \"Mercer's\", 'monacle', 'Guild', 'Whiteman', 'Benny', 'Koehler', 'American-Negro', 'allusions', 'stall', 'lavatory', 'unused', 'Robbie', 'Herford', 'highball', 'Honorable', \"Hearst's\", 'telegraphic', 'Cossack', 'Hetman', \"Hetman's\", 'immobility', 'Hearst', 'Brisbane', 'Runyon', 'Baer', 'confide', 'shadowing', \"lady's\", 'monkey', 'derby', 'make-up', 'telephones', 'wrinkled', 'brow', 'fruitless', 'brandishing', 'coroner', 'ten-foot', 'grunted', 'blurted', 'Mama', 'shawl', 'banister', 'stairway', 'wrist', \"Jack's\", 'Smithsonian', 'fondly', 'accompany', 'Prudence', 'Coolidges', 'Stearns', 'lungs', 'Emmett', 'horrified', 'swirled', 'perceptions', 'diversity', 'predispositions', 'fanaticism', 'anthology', 'undo', 'Gentile-Jewish', 'claimant', 'multiplicity', 'maximization', 'outcomes', 'legacy', 'adversely', 'implementing', 'punctuated', 'symposium', 'specificity', 'recurring', 'Fromm', 'unreliable', 'glossary', 'Feeling', 'gratified', 'differentiated', 'Platonic', 'savoring', 'Personal', 'depravity', \"Shelley's\", 'Stoicism', 'Hellenic', 'Stoic', \"Milton's\", 'sonnet', \"historian's\", 'exhibiting', \"Alexander's\", 'romantics', 'elimination', 'dictate', 'snapping', 'supporter', 'seduction', 'constituency', 'disgrace', 'confer', 'surreptitiously', 'despairingly', 'grinning', 'intently', \"Trevelyan's\", \"Garibaldi's\", 'Garibaldi', 'Trevelyan', 'papal', 'assessing', 'trilogy', 'Venetian', 'Grey', 'interplay', 'dynamics', 'deserted', 'Lowell', 'surveys', 'self-satisfaction', 'Blenheim', 'Savoy', 'reread', 'expectant', 'Kehl', 'Rhine', 'Strasbourg', 'waspish', 'bicycle', 'barricade', 'Ministry', 'mustached', 'thanking', 'Andre', 'Alsatian', 'governess', 'chill', 'scouring', 'kettle', 'talkative', 'patter', 'pallid', 'hug', 'broadside', 'streaming', 'Rebels', 'surrendered', \"officers'\", \"Thomas'\", 'sundown', 'deployed', 'whistled', 'heroism', 'annals', 'booby', 'traps', 'armored', 'coordinates', 'Orders', 'whistle', 'pits', 'Meynell', \"daughter's\", 'Katie', 'Maggie', 'Burr', 'kindness', 'good-bye', 'protestations', 'opium', 'laudanum', 'rationed', 'stoop', 'Laurence', 'diction', '1788', 'Potemkin', 'Littlepage', \"Potemkin's\", 'brows', 'procure', \"Czarina's\", 'Parisian', 'Serenissimus', \"Prince's\", 'sapped', 'comb', 'divan', 'trance', 'monsters', 'ray', 'Suvorov', 'stooping', 'Current', 'slept', 'crowing', 'cock', 'Underneath', 'whiskers', 'Cossacks', 'demographic', 'donned', 'tribal', 'ornamented', 'Mando', 'sheaf', 'Acropolis', 'curving', 'headless', 'torsos', 'Uh', 'huh', 'Athens', 'shattering', 'Gun', 'skirts', 'Aegean', 'Athenians', 'moonlight', 'Sounion', 'inlets', 'ruins', 'nectar', 'thirst', 'dined', 'trays', 'morsel', 'winced', 'irritating', 'O.K.', 'Woodruff', 'wearily', 'Crittenden', 'entitle', 'gadfly', 'assassin', 'Vale', 'mules', 'Fe', 'Advocate', 'slanderer', '11th', 'gruff', 'compiling', 'printer', 'mid-thirties', 'airs', 'Gorton', 'prodigious', 'Rawson', 'stark', 'Plymouth', 'Pocasset', 'dispensation', \"Gorton's\", 'magistrates', 'unclean', 'foul', 'reformation', 'Pawtuxet', 'Shawomet', 'blasphemy', 'chaplain', 'elated', 'hemorrhage', \"Papa's\", 'transfusions', 'bequest', 'exceeded', 'Julia', 'postponing', 'explanatory', 'fury', 'revise', \"Sharpe's\", 'severed', 'Am', 'Thy', 'sacredness', 'infliction', 'streamed', 'newt', 'Wonder', 'sorted', 'Einstein', 'Gosson', 'discusses', \"Aristotle's\", 'fiber', 'Wood', \"Krutch's\", '1582', 'Puritans', 'milieu', 'aspire', 'carriage', 'suppression', 'conformist', 'converge', 'sampling', 'conformists', 'religiously', 'Whitemarsh', \"Morgan's\", 'riflemen', 'evacuated', 'redcoats', 'Howe', 'rabbits', 'forty-four', 'commander-in-chief', 'Peters', 'periphery', 'intercept', 'thankful', 'Gascony', 'web', \"Edward's\", 'failures', 'Boniface', 'pronouncement', 'abeyance', 'cardinals', 'Sicily', 'triangle', 'arbiter', 'Curia', 'Othon', 'diligence', 'clerks', 'unaided', 'disadvantage', 'Amadee', 'staunch', 'swarthy', 'est', 'downs', 'Countries', 'nasty', 'Florentine', 'dyed', 'cursory', 'Alpert', 'Lew', 'Fleischmanns', 'Tessie', 'rocker', 'Meltzer', \"Alfred's\", 'sobs', 'Speak', 'jug', 'Talmud', 'Lilly', \"Lilly's\", 'rude', 'hips', 'childishness', 'archaeological', 'place-name', 'Germanic', 'Kemble', 'Saxons', 'Saxon', 'Bede', 'veracity', 'Hodgkin', 'Lot', 'du', 'Lappenberg', 'retreated', 'Wade-Evans', 'invasions', 'extinction', 'reigning', 'Seebohm', 'Systems', 'sceptical', 'tack', 'infiltration', 'Printing', 'ranking', '1918', 'Fosdick', 'CTCA', 'venereal', 'cribs', 'ascertained', \"Fosdick's\", 'vociferous', 'transcending', 'Hugo', 'Aeschylus', 'Euripides', 'Macbeth', 'Hamlet', 'quarry', 'Lear', 'Voltaire', 'encompassed', 'Shakespearean', 'damnation', 'haunted', 'melodrama', 'vaulting', 'immaculate', 'retribution', 'Blake', 'Goethe', 'streaks', 'wager', 'Faust', 'Quiney', 'Greville', 'bailiff', 'Bushell', 'Stratford', 'Elinor', 'Fulke', 'Sturley', 'prosecuting', 'towne', 'paie', 'estates', 'Exchequer', 'monei', 'procured', 'lordship', 'allusion', 'yow', 'ther', 'apron', 'mee', 'uppon', 'hande', 'Bancroft', 'colde', \"Greville's\", 'hys', 'shuld', 'methodological', \"Adams'\", 'trustworthy', 'dispatches', 'generalization', 'bald', 'embodying', 'mundane', 'unseen', 'motivating', 'caste', 'Doctrine', 'farmhouse', 'adventurous', 'howling', 'Peru', 'Dorado', 'Broun', 'charitable', 'Sedgwick', 'Trastevere', \"Earth's\", 'S.K.', 'bookshelves', 'patronized', 'uncharted', 'Mencken', 'Drawing', 'Gantry', 'drunkards', 'Breasted', 'Birkhead', 'Blackman', 'indisposed', \"Lewis's\", 'Drunk', 'rumors', 'snobbery', 'pajamas', 'smoking', 'incepting', 'bachelors', '1629', 'ordo', 'matriculated', '1625', '1632', 'artfully', 'prolusions', 'resided', 'fencing', 'banter', 'prolusion', 'hypothetical', \"Wells's\", \"Childhood's\", 'dystopias', 'Utopian', 'Overlords', 'science-fiction', 'dystopian', 'robots', \"Kornbluth's\", 'Merchants', 'Brave', 'Machine', 'behavioral', 'humanist', 'Courtenay', 'defiant', 'fooling', 'goddess', 'discontinuous', 'skepticism', 'Spencer', 'Seems', 'Malraux', \"Malraux's\", 'Trees', 'Altenburg', 'modesty', 'catalyst', 'furor', 'piercing', 'radiance', 'bewildered', 'fresco', 'Pasha', 'embracing', 'sunk', 'federation', 'advocated', 'fearfully', 'hesitant', 'groom', 'insularity', 'overhaul', 'apocalyptic', 'poetry-and-jazz', 'Rexroth', 'Tristano', 'Patchen', \"Patchen's\", 'hunted', 'odious', 'Budd', 'Gillespie', 'bop', 'Marsh', 'chants', 'juxtaposition', 'Angry', 'Anything', \"han'\", 'aberration', 'disconnected', 'Krim', 'duck', 'typicality', \"Krim's\", 'Closely', 'Yiddish', 'ghettos', 'Commentary', 'Partisan', 'crazily', 'Critical', 'approximations', 'disfigured', 'Booth', 'sociology', 'dozed', 'Lauro', 'Bosis', 'ghosts', 'Berto', 'Rimanelli', 'busts', 'shivered', 'Excuse', 'diapers', 'quitting', 'swam', 'Were', 'banging', 'short-run', 'Contact', 'Printed', 'Offices', 'SBA', 'Management', 'Courses', 'Chambers', 'Product', 'identifying', 'Specifications', 'Directory', 'Loans', 'Credit', 'Cooperatives', 'Interest', 'Minerals', 'Exploration', 'nonexistent', 'administer', 'conditional', 'surveying', 'incentives', 'mobilizing', 'nationals', 'favoritism', 'focusing', 'self-sustaining', 'commence', 'twofold', 'appraise', 'Remarks', 'Hon.', 'stabilizing', 'neglecting', 'Record', 'statute', 'state-owned', 'analyses', 'effecting', 'Cars', 'assigns', 'Actual', 'itemized', 'personally-owned', '$.07', 'Fixed', 'audit', 'Registry', 'garages', 'rotary', 'refine', 'grants-in-aid', 'situs', 'abode', 'Middletown', 'Fiscal', 'questionnaire', 'specifying', 'resides', 'summarize', 'aggregate', 'out-of-state', 'expansions', 'Leesona', 'Cobb', 'Domestic', 'Electronic', 'follow-up', 'Morning', 'Symposium', 'Inventory', 'Analysis', 'forty-seven', 'Included', 'calendars', 'installment', 'payable', 'Woonsocket', 'proponents', 'Plantations', 'whereof', 'hereunto', 'sixty-one', 'eighty-sixth', 'pursuant', '22nd', 'Pageant', 'Jaycees', 'Sally', 'Islanders', 'Pilgrims', 'Stat.', 'consumptive', 'saline', 'brackish', 'Sec.', 'subsections', 'correlate', 'subsection', 'Provided', 'expiration', 'nonmetallic', 'lignite', 'ores', 'Subject', '14-1/2', 'centum', 'pathology', 'Forensic', 'Pathology', 'Application', 'Histochemistry', 'Diseases', 'Regions', 'medico-military', 'morphological', 'biochemical', 'Support', 'mammalian', 'Illustration', 'Tumor', 'demonstrations', 'Fifty', 'loaned', 'fascicles', 'registries', '1959-1960', 'Clinico-pathologic', 'consequent', 'Manual', 'Thirty-five', 'Publication', 'Additionally', 'atmospheres', 'microseconds', 'calibration', 'voltage', 'high-speed', 'shutter', 'Experiments', 'input', 'interstellar', 'spectra', 'cm', 'extraterrestrial', 'ions', 'hydrides', 'OH', 'spectroscopy', 'paramagnetic', 'spectral', 'thermometry', 'helium', 'germanium', 'resistors', 'vapor-pressure', 'interferometer', '4.2', '2.1', 'millidegrees', 'thermometers', 'reproducible', 'millidegree', 'Preliminary', 'deviations', 'resistor', 'gradients', '**yl', 'bulb', 'diaphragm', 'in.', 'concave', 'dissociation', 'coefficient', 'straddling', 'integrals', 'viscosity', 'conductivity', 'coefficients', 'NBS', 'Temperature', 'Physics', 'interactions', 'indexing', 'profiles', 'plasma', 'imprisoned', 'notify', 'Procedure', 'Yugoslav', 'Agreement', 'hereinafter', 'accrued', 'trustee', 'consented', 'adjudication', 'commuter', '-', 'terminal', '3,500', 'users', 'Sulzberger', 'Oakes', 'Blockade', 'ports', 'gunfire', 'Plenty', 'backlog', 'Financial', 'authorizations', 'allotments', 'Method', 'excludes', 'Source', 'Divide', 'unadjusted', 'Share', 'shielding', 'fig.', 'hollow', 'double-wall', 'pit-run', 'Radiation', 'vents', 'figs.', 'Tests', 'Appendix', 'checklist', 'rehearsals', 'maximizing', \"Motors'\", '353', 'restraints', 'decrees', '332', 'divestiture', 'Christiana', 'allocable', 'preferential', 'Petitioner', 'Rankin', 'Gonzales', '348', '1-a', 'pioneering', 'memorandum', 'registrant', 'supra', 'bureaucratic', 'bureaucracies', 'spoiled', 'dimly', 'desks', 'currencies', 'vegetation', 'Protection', 'sawtimber', 'infestations', 'Continuation', 'timberlands', 'proficiency', 'high-value', 'needing', '3.5', 'forage', 'inholdings', 'strengths', 'decreases', 'bidding', 'Jupiter', 'high-energy', 'rupees', '104', 'rupee', 'undertakings', 'Done', 'Agricultural', 'Export-Import', 'receipt', 'Sections', 'radiated', 'cochannel', 'objectionable', 'nighttime', 'skywave', 'ionized', 'ionosphere', 'groundwave', 'radiations', 'variability', 'Essentially', 'Deduction', 'refund', '1040', 'aliens', 'overpayment', 'Extensions', '1040A', 'Income', 'deduct', 'Chapters', 'Example', 'one-', \"Foundation's\", 'constancy', 'Fellows', 'astride', 'Gibbs', 'turret', 'Darling', 'trademark', 'grinders', 'cylindrical', \"Leesona's\", 'Unifil', 'winder', 'Uniconer', 'yarns', 'weaving', 'take-up', 'Moos', 'Limited', 'Carleton', 'intercollegiate', 'eligibility', 'Annual', 'Alumni', 'directory', 'Algol', '5.7', 'totalled', 'retailing', 'Devey', 'rectifier', 'Sprague', 'digital', 'day-by-day', 'summon', 'emission', 'black-body', 'Saturn', 'reflectors', 'Piddington', 'Minnett', 'chap.', '3.15', 'McCullough', 'Sloanaker', '0.8', '50-foot', 'reflector', 'linearly', '4.3', 'mm', 'Mare', 'Q', 'lobe', 'graphite', 'anode', 'transpiring', 'Argon', 'fluxes', 'electrode', 'arcs', 'generators', 'cathode', 'kinetic', 'sheath', 'Ref.', 'voltages', 'transpiration', 'Experimental', 'schematic', 'tungsten', 'thermocouple', 'thermocouples', 'argon', 'V', 'parameters', 'decreased', 'graph', 'pulley', 'manometer', 'hr.', 'viscoelastic', 'elasticity', 'parameter', 'gravitational', 'osmotic', 'solids', 'shearing', 'birefringence', '**yc', 'deformation', 'droplets', 'ellipsoids', 'radii', 'curvature', 'interfacial', 'entropy', 'polycrystalline', 'dipole', 'isotropic', 'nuclei', 'unpaired', 'chromium', 'Theoretical', 'symmetric', '2.4', '2.5', 'Douglass', 'ion', 'Cr', 'oxygens', 'piezoelectric', 'decomposition', 'aqueous', 'ml', 'g', 'occluded', '375-degrees-C', 'impurities', 'crystallites', 'Mc/sec', 'Spectra', 'adsorbed', 'capillary', 'polyphosphates', 'actives', 'dwindling', 'hard-surface', 'substrate', 'surface-active', 'reactivity', 'soiled', 'swatches', 'redeposition', 'inorganic', 'particulate', 'uncharged', 'sorbed', 'loosen', 'float', 'greasy', 'micelles', 'anionic', 'polymerization', 'agglomeration', 'micelle', 'hydrocarbon', 'oleophilic', 'detergency', 'interfaces', 'Substances', 'ionic', 'photochemical', 'quantum', 'reagents', 'tetrachloride', 'proportional', 'Pyrex', '-78-degrees', 'radiochlorine', 'flask', 'alkali', 'reactants', 'sealing', 'i.d.', '5.5', 'iodide', '/', 'fillings', 'mixtures', 'inversely', 'Poynting-Robertson', 'retardation', 'diminish', 'micrometeorites', 'interplanetary', 'meteoritic', 'impacts', 'micrometeorite', 'sensors', 'meteors', 'cores', 'probes', 'Eta', 'intersect', 'inverse', 'sensor', 'meteorite', 'extrapolation', 'microns', 'meteorites', 'Biological', 'intentional', 'toxic', 'BW', 'incubation', 'aerosols', 'aerosolized', 'bronchi', 'alveolar', 'alveoli', 'aerosol', 'optimal', 'Neutral', 'inert', 'dosage', 'dosages', 'portal', 'ulcer', 'typhus', 'antibodies', 'fractionation', 'electrophoresis', 'ultracentrifugation', 'chromatography', 'stepwise', 'elution', 'fractionated', 'sera', 'ABO', 'Rh', 'anti-A', 'anti-B', 'DEAE-cellulose', 'Sober', 'donors', 'antibody', 'titer', 'titers', '256', 'albumin', 'serum', 'homozygous', 'agglutination', 'centrifuged', 'min', 'hr', 'resuspended', 'dialyzed', 'dialysis', '230', 'isotonic', '1700', 'Spinco', 'chromatographic', 'ultracentrifuge', 'preparative', 'agglutinin', 'Region', 'Fraction', 'bumblebees', 'queens', 'pussy', 'willow', 'catkins', 'blooms', 'honeybees', 'beebread', 'Bombus', 'woke', 'mouse', 'moss', 'woolly', 'larvae', 'hatch', 'broods', 'fertilized', 'Psithyrus', 'andrenas', 'Andrena', 'snakes', 'rattlesnakes', 'maximal', 'reticulate', 'python', 'boa', 'constrictor', 'anaconda', 'amethystine', 'rattlesnake', 'hoop', 'anacondas', \"Oliver's\", 'Zoo', 'ounces', 'emaciated', 'subspecies', 'bronchus', 'pulmonary', 'supportive', 'septa', 'hilum', 'distal', 'bronchiole', 'pleura', 'bronchial', 'pleural', 'hilar', 'bronchioles', 'artery-pulmonary', 'anastomoses', 'interlobular', 'vascular', 'airways', 'mammals', 'parenchyma', 'pathways', 'arteriolar', 'emphysema', \"'50\", 'tissues', \"'58\", 'Nakamura', \"'48\", 'antagonist', 'shunts', 'inferred', 'Summary', 'Onset', 'Profile', 'Completion', 'Maturity', 'Chart', 'transverse', 'Onsets', 'modal', 'Skeletal', 'denotes', 'skeletal', 'Elbow', 'Completions', 'Tables', 'arrows', 'arrow', 'ossification', 'epiphysis', 'Span', 'menarche', 'pubescent', 'crosses', 'potassium', 'iodine', 'organification', 'mono-iodotyrosine', 'cell-free', 'iodinated', 'thyroglobulin', 'vitro', 'di-iodotyrosine', 'tyrosine', 'vivo', 'iodinating', 'tri-iodothyronine', 'thyroxine', 'enzymatic', 'cf.', 'secretion', 'proteases', 'antithyroid', 'thiouracil', 'inhibit', 'goitre', 'owing', 'TSH', 'thyroid-stimulating', 'uptake', 'solvents', 'acetone', 'alternatively', 'USP', 'mg', 'disabling', 'anemia', 'marrow', 'fibrosis', 'mg.', 'myocardial', 'hemoglobin', 'gm.', 'triamcinolone', 'pelvic', 'atrophy', 'gastrocnemius', 'intensify', 'Severe', 'vertebral', 'Microscopically', 'necrosis', 'neutrophils', 'visceral', 'mottled', 'cord', 'cytoplasm', 'mucosa', 'atrophic', 'jejunum', 'granular', 'cortical', 'Microscopic', 'biceps', 'conjugates', 'staining', 'Dowex-2-chloride', 'Coons', 'clover', 'gall', 'conjugate', 'ethyl', 'PBS', 'WTV', 'buffered', 'conjugated', 'antiserum', 'yellow-dwarf', 'fluorescence', 'nonspecific', 'pseudophloem', 'dilution', 'NS', 'antigen', 'distinguishable', 'FITC', 'globulin', 'autofluorescence', 'xylem', 'cortex', 'nonspecifically', 'discharges', 'neocortex', 'hypothalamic', 'convulsive', 'excitability', 'feedback', 'hypothalamic-cortical', 'wakefulness', 'parasympathetic', 'autonomic', 'depressions', 'excitatory', 'Mecholyl', 'nausea', 'tuning', 'neuroses', 'disturbances', 'theorem', 'finite-dimensional', 'vectors', 'polynomial', 'monic', 'polynomials', 'algebraically', 'diagonalizable', 'subspace', 'i', 'Theorem', 'vector', 'invariant', 'divisible', 'divides', '**ya', 'notation', 'nilpotent', 'integer', 'b', 'commute', \"D'\", \"N'\", 'differentiable', 'satisfies', '7-1', 'binomial', 'repetitions', 'marksman', \"bull's-eyes\", 'litters', 'aces', 'Experiment', 'inscribed', 'cubes', 'vertex', 'diagonal', 't', '90-degrees', 'intersections', 'f{t}', 'C-plane', 'tangent', 'Lemma', 'f-plane', 'single-valued', 'monotone', 'sub-interval', 'g{t}', 'involutions', 'involutorial', 'nonsingular', 'quadric', 'involution', '**zg', 'regulus', 'secants', 'l', 'congruence', 'tangents', 'tangency', 'pencils', \"C'\", 'secant', 'Af-fold', '**yb', 'dearly', 'pertains', 'equate', 'democratize', 'middle-', 'Particularly', 'reassured', 'recurrent', 'consolation', 'colossal', 'self-sufficient', 'unifies', 'Durkheim', 'attaching', 'rites', \"B.'s\", 'helplessness', 'Johnnie', 'referral', 'regression', 'casework', 'time-honored', 'averted', 'Brandywine', 'Loomis', 'illegitimate', 'subsystems', 'subgroups', 'Communication', 'Boundary', 'linkage', 'deviant', 'endogamy', 'AIMO', 'clipped', 'jure', 'Ruanda-Urundi', 'demography', 'IRSAC', 'censuses', 'hindsight', 'auditors', 'pregnancy', 'Kohnstamm-negative', 'Guilford-Martin', 'Kohnstamm-positive', 'Kohnstamm', 'arm-elevation', 'suggestibility', 'involuntary', 'nonreactivity', 'relinquishing', 'constriction', 'socioeconomic', 'unstructured', 'third-grade', 'compulsivity', 'Anxiety', 'Scale', 'Meaning', 'Arithmetic', 'Intelligence', 'under-achievement', 'I.Q.', 'descriptive', 'compulsives', 'roleplaying', 'Roleplaying', 'questionnaires', 'suitcase', 'antagonists', 'receptionist', 'introject', 'hebephrenic', 'cheeks', 'Granny', 'schizophrenic', 'infuriated', 'uncomfortably', 'nonverbal', \"person's\", 'bales', 'inflected', 'text-form', 'grammatical', 'semantic', 'lookup', 'Text', 'W-region', 'X-region', 'storing', 'Y-cell', 'modifying', 'inflection', 'endings', 'summarizing', 'syllables', 'Dominant', 'prepositional', 'unstressed', 'pronoun', 'modifier', 'insulting', 'declarative', 'consonantal', 'consonants', 'vowel', 'vowels', 'Tone', 'phonologic', 'phonology', 'intonation', 'murmur', 'phonemic', 'morphophonemic', 'morphophonemics', 'orthography', 'Kikuyu', 'orthographic', 'Igbo', 'prosodic', 'unnecessarily', 'Athabascan', 'Yokuts', \"Hoijer's\", 'glottochronological', 'Swadesh', 'Hoijer', 'vulture', 'adjectives', 'verbs', 'verb', 'adjectival', 'lexicostatistics', 'nail', 'millennia', 'by-product', 'plodding', 'Oder', 'Poles', 'Lublin', 'corridor', 'merged', 'aberrations', 'electoral', 'long-run', 'Istiqlal', 'feasibility', 'Moroccan', 'P.D.I.', 'Balafrej', 'Ibrahim', 'maneuvering', 'U.M.C.I.A.', 'U.N.F.P.', 'George-Barden', 'pierced', 'demonstrable', 'indices', 'ceaseless', 'loadings', 'fatter', 'odd-lot', 'bottoms', 'movers', 'unsold', 'amortization', 'Sixties', 'Fifties', 'wage-price', 'profit-maximizing', 'public-limit', 'abstracting', 'GNP', 'gouging', '3%', 'cost-of-living', 'presumption', 'Hegelian', 'jurisprudence', 'positivism', '1875', 'injunction', 'disorderly', 'transferor', '381', \"transferor's\", '203', '381(a)', 'Seaboard', 'furthermore', 'non-taxable', '368(a)(1)', 'respondents', 'respondent', \"Respondents'\", 'Aerospace', 'AIA', 'TR', 'airmail', 'Processing', 'wishing', 'AWOC', 'Wagner-Peyser', 'referrals', 'Regulation', \"Secretary's\", 'Concerning', 'maladjusted', 'maladjustment', 'Sources', 'Middle-South', 'plaintiff', 'all-Negro', 'marshal', 'working-class', 'social-class', 'lower-middle-class', 'upper-', 'apportionment', 'double-step', 'unallocable', 'out-of-pocket', 'carload', 'single-step', 'subtype', 'outputs', 'kilowatt-hour', 'behaviour', 'perilously', 'ditch', 'positivists', 'positivist', \"animal's\", 'frivolous', 'distort', 'unfitting', 'tactual', 'decidedly', 'kinesthetic', 'jumbled', 'Geometric', 'Homeric', 'hexameter', 'vases', 'Protogeometric', 'vase', 'sharper', 'Iliad', 'abruptly', 'Dawn', 'slanting', 'Dipylon', 'Ripe', 'Catskill', 'Martinez', 'Mexicans', 'Pels', 'suspense', 'Vermejo', 'canyon', \"Salyer's\", 'oak', 'arroyo', 'dismounted', 'MacPherson', 'Pedro', 'Laramie', 'depredations', 'Manuel', 'creek', 'Shot', 'whereabouts', 'Chavez', 'Barney', 'Raton', 'horsemen', 'Battenkill', 'Burton', 'telegrapher', 'Junction', 'Orvis', 'drugstore', 'dime', 'Dorset', 'gusts', 'oranges', 'Barnumville', \"clerk's\", 'Marble', 'Blackmer', 'Marsden', 'Vail', \"More's\", 'Utopians', 'warrior', 'shreds', 'Dorr', 'Patriot', 'Foss', 'Trafton', 'bells', 'Seated', 'Barstow', 'Resolved', 'Cubist', \"arm's\", 'typography', 'Braque', 'wallpaper', 'simulate', 'collage', 'Analytical', \"Braque's\", 'facet-planes', 'Cubism', \"Picasso's\", 'bas-relief', 'undepicted', 'flatness', 'grape', 'transforms', 'literalness', 'abstracted', 'folded', 'intertwined', '128', 'ya', 'Brumidi', 'Rotunda', 'Costaggini', 'roughcast', 'Architect', \"Brumidi's\", 'slaked', 'scaffolding', 'secco', 'awhile', 'oxide', 'mutilated', 'Kitty', 'Hawk', 'plank', 'mopped', 'Pozzatti', 'presume', 'Sane', 'shred', \"Fromm's\", 'guild', 'Boris', 'lifelike', 'Mussorgsky', \"Boris'\", 'monologue', 'phrasing', 'Pimen', 'Varlaam', 'Missail', 'Rangoni', \"Grigori's\", \"guard's\", 'Verdi', 'Coming', 'coldness', 'gasping', 'Mityukh', 'wail', 'exit', 'mocking', '1860', \"Hardy's\", 'Satires', 'Circumstance', 'Poems', 'Dynasts', 'worrying', 'Revulsion', 'Tones', 'rapture', \"Thomas's\", 'fascinate', 'Partly', 'saxophone', 'Valery', 'Gertrude', 'soles', 'Tiepolo', 'bard', 'Odyssey', 'Beowulf', 'formulaic', 'Proceeding', 'intoned', 'kennings', 'synonyms', 'Cynewulf', 'Expectations', 'forefinger', 'self-pity', 'greed', \"Orlick's\", \"Pip's\", 'frantically', 'nemesis', 'Pip', 'forge', 'mending', \"Magwitch's\", 'Orlick', 'shouts', 'hammer', 'bangs', 'Estella', 'cruelly', 'Havisham', 'Pocket', 'spasm', 'elbow', 'EQU', 'Autocoder', 'operand', 'coding', 'compiler', 'macro-instructions', 'processor', '7070/7074', 'two-digit', 'Index', 'DA', 'Define', 'DC', 'DRDW', 'DLINE', 'DIOCS', 'Input/Output', 'DUF', 'DTF', '7070', 'RDWS', 'programmer', 'IOCSIXF', 'IOCSIXG', 'ponds', 'BOD', 'effluent', 'mg/l', 'aerator', 'aerated', 'lagoon', 'Subdivision', 'septic', 'nitrate', 'algae', 'ft', '24-hr.', '6-hr.', 'Grab', 'sludge', 'rotor', 'protozoa', 'floc', 'ciliated', 'stalked', 'antisubmarine', 'Mines', 'metabolite', 'hydrolysis', 'Sloane', 'arylesterase', 'collagen', 'a.', 'viscoelasticity', 'tektites', 'gallium', 'solvent', 'elongation', 'Flory', 'Hoeve', 'polymers', 'Carefully', 'crystals', 'Mineralogy', \"Groth's\", 'Chemische', 'Krystallographie', 'Properties', 'Criticality', 'Currency', 'Groth', 'Format', 'References', 'Cury', 'Donnay', 'Crystallographic', 'alloys', 'Structures', \"Dana's\", 'food-preservation', 'ionizing', 'irradiation', 'palatability', 'sterilization', 'blanching', 'Mrad', 'radiosterilization', 'radiopasteurization', 'irradiated', 'gamma', 'cesium-137', 'accelerators', 'nuclide', 'kwhr', 'Radiopasteurization', 'mutton', 'accelerator', 'Hesiometer', 'substrates', 'peeling', 'interface', 'schematically', '**yf', '**yt', 'eqn.', 'rupture', 'foamed', 'Urethane', '275', 'polypropylene', 'urethane', 'foams', 'garment', 'polyether', 'prepolymer', 'foaming', 'cu.', 'flexural', 'tensile', 'pumped', 'suds', 'rinsing', 'draining', 'knitted', 'laundry', 'restorability', 'tumble', 'dryer', 'restorative', 'warp', 'flat-bed', 'perforated', 'template', '109-degrees-F', 'Drain', 'Cascading', 'intensifier', 'intensifiers', 'interstage', 'coupler', 'couplers', 'fiber-coupled', 'double-stage', 'phosphor', 'impinge', 'cathodoluminescent', 'photocathode', 'Fresnel', 'maximizes', 'P-20', 'magnifying', 'fluorescent', 'specification', 'R-stage', 'Af-stage', 'optimality', 'gyro-stabilized', 'gyros', 'leveling', 'transient', 'torque', 'gyro', 'torquers', 'accelerometer', 'torquer', '7-2', 'servo', 'accelerometers', 'amplifier', 'manually', 'inconvenient', 'inertial', 'darkened', 'autocollimator', 'pickoff', 'east-west', 'Scotty', 'lipstick', \"Scotty's\", 'plumpness', 'stiffly', 'sprawling', 'jumping', 'bathrobe', 'biscuits', 'Kate', 'bandaged', 'throbbed', \"Kate's\", 'teasing', 'absently', 'frowning', 'phoned', 'throbbing', 'scarf', 'Papa-san', 'coward', 'Prevot', 'mercifully', 'sighing', 'unsung', 'leered', 'sweaty', 'blackness', 'sneaked', 'crouch', 'shout', 'Mickie', 'booth', 'noticing', 'Jeff', 'bastard', 'Trig', 'devilish', 'snaked', 'lunged', 'placid', 'Dalloway', 'dainty', 'rosebuds', 'Boxell', 'chandelier', 'Chris', 'damn', 'Deacon', 'handkerchief', 'Catt', 'spotless', 'soared', 'Presiding', 'Payne', 'Herold', 'Seward', 'errand', \"Seward's\", 'rang', 'nigger', 'gleamed', 'bothering', 'Murder', 'yelling', 'sleepy', 'Keene', 'Cousin', 'faltered', 'balustrade', 'dingy', 'Stevie', \"stranger's\", 'limp', 'clutched', 'winked', 'Bong', 'bulged', 'trembled', 'yanked', 'steeple', 'Reformed', 'taller', 'Neversink', 'Drew', 'illumined', 'Violet', 'Ludie', 'hateful', 'peaked', 'shuddered', 'Someday', 'pat', 'industrious', 'screeched', 'chewed', 'swaggered', 'grownups', 'ruffled', 'crummy', 'fucken', 'niggers', 'nothin', 'chuckled', 'Goddamn', 'Brandon', 'ol', 'Slater', 'thinkin', 'goddamn', 'em', \"That'll\", 'humming', 'comin', 'fuck', 'patting', 'unleashed', 'hafta', 'Damn', 'dumped', 'Somebody', 'Coughlin', \"They'd\", \"C'mon\", 'snuggled', 'bandits', 'Discourse', 'slovenly', 'dashing', 'redcoat', 'musket', 'punctured', 'bayonets', 'Committeemen', 'plucked', 'Jake', 'Camaret', 'smirk', 'Favre', 'deep-set', 'trudged', 'slapped', 'neared', 'blinking', 'hearth', 'Caroli', 'Bern', 'outskirts', 'heaved', 'snarling', 'bristling', 'dripped', 'improvised', 'hardtack', 'drizzle', 'Purdew', 'exchanging', 'freckles', 'snoring', 'poncho', 'Mollie', 'Mutton', 'Jed', 'dusk', 'greatcoat', 'undershirt', 'Rebel', 'Mose', 'Ole', 'Yeah', 'yeah', 'giggled', \"po'k\", 'crumbled', 'mumbled', 'Fritzie', \"Y'all\", 'wanna', 'shoved', 'short-lived', 'muttering', 'Andrus', 'gasped', 'McFeeley', 'Moll', 'Selena', 'redder', 'Skopas', 'hoarse', 'shuffling', 'Kahler', 'icebox', 'creaked', 'lathered', 'Mme', 'Redoute', 'criss-crossed', 'pillows', 'sneakers', 'probed', 'stalls', 'Argiento', 'Melzi', 'skullcap', 'Galli', 'scoured', 'jerking', 'gasps', 'twitched', 'Juanita', 'Tussle', 'Trouble', 'bewilderment', \"Jonathan's\", 'shriveled', \"baby's\", 'Randolph', 'fathom', 'winking', 'drunkenly', 'schoolroom', 'sired', 'git', 'flushed', 'Lattimer', 'Tomorrow', 'scented', 'Mynheer', 'Cortlandt', 'saddlebags', 'berry', 'feathered', 'groin', 'shied', 'nostrils', 'rooster', 'hawk', 'clam', 'nested', 'meadow', 'ached', 'lather', 'Andrei', 'Brandel', 'ideologies', 'Ulanys', 'Styka', 'Globocnik', 'Funk', 'spouted', 'Majdanek', 'Androfski', 'Grabski', 'goddam', 'Thelma', 'hummed', 'understandingly', 'hook', 'smelt', 'lotion', 'kitchenette', 'overcoat', \"Eileen's\", 'hound', 'parted', 'skull', 'curly', \"Jim's\", 'bubbling', 'Sposato', \"who'd\", 'gouged', 'Kayabashi', 'Hino', 'joyous', \"Rector's\", 'oyabun', 'lacy', 'manservant', 'Ariadne', 'striped', 'Pausing', \"mustn't\", 'Alastor', 'resentful', 'Beckworth', 'impatiently', 'bombproof', 'lump', 'rotting', 'clutching', 'groped', 'belched', 'snorted', 'skiffs', 'frayed', 'shrilly', 'skiff', 'sickened', 'spat', 'Pastern', 'Bomb', 'hepatitis', 'sherry', 'Flannagans', 'hallway', 'Flannagan', 'stockings', 'Izaak', 'Myra', 'glare', 'Angelina', 'suspiciously', 'Jessica', 'ah', \"Izaak's\", 'hugging', 'seaweed', 'Starbird', 'mast', 'Pedersen', 'cough', 'crib', 'froze', 'hey', 'dammit', \"Pa's\", 'pa', 'busted', 'insides', 'shovel', \"She'd\", 'poked', 'flopped', 'Stowey', 'sill', 'stool', \"boss's\", 'forty-nine', 'eyebrows', 'rustling', 'crook', 'Albright', 'Linda', 'Ada', 'thirsty', 'blushed', 'Gosh', 'blushing', 'retorted', \"Alex's\", 'turkey', 'chick', 'scrawled', 'knocking', 'patronne', 'hens', 'cackled', 'chambermaid', 'cradled', 'Eyes', 'coughing', 'drown', 'fille', 'chambre', 'Anyhow', 'Leona', 'fuss', \"Ada's\", 'lint', 'lavender', 'unbearable', 'kissing', 'Brennan', 'Homicide', 'psychopathic', 'bellboy', 'bartender', 'bug', 'batteries', 'beep', 'bugging', 'beeps', 'microphone', 'slacks', 'Roberta', 'spilled', 'Lauren', 'dialed', 'Vince', 'twitch', 'Grosse', 'fools', 'Guardino', \"Rose's\", 'Dammit', \"Where'd\", 'Landis', \"driver's\", 'jowls', 'graying', 'Acey', 'Squire', 'Jarrodsville', 'foolishly', 'growled', 'splashed', 'lurched', 'Rourke', 'Alvarez', 'Shayne', \"Rourke's\", 'Felice', 'Peralta', 'faintest', 'Geely', 'stake-out', 'Perrin', 'groaned', 'cognac', 'dived', 'holster', 'okay', 'mailboxes', 'forearm', 'sagged', 'dryly', 'Lisa', 'courthouse', 'azaleas', 'good-looking', \"it'll\", 'Ferrell', 'Hirey', 'grille', \"Black's\", 'Peerless', 'Skyros', 'Angie', 'spades', 'Katya', 'Katharine', \"so's\", \"there'd\", 'handbag', 'propped', 'kittens', 'Happened', 'Lolotte', 'Emile', 'Maude', \"Sarah's\", 'storehouse', 'Drink', 'Lucien', 'swished', 'Honotassa', 'Glendora', 'Rev', \"George's\", 'lamplight', \"Gilborn's\", 'Gilborn', 'Kitti', 'lain', 'stupor', 'fingerprint', 'swooping', 'cinch', 'sobered', 'freak', 'flannel', 'Gibby', 'pompous', 'chortled', 'fingerprints', 'prancing', 'Grubb', 'Hub', 'dozing', \"Andy's\", 'Sorry', 'Paxton', 'Fox', 'bouquet', 'Shirl', 'Skolman', 'Bonner', 'louse', 'plowed', 'clapping', 'clapped', 'shouldered', 'dully', 'Holden', 'overalls', 'Mae', 'squinting', 'scheming', 'darted', 'overnighters', 'Willings', 'lab', 'Weigand', 'Mullins', 'Sort', 'Motive', 'Siamese', 'dinnertime', 'Hello', 'Madden', \"Madden's\", 'Uh-huh', 'Meeker', \"Meeker's\", 'Medfield', 'Brian', 'Hohlbein', \"Garth's\", 'harbored', 'Hoag', 'Leigh', 'Midge', 'Mahzeer', \"Mahzeer's\", 'fuzz', 'Docherty', \"Haven't\", 'Muller', \"Muller's\", 'fumbled', \"lieutenant's\", 'Killpath', \"Killpath's\", 'Orville', 'raked', 'bitch', 'Matson', 'keeper', 'Accacia', 'squinted', 'Needham', 'Calenda', 'throttle', 'joking', \"Poet's\", \"Nick's\", 'shin', 'cobra', 'Nellie', 'Guess', 'Jaguar', 'slick', 'plumb', 'Beauclerk', '1105', 'Alec', 'Soak', \"Alec's\", 'drawled', 'mister', 'McIver', 'Handley', 'Dogtown', 'boulders', 'Anta', 'Freya', 'Norberg', 'Beech', 'Pasture', 'crests', 'Haney', 'Lolly', 'grievance', 'scowled', 'Pops', 'Jist', \"an'\", 'Radic', 'soundly', 'grok', 'grokked', 'Archangel', 'Digby', \"Jubal's\", 'Martian', 'Jubal', 'grokking', 'speeded', 'Martians', 'nests', 'homesick', 'vs', 'Macneff', 'Sandalphon', 'Forerunner', 'Pornsen', 'gapt', 'Sigmen', 'Yarrow', 'Ozagen', 'Siddo', 'Earthmen', 'Hesperus', 'thrashed', 'zigzagging', 'pip', 'roiling', 'Langer', 'fuses', 'Ekstrohm', 'Nogol', 'critters', 'intimacy', 'flipped', 'Helva', \"Helva's\", 'neural', 'babes', 'Shell', 'scooted', 'diverted', \"B'dikkat\", 'super-condamine', 'rammed', 'dromozoa', 'half-man', 'Shayol', 'hoarsely', 'Reaching', 'Leaning', 'dipper', 'buckets', 'half-breed', 'goin', 'murmuring', 'fiercely', 'stallion', 'tightened', 'veranda', 'Purvis', \"Clayton's\", 'hoofs', 'holstered', 'Fiske', 'McLish', \"Mike's\", 'peg', 'Hurry', 'Montero', 'Oso', 'Aricaras', \"Knife's\", \"Montero's\", 'bale', \"Indian's\", 'quirt', 'slam', \"name's\", 'pans', 'belied', 'flicked', 'vaudeville', 'Barton', 'Powers', 'Dill', 'grove', \"Dill's\", 'soothing', 'Kruger', 'faro', \"Barton's\", 'Hague', 'Kodyke', 'Melissa', 'caressed', 'bled', 'Miraculously', 'pursed', 'derrick', 'McBride', 'flailing', 'Donna', 'Brannon', 'Maguire', 'Conchita', 'Elena', 'Tomas', 'Hernandez', 'Rockfork', 'puncher', 'Jesse', 'Macklin', 'tracked', 'settler', 'homesteaders', \"coroner's\", 'Curt', 'livery', 'Brenner', 'Summers', \"Brenner's\", \"Curt's\", \"Jess's\", 'buckskin', 'Jess', 'snort', 'Arbuckle', \"nothin'\", 'Crouch', 'Sweat', 'Burnsides', 'Nate', 'Matilda', 'Hez', \"Dan's\", 'Gran', 'Rod', 'skipping', 'dell', 'unison', 'dives', 'Carmer', 'Gyp', \"Carmer's\", 'Penny', \"Penny's\", 'bronc', 'Antler', 'mused', 'Sweeney', 'Greg', 'Todman', 'Donovan', \"Greg's\", 'Sweeneys', 'Japs', 'giggles', 'Herry', 'duffel', 'Roebuck', 'Sante', \"Ma'am\", 'hevin', 'Aw', 'amber', 'loosened', 'zing', 'SX-21', \"Thor's\", 'cabana', 'Eye', 'Rawlins', \"Orleans'\", 'Nicolas', 'Manas', 'tanned', 'dew', 'Express', 'Grafin', 'glisten', 'Steinhager', 'Hettie', 'miserably', 'wiggled', 'trunk', 'Brassnose', 'Sommers', 'lifeboat', 'bleached', 'bailing', 'whitened', 'Manu', 'Eromonga', 'Griggs', 'Frayne', 'tultul', 'outrigger', 'Songau', 'rung', 'moons', \"L'Turu\", 'Karipo', \"Ramey's\", 'Ramey', 'RAF', \"Keith's\", 'Schaffner', 'Artie', 'Commodore', 'Matsuo', 'superiors', 'bobbing', \"marine's\", 'Throat', 'Tilghman', \"Conyers'\", \"Tilghman's\", \"Throat's\", 'Petrie', 'Doolin', 'clasped', 'Woman', 'passionately', 'Langford', 'Delphine', 'Lalaurie', 'nymphomaniac', 'Dandy', 'gaped', 'Prieur', 'Devol', 'coachman', 'Perdido', 'Feathertop', 'cheekbones', 'Cappy', 'crap', 'boxcar', \"Kitty's\", 'forked', 'Pompeii', 'bowing', \"Maggie's\", 'Eugenia', 'Evadna', \"Grandma's\", 'mouthful', \"Tolley's\", 'Laban', 'Tolley', 'Robards', 'Kizzie', 'Quinzaine', 'Dunne', 'Gunny', 'triplets', 'pike', 'Kiz', \"Doaty's\", 'Doaty', 'Adelia', 'Blackwell', 'Rosa', 'Momoyama', 'sunburn', 'Diego', 'Yokosuka', 'murdering', 'Pagan', 'Buzz', 'lay-sisters', 'Calf', 'Wrangler', 'Sparky', 'Hurrays', 'Gansevoort', 'Heiser', 'handspikes', \"Spencer's\", 'red-haired', 'paot', 'Reuveni', 'Gratt', 'Shafer', 'underwear', 'McKenzie', 'Monmouth', 'Askington', 'Dolly', 'Harvie', 'outcry', 'Uhhu', 'Ferraros', 'Signora', 'Walitzee', 'Pile', 'Clouds', 'Move', 'Rawlings', 'bandages', \"Myra's\", 'nervously', 'good-by', 'cowbirds', 'Quint', 'Quintus', 'Sabella', 'Bobbie', 'Edythe', 'Mousie', 'John-and-Linda', 'Longue', 'Vue', \"Linda's\", 'steels', 'Lovejoy', 'Nadine', 'Francie', 'Thom', \"Nadine's\", \"Wally's\", 'Gladdy', 'Fairview', 'Groggins', 'Theresa', 'Stubblefield', 'Stubblefields', 'Elec', 'Carraway', 'Tuxapoka', 'alligator', 'Alma', \"Kirby's\", 'Vivian', 'Peony', \"what's-his-name\", 'Rossoff', 'Deegan', 'dugout', 'ballplayers', 'Ricco', 'Acala', 'biwa', 'Ryusenji', 'Fudomae', \"Charlotte's\", 'Fudo', 'furrow', 'Snakes', 'Cady', 'Hanford', 'Partlow', 'Anthea', 'A-Z', 'Freddy', 'Gerry', 'Willis', 'Zenith', \"Freddy's\", 'Herberet', 'Allstates', 'Hamrick', 'Richert', 'Ticonderoga', 'Barco', \"Barco's\", 'Welch', \"Welch's\", 'Viola', \"Viola's\", 'Jennie', 'Catatonia', 'Grazie', 'Kafka', 'Poitrine', 'Letch', 'Feeley', 'Cabrini', 'pegboard', 'workbench', 'Crombie', 'Crumb', 'Blatz', 'Ambiguity', 'saleslady', 'Moreland', 'peacocks', 'non-fiction', \"Burnside's\", 'radish', 'Gorboduc', 'Neitzbohr', 'Alicia', 'Quasimodo']\n"
     ]
    }
   ],
   "source": [
    "freq_list = nltk.FreqDist(brownText).items()\n",
    "tripple_occurance = [word for (word, val) in freq_list if val >= 3]\n",
    "print(tripple_occurance)"
   ]
  },
  {
   "cell_type": "markdown",
   "metadata": {},
   "source": [
    "## 3.1.16\n",
    " Write a program to generate a table of lexical diversity scores (i.e. token/type ratios), as we saw in 1.1. Include the full set of Brown Corpus genres (nltk.corpus.brown.categories()). Which genre has the lowest diversity (greatest number of tokens per type)? Is this what you would have expected?"
   ]
  },
  {
   "cell_type": "code",
   "execution_count": 249,
   "metadata": {},
   "outputs": [
    {
     "name": "stdout",
     "output_type": "stream",
     "text": [
      "adventure has aa lexical diversity score of 0.13\n",
      "belles_lettres has aa lexical diversity score of 0.11\n",
      "editorial has aa lexical diversity score of 0.16\n",
      "fiction has aa lexical diversity score of 0.14\n",
      "government has aa lexical diversity score of 0.12\n",
      "hobbies has aa lexical diversity score of 0.14\n",
      "humor has aa lexical diversity score of 0.23\n",
      "learned has aa lexical diversity score of 0.09\n",
      "lore has aa lexical diversity score of 0.13\n",
      "mystery has aa lexical diversity score of 0.12\n",
      "news has aa lexical diversity score of 0.14\n",
      "religion has aa lexical diversity score of 0.16\n",
      "reviews has aa lexical diversity score of 0.21\n",
      "romance has aa lexical diversity score of 0.12\n",
      "science_fiction has aa lexical diversity score of 0.22\n"
     ]
    }
   ],
   "source": [
    "for cat in brown.categories():\n",
    "    text = nltk.Text(brown.words(categories=cat))\n",
    "    lex_score = len(set(text)) / len(text)\n",
    "    print(f\"{cat} has aa lexical diversity score of {round(lex_score, 2)}\")"
   ]
  },
  {
   "cell_type": "markdown",
   "metadata": {},
   "source": [
    "the lexical diverysity scores are about what would be expected \"learned\" having a low score whilst fixtion such as \"reviews\" and \"humor\" having higher score."
   ]
  },
  {
   "cell_type": "markdown",
   "metadata": {},
   "source": [
    "## 3.1.17\n",
    "Write a function that finds the 50 most frequently occurring words of a text that are not stopwords."
   ]
  },
  {
   "cell_type": "code",
   "execution_count": 321,
   "metadata": {},
   "outputs": [],
   "source": [
    "from nltk.corpus import stopwords\n",
    "en_stopws = stopwords.words(\"english\")\n",
    "for symbol in [\",\", \".\", \":\", \";\", \"(\", \")\", \"-\", \"_\", \"'\", \"--\", \".)\"]:\n",
    "    en_stopws.append(symbol)"
   ]
  },
  {
   "cell_type": "code",
   "execution_count": 322,
   "metadata": {},
   "outputs": [
    {
     "name": "stdout",
     "output_type": "stream",
     "text": [
      "[('must', 1568), ('people', 1291), ('world', 1128), ('year', 1097), ('America', 1076), ('us', 1049), ('new', 1049), ('Congress', 1014), ('years', 827), ('American', 784), ('time', 645), ('make', 639), ('one', 618), ('peace', 617), ('every', 598), ('work', 597), ('Federal', 576), ('Americans', 562), ('help', 561), ('program', 524), ('Government', 513), ('war', 511), ('economic', 504), ('country', 500), ('States', 496), ('also', 491), ('great', 485), ('freedom', 481), ('United', 474), ('government', 453), ('tax', 453), ('would', 436), ('economy', 433), ('national', 429), ('$', 429), ('need', 428), ('many', 419), ('know', 416), ('Applause', 416), ('free', 414), ('security', 413), ('children', 407), ('budget', 405), ('million', 405), ('nations', 404), ('billion', 403), ('nation', 379), ('future', 379), ('programs', 376), ('President', 366)]\n"
     ]
    }
   ],
   "source": [
    "tokens = [token for token in SU.tokens if token.lower() not in en_stopws]\n",
    "print(nltk.FreqDist(tokens).most_common(50))"
   ]
  },
  {
   "cell_type": "markdown",
   "metadata": {},
   "source": [
    "## 3.1.18\n",
    "Write a program to print the 50 most frequent bigrams (pairs of adjacent words) of a text, omitting bigrams that contain stopwords."
   ]
  },
  {
   "cell_type": "code",
   "execution_count": 323,
   "metadata": {},
   "outputs": [],
   "source": [
    "base_bigrams = list(nltk.bigrams(SU))\n",
    "bigrams_no_stopws = [(a,b) for (a, b) in base_bigrams if \n",
    "                     (a.lower() not in en_stopws and b.lower() not in en_stopws)]"
   ]
  },
  {
   "cell_type": "code",
   "execution_count": 324,
   "metadata": {},
   "outputs": [
    {
     "data": {
      "text/plain": [
       "[(('United', 'States'), 347),\n",
       " (('American', 'people'), 209),\n",
       " (('fiscal', 'year'), 177),\n",
       " (('million', 'dollars'), 135),\n",
       " (('Federal', 'Government'), 129),\n",
       " (('billion', 'dollars'), 128),\n",
       " (('health', 'care'), 128),\n",
       " (('years', 'ago'), 125),\n",
       " (('last', 'year'), 118),\n",
       " (('United', 'Nations'), 110),\n",
       " (('Social', 'Security'), 107),\n",
       " (('let', 'us'), 90),\n",
       " (('Soviet', 'Union'), 86),\n",
       " (('Let', 'us'), 85),\n",
       " (('Middle', 'East'), 78),\n",
       " (('economic', 'growth'), 78),\n",
       " (('every', 'American'), 77),\n",
       " (('year', '1947'), 69),\n",
       " (('21st', 'century'), 68),\n",
       " (('make', 'sure'), 64),\n",
       " (('Last', 'year'), 64),\n",
       " (('work', 'together'), 62),\n",
       " (('2', 'years'), 60),\n",
       " (('must', 'continue'), 58),\n",
       " (('$', '1'), 56),\n",
       " (('5', 'years'), 56),\n",
       " (('first', 'time'), 55),\n",
       " (('must', 'also'), 55),\n",
       " (('free', 'nations'), 54),\n",
       " (('Vice', 'President'), 53),\n",
       " (('foreign', 'policy'), 52),\n",
       " (('free', 'world'), 51),\n",
       " (('new', 'jobs'), 51),\n",
       " (('fellow', 'Americans'), 50),\n",
       " (('balanced', 'budget'), 48),\n",
       " (('interest', 'rates'), 47),\n",
       " (('White', 'House'), 47),\n",
       " (('must', 'make'), 46),\n",
       " (('10', 'years'), 46),\n",
       " (('young', 'people'), 46),\n",
       " (('fellow', 'citizens'), 45),\n",
       " (('local', 'governments'), 44),\n",
       " (('nuclear', 'weapons'), 44),\n",
       " (('social', 'security'), 43),\n",
       " (('medical', 'care'), 41),\n",
       " (('World', 'War'), 41),\n",
       " (('health', 'insurance'), 41),\n",
       " (('past', 'year'), 41),\n",
       " (('next', 'year'), 40),\n",
       " (('armed', 'forces'), 39)]"
      ]
     },
     "execution_count": 324,
     "metadata": {},
     "output_type": "execute_result"
    }
   ],
   "source": [
    "nltk.FreqDist(bigrams_no_stopws).most_common(50)"
   ]
  },
  {
   "cell_type": "markdown",
   "metadata": {},
   "source": [
    "## 3.1.23\n",
    "Write a function to process a large text and plot word frequency against word rank using pylab.plot. Do you confirm Zipf's law? (Hint: it helps to use a logarithmic scale). What is going on at the extreme ends of the plotted line?"
   ]
  },
  {
   "cell_type": "code",
   "execution_count": 351,
   "metadata": {},
   "outputs": [],
   "source": [
    "symbols = [\",\", \".\", \":\", \";\", \"(\", \")\", \"-\", \"_\", \"'\", \"--\", \".)\"]\n",
    "SU_no_symbols = [token for token in SU if token not in symbols]\n",
    "Zipf_list = nltk.FreqDist(SU_no_symbols).most_common(50)"
   ]
  },
  {
   "cell_type": "code",
   "execution_count": 330,
   "metadata": {},
   "outputs": [],
   "source": [
    "import matplotlib.pyplot as plt\n",
    "%matplotlib inline"
   ]
  },
  {
   "cell_type": "code",
   "execution_count": 357,
   "metadata": {},
   "outputs": [
    {
     "data": {
      "image/png": "[encoded data removed]",
      "text/plain": [
       "<Figure size 720x360 with 1 Axes>"
      ]
     },
     "metadata": {
      "needs_background": "light"
     },
     "output_type": "display_data"
    }
   ],
   "source": [
    "plt.rcParams['figure.figsize'] = [10, 5]\n",
    "x = [x for x in range(50)]\n",
    "y = [val for (word, val) in Zipf_list]\n",
    "x_labels = [word for (word, val) in Zipf_list]\n",
    "plt.bar(x, y, tick_label=x_labels)\n",
    "plt.xticks(rotation = 90)\n",
    "plt.show()"
   ]
  },
  {
   "cell_type": "markdown",
   "metadata": {},
   "source": [
    "Randomizer"
   ]
  },
  {
   "cell_type": "code",
   "execution_count": 358,
   "metadata": {},
   "outputs": [],
   "source": [
    "import random"
   ]
  },
  {
   "cell_type": "code",
   "execution_count": 387,
   "metadata": {},
   "outputs": [],
   "source": [
    "full_string = \"\"\n",
    "for i in range(1000000):\n",
    "    w = random.choice(\"abcdefg \")\n",
    "    full_string += w\n",
    "\n",
    "freq_rand = nltk.FreqDist(nltk.word_tokenize(full_string)).most_common(50)"
   ]
  },
  {
   "cell_type": "code",
   "execution_count": 388,
   "metadata": {},
   "outputs": [
    {
     "data": {
      "image/png": "[encoded data removed]",
      "text/plain": [
       "<Figure size 720x360 with 1 Axes>"
      ]
     },
     "metadata": {
      "needs_background": "light"
     },
     "output_type": "display_data"
    }
   ],
   "source": [
    "y_rand = [val for (word, val) in freq_rand]\n",
    "x_labels_rand = [word for (word, val) in freq_rand]\n",
    "plt.bar(x, y_rand, tick_label=x_labels_rand)\n",
    "plt.xticks(rotation = 90)\n",
    "plt.show()"
   ]
  },
  {
   "cell_type": "code",
   "execution_count": null,
   "metadata": {},
   "outputs": [],
   "source": []
  }
 ],
 "metadata": {
  "kernelspec": {
   "display_name": "Python 3 (ipykernel)",
   "language": "python",
   "name": "python3"
  },
  "language_info": {
   "codemirror_mode": {
    "name": "ipython",
    "version": 3
   },
   "file_extension": ".py",
   "mimetype": "text/x-python",
   "name": "python",
   "nbconvert_exporter": "python",
   "pygments_lexer": "ipython3",
   "version": "3.8.11"
  },
  "varInspector": {
   "cols": {
    "lenName": 16,
    "lenType": 16,
    "lenVar": 40
   },
   "kernels_config": {
    "python": {
     "delete_cmd_postfix": "",
     "delete_cmd_prefix": "del ",
     "library": "var_list.py",
     "varRefreshCmd": "print(var_dic_list())"
    },
    "r": {
     "delete_cmd_postfix": ") ",
     "delete_cmd_prefix": "rm(",
     "library": "var_list.r",
     "varRefreshCmd": "cat(var_dic_list()) "
    }
   },
   "types_to_exclude": [
    "module",
    "function",
    "builtin_function_or_method",
    "instance",
    "_Feature"
   ],
   "window_display": false
  }
 },
 "nbformat": 4,
 "nbformat_minor": 4
}
