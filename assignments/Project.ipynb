{
 "cells": [
  {
   "cell_type": "code",
   "execution_count": 3,
   "metadata": {},
   "outputs": [],
   "source": [
    "import requests, re\n",
    "import pandas as pd\n",
    "import numpy as np\n",
    "from bs4 import BeautifulSoup\n",
    "import lxml"
   ]
  },
  {
   "cell_type": "code",
   "execution_count": 86,
   "metadata": {},
   "outputs": [
    {
     "name": "stdout",
     "output_type": "stream",
     "text": [
      "number of nodes:  110\n"
     ]
    }
   ],
   "source": [
    "#Get list \n",
    "\n",
    "import warnings\n",
    "warnings.filterwarnings('ignore')\n",
    "\n",
    "\n",
    "def CharacterList(url):\n",
    "    websiteURL =  requests.get(url)\n",
    "    soup = BeautifulSoup(websiteURL.text)\n",
    "    characterGallery = soup.find_all('div',{'class':'category-page__members'})\n",
    "    characters = []\n",
    "\n",
    "    for character in characterGallery:\n",
    "\n",
    "        images = character.findAll(\"img\")\n",
    "        for image in images:\n",
    "            try:\n",
    "                characterName = image.get(\"alt\")\n",
    "            except:\n",
    "                pass\n",
    "\n",
    "            characters.append(characterName)\n",
    "\n",
    "    return characters\n",
    "\n",
    "\n",
    "ListOfCharacter = CharacterList(\"https://gossipgirl.fandom.com/wiki/Category:Characters\")\n",
    "#ListOfCharacter\n",
    "\n",
    "ListCharachters = []\n",
    "[ListCharachters.append(x) for x in ListOfCharacter if x not in ListCharachters]\n",
    "print(\"number of nodes: \", len(ListCharachters))\n",
    "\n",
    "\n"
   ]
  },
  {
   "cell_type": "code",
   "execution_count": 61,
   "metadata": {},
   "outputs": [
    {
     "name": "stdout",
     "output_type": "stream",
     "text": [
      "[]\n"
     ]
    }
   ],
   "source": [
    "#Find edges = relationships\n",
    "\n"
   ]
  },
  {
   "cell_type": "code",
   "execution_count": null,
   "metadata": {},
   "outputs": [],
   "source": []
  }
 ],
 "metadata": {
  "kernelspec": {
   "display_name": "Python 3",
   "language": "python",
   "name": "python3"
  },
  "language_info": {
   "codemirror_mode": {
    "name": "ipython",
    "version": 3
   },
   "file_extension": ".py",
   "mimetype": "text/x-python",
   "name": "python",
   "nbconvert_exporter": "python",
   "pygments_lexer": "ipython3",
   "version": "3.8.3"
  }
 },
 "nbformat": 4,
 "nbformat_minor": 4
}
