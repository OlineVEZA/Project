{
 "cells": [
  {
   "cell_type": "code",
   "execution_count": 3,
   "metadata": {},
   "outputs": [],
   "source": [
    "import requests, re\n",
    "import pandas as pd\n",
    "import numpy as np\n",
    "from bs4 import BeautifulSoup\n",
    "import lxml"
   ]
  },
  {
   "cell_type": "code",
   "execution_count": 208,
   "metadata": {},
   "outputs": [
    {
     "name": "stdout",
     "output_type": "stream",
     "text": [
      "number of nodes:  110\n"
     ]
    }
   ],
   "source": [
    "#Get list \n",
    "\n",
    "import warnings\n",
    "warnings.filterwarnings('ignore')\n",
    "\n",
    "\n",
    "def CharacterList(url):\n",
    "    websiteURL =  requests.get(url)\n",
    "    soup = BeautifulSoup(websiteURL.text)\n",
    "    characterGallery = soup.find_all('div',{'class':'category-page__members'})\n",
    "    characters = []\n",
    "\n",
    "    for character in characterGallery:\n",
    "\n",
    "        images = character.findAll(\"img\")\n",
    "        for image in images:\n",
    "            try:\n",
    "                characterName = image.get(\"alt\")\n",
    "            except:\n",
    "                pass\n",
    "\n",
    "            characters.append(characterName)\n",
    "\n",
    "    return characters\n",
    "\n",
    "\n",
    "ListOfCharacter = CharacterList(\"https://gossipgirl.fandom.com/wiki/Category:Characters\")\n",
    "#ListOfCharacter\n",
    "\n",
    "ListCharachters   = set(ListOfCharacter)\n",
    "\n",
    "print(\"number of nodes: \", len(ListCharachters))\n",
    "\n",
    "\n"
   ]
  },
  {
   "cell_type": "code",
   "execution_count": 210,
   "metadata": {},
   "outputs": [
    {
     "name": "stdout",
     "output_type": "stream",
     "text": [
      "number of nodes after stripping:  94\n"
     ]
    }
   ],
   "source": [
    "toRemove = [\"relationship\", 'Gossip', 'Season', 'Tripp\\xa0Vanderbilt','Social Media', 'Breakfast', 'Melanie91' ]\n",
    "\n",
    "toRemove = set(toRemove)\n",
    "listCharachters = [c for c in ListCharachters if not any(r in toRemove for r in c.split())]\n",
    "\n",
    "print(\"number of nodes after stripping: \", len(listCharachters))"
   ]
  },
  {
   "cell_type": "code",
   "execution_count": 209,
   "metadata": {},
   "outputs": [],
   "source": [
    "\n",
    "DF = pd.DataFrame(columns=['Character', 'Edges/relationships','size/episodes'])\n",
    "DF['Character'] = listCharachters\n"
   ]
  },
  {
   "cell_type": "code",
   "execution_count": 207,
   "metadata": {},
   "outputs": [
    {
     "data": {
      "text/html": [
       "<div>\n",
       "<style scoped>\n",
       "    .dataframe tbody tr th:only-of-type {\n",
       "        vertical-align: middle;\n",
       "    }\n",
       "\n",
       "    .dataframe tbody tr th {\n",
       "        vertical-align: top;\n",
       "    }\n",
       "\n",
       "    .dataframe thead th {\n",
       "        text-align: right;\n",
       "    }\n",
       "</style>\n",
       "<table border=\"1\" class=\"dataframe\">\n",
       "  <thead>\n",
       "    <tr style=\"text-align: right;\">\n",
       "      <th></th>\n",
       "      <th>Character</th>\n",
       "      <th>Edges/relationships</th>\n",
       "      <th>size/episodes</th>\n",
       "    </tr>\n",
       "  </thead>\n",
       "  <tbody>\n",
       "    <tr>\n",
       "      <th>0</th>\n",
       "      <td>Russell Thorpe</td>\n",
       "      <td>NaN</td>\n",
       "      <td>NaN</td>\n",
       "    </tr>\n",
       "    <tr>\n",
       "      <th>1</th>\n",
       "      <td>Max Harding</td>\n",
       "      <td>[Lily van der Woodsen, Damien Dalgaard, Bart B...</td>\n",
       "      <td>NaN</td>\n",
       "    </tr>\n",
       "    <tr>\n",
       "      <th>2</th>\n",
       "      <td>Hot lifeguard</td>\n",
       "      <td>[Ivy Dickens, Serena van der Woodsen]</td>\n",
       "      <td>NaN</td>\n",
       "    </tr>\n",
       "    <tr>\n",
       "      <th>3</th>\n",
       "      <td>Philip Becker</td>\n",
       "      <td>[Serena van der Woodsen]</td>\n",
       "      <td>NaN</td>\n",
       "    </tr>\n",
       "    <tr>\n",
       "      <th>4</th>\n",
       "      <td>Tripp Vanderbilt</td>\n",
       "      <td>[Georgina Sparks]</td>\n",
       "      <td>NaN</td>\n",
       "    </tr>\n",
       "    <tr>\n",
       "      <th>...</th>\n",
       "      <td>...</td>\n",
       "      <td>...</td>\n",
       "      <td>...</td>\n",
       "    </tr>\n",
       "    <tr>\n",
       "      <th>89</th>\n",
       "      <td>Obie Bergmann IV</td>\n",
       "      <td>[Ivy Dickens, Serena van der Woodsen, Philip B...</td>\n",
       "      <td>NaN</td>\n",
       "    </tr>\n",
       "    <tr>\n",
       "      <th>90</th>\n",
       "      <td>Gabriel Edwards</td>\n",
       "      <td>[Max Wolfe, Helena Bergmann, Aki Menzies, Juli...</td>\n",
       "      <td>NaN</td>\n",
       "    </tr>\n",
       "    <tr>\n",
       "      <th>91</th>\n",
       "      <td>Vanya</td>\n",
       "      <td>[Poppy Lifton, Lily van der Woodsen, Serena va...</td>\n",
       "      <td>NaN</td>\n",
       "    </tr>\n",
       "    <tr>\n",
       "      <th>92</th>\n",
       "      <td>Diana Payne</td>\n",
       "      <td>[Dorota Kishlovsky, Rufus Humphrey, Cyrus Rose...</td>\n",
       "      <td>NaN</td>\n",
       "    </tr>\n",
       "    <tr>\n",
       "      <th>93</th>\n",
       "      <td>Kati Farkas</td>\n",
       "      <td>[Gossip Girl (character), Sophie Grimaldi, Bar...</td>\n",
       "      <td>NaN</td>\n",
       "    </tr>\n",
       "  </tbody>\n",
       "</table>\n",
       "<p>94 rows × 3 columns</p>\n",
       "</div>"
      ],
      "text/plain": [
       "           Character                                Edges/relationships  \\\n",
       "0     Russell Thorpe                                                NaN   \n",
       "1        Max Harding  [Lily van der Woodsen, Damien Dalgaard, Bart B...   \n",
       "2      Hot lifeguard              [Ivy Dickens, Serena van der Woodsen]   \n",
       "3      Philip Becker                           [Serena van der Woodsen]   \n",
       "4   Tripp Vanderbilt                                  [Georgina Sparks]   \n",
       "..               ...                                                ...   \n",
       "89  Obie Bergmann IV  [Ivy Dickens, Serena van der Woodsen, Philip B...   \n",
       "90   Gabriel Edwards  [Max Wolfe, Helena Bergmann, Aki Menzies, Juli...   \n",
       "91             Vanya  [Poppy Lifton, Lily van der Woodsen, Serena va...   \n",
       "92       Diana Payne  [Dorota Kishlovsky, Rufus Humphrey, Cyrus Rose...   \n",
       "93       Kati Farkas  [Gossip Girl (character), Sophie Grimaldi, Bar...   \n",
       "\n",
       "   size/episodes  \n",
       "0            NaN  \n",
       "1            NaN  \n",
       "2            NaN  \n",
       "3            NaN  \n",
       "4            NaN  \n",
       "..           ...  \n",
       "89           NaN  \n",
       "90           NaN  \n",
       "91           NaN  \n",
       "92           NaN  \n",
       "93           NaN  \n",
       "\n",
       "[94 rows x 3 columns]"
      ]
     },
     "execution_count": 207,
     "metadata": {},
     "output_type": "execute_result"
    }
   ],
   "source": [
    "\n",
    "\n",
    "#for i, charachter in enumerate(listCharachters):\n",
    "def getInfo(nodes):\n",
    "    \n",
    "    for i, charachter in enumerate(nodes):\n",
    "        url =  requests.get(f\"https://gossipgirl.fandom.com/wiki/{charachter}\")\n",
    "        soup = BeautifulSoup(url.text)\n",
    "        \n",
    "        try:\n",
    "            infoBox = soup.findAll('section',{'class':'pi-item pi-group pi-border-color'})[1]\n",
    "\n",
    "            relationships = infoBox.findAll('div',{'class':'pi-data-value pi-font'})\n",
    "\n",
    "            relationshipsNames = re.findall('title=\"(.*?)\"',str(relationships))\n",
    "\n",
    "            edgeList = []\n",
    "            relationshipNames = set(relationshipsNames)\n",
    "            for name in relationshipNames:\n",
    "                if name in ListCharachters:\n",
    "                    edgeList.append(name) \n",
    "        except: \n",
    "            edgeList = []\n",
    "\n",
    "        DF['Edges/relationships'][i] = edgeList\n",
    "\n",
    "getInfo(listCharachters)\n",
    "DF\n",
    " \n",
    "        \n"
   ]
  },
  {
   "cell_type": "code",
   "execution_count": null,
   "metadata": {},
   "outputs": [],
   "source": [
    "# create network with nodes and edges\n",
    "\n"
   ]
  },
  {
   "cell_type": "code",
   "execution_count": null,
   "metadata": {},
   "outputs": [],
   "source": [
    "# color edges"
   ]
  }
 ],
 "metadata": {
  "kernelspec": {
   "display_name": "Python 3",
   "language": "python",
   "name": "python3"
  },
  "language_info": {
   "codemirror_mode": {
    "name": "ipython",
    "version": 3
   },
   "file_extension": ".py",
   "mimetype": "text/x-python",
   "name": "python",
   "nbconvert_exporter": "python",
   "pygments_lexer": "ipython3",
   "version": "3.8.3"
  }
 },
 "nbformat": 4,
 "nbformat_minor": 4
}
